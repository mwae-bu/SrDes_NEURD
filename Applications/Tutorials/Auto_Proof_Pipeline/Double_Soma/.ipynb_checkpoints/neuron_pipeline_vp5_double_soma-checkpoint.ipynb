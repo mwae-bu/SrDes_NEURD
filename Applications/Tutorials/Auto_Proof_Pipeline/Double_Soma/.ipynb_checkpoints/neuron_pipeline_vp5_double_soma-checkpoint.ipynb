{
 "cells": [
  {
   "cell_type": "code",
   "execution_count": 1,
   "id": "077350ae",
   "metadata": {},
   "outputs": [],
   "source": [
    "%load_ext autoreload\n",
    "%autoreload 2"
   ]
  },
  {
   "cell_type": "code",
   "execution_count": null,
   "id": "dd7d6eaa-234a-40c3-bcfc-e24bee1932d9",
   "metadata": {},
   "outputs": [],
   "source": [
    "# slight change to test git pushes .... "
   ]
  },
  {
   "cell_type": "code",
   "execution_count": 2,
   "id": "c0765d62",
   "metadata": {},
   "outputs": [
    {
     "name": "stderr",
     "output_type": "stream",
     "text": [
      "/usr/local/lib/python3.8/dist-packages/python_jsonschema_objects/__init__.py:113: UserWarning: Schema id not specified. Defaulting to 'self'\n",
      "  warnings.warn(\"Schema id not specified. Defaulting to 'self'\")\n"
     ]
    }
   ],
   "source": [
    "import neurd"
   ]
  },
  {
   "cell_type": "code",
   "execution_count": null,
   "id": "f59f25d5",
   "metadata": {
    "scrolled": true
   },
   "outputs": [],
   "source": [
    "from mesh_tools import trimesh_utils as tu\n",
    "from datasci_tools import ipyvolume_utils as ipvu\n",
    "from neurd import neuron_visualizations as nviz\n",
    "from pathlib import Path"
   ]
  },
  {
   "cell_type": "code",
   "execution_count": null,
   "id": "c0b1bf59",
   "metadata": {},
   "outputs": [],
   "source": [
    "segment_id = 864691135510518224"
   ]
  },
  {
   "cell_type": "markdown",
   "id": "8c857d7b",
   "metadata": {},
   "source": [
    "# Load the appropriate volume data inferface object"
   ]
  },
  {
   "cell_type": "code",
   "execution_count": null,
   "id": "863967b7",
   "metadata": {},
   "outputs": [],
   "source": [
    "from neurd.vdi_microns import volume_data_interface as vdi\n",
    "#vdi.set_parameters_for_directory_modules()"
   ]
  },
  {
   "cell_type": "code",
   "execution_count": null,
   "id": "f548b5a1",
   "metadata": {},
   "outputs": [],
   "source": [
    "synapse_filepath = str(Path(f'./{segment_id}_synapses.csv').absolute())\n",
    "synapse_filepath"
   ]
  },
  {
   "cell_type": "code",
   "execution_count": null,
   "id": "3b2dc190",
   "metadata": {},
   "outputs": [],
   "source": [
    "from datasci_tools import pandas_utils as pu\n",
    "df = pu.csv_to_df(synapse_filepath)\n",
    "df"
   ]
  },
  {
   "cell_type": "code",
   "execution_count": null,
   "id": "6f7782f2",
   "metadata": {},
   "outputs": [],
   "source": [
    "vdi.set_synapse_filepath(\n",
    "    synapse_filepath\n",
    ")"
   ]
  },
  {
   "cell_type": "markdown",
   "id": "6f9b75c9",
   "metadata": {},
   "source": [
    "# Data Prep: Loading mesh"
   ]
  },
  {
   "cell_type": "code",
   "execution_count": null,
   "id": "3c95c75b",
   "metadata": {},
   "outputs": [],
   "source": [
    "mesh = vdi.fetch_segment_id_mesh(\n",
    "    segment_id,\n",
    "    plot = True\n",
    ")\n",
    "mesh"
   ]
  },
  {
   "cell_type": "code",
   "execution_count": null,
   "id": "0cfc1789",
   "metadata": {},
   "outputs": [],
   "source": [
    "from datasci_tools import pipeline\n",
    "\n",
    "products = pipeline.PipelineProducts()\n",
    "products"
   ]
  },
  {
   "cell_type": "markdown",
   "id": "7a30c933",
   "metadata": {},
   "source": [
    "# Step 1: Decimation"
   ]
  },
  {
   "cell_type": "code",
   "execution_count": null,
   "id": "29e0844f",
   "metadata": {},
   "outputs": [],
   "source": [
    "\"\"\"\n",
    "NOTE: an already decimated mesh is used for the example\n",
    "in order to speed up time, that's why the mesh_dec\n",
    "object will be overwritten with original mesh object\n",
    "\"\"\""
   ]
  },
  {
   "cell_type": "code",
   "execution_count": null,
   "id": "cdbb6e70",
   "metadata": {},
   "outputs": [],
   "source": [
    "decimation_parameters = dict(\n",
    "    decimation_ratio =0.25,\n",
    ")"
   ]
  },
  {
   "cell_type": "code",
   "execution_count": null,
   "id": "b3973f2c",
   "metadata": {},
   "outputs": [],
   "source": [
    "mesh_decimated = tu.decimate(\n",
    "    mesh,\n",
    "    **decimation_parameters\n",
    ")"
   ]
  },
  {
   "cell_type": "code",
   "execution_count": null,
   "id": "bbf7c8d0",
   "metadata": {},
   "outputs": [],
   "source": [
    "# saving any parameters used or output products for later use\n",
    "products.set_stage_attrs(\n",
    "    stage = \"decimation\",\n",
    "    attr_dict = dict(\n",
    "        decimation_parameters = decimation_parameters,\n",
    "        segment_id = segment_id,\n",
    "    ),\n",
    "    \n",
    ")\n",
    "\n",
    "print(products)"
   ]
  },
  {
   "cell_type": "markdown",
   "id": "bc57fd52",
   "metadata": {},
   "source": [
    "# Step 2: Soma Identification"
   ]
  },
  {
   "cell_type": "code",
   "execution_count": null,
   "id": "8866641c",
   "metadata": {},
   "outputs": [],
   "source": [
    "from neurd import soma_extraction_utils as sm\n",
    "soma_extraction_parameters = dict()"
   ]
  },
  {
   "cell_type": "code",
   "execution_count": null,
   "id": "b65f18a1",
   "metadata": {},
   "outputs": [],
   "source": [
    "# could inspect the parameters of a certain category\n",
    "from neurd import parameter_utils as paru\n",
    "paru.category_param_from_module(\n",
    "        module = sm,\n",
    "        category = \"glia\",\n",
    ")"
   ]
  },
  {
   "cell_type": "code",
   "execution_count": null,
   "id": "24667352",
   "metadata": {},
   "outputs": [],
   "source": [
    "# overwritting decimated mesh because original was already decimated\n",
    "mesh_decimated = mesh"
   ]
  },
  {
   "cell_type": "markdown",
   "id": "de1da628",
   "metadata": {},
   "source": [
    "# soma_indentification"
   ]
  },
  {
   "cell_type": "code",
   "execution_count": null,
   "id": "b6ff9777",
   "metadata": {
    "scrolled": true
   },
   "outputs": [],
   "source": [
    "from neurd import neuron_visualizations as nviz\n",
    "\n",
    "verbose = True\n",
    "\n",
    "soma_products = sm.soma_indentification(\n",
    "    mesh_decimated,\n",
    "    verbose=verbose,\n",
    "    **soma_extraction_parameters\n",
    ")"
   ]
  },
  {
   "cell_type": "code",
   "execution_count": null,
   "id": "9944a7b9",
   "metadata": {},
   "outputs": [],
   "source": [
    "soma_products.soma_run_time"
   ]
  },
  {
   "cell_type": "code",
   "execution_count": null,
   "id": "6a79d754",
   "metadata": {},
   "outputs": [],
   "source": [
    "sm.plot_soma_products(\n",
    "    mesh_decimated,\n",
    "    soma_products = soma_products,\n",
    "    verbose = True\n",
    ")"
   ]
  },
  {
   "cell_type": "code",
   "execution_count": null,
   "id": "a5056278",
   "metadata": {
    "scrolled": true
   },
   "outputs": [],
   "source": [
    "products.set_stage_attrs(\n",
    "    stage = \"soma_identification\",\n",
    "    attr_dict = soma_products,\n",
    ")\n",
    "\n",
    "print(products)"
   ]
  },
  {
   "cell_type": "markdown",
   "id": "da45be47",
   "metadata": {},
   "source": [
    "# Step 2b: Saving off pipeline products"
   ]
  },
  {
   "cell_type": "code",
   "execution_count": null,
   "id": "c99ef858",
   "metadata": {
    "scrolled": true
   },
   "outputs": [],
   "source": [
    "from datasci_tools import system_utils as su\n",
    "su.save_object(\n",
    "    products,\"products_up_to_soma_stage\"\n",
    ")"
   ]
  },
  {
   "cell_type": "markdown",
   "id": "bfdbcc82",
   "metadata": {},
   "source": [
    "# Step 3: Decomposition"
   ]
  },
  {
   "cell_type": "code",
   "execution_count": null,
   "id": "84193a27",
   "metadata": {
    "scrolled": true
   },
   "outputs": [],
   "source": [
    "from neurd import neuron\n",
    "\n",
    "neuron_obj = neuron.Neuron(\n",
    "    mesh = mesh,\n",
    "    segment_id = segment_id, # don't need this explicitely if segment_id is already in products\n",
    "    pipeline_products = products,\n",
    "    suppress_preprocessing_print=False,\n",
    "    suppress_output=False,\n",
    ")\n",
    "\n",
    "neuron_obj"
   ]
  },
  {
   "cell_type": "code",
   "execution_count": null,
   "id": "5467bcfe",
   "metadata": {},
   "outputs": [],
   "source": [
    "nviz.visualize_neuron(\n",
    "    neuron_obj,\n",
    "    limb_branch_dict=\"all\"\n",
    ")"
   ]
  },
  {
   "cell_type": "code",
   "execution_count": null,
   "id": "13c541fc",
   "metadata": {},
   "outputs": [],
   "source": [
    "nviz.visualize_neuron_limbs(neuron_obj)"
   ]
  },
  {
   "cell_type": "code",
   "execution_count": null,
   "id": "35add97f",
   "metadata": {},
   "outputs": [],
   "source": [
    "nviz.visualize_neuron_specific_limb(neuron_obj,\"L2\")"
   ]
  },
  {
   "cell_type": "code",
   "execution_count": null,
   "id": "38e766a1",
   "metadata": {},
   "outputs": [],
   "source": [
    "ipvu.plot_objects(neuron_obj[2][0].mesh)"
   ]
  },
  {
   "cell_type": "markdown",
   "id": "0d43b744",
   "metadata": {},
   "source": [
    "# Calculate statistics"
   ]
  },
  {
   "cell_type": "code",
   "execution_count": null,
   "id": "cac08fd6",
   "metadata": {},
   "outputs": [],
   "source": [
    "_ = neuron_obj.calculate_decomposition_products(\n",
    "    store_in_obj = True,\n",
    ")"
   ]
  },
  {
   "cell_type": "code",
   "execution_count": null,
   "id": "fa148fc5",
   "metadata": {
    "scrolled": true
   },
   "outputs": [],
   "source": [
    "print(neuron_obj.pipeline_products)"
   ]
  },
  {
   "cell_type": "markdown",
   "id": "d090f774",
   "metadata": {},
   "source": [
    "\n",
    "# Saving off neuron"
   ]
  },
  {
   "cell_type": "code",
   "execution_count": null,
   "id": "9486c4e6",
   "metadata": {
    "scrolled": true
   },
   "outputs": [],
   "source": [
    "vdi.save_neuron_obj(\n",
    "    neuron_obj,\n",
    "    verbose = True\n",
    ")"
   ]
  },
  {
   "cell_type": "code",
   "execution_count": null,
   "id": "e4d52d82",
   "metadata": {},
   "outputs": [],
   "source": [
    "nviz.visualize_neuron(neuron_obj,limb_branch_dict=\"all\")"
   ]
  },
  {
   "cell_type": "code",
   "execution_count": null,
   "id": "9c601d38",
   "metadata": {},
   "outputs": [],
   "source": [
    "ipvu.plot_objects(neuron_obj.mesh)"
   ]
  },
  {
   "cell_type": "markdown",
   "id": "aa2fc99c",
   "metadata": {},
   "source": [
    "# Reloading the Neuron"
   ]
  },
  {
   "cell_type": "code",
   "execution_count": null,
   "id": "e6ce238a",
   "metadata": {},
   "outputs": [],
   "source": [
    "neuron_obj = vdi.load_neuron_obj(\n",
    "    segment_id = segment_id,\n",
    "    #mesh_decimated = mesh_decimated\n",
    ")"
   ]
  },
  {
   "cell_type": "code",
   "execution_count": null,
   "id": "84734850",
   "metadata": {},
   "outputs": [],
   "source": [
    "print(neuron_obj.pipeline_products)"
   ]
  },
  {
   "cell_type": "markdown",
   "id": "06b5f069",
   "metadata": {},
   "source": [
    "# Step 4A: Multi Soma Split Suggestions"
   ]
  },
  {
   "cell_type": "code",
   "execution_count": null,
   "id": "0729b033",
   "metadata": {},
   "outputs": [],
   "source": [
    "from neurd import neuron_visualizations as nviz\n",
    "nviz.plot_soma_limb_concept_network(\n",
    "    neuron_obj\n",
    ")"
   ]
  },
  {
   "cell_type": "code",
   "execution_count": null,
   "id": "3ea8a7ec",
   "metadata": {},
   "outputs": [],
   "source": [
    "multi_soma_split_parameters = dict()"
   ]
  },
  {
   "cell_type": "code",
   "execution_count": null,
   "id": "6b654969",
   "metadata": {},
   "outputs": [],
   "source": [
    "_ = neuron_obj.calculate_multi_soma_split_suggestions(\n",
    "    plot = True,\n",
    "    store_in_obj = True,\n",
    "    **multi_soma_split_parameters\n",
    ")\n"
   ]
  },
  {
   "cell_type": "code",
   "execution_count": null,
   "id": "95f8984f",
   "metadata": {},
   "outputs": [],
   "source": [
    "neuron_obj.pipeline_products.multi_soma_split_suggestions.multi_soma_split_parameters = multi_soma_split_parameters"
   ]
  },
  {
   "cell_type": "markdown",
   "id": "2206b4cc",
   "metadata": {},
   "source": [
    "# Step 4B: Multi Soma Split Execution"
   ]
  },
  {
   "cell_type": "code",
   "execution_count": null,
   "id": "cc8bc52a",
   "metadata": {},
   "outputs": [],
   "source": [
    "neuron_list = neuron_obj.multi_soma_split_execution(\n",
    "    verbose = False,\n",
    ")"
   ]
  },
  {
   "cell_type": "code",
   "execution_count": null,
   "id": "97dd78a8",
   "metadata": {},
   "outputs": [],
   "source": [
    "ipvu.plot_objects(\n",
    "    meshes = [\n",
    "        neuron_list[0].mesh_from_branches,\n",
    "        neuron_list[1].mesh_from_branches,\n",
    "    ],\n",
    "    meshes_colors=[\"red\",\"blue\"]\n",
    ")"
   ]
  },
  {
   "cell_type": "code",
   "execution_count": null,
   "id": "1239884b",
   "metadata": {
    "scrolled": true
   },
   "outputs": [],
   "source": [
    "n1 = neuron_list[0]\n",
    "print(n1.pipeline_products)"
   ]
  },
  {
   "cell_type": "markdown",
   "id": "e4236605-f712-4a52-9188-2a209df84998",
   "metadata": {},
   "source": [
    "# Step 4b: Saving Split Neurons"
   ]
  },
  {
   "cell_type": "code",
   "execution_count": null,
   "id": "fd70d656-ce64-40f9-a221-3579b5029589",
   "metadata": {
    "scrolled": true
   },
   "outputs": [],
   "source": [
    "vdi.save_neuron_obj(\n",
    "    n1,\n",
    "    suffix = \"_split_0\",\n",
    ")"
   ]
  },
  {
   "cell_type": "markdown",
   "id": "96c8d169-d588-4c59-9592-2e73c03de801",
   "metadata": {},
   "source": [
    "# Step 4c: Decompressing Split Neuron"
   ]
  },
  {
   "cell_type": "code",
   "execution_count": null,
   "id": "911e357b-eaea-49dc-809a-f5631a17cb94",
   "metadata": {
    "scrolled": true
   },
   "outputs": [],
   "source": [
    "from neurd import neuron_utils as nru\n",
    "\n",
    "neuron_obj_path = Path(f\"./{segment_id}_split_0.pbz2\")\n",
    "neuron_obj_path.exists()\n",
    "\n",
    "n1 = nru.decompress_neuron(\n",
    "    filepath = neuron_obj_path,\n",
    "    original_mesh = mesh, \n",
    "    suppress_output = False\n",
    ")"
   ]
  },
  {
   "cell_type": "markdown",
   "id": "becb3d35-6ba1-414b-b433-09404a820319",
   "metadata": {},
   "source": [
    "# Step 5: Cell Typing"
   ]
  },
  {
   "cell_type": "code",
   "execution_count": null,
   "id": "57cebda6-377d-4612-b0b1-4600297ab71f",
   "metadata": {},
   "outputs": [],
   "source": [
    "from neurd import neuron_pipeline_utils as npu"
   ]
  },
  {
   "cell_type": "code",
   "execution_count": null,
   "id": "d4fa4a84-820b-4b27-8b46-b4cf475c1312",
   "metadata": {
    "scrolled": true
   },
   "outputs": [],
   "source": [
    "neuron_obj_axon = npu.cell_type_ax_dendr_stage(\n",
    "    n1,\n",
    "    mesh_decimated = mesh_decimated,\n",
    "    plot_axon = False,\n",
    ")"
   ]
  },
  {
   "cell_type": "code",
   "execution_count": null,
   "id": "bb4e50d6-f4ce-4dc4-826e-02a6437bfba8",
   "metadata": {},
   "outputs": [],
   "source": [
    "nviz.plot_axon(\n",
    "    neuron_obj_axon\n",
    ")"
   ]
  },
  {
   "cell_type": "markdown",
   "id": "b0e813e5-61aa-41c9-8454-a3cc22b0d5e4",
   "metadata": {},
   "source": [
    "# Autoproofreading Stage"
   ]
  },
  {
   "cell_type": "code",
   "execution_count": null,
   "id": "165bca73-d559-4d91-93e3-84474d2173b3",
   "metadata": {
    "scrolled": true
   },
   "outputs": [],
   "source": [
    "neuron_obj_proof = npu.auto_proof_stage(\n",
    "    neuron_obj_axon,\n",
    "    mesh_decimated = mesh_decimated,\n",
    "    calculate_after_proof_stats = False,\n",
    ")"
   ]
  },
  {
   "cell_type": "code",
   "execution_count": null,
   "id": "fb3e44e3-9ee4-4e3e-af17-a1d7e21e1651",
   "metadata": {},
   "outputs": [],
   "source": [
    "_ = npu.after_auto_proof_stats(\n",
    "    neuron_obj_proof,\n",
    "    store_in_obj = True,\n",
    ")"
   ]
  },
  {
   "cell_type": "markdown",
   "id": "97023179-7203-4cf8-97a3-31690894f8fa",
   "metadata": {},
   "source": [
    "# Saving off the autoproofread neuron"
   ]
  },
  {
   "cell_type": "code",
   "execution_count": null,
   "id": "ee8ca93d-3e36-402a-a331-f7cfd42fabbf",
   "metadata": {},
   "outputs": [],
   "source": [
    "vdi.save_neuron_obj_auto_proof(\n",
    "    neuron_obj_proof,\n",
    ")"
   ]
  },
  {
   "cell_type": "markdown",
   "id": "d71543ac-d91e-4226-bc00-2d41fa7fb400",
   "metadata": {},
   "source": [
    "# Plotting the final neuron"
   ]
  },
  {
   "cell_type": "code",
   "execution_count": null,
   "id": "a8556c27-6f23-4dac-8458-60cf8c4edb14",
   "metadata": {},
   "outputs": [],
   "source": [
    "from neurd import synapse_utils as syu"
   ]
  },
  {
   "cell_type": "code",
   "execution_count": null,
   "id": "59611df5-515d-40d4-b871-cdb090ed37b6",
   "metadata": {},
   "outputs": [],
   "source": [
    "from datasci_tools import ipyvolume_utils as ipvu\n",
    "ipvu.plot_objects(\n",
    "    neuron_obj_axon.mesh,\n",
    "    meshes = [neuron_obj_proof.mesh],\n",
    "    meshes_colors=\"red\"\n",
    ")"
   ]
  },
  {
   "cell_type": "code",
   "execution_count": null,
   "id": "75964ee2-16ff-42de-88bd-4e94cba2b847",
   "metadata": {},
   "outputs": [],
   "source": [
    "syu.plot_synapses(neuron_obj_proof)"
   ]
  },
  {
   "cell_type": "code",
   "execution_count": null,
   "id": "f9dfc31f-2abe-46f8-af6d-d81352d391ab",
   "metadata": {},
   "outputs": [],
   "source": [
    "syu.plot_synapses_error_from_neuron_obj(neuron_obj_proof)    "
   ]
  },
  {
   "cell_type": "code",
   "execution_count": null,
   "id": "0f2353b9-e8c2-4f64-bb10-51df7146061e",
   "metadata": {},
   "outputs": [],
   "source": [
    "syu.plot_synapses_valid_from_neuron_obj(neuron_obj_proof)  "
   ]
  },
  {
   "cell_type": "code",
   "execution_count": null,
   "id": "b18c19c1-5cbf-4515-b9b9-60941100dad6",
   "metadata": {
    "collapsed": true,
    "jupyter": {
     "outputs_hidden": true
    }
   },
   "outputs": [],
   "source": [
    "nviz.plot_compartments(neuron_obj_proof)"
   ]
  }
 ],
 "metadata": {
  "kernelspec": {
   "display_name": "Python 3 (ipykernel)",
   "language": "python",
   "name": "python3"
  },
  "language_info": {
   "codemirror_mode": {
    "name": "ipython",
    "version": 3
   },
   "file_extension": ".py",
   "mimetype": "text/x-python",
   "name": "python",
   "nbconvert_exporter": "python",
   "pygments_lexer": "ipython3",
   "version": "3.8.0"
  }
 },
 "nbformat": 4,
 "nbformat_minor": 5
}
