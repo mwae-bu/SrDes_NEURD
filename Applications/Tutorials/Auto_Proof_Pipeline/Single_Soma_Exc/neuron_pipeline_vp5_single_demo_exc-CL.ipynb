{
 "cells": [
  {
   "cell_type": "code",
   "execution_count": 1,
   "id": "077350ae",
   "metadata": {},
   "outputs": [],
   "source": [
    "%load_ext autoreload\n",
    "%autoreload 2"
   ]
  },
  {
   "cell_type": "code",
   "execution_count": 2,
   "id": "f59f25d5",
   "metadata": {
    "scrolled": true
   },
   "outputs": [
    {
     "name": "stderr",
     "output_type": "stream",
     "text": [
      "/usr/local/lib/python3.8/dist-packages/python_jsonschema_objects/__init__.py:113: UserWarning: Schema id not specified. Defaulting to 'self'\n",
      "  warnings.warn(\"Schema id not specified. Defaulting to 'self'\")\n"
     ]
    },
    {
     "name": "stdout",
     "output_type": "stream",
     "text": [
      "/usr/local/lib/python3.8/dist-packages/mesh_tools/trimesh_utils.py\n"
     ]
    }
   ],
   "source": [
    "import neurd\n",
    "from mesh_tools import trimesh_utils as tu\n",
    "from datasci_tools import ipyvolume_utils as ipvu\n",
    "from neurd import neuron_visualizations as nviz\n",
    "from pathlib import Path\n",
    "import os\n",
    "import inspect\n",
    "print(inspect.getfile(tu))\n"
   ]
  },
  {
   "cell_type": "markdown",
   "id": "a4a1285f-b1d1-4ea3-89ed-38d99ff2b421",
   "metadata": {},
   "source": [
    "Use MeshParty to Upload ChenLab Data "
   ]
  },
  {
   "cell_type": "code",
   "execution_count": 3,
   "id": "87e82616-a29a-483d-80bd-c1794d687348",
   "metadata": {},
   "outputs": [
    {
     "name": "stdout",
     "output_type": "stream",
     "text": [
      "Mesh has been saved to /NEURD_Chenlab/Applications/Tutorials/Auto_Proof_Pipeline/Single_Soma_Exc/32414.off\n"
     ]
    }
   ],
   "source": [
    "#  ChenLab script to load mesh...\n",
    "\n",
    "from meshparty import trimesh_io  # for grabbing a mesh\n",
    "from meshparty import trimesh_vtk  # for visualizing meshes and skeletons\n",
    "    \n",
    "# provide the DENDRITIC segmentation ID for the cell of interest\n",
    "dend_id = 74875092987018534 # 75507999300732200 #75507999300732200 # 75226661762888530 #75226730549251974 #75508068086991145 # 74945255505716070 # 74945461596862189 \n",
    "\n",
    "# Get the DENDRITIC segmentation mesh from neuroglancer\n",
    "mm = trimesh_io.MeshMeta(\n",
    "        cv_path=\"precomputed://gs://zetta_jchen_mouse_cortex_001_segmentation/cell/lowres/240820_emb24_lowres_x1/seg\", \n",
    "        map_gs_to_https=True)\n",
    "\n",
    "mesh = mm.mesh(seg_id=dend_id) \n",
    "\n",
    "# visualize the mesh\n",
    "mesh_actor = trimesh_vtk.mesh_actor(mesh,  color=(1,0,0),  opacity=0.25)\n",
    "#trimesh_vtk.render_actors([mesh_actor]) #NOTE: need to close the window when done to unpause python\n",
    "\n",
    "# store the mesh\n",
    "# Define the local file path where you want to save the mesh (with .off extension)\n",
    "local_file_path = \"32414.off\"\n",
    "# Export the mesh to a .off file\n",
    "mesh.export(local_file_path)\n",
    "# Confirm the file has been saved\n",
    "print(f\"Mesh has been saved to {os.path.abspath(local_file_path)}\")\n",
    "\n",
    "\n",
    "#import skeletor as sk\n",
    "# pre-process the mesh (may not be necessary)\n",
    "#mesh_fix = sk.pre.fix_mesh(mesh) #\n",
    "#mesh_fix_actor = trimesh_vtk.mesh_actor(mesh_fix,  color=(1,0,0),  opacity=0.25)\n",
    "#trimesh_vtk.render_actors([mesh_actor, mesh_fix_actor]) \n",
    "\n"
   ]
  },
  {
   "cell_type": "markdown",
   "id": "8c857d7b",
   "metadata": {},
   "source": [
    "# Load the appropriate volume data inferface object"
   ]
  },
  {
   "cell_type": "code",
   "execution_count": 4,
   "id": "863967b7",
   "metadata": {},
   "outputs": [],
   "source": [
    "from neurd.vdi_microns import volume_data_interface as vdi\n",
    "vdi.set_parameters_for_directory_modules()"
   ]
  },
  {
   "cell_type": "markdown",
   "id": "6f9b75c9",
   "metadata": {},
   "source": [
    "# Data Prep: Loading mesh"
   ]
  },
  {
   "cell_type": "code",
   "execution_count": 63,
   "id": "3c95c75b",
   "metadata": {},
   "outputs": [
    {
     "data": {
      "application/vnd.jupyter.widget-view+json": {
       "model_id": "6410d9ac4c764fc7ab2f5bc9a823d58d",
       "version_major": 2,
       "version_minor": 0
      },
      "text/plain": [
       "Container(figure=Figure(box_center=[0.5, 0.5, 0.5], box_size=[1.0, 1.0, 1.0], camera=PerspectiveCamera(fov=45.…"
      ]
     },
     "metadata": {},
     "output_type": "display_data"
    },
    {
     "data": {
      "text/plain": [
       "<trimesh.Trimesh(vertices.shape=(420741, 3), faces.shape=(865980, 3), name=`864691134917511946.off`)>"
      ]
     },
     "execution_count": 63,
     "metadata": {},
     "output_type": "execute_result"
    }
   ],
   "source": [
    "# run this segment if we want BCM data\n",
    "\n",
    "segment_id = 864691134917511946 # BCM\n",
    "synapse_filepath = str(Path(f'./{segment_id}_synapses.csv').absolute())\n",
    "synapse_filepath\n",
    "\n",
    "from datasci_tools import pandas_utils as pu\n",
    "df = pu.csv_to_df(synapse_filepath)\n",
    "df\n",
    "\n",
    "vdi.set_synapse_filepath(\n",
    "    synapse_filepath\n",
    ")\n",
    "\n",
    "mesh = vdi.fetch_segment_id_mesh(\n",
    "    segment_id,\n",
    "    plot = True\n",
    ")\n",
    "mesh"
   ]
  },
  {
   "cell_type": "code",
   "execution_count": 5,
   "id": "ad55fde0-6dab-4af5-a657-64bb10d87a82",
   "metadata": {},
   "outputs": [
    {
     "name": "stderr",
     "output_type": "stream",
     "text": [
      "/usr/local/lib/python3.8/dist-packages/traittypes/traittypes.py:97: UserWarning: Given trait value dtype \"float64\" does not match required type \"float64\". A coerced copy has been created.\n",
      "  warnings.warn(\n"
     ]
    },
    {
     "data": {
      "application/vnd.jupyter.widget-view+json": {
       "model_id": "e762903168e047e891bae7cf22327a44",
       "version_major": 2,
       "version_minor": 0
      },
      "text/plain": [
       "Container(figure=Figure(box_center=[0.5, 0.5, 0.5], box_size=[1.0, 1.0, 1.0], camera=PerspectiveCamera(fov=45.…"
      ]
     },
     "metadata": {},
     "output_type": "display_data"
    },
    {
     "data": {
      "text/plain": [
       "<trimesh.Trimesh(vertices.shape=(178983, 3), faces.shape=(358086, 3), name=`32414.off`)>"
      ]
     },
     "execution_count": 5,
     "metadata": {},
     "output_type": "execute_result"
    }
   ],
   "source": [
    "# ChenLab MESH\n",
    "# run this cell only if we want to use chenlab mesh\n",
    "segment_id = 32414\n",
    "mesh = vdi.fetch_segment_id_mesh(\n",
    "    segment_id,\n",
    "    plot = True\n",
    ")\n",
    "mesh"
   ]
  },
  {
   "cell_type": "code",
   "execution_count": 6,
   "id": "0cfc1789",
   "metadata": {},
   "outputs": [
    {
     "data": {
      "text/plain": [
       "<datasci_tools.pipeline.PipelineProducts at 0x7f83c4353070>"
      ]
     },
     "execution_count": 6,
     "metadata": {},
     "output_type": "execute_result"
    }
   ],
   "source": [
    "from datasci_tools import pipeline\n",
    "\n",
    "products = pipeline.PipelineProducts()\n",
    "products"
   ]
  },
  {
   "cell_type": "markdown",
   "id": "7a30c933",
   "metadata": {},
   "source": [
    "# Step 1: Decimation"
   ]
  },
  {
   "cell_type": "code",
   "execution_count": 7,
   "id": "29e0844f",
   "metadata": {},
   "outputs": [
    {
     "data": {
      "text/plain": [
       "\"\\nNOTE: an already decimated mesh is used for the example\\nin order to speed up time, that's why the mesh_dec\\nobject will be overwritten with original mesh object\\n\""
      ]
     },
     "execution_count": 7,
     "metadata": {},
     "output_type": "execute_result"
    }
   ],
   "source": [
    "\"\"\"\n",
    "NOTE: an already decimated mesh is used for the example\n",
    "in order to speed up time, that's why the mesh_dec\n",
    "object will be overwritten with original mesh object\n",
    "\"\"\""
   ]
  },
  {
   "cell_type": "code",
   "execution_count": 8,
   "id": "cdbb6e70",
   "metadata": {},
   "outputs": [],
   "source": [
    "decimation_parameters = dict(\n",
    "    decimation_ratio =0.25,\n",
    ")"
   ]
  },
  {
   "cell_type": "code",
   "execution_count": 9,
   "id": "b3973f2c",
   "metadata": {},
   "outputs": [
    {
     "name": "stdout",
     "output_type": "stream",
     "text": [
      "xvfb-run -n 9331 -s \"-screen 0 800x600x24\" meshlabserver $@  -i /NEURD_Chenlab/Applications/Tutorials/Auto_Proof_Pipeline/Single_Soma_Exc/temp/neuron_88728.off -o /NEURD_Chenlab/Applications/Tutorials/Auto_Proof_Pipeline/Single_Soma_Exc/temp/neuron_88728_decimated.off -s /NEURD_Chenlab/Applications/Tutorials/Auto_Proof_Pipeline/Single_Soma_Exc/temp/decimation_meshlab_25593192.mls\n",
      "Total time = 11.239309310913086\n"
     ]
    }
   ],
   "source": [
    "import time\n",
    "\n",
    "# tu\n",
    "\n",
    "st = time.time()\n",
    "mesh_decimated = tu.decimate(\n",
    "    mesh,\n",
    "    **decimation_parameters\n",
    ")\n",
    "\n",
    "print(f\"Total time = {time.time() - st}\")"
   ]
  },
  {
   "cell_type": "code",
   "execution_count": 10,
   "id": "bbf7c8d0",
   "metadata": {},
   "outputs": [
    {
     "name": "stdout",
     "output_type": "stream",
     "text": [
      "{\n",
      "  'decimation':\n",
      "  {\n",
      "    'decimation_parameters':\n",
      "    {\n",
      "      'decimation_ratio':0.25,\n",
      "    },\n",
      "    'segment_id':32414,\n",
      "  },\n",
      "}\n",
      "\n"
     ]
    }
   ],
   "source": [
    "# saving any parameters used or output products for later use\n",
    "products.set_stage_attrs(\n",
    "    stage = \"decimation\",\n",
    "    attr_dict = dict(\n",
    "        decimation_parameters = decimation_parameters,\n",
    "        segment_id = segment_id,\n",
    "    ),\n",
    "    \n",
    ")\n",
    "\n",
    "print(products)"
   ]
  },
  {
   "cell_type": "markdown",
   "id": "bc57fd52",
   "metadata": {},
   "source": [
    "# Step 2: Soma Identification"
   ]
  },
  {
   "cell_type": "code",
   "execution_count": 11,
   "id": "8866641c",
   "metadata": {},
   "outputs": [],
   "source": [
    "from neurd import soma_extraction_utils as sm\n",
    "soma_extraction_parameters = dict()"
   ]
  },
  {
   "cell_type": "code",
   "execution_count": 12,
   "id": "b65f18a1",
   "metadata": {},
   "outputs": [
    {
     "data": {
      "text/plain": [
       "{'glia_volume_threshold_in_um_global': 2500,\n",
       " 'glia_n_faces_threshold_global': 400000,\n",
       " 'glia_n_faces_min_global': 100000}"
      ]
     },
     "execution_count": 12,
     "metadata": {},
     "output_type": "execute_result"
    }
   ],
   "source": [
    "# could inspect the parameters of a certain category\n",
    "from neurd import parameter_utils as paru\n",
    "paru.category_param_from_module(\n",
    "        module = sm,\n",
    "        category = \"glia\",\n",
    ")"
   ]
  },
  {
   "cell_type": "code",
   "execution_count": 13,
   "id": "24667352",
   "metadata": {},
   "outputs": [],
   "source": [
    "# overwritting decimated mesh because original was already decimated\n",
    "mesh_decimated = mesh"
   ]
  },
  {
   "cell_type": "code",
   "execution_count": 14,
   "id": "b6ff9777",
   "metadata": {
    "scrolled": true
   },
   "outputs": [
    {
     "name": "stdout",
     "output_type": "stream",
     "text": [
      "Current Arguments Using (adjusted for decimation):\n",
      " large_mesh_threshold= 5000.0 \n",
      "large_mesh_threshold_inner = 3250.0 \n",
      "soma_size_threshold = 562.5 \n",
      "soma_size_threshold_max = 75000.0\n",
      "outer_decimation_ratio = 0.25\n",
      "inner_decimation_ratio = 0.25\n",
      "max_mesh_sized_filtered_away = 22500.0\n",
      "xvfb-run -n 3859 -s \"-screen 0 800x600x24\" meshlabserver $@  -i /NEURD_Chenlab/Applications/Tutorials/Auto_Proof_Pipeline/Single_Soma_Exc/temp/neuron_40432.off -o /NEURD_Chenlab/Applications/Tutorials/Auto_Proof_Pipeline/Single_Soma_Exc/temp/neuron_40432_remove_interior.off -s /NEURD_Chenlab/Applications/Tutorials/Auto_Proof_Pipeline/Single_Soma_Exc/temp/remove_interior_451474.mls\n",
      "removed temporary input file: /NEURD_Chenlab/Applications/Tutorials/Auto_Proof_Pipeline/Single_Soma_Exc/temp/neuron_40432.off\n",
      "removed temporary output file: /NEURD_Chenlab/Applications/Tutorials/Auto_Proof_Pipeline/Single_Soma_Exc/temp/neuron_40432_remove_interior.off\n",
      "/NEURD_Chenlab/Applications/Tutorials/Auto_Proof_Pipeline/Single_Soma_Exc/temp/remove_interior_451474.mls is being deleted....\n",
      "There were 2 total interior meshes\n",
      "Pieces satisfying glia requirements (volume) (x >= 2500000000000): 0\n",
      "Pieces satisfying nuclie requirements: n_faces (700 <= x) and volume (x < 2500000000000) : 2\n",
      "inside remove_mesh_interior and using precomputed inside_pieces\n",
      "Removing the following inside neurons: [<trimesh.Trimesh(vertices.shape=(14083, 3), faces.shape=(28147, 3))>, <trimesh.Trimesh(vertices.shape=(393, 3), faces.shape=(760, 3))>]\n",
      "\n",
      "\n",
      "Original Mesh size: 358086, Final mesh size: 358066\n",
      "Total time = 18.627463579177856\n",
      "xvfb-run -n 5989 -s \"-screen 0 800x600x24\" meshlabserver $@  -i /NEURD_Chenlab/Applications/Tutorials/Auto_Proof_Pipeline/Single_Soma_Exc/12345/neuron_12345.off -o /NEURD_Chenlab/Applications/Tutorials/Auto_Proof_Pipeline/Single_Soma_Exc/12345/neuron_12345_decimated.off -s /NEURD_Chenlab/Applications/Tutorials/Auto_Proof_Pipeline/Single_Soma_Exc/12345/decimation_meshlab_25987681.mls\n",
      "Total found significant pieces before Poisson = [<trimesh.Trimesh(vertices.shape=(44161, 3), faces.shape=(88562, 3), name=`neuron_12345_decimated.off`)>]\n",
      "----- working on large mesh #0: <trimesh.Trimesh(vertices.shape=(44161, 3), faces.shape=(88562, 3), name=`neuron_12345_decimated.off`)>\n",
      "remove_inside_pieces requested \n",
      "xvfb-run -n 4697 -s \"-screen 0 800x600x24\" meshlabserver $@  -i /NEURD_Chenlab/Applications/Tutorials/Auto_Proof_Pipeline/Single_Soma_Exc/temp/neuron_60537.off -o /NEURD_Chenlab/Applications/Tutorials/Auto_Proof_Pipeline/Single_Soma_Exc/temp/neuron_60537_remove_interior.off -s /NEURD_Chenlab/Applications/Tutorials/Auto_Proof_Pipeline/Single_Soma_Exc/temp/remove_interior_533493.mls\n",
      "removed temporary input file: /NEURD_Chenlab/Applications/Tutorials/Auto_Proof_Pipeline/Single_Soma_Exc/temp/neuron_60537.off\n",
      "removed temporary output file: /NEURD_Chenlab/Applications/Tutorials/Auto_Proof_Pipeline/Single_Soma_Exc/temp/neuron_60537_remove_interior.off\n",
      "/NEURD_Chenlab/Applications/Tutorials/Auto_Proof_Pipeline/Single_Soma_Exc/temp/remove_interior_533493.mls is being deleted....\n",
      "Removing the following inside neurons: [<trimesh.Trimesh(vertices.shape=(4276, 3), faces.shape=(8549, 3), name=`neuron_60537_remove_interior.off`)>]\n",
      "pre_largest_mesh_path = /NEURD_Chenlab/Applications/Tutorials/Auto_Proof_Pipeline/Single_Soma_Exc/12345/neuron_12345_decimated_largest_piece.off\n",
      "xvfb-run -n 2086 -s \"-screen 0 800x600x24\" meshlabserver $@  -i /NEURD_Chenlab/Applications/Tutorials/Auto_Proof_Pipeline/Single_Soma_Exc/12345/neuron_12345_decimated_largest_piece.off -o /NEURD_Chenlab/Applications/Tutorials/Auto_Proof_Pipeline/Single_Soma_Exc/12345/neuron_12345_decimated_largest_piece_poisson.off -s /NEURD_Chenlab/Applications/Tutorials/Auto_Proof_Pipeline/Single_Soma_Exc/12345/poisson_404608.mls\n",
      "Total found significant pieces AFTER Poisson = [<trimesh.Trimesh(vertices.shape=(63415, 3), faces.shape=(126830, 3), name=`neuron_12345_decimated_largest_piece_poisson.off`)>, <trimesh.Trimesh(vertices.shape=(1729, 3), faces.shape=(3454, 3), name=`neuron_12345_decimated_largest_piece_poisson.off`)>]\n",
      "----- working on mesh after poisson #0: <trimesh.Trimesh(vertices.shape=(63415, 3), faces.shape=(126830, 3), name=`neuron_12345_decimated_largest_piece_poisson.off`)>\n",
      "xvfb-run -n 631 -s \"-screen 0 800x600x24\" meshlabserver $@  -i /NEURD_Chenlab/Applications/Tutorials/Auto_Proof_Pipeline/Single_Soma_Exc/12345/neuron_12345_decimated_largest_piece_poisson_largest_inner.off -o /NEURD_Chenlab/Applications/Tutorials/Auto_Proof_Pipeline/Single_Soma_Exc/12345/neuron_12345_decimated_largest_piece_poisson_largest_inner_decimated.off -s /NEURD_Chenlab/Applications/Tutorials/Auto_Proof_Pipeline/Single_Soma_Exc/12345/decimation_meshlab_25728058.mls\n",
      "\n",
      "-------Splits after inner decimation len = 1--------\n",
      "\n",
      "done exporting decimated mesh: neuron_12345_decimated_largest_piece_poisson_largest_inner.off\n",
      "\n",
      "    --- On segmentation loop 0 --\n",
      "largest_mesh_path_inner_decimated_clean = <trimesh.Trimesh(vertices.shape=(15840, 3), faces.shape=(31680, 3), name=`neuron_12345_decimated_largest_piece_poisson_largest_inner_decimated.off`)>\n",
      "\n",
      "largest_mesh_path_inner_decimated_clean = <trimesh.Trimesh(vertices.shape=(15840, 3), faces.shape=(31680, 3), name=`neuron_12345_decimated_largest_piece_poisson_largest_inner_decimated.off`)>\n",
      "soma_size_threshold = 562.5\n",
      "soma_size_threshold_max = 75000.0\n",
      "soma_width_threshold = 0.32\n",
      "\n",
      "Number of segments: 13\n",
      "\n"
     ]
    },
    {
     "data": {
      "application/vnd.jupyter.widget-view+json": {
       "model_id": "20173e6ff12f4852b901e0f1cba231ee",
       "version_major": 2,
       "version_minor": 0
      },
      "text/plain": [
       "  0%|          | 0/13 [00:00<?, ?it/s]"
      ]
     },
     "metadata": {},
     "output_type": "display_data"
    },
    {
     "name": "stdout",
     "output_type": "stream",
     "text": [
      "      ------ Found 1 viable somas: [0.8086720000000001]\n",
      "Using Poisson Surface Reconstruction for watertightness in soma_volume_ratio\n",
      "xvfb-run -n 2678 -s \"-screen 0 800x600x24\" meshlabserver $@  -i /NEURD_Chenlab/Applications/Tutorials/Auto_Proof_Pipeline/Single_Soma_Exc/Poisson_temp/neuron_511616.off -o /NEURD_Chenlab/Applications/Tutorials/Auto_Proof_Pipeline/Single_Soma_Exc/Poisson_temp/neuron_511616_poisson.off -s /NEURD_Chenlab/Applications/Tutorials/Auto_Proof_Pipeline/Single_Soma_Exc/Poisson_temp/poisson_527688.mls\n",
      "removed temporary input file: /NEURD_Chenlab/Applications/Tutorials/Auto_Proof_Pipeline/Single_Soma_Exc/Poisson_temp/neuron_511616.off\n",
      "removed temporary output file: /NEURD_Chenlab/Applications/Tutorials/Auto_Proof_Pipeline/Single_Soma_Exc/Poisson_temp/neuron_511616_poisson.off\n",
      "mesh.is_watertight = True\n",
      "/NEURD_Chenlab/Applications/Tutorials/Auto_Proof_Pipeline/Single_Soma_Exc/Poisson_temp/poisson_527688.mls is being deleted....\n",
      "Inside sphere validater: ratio_val = 2.538964267892197\n",
      "----- working on mesh after poisson #1: <trimesh.Trimesh(vertices.shape=(1729, 3), faces.shape=(3454, 3), name=`neuron_12345_decimated_largest_piece_poisson.off`)>\n",
      "xvfb-run -n 7884 -s \"-screen 0 800x600x24\" meshlabserver $@  -i /NEURD_Chenlab/Applications/Tutorials/Auto_Proof_Pipeline/Single_Soma_Exc/12345/neuron_12345_decimated_largest_piece_poisson_largest_inner.off -o /NEURD_Chenlab/Applications/Tutorials/Auto_Proof_Pipeline/Single_Soma_Exc/12345/neuron_12345_decimated_largest_piece_poisson_largest_inner_decimated.off -s /NEURD_Chenlab/Applications/Tutorials/Auto_Proof_Pipeline/Single_Soma_Exc/12345/decimation_meshlab_25728058.mls\n",
      "\n",
      "-------Splits after inner decimation len = 1--------\n",
      "\n",
      "done exporting decimated mesh: neuron_12345_decimated_largest_piece_poisson_largest_inner.off\n",
      "\n",
      "    --- On segmentation loop 0 --\n",
      "largest_mesh_path_inner_decimated_clean = <trimesh.Trimesh(vertices.shape=(433, 3), faces.shape=(862, 3), name=`neuron_12345_decimated_largest_piece_poisson_largest_inner_decimated.off`)>\n",
      "\n",
      "largest_mesh_path_inner_decimated_clean = <trimesh.Trimesh(vertices.shape=(433, 3), faces.shape=(862, 3), name=`neuron_12345_decimated_largest_piece_poisson_largest_inner_decimated.off`)>\n",
      "soma_size_threshold = 562.5\n",
      "soma_size_threshold_max = 75000.0\n",
      "soma_width_threshold = 0.32\n",
      "\n",
      "Number of segments: 6\n",
      "\n"
     ]
    },
    {
     "data": {
      "application/vnd.jupyter.widget-view+json": {
       "model_id": "97b775e340134d26b8d4add7ed27e861",
       "version_major": 2,
       "version_minor": 0
      },
      "text/plain": [
       "  0%|          | 0/6 [00:00<?, ?it/s]"
      ]
     },
     "metadata": {},
     "output_type": "display_data"
    },
    {
     "name": "stdout",
     "output_type": "stream",
     "text": [
      "\n",
      "    --- On segmentation loop 1 --\n",
      "largest_mesh_path_inner_decimated_clean = <trimesh.Trimesh(vertices.shape=(144, 3), faces.shape=(282, 3), name=`neuron_12345_decimated_largest_piece_poisson_largest_inner_decimated.off`)>\n",
      "\n",
      "largest_mesh_path_inner_decimated_clean = <trimesh.Trimesh(vertices.shape=(144, 3), faces.shape=(282, 3), name=`neuron_12345_decimated_largest_piece_poisson_largest_inner_decimated.off`)>\n",
      "soma_size_threshold = 562.5\n",
      "soma_size_threshold_max = 75000.0\n",
      "soma_width_threshold = 0.32\n",
      "\n",
      "Number of segments: 2\n",
      "\n"
     ]
    },
    {
     "data": {
      "application/vnd.jupyter.widget-view+json": {
       "model_id": "ed0ac8f190f542069c24be7c4a3f5ab0",
       "version_major": 2,
       "version_minor": 0
      },
      "text/plain": [
       "  0%|          | 0/2 [00:00<?, ?it/s]"
      ]
     },
     "metadata": {},
     "output_type": "display_data"
    },
    {
     "name": "stdout",
     "output_type": "stream",
     "text": [
      "\n",
      "    --- On segmentation loop 2 --\n",
      "largest_mesh_path_inner_decimated_clean = <trimesh.Trimesh(vertices.shape=(95, 3), faces.shape=(184, 3), name=`neuron_12345_decimated_largest_piece_poisson_largest_inner_decimated.off`)>\n",
      "\n",
      "largest_mesh_path_inner_decimated_clean = <trimesh.Trimesh(vertices.shape=(95, 3), faces.shape=(184, 3), name=`neuron_12345_decimated_largest_piece_poisson_largest_inner_decimated.off`)>\n",
      "soma_size_threshold = 562.5\n",
      "soma_size_threshold_max = 75000.0\n",
      "soma_width_threshold = 0.32\n",
      "\n",
      "Number of segments: 1\n",
      "\n"
     ]
    },
    {
     "data": {
      "application/vnd.jupyter.widget-view+json": {
       "model_id": "9fb512052ad345bea2fb56bc6e732bc3",
       "version_major": 2,
       "version_minor": 0
      },
      "text/plain": [
       "  0%|          | 0/1 [00:00<?, ?it/s]"
      ]
     },
     "metadata": {},
     "output_type": "display_data"
    },
    {
     "name": "stdout",
     "output_type": "stream",
     "text": [
      "\n",
      "\n",
      "\n",
      " Total time for run = 72.30012440681458\n",
      "Before Filtering the number of somas found = 1\n",
      "\n",
      "---Performing Soma Mesh Backtracking to original mesh for poisson soma 0\n",
      "backtrack_soma_size_threshold = 8000\n",
      "xvfb-run -n 9758 -s \"-screen 0 800x600x24\" meshlabserver $@  -i /NEURD_Chenlab/Applications/Tutorials/Auto_Proof_Pipeline/Single_Soma_Exc/temp/neuron_78638.off -o /NEURD_Chenlab/Applications/Tutorials/Auto_Proof_Pipeline/Single_Soma_Exc/temp/neuron_78638_fill_holes.off -s /NEURD_Chenlab/Applications/Tutorials/Auto_Proof_Pipeline/Single_Soma_Exc/temp/fill_holes_66561.mls\n",
      "removed temporary input file: /NEURD_Chenlab/Applications/Tutorials/Auto_Proof_Pipeline/Single_Soma_Exc/temp/neuron_78638.off\n",
      "removed temporary output file: /NEURD_Chenlab/Applications/Tutorials/Auto_Proof_Pipeline/Single_Soma_Exc/temp/neuron_78638_fill_holes.off\n",
      "/NEURD_Chenlab/Applications/Tutorials/Auto_Proof_Pipeline/Single_Soma_Exc/temp/fill_holes_66561.mls is being deleted....\n",
      "xvfb-run -n 2675 -s \"-screen 0 800x600x24\" meshlabserver $@  -i /NEURD_Chenlab/Applications/Tutorials/Auto_Proof_Pipeline/Single_Soma_Exc/temp/neuron_14453.off -o /NEURD_Chenlab/Applications/Tutorials/Auto_Proof_Pipeline/Single_Soma_Exc/temp/neuron_14453_remove_interior.off -s /NEURD_Chenlab/Applications/Tutorials/Auto_Proof_Pipeline/Single_Soma_Exc/temp/remove_interior_261391.mls\n",
      "removed temporary input file: /NEURD_Chenlab/Applications/Tutorials/Auto_Proof_Pipeline/Single_Soma_Exc/temp/neuron_14453.off\n",
      "removed temporary output file: /NEURD_Chenlab/Applications/Tutorials/Auto_Proof_Pipeline/Single_Soma_Exc/temp/neuron_14453_remove_interior.off\n",
      "/NEURD_Chenlab/Applications/Tutorials/Auto_Proof_Pipeline/Single_Soma_Exc/temp/remove_interior_261391.mls is being deleted....\n",
      "Removing the following inside neurons: [<trimesh.Trimesh(vertices.shape=(14085, 3), faces.shape=(28147, 3), name=`neuron_14453_remove_interior.off`)>, <trimesh.Trimesh(vertices.shape=(398, 3), faces.shape=(765, 3), name=`neuron_14453_remove_interior.off`)>, <trimesh.Trimesh(vertices.shape=(160, 3), faces.shape=(316, 3), name=`neuron_14453_remove_interior.off`)>, <trimesh.Trimesh(vertices.shape=(160, 3), faces.shape=(316, 3), name=`neuron_14453_remove_interior.off`)>]\n",
      "split_meshes_after_backtrack = [<trimesh.Trimesh(vertices.shape=(40159, 3), faces.shape=(79672, 3))>]\n",
      "soma_size_threshold = 8000\n",
      "After backtrack the found 1 possible somas: [<trimesh.Trimesh(vertices.shape=(40159, 3), faces.shape=(79672, 3))>] \n",
      "\n",
      "--- working on backtrack soma 0: <trimesh.Trimesh(vertices.shape=(40159, 3), faces.shape=(79672, 3))>\n",
      "poisson_backtrack_distance_threshold = None\n",
      "Using Poisson Surface Reconstruction for watertightness in soma_volume_ratio\n",
      "xvfb-run -n 660 -s \"-screen 0 800x600x24\" meshlabserver $@  -i /NEURD_Chenlab/Applications/Tutorials/Auto_Proof_Pipeline/Single_Soma_Exc/Poisson_temp/neuron_259698.off -o /NEURD_Chenlab/Applications/Tutorials/Auto_Proof_Pipeline/Single_Soma_Exc/Poisson_temp/neuron_259698_poisson.off -s /NEURD_Chenlab/Applications/Tutorials/Auto_Proof_Pipeline/Single_Soma_Exc/Poisson_temp/poisson_649561.mls\n",
      "removed temporary input file: /NEURD_Chenlab/Applications/Tutorials/Auto_Proof_Pipeline/Single_Soma_Exc/Poisson_temp/neuron_259698.off\n",
      "removed temporary output file: /NEURD_Chenlab/Applications/Tutorials/Auto_Proof_Pipeline/Single_Soma_Exc/Poisson_temp/neuron_259698_poisson.off\n",
      "mesh.is_watertight = True\n",
      "/NEURD_Chenlab/Applications/Tutorials/Auto_Proof_Pipeline/Single_Soma_Exc/Poisson_temp/poisson_649561.mls is being deleted....\n",
      "Inside sphere validater: ratio_val = 7.115902760155122\n",
      "About to add the following inside nuclei pieces after soma backtrack: [<trimesh.Trimesh(vertices.shape=(54, 3), faces.shape=(18, 3))>, <trimesh.Trimesh(vertices.shape=(4, 3), faces.shape=(2, 3))>]\n",
      "Skipping the segmentatio filter at end\n",
      "removing mesh interior before segmentation\n",
      "xvfb-run -n 8905 -s \"-screen 0 800x600x24\" meshlabserver $@  -i /NEURD_Chenlab/Applications/Tutorials/Auto_Proof_Pipeline/Single_Soma_Exc/temp/neuron_80654.off -o /NEURD_Chenlab/Applications/Tutorials/Auto_Proof_Pipeline/Single_Soma_Exc/temp/neuron_80654_fill_holes.off -s /NEURD_Chenlab/Applications/Tutorials/Auto_Proof_Pipeline/Single_Soma_Exc/temp/fill_holes_812436.mls\n",
      "removed temporary input file: /NEURD_Chenlab/Applications/Tutorials/Auto_Proof_Pipeline/Single_Soma_Exc/temp/neuron_80654.off\n",
      "removed temporary output file: /NEURD_Chenlab/Applications/Tutorials/Auto_Proof_Pipeline/Single_Soma_Exc/temp/neuron_80654_fill_holes.off\n",
      "/NEURD_Chenlab/Applications/Tutorials/Auto_Proof_Pipeline/Single_Soma_Exc/temp/fill_holes_812436.mls is being deleted....\n",
      "xvfb-run -n 7733 -s \"-screen 0 800x600x24\" meshlabserver $@  -i /NEURD_Chenlab/Applications/Tutorials/Auto_Proof_Pipeline/Single_Soma_Exc/temp/neuron_33468.off -o /NEURD_Chenlab/Applications/Tutorials/Auto_Proof_Pipeline/Single_Soma_Exc/temp/neuron_33468_remove_interior.off -s /NEURD_Chenlab/Applications/Tutorials/Auto_Proof_Pipeline/Single_Soma_Exc/temp/remove_interior_946101.mls\n",
      "removed temporary input file: /NEURD_Chenlab/Applications/Tutorials/Auto_Proof_Pipeline/Single_Soma_Exc/temp/neuron_33468.off\n",
      "removed temporary output file: /NEURD_Chenlab/Applications/Tutorials/Auto_Proof_Pipeline/Single_Soma_Exc/temp/neuron_33468_remove_interior.off\n",
      "/NEURD_Chenlab/Applications/Tutorials/Auto_Proof_Pipeline/Single_Soma_Exc/temp/remove_interior_946101.mls is being deleted....\n",
      "Removing the following inside neurons: [<trimesh.Trimesh(vertices.shape=(12783, 3), faces.shape=(25539, 3), name=`neuron_33468_remove_interior.off`)>]\n",
      "Doing the soma segmentation filter at end\n",
      "\n",
      "Number of segments: 3\n",
      "\n"
     ]
    },
    {
     "data": {
      "application/vnd.jupyter.widget-view+json": {
       "model_id": "be29cf1a95504f36b83fb460ba8c3ccc",
       "version_major": 2,
       "version_minor": 0
      },
      "text/plain": [
       "  0%|          | 0/3 [00:00<?, ?it/s]"
      ]
     },
     "metadata": {},
     "output_type": "display_data"
    },
    {
     "name": "stdout",
     "output_type": "stream",
     "text": [
      "Largest hole before segmentation = 247379.7917391773, after = 704814.3360077644,\n",
      "\n",
      "ratio = 2.849118479131388, difference = 457434.54426858714\n",
      "filtered_soma_list_components = [<trimesh.Trimesh(vertices.shape=(40159, 3), faces.shape=(79672, 3))>]\n",
      "Not need to do a second pass because already found a soma\n"
     ]
    }
   ],
   "source": [
    "from neurd import neuron_visualizations as nviz\n",
    "\n",
    "verbose = True\n",
    "\n",
    "soma_products = sm.soma_indentification(\n",
    "    mesh_decimated,\n",
    "    verbose=verbose,\n",
    "    **soma_extraction_parameters\n",
    ")"
   ]
  },
  {
   "cell_type": "code",
   "execution_count": 15,
   "id": "6a79d754",
   "metadata": {},
   "outputs": [
    {
     "name": "stdout",
     "output_type": "stream",
     "text": [
      "# of somas = 1\n",
      "# of glia = 0\n",
      "# of nuclei = 4\n"
     ]
    },
    {
     "data": {
      "application/vnd.jupyter.widget-view+json": {
       "model_id": "fade6390267a4d0a81e369ffbb0d36ef",
       "version_major": 2,
       "version_minor": 0
      },
      "text/plain": [
       "Container(figure=Figure(box_center=[0.5, 0.5, 0.5], box_size=[1.0, 1.0, 1.0], camera=PerspectiveCamera(fov=45.…"
      ]
     },
     "metadata": {},
     "output_type": "display_data"
    }
   ],
   "source": [
    "sm.plot_soma_products(\n",
    "    mesh_decimated,\n",
    "    soma_products = soma_products,\n",
    "    verbose = True\n",
    ")"
   ]
  },
  {
   "cell_type": "code",
   "execution_count": 16,
   "id": "e43e9f14",
   "metadata": {},
   "outputs": [
    {
     "data": {
      "text/plain": [
       "<datasci_tools.pipeline.StageProducts at 0x7f83c43ce8b0>"
      ]
     },
     "execution_count": 16,
     "metadata": {},
     "output_type": "execute_result"
    }
   ],
   "source": [
    "soma_products.soma_extraction_parameters = soma_extraction_parameters\n",
    "soma_products"
   ]
  },
  {
   "cell_type": "code",
   "execution_count": 17,
   "id": "a5056278",
   "metadata": {
    "scrolled": true
   },
   "outputs": [
    {
     "name": "stdout",
     "output_type": "stream",
     "text": [
      "{\n",
      "  'decimation':\n",
      "  {\n",
      "    'decimation_parameters':\n",
      "    {\n",
      "      'decimation_ratio':0.25,\n",
      "    },\n",
      "    'segment_id':32414,\n",
      "  },\n",
      "  'soma_identification':\n",
      "  {\n",
      "    'glia_meshes':[],\n",
      "    'nuclei_meshes':[<trimesh.Trimesh(vertices.shape=(54, 3), faces.shape=(18, 3))>, <trimesh.Trimesh(vertices.shape=(4, 3), faces.shape=(2, 3))>, <trimesh.Trimesh(vertices.shape=(3, 3), faces.shape=(1, 3))>, <trimesh.Trimesh(vertices.shape=(3, 3), faces.shape=(1, 3))>],\n",
      "    'soma_extraction_parameters':\n",
      "    {\n",
      "    },\n",
      "    'soma_meshes':[<trimesh.Trimesh(vertices.shape=(40159, 3), faces.shape=(79672, 3))>],\n",
      "    'soma_run_time':72.30012321472168,\n",
      "    'soma_sdfs':array([0.808672]),\n",
      "  },\n",
      "}\n",
      "\n"
     ]
    }
   ],
   "source": [
    "products.set_stage_attrs(\n",
    "    stage = \"soma_identification\",\n",
    "    attr_dict = soma_products,\n",
    ")\n",
    "\n",
    "print(products)"
   ]
  },
  {
   "cell_type": "markdown",
   "id": "da45be47",
   "metadata": {},
   "source": [
    "# Step 2b: Saving off pipeline products"
   ]
  },
  {
   "cell_type": "code",
   "execution_count": 18,
   "id": "c99ef858",
   "metadata": {},
   "outputs": [
    {
     "name": "stdout",
     "output_type": "stream",
     "text": [
      "Saved object at /NEURD_Chenlab/Applications/Tutorials/Auto_Proof_Pipeline/Single_Soma_Exc/products_up_to_soma_stage.pkl\n",
      "File size is 23.122054 MB\n",
      "Cleared mesh: <trimesh.Trimesh(vertices.shape=(54, 3), faces.shape=(18, 3))>:140207185663072\n",
      "Cleared mesh: <trimesh.Trimesh(vertices.shape=(4, 3), faces.shape=(2, 3))>:140207185665904\n",
      "Cleared mesh: <trimesh.Trimesh(vertices.shape=(3, 3), faces.shape=(1, 3))>:140207412124640\n",
      "Cleared mesh: <trimesh.Trimesh(vertices.shape=(3, 3), faces.shape=(1, 3))>:140207412115248\n",
      "Cleared mesh: <trimesh.Trimesh(vertices.shape=(40159, 3), faces.shape=(79672, 3))>:140207419619120\n"
     ]
    }
   ],
   "source": [
    "from datasci_tools import system_utils as su\n",
    "su.save_object(\n",
    "    products,\"products_up_to_soma_stage\"\n",
    ")"
   ]
  },
  {
   "cell_type": "markdown",
   "id": "bfdbcc82",
   "metadata": {},
   "source": [
    "# Step 3: Decomposition"
   ]
  },
  {
   "cell_type": "code",
   "execution_count": 19,
   "id": "5b3f9c44-1b58-48ba-905b-e81ceb1f119d",
   "metadata": {},
   "outputs": [
    {
     "data": {
      "text/plain": [
       "'2.8.8'"
      ]
     },
     "execution_count": 19,
     "metadata": {},
     "output_type": "execute_result"
    }
   ],
   "source": [
    "import networkx as nx\n",
    "nx.__version__"
   ]
  },
  {
   "cell_type": "code",
   "execution_count": 20,
   "id": "84193a27",
   "metadata": {
    "scrolled": true
   },
   "outputs": [
    {
     "name": "stdout",
     "output_type": "stream",
     "text": [
      "--- 0) Having to preprocess the Neuron becuase no preprocessed data\n",
      "Please wait this could take a while.....\n",
      "Skipping the hole filling\n",
      "limb_remove_mesh_interior_face_threshold = 0\n",
      "use_meshafterparty = True\n",
      "Using pre-computed somas: soma_mesh_list = [<trimesh.Trimesh(vertices.shape=(40159, 3), faces.shape=(79672, 3))>]\n",
      "Soma List = [<trimesh.Trimesh(vertices.shape=(40159, 3), faces.shape=(79672, 3))>]\n",
      "soma_mesh_list_centers = [array([1220566.63643579, 1217419.06988471,  146685.22361465])]\n",
      "Getting Glia and Nuclei Pieces Subtracted Away 0.0848841667175293\n",
      " Splitting mesh after soma cancellation 0.33411455154418945\n",
      "# of split_meshes = 20\n",
      " Containing Mesh Indices 0.01713252067565918\n",
      "containing_mesh_indices = {0: 0}\n",
      " non_soma_touching_meshes 1.8358230590820312e-05\n",
      "There were 19 pieces found after size threshold\n",
      " Finding inside pieces and non_soma_touching meshes 1.7110636234283447\n",
      "soma_containing_meshes = {0: [0]}\n",
      "\n",
      "-----Before combining multiple mesh pieces-----\n",
      "soma_containing_meshes = {0: [0]}\n",
      "\n",
      "-----After combining multiple mesh pieces-----\n",
      "soma_containing_meshes = {0: [0]}\n",
      "\n",
      "\n",
      "----Working on soma-containing mesh piece 0----\n",
      "Total time for Subtract Soma and Original_mesh_faces_map for somas= 0.28275156021118164\n",
      "new_floating_pieces = []\n",
      "Total time for sig_non_soma_pieces= 1.3211119174957275\n",
      "Not applying expansions\n",
      "Total time for split= 4.76837158203125e-06\n",
      "Total time for mesh_pieces_connectivity= 1.8855836391448975\n",
      "# of insignificant_limbs = 10 with trimesh : [<trimesh.Trimesh(vertices.shape=(224, 3), faces.shape=(374, 3))>, <trimesh.Trimesh(vertices.shape=(188, 3), faces.shape=(310, 3))>, <trimesh.Trimesh(vertices.shape=(79, 3), faces.shape=(105, 3))>, <trimesh.Trimesh(vertices.shape=(22, 3), faces.shape=(25, 3))>, <trimesh.Trimesh(vertices.shape=(8, 3), faces.shape=(6, 3))>, <trimesh.Trimesh(vertices.shape=(6, 3), faces.shape=(4, 3))>, <trimesh.Trimesh(vertices.shape=(3, 3), faces.shape=(1, 3))>, <trimesh.Trimesh(vertices.shape=(3, 3), faces.shape=(1, 3))>, <trimesh.Trimesh(vertices.shape=(3, 3), faces.shape=(1, 3))>, <trimesh.Trimesh(vertices.shape=(3, 3), faces.shape=(1, 3))>]\n",
      "# of not_processed_soma_containing_meshes = 0 with trimesh : []\n",
      "\n",
      "\n",
      "----- Working on Proper Limb # 0 ---------\n",
      "meshparty_segment_size = 100\n",
      "invalidation_d = 12000\n",
      "use_adaptive_invalidation_d= False\n",
      "axon_width_preprocess_limb_max = 200\n",
      "filter_end_node_length= 4000\n",
      "filter_end_node_length_meshparty = 4000\n",
      "invalidation_d = 12000\n",
      "root_curr = [1222503.375    1220426.5       138108.140625]\n",
      "Time for preparing soma vertices and root: 0.00020074844360351562\n",
      "invalidation_d = 12000\n",
      "smooth_neighborhood = 1\n",
      "cc_vertex_thresh = 10\n"
     ]
    },
    {
     "name": "stderr",
     "output_type": "stream",
     "text": [
      "  0%|                                                                                             | 0/1 [00:00<?, ?it/s]"
     ]
    },
    {
     "data": {
      "application/vnd.jupyter.widget-view+json": {
       "model_id": "2386a41147d74fd3b8c85b157bc0130f",
       "version_major": 2,
       "version_minor": 0
      },
      "text/plain": [
       "  0%|          | 0/48865 [00:00<?, ?it/s]"
      ]
     },
     "metadata": {},
     "output_type": "display_data"
    },
    {
     "name": "stderr",
     "output_type": "stream",
     "text": [
      "100%|█████████████████████████████████████████████████████████████████████████████████████| 1/1 [00:00<00:00,  2.21it/s]\n"
     ]
    },
    {
     "name": "stdout",
     "output_type": "stream",
     "text": [
      "meshparty_segment_size = 100\n",
      "Time for 1st pass MP skeletonization: 0.8715338706970215\n",
      "connecting at the root\n",
      "branches_touching_root = [12]\n",
      "combining close nodes\n",
      "combine_threshold = 700\n",
      "length of Graph = 3148\n",
      "After combining close endpoints max(kept_branches_idx) = 12, len(kept_branches_idx) = 13\n",
      "empty_indices % = 0.0\n",
      " conflict_indices % = 0.009269300812342698\n"
     ]
    },
    {
     "data": {
      "application/vnd.jupyter.widget-view+json": {
       "model_id": "c1629abcb8ad4a758b2a43015c6e74d0",
       "version_major": 2,
       "version_minor": 0
      },
      "text/plain": [
       "  0%|          | 0/6 [00:00<?, ?it/s]"
      ]
     },
     "metadata": {},
     "output_type": "display_data"
    },
    {
     "data": {
      "application/vnd.jupyter.widget-view+json": {
       "model_id": "de271b6c890749a1bd96036deab18c34",
       "version_major": 2,
       "version_minor": 0
      },
      "text/plain": [
       "  0%|          | 0/13 [00:00<?, ?it/s]"
      ]
     },
     "metadata": {},
     "output_type": "display_data"
    },
    {
     "name": "stdout",
     "output_type": "stream",
     "text": [
      "Decomposing first pass: 5.678959369659424\n",
      "Attempting to use MeshAfterParty Skeletonization and Mesh Correspondence\n",
      "Another print\n",
      "Found len(mesh_large_idx) MAP candidates: [18820, 4940, 8725, 4159, 6462, 5558, 3101, 4089, 9111, 10326, 15125]\n",
      "mesh_large_connectivity: 0.14967632293701172\n",
      "Finding MAP candidates connected components: 0.00017571449279785156\n",
      "len(filtered_pieces) = 1\n",
      "skeleton_connectivity_MP : 0.030285120010375977\n",
      "Grouping MP Sublimbs by Graph: 0.005333662033081055\n",
      "Divinding into MP and MAP pieces: 7.152557373046875e-07\n",
      "--- Working on MAP piece 0---\n",
      "MAP Filtering Soma Pieces: 0.0037043094635009766\n",
      "inside skeletonize_connected_branch and use_surface_after_CGAL=True, surface_reconstruction_size=1000\n",
      "keep_idx = [0]\n",
      "     Starting Screened Poisson\n",
      "xvfb-run -n 6187 -s \"-screen 0 800x600x24\" meshlabserver $@  -i /NEURD_Chenlab/Applications/Tutorials/Auto_Proof_Pipeline/Single_Soma_Exc/temp/None.off -o /NEURD_Chenlab/Applications/Tutorials/Auto_Proof_Pipeline/Single_Soma_Exc/temp/None_poisson.off -s /NEURD_Chenlab/Applications/Tutorials/Auto_Proof_Pipeline/Single_Soma_Exc/temp/poisson_741298.mls\n",
      "removed temporary input file: /NEURD_Chenlab/Applications/Tutorials/Auto_Proof_Pipeline/Single_Soma_Exc/temp/None.off\n",
      "removed temporary output file: /NEURD_Chenlab/Applications/Tutorials/Auto_Proof_Pipeline/Single_Soma_Exc/temp/None_poisson.off\n",
      "Using the close holes feature\n",
      "xvfb-run -n 1496 -s \"-screen 0 800x600x24\" meshlabserver $@  -i /NEURD_Chenlab/Applications/Tutorials/Auto_Proof_Pipeline/Single_Soma_Exc/temp/neuron_92421.off -o /NEURD_Chenlab/Applications/Tutorials/Auto_Proof_Pipeline/Single_Soma_Exc/temp/neuron_92421_fill_holes.off -s /NEURD_Chenlab/Applications/Tutorials/Auto_Proof_Pipeline/Single_Soma_Exc/temp/fill_holes_856197.mls\n",
      "removed temporary input file: /NEURD_Chenlab/Applications/Tutorials/Auto_Proof_Pipeline/Single_Soma_Exc/temp/neuron_92421.off\n",
      "removed temporary output file: /NEURD_Chenlab/Applications/Tutorials/Auto_Proof_Pipeline/Single_Soma_Exc/temp/neuron_92421_fill_holes.off\n",
      "/NEURD_Chenlab/Applications/Tutorials/Auto_Proof_Pipeline/Single_Soma_Exc/temp/fill_holes_856197.mls is being deleted....\n",
      "-----Time for Screened Poisson= 29.30291485786438\n",
      "mesh_pieces = [<trimesh.Trimesh(vertices.shape=(144318, 3), faces.shape=(288640, 3), name=`neuron_92421_fill_holes.off`)>]\n",
      "     Starting Calcification (Changed back where stitches large poissons)\n",
      "Manifold status before skeletonization = True\n",
      "Watertight status before skeletonization = True\n",
      "min_edge_length = 75\n",
      "node_degrees = [2 2 2 3 2 3 2 2]\n",
      "Before mesh subtraction number of skeleton edges = 2063\n"
     ]
    },
    {
     "data": {
      "application/vnd.jupyter.widget-view+json": {
       "model_id": "6a65b76dce2349d2bc8c70554de23493",
       "version_major": 2,
       "version_minor": 0
      },
      "text/plain": [
       "0it [00:00, ?it/s]"
      ]
     },
     "metadata": {},
     "output_type": "display_data"
    },
    {
     "name": "stdout",
     "output_type": "stream",
     "text": [
      "len(leftover_meshes_sig) = []\n"
     ]
    },
    {
     "data": {
      "application/vnd.jupyter.widget-view+json": {
       "model_id": "a69a99c0d28f49f5a6a3c491d7cd3ac4",
       "version_major": 2,
       "version_minor": 0
      },
      "text/plain": [
       "0it [00:00, ?it/s]"
      ]
     },
     "metadata": {},
     "output_type": "display_data"
    },
    {
     "name": "stdout",
     "output_type": "stream",
     "text": [
      "No skeletons to stack so returning empty list\n",
      "STacking the leftover and significant poisson skeleton\n",
      "max_stitch_distance = 5000\n",
      "len_subgraphs AT BEGINNING of the loop\n"
     ]
    },
    {
     "data": {
      "application/vnd.jupyter.widget-view+json": {
       "model_id": "90f364ca40d141fbacded5d793c590af",
       "version_major": 2,
       "version_minor": 0
      },
      "text/plain": [
       "  0%|          | 0/1 [00:00<?, ?it/s]"
      ]
     },
     "metadata": {},
     "output_type": "display_data"
    },
    {
     "name": "stdout",
     "output_type": "stream",
     "text": [
      "all graph is one component!\n",
      "Total time for skeleton stitching = 0.06426286697387695\n",
      "The process was using a temp folder\n",
      "Checking connected components after skeletonize_connected_branch\n",
      "    Total time for skeletonizing branch: 56.46936249732971\n",
      "Checking connected components after removing cycles\n",
      "Total time for mesh KDTree = 0.6300938129425049\n",
      "sbv[0].reshape(-1,3) = [[1222503.375    1220426.5       138108.140625]]\n",
      "closest_sk_pt_coord BEFORE = [1221900. 1220090.  137099.]\n",
      "current_skeleton.shape = (2062, 2, 3)\n",
      "node_for_stitch = 209: [1221900. 1220090.  137099.]\n",
      "node_for_stitch AFTER = 209: [1221900. 1220090.  137099.]\n",
      "possible_node_loc = [   0   85  209  281  296  344  431  444  540  612  690  742  810  812\n",
      "  818 1155 1277 1609 1907 1910 1940 2062]\n",
      "possible_node_loc AFTER = [   0   85  209  281  296  344  431  444  540  612  690  742  810  812\n",
      "  818 1155 1277 1609 1907 1910 1940 2062]\n",
      "curr_shortest_path = [209]\n",
      "Current stitch point was a branch or endpoint\n",
      "change_status for create soma extending pieces = False\n",
      "closest_sk_pt_coord AFTER = [1221900. 1220090.  137099.]\n",
      "skipping soma 0 because closest skeleton node was already end node\n",
      "endpoints_must_keep = {0: array([[1221900., 1220090.,  137099.]])}\n",
      "    Total time for Fixing Skeleton Soma Endpoint Extension : 1.2659728527069092\n",
      "filter_end_node_length = 4000\n"
     ]
    },
    {
     "data": {
      "application/vnd.jupyter.widget-view+json": {
       "model_id": "d8f3a79c47994e788b7fff88adba04ca",
       "version_major": 2,
       "version_minor": 0
      },
      "text/plain": [
       "  0%|          | 0/14 [00:00<?, ?it/s]"
      ]
     },
     "metadata": {},
     "output_type": "display_data"
    },
    {
     "name": "stdout",
     "output_type": "stream",
     "text": [
      "Checking connected components after clean_skeleton\n",
      "after DISTANCE cleaning limb size of skeleton = (2013, 2, 3)\n",
      "********COMBINING CLOSE SKELETON NODES WITHIN 700 DISTANCE**********\n",
      "combine_threshold = 700\n",
      "Found 0 valid paths to replace\n",
      "valid_paths = []\n",
      "valid_path_lengths = []\n",
      "No valid paths found so just returning the original\n",
      "skeletonize_and_clean_connected_branch_CGAL: 61.787800788879395\n",
      "Working on limb correspondence for #0 MAP piece\n",
      "xvfb-run -n 7440 -s \"-screen 0 800x600x24\" meshlabserver $@  -i /NEURD_Chenlab/Applications/Tutorials/Auto_Proof_Pipeline/Single_Soma_Exc/temp/neuron_307.off -o /NEURD_Chenlab/Applications/Tutorials/Auto_Proof_Pipeline/Single_Soma_Exc/temp/neuron_307_remove_interior.off -s /NEURD_Chenlab/Applications/Tutorials/Auto_Proof_Pipeline/Single_Soma_Exc/temp/remove_interior_699850.mls\n",
      "removed temporary input file: /NEURD_Chenlab/Applications/Tutorials/Auto_Proof_Pipeline/Single_Soma_Exc/temp/neuron_307.off\n",
      "removed temporary output file: /NEURD_Chenlab/Applications/Tutorials/Auto_Proof_Pipeline/Single_Soma_Exc/temp/neuron_307_remove_interior.off\n",
      "/NEURD_Chenlab/Applications/Tutorials/Auto_Proof_Pipeline/Single_Soma_Exc/temp/remove_interior_699850.mls is being deleted....\n",
      "Removing the following inside neurons: [<trimesh.Trimesh(vertices.shape=(58, 3), faces.shape=(105, 3), name=`neuron_307_remove_interior.off`)>]\n"
     ]
    },
    {
     "data": {
      "application/vnd.jupyter.widget-view+json": {
       "model_id": "37f002f92a604d9cbb3eb5e173a44e60",
       "version_major": 2,
       "version_minor": 0
      },
      "text/plain": [
       "0it [00:00, ?it/s]"
      ]
     },
     "metadata": {},
     "output_type": "display_data"
    },
    {
     "name": "stdout",
     "output_type": "stream",
     "text": [
      "Total time for decomposition = 12.103556394577026\n",
      "mesh_correspondence_first_pass: 12.103603601455688\n",
      "Limb decomposed into 15 branches\n",
      "divided_skeleton_graph_recovered = (2013, 2, 3) and \n",
      "current_mesh_data[0]['branch_skeletons_cleaned'].shape = (2013, 2, 3)\n",
      "\n",
      "Number of connected components in deocmposed recovered graph = 1\n",
      "Number of connected components in cleaned skeleton graph= 1\n",
      "The downsampled branches number of connected components = 1\n",
      "Empty submeshes = []\n",
      "\n",
      "\n",
      "--- Working on 1-to-1 correspondence-----\n",
      "max(original_labels),len(original_labels) = (14, 15)\n",
      "empty_indices % = 0.027196513891346665\n",
      " conflict_indices % = 0.028866572288090604\n"
     ]
    },
    {
     "data": {
      "application/vnd.jupyter.widget-view+json": {
       "model_id": "73a5cfa752ad4ddc8d1113ec0268bb5d",
       "version_major": 2,
       "version_minor": 0
      },
      "text/plain": [
       "  0%|          | 0/72 [00:00<?, ?it/s]"
      ]
     },
     "metadata": {},
     "output_type": "display_data"
    },
    {
     "name": "stdout",
     "output_type": "stream",
     "text": [
      "Took 0 iterations to expand the label back\n",
      "empty_indices % = 0.0\n",
      " conflict_indices % = 0.0\n"
     ]
    },
    {
     "data": {
      "application/vnd.jupyter.widget-view+json": {
       "model_id": "619bc24ad57844bda927d39ea8da75bd",
       "version_major": 2,
       "version_minor": 0
      },
      "text/plain": [
       "0it [00:00, ?it/s]"
      ]
     },
     "metadata": {},
     "output_type": "display_data"
    },
    {
     "data": {
      "application/vnd.jupyter.widget-view+json": {
       "model_id": "e36ce8d12e1c4309b93a0e60ac3894e4",
       "version_major": 2,
       "version_minor": 0
      },
      "text/plain": [
       "  0%|          | 0/15 [00:00<?, ?it/s]"
      ]
     },
     "metadata": {},
     "output_type": "display_data"
    },
    {
     "name": "stdout",
     "output_type": "stream",
     "text": [
      "Total time for MAP sublimb #0 mesh processing = 80.82598233222961\n",
      "correspondence_1_to_1: 6.930814027786255\n",
      "Total time for MAP sublimb processing 80.82614517211914\n",
      "---- Working on MP Decomposition #0 ----\n",
      "Computing the current soma touching verts dict manually\n",
      "MP filtering soma verts: 0.001363992691040039\n",
      "Do Not Need to Fix MP Decomposition 0 so just continuing\n",
      "---- Working on MP Decomposition #1 ----\n",
      "Computing the current soma touching verts dict manually\n",
      "MP filtering soma verts: 0.0005848407745361328\n",
      "Do Not Need to Fix MP Decomposition 1 so just continuing\n",
      "Successful mesh connectivity with type edges\n",
      "\n",
      "---- Working on (0, 0) connection-----\n",
      "sk_conn = [0]\n",
      "conn = [0]\n",
      "winning_vertex = [1261948.19436693 1243717.16375087   92908.54998616]\n",
      "MP_branches_with_stitch_point = [0]\n",
      "MAP_branches_with_stitch_point = [10]\n",
      "MAP_stitch_point_on_end_or_branch = False\n"
     ]
    },
    {
     "data": {
      "application/vnd.jupyter.widget-view+json": {
       "model_id": "c17b9e8cd7f045e489d80fd79302b5c0",
       "version_major": 2,
       "version_minor": 0
      },
      "text/plain": [
       "0it [00:00, ?it/s]"
      ]
     },
     "metadata": {},
     "output_type": "display_data"
    },
    {
     "name": "stdout",
     "output_type": "stream",
     "text": [
      "\n",
      "\n",
      "--- Working on 1-to-1 correspondence-----\n",
      "max(original_labels),len(original_labels) = (1, 2)\n",
      "empty_indices % = 0.0030482443285069463\n",
      " conflict_indices % = 0.003224104578228501\n"
     ]
    },
    {
     "data": {
      "application/vnd.jupyter.widget-view+json": {
       "model_id": "6a528d2ccb4043ddab021f363912773e",
       "version_major": 2,
       "version_minor": 0
      },
      "text/plain": [
       "  0%|          | 0/11 [00:00<?, ?it/s]"
      ]
     },
     "metadata": {},
     "output_type": "display_data"
    },
    {
     "data": {
      "application/vnd.jupyter.widget-view+json": {
       "model_id": "b981180c23cc4fdb9a9754ad2d12dd45",
       "version_major": 2,
       "version_minor": 0
      },
      "text/plain": [
       "  0%|          | 0/2 [00:00<?, ?it/s]"
      ]
     },
     "metadata": {},
     "output_type": "display_data"
    },
    {
     "data": {
      "application/vnd.jupyter.widget-view+json": {
       "model_id": "6b3daada70e4470fa80150bd085cf49b",
       "version_major": 2,
       "version_minor": 0
      },
      "text/plain": [
       "0it [00:00, ?it/s]"
      ]
     },
     "metadata": {},
     "output_type": "display_data"
    },
    {
     "name": "stdout",
     "output_type": "stream",
     "text": [
      "\n",
      "\n",
      "--- Working on 1-to-1 correspondence-----\n",
      "max(original_labels),len(original_labels) = (2, 3)\n",
      "empty_indices % = 0.013319571414528655\n",
      " conflict_indices % = 0.022461417477636882\n"
     ]
    },
    {
     "data": {
      "application/vnd.jupyter.widget-view+json": {
       "model_id": "a0cef9e0b6664e2e890f0d622302b9a1",
       "version_major": 2,
       "version_minor": 0
      },
      "text/plain": [
       "  0%|          | 0/4 [00:00<?, ?it/s]"
      ]
     },
     "metadata": {},
     "output_type": "display_data"
    },
    {
     "data": {
      "application/vnd.jupyter.widget-view+json": {
       "model_id": "31afb1beb4ba4e52ae09eb0d5c06c50d",
       "version_major": 2,
       "version_minor": 0
      },
      "text/plain": [
       "  0%|          | 0/3 [00:00<?, ?it/s]"
      ]
     },
     "metadata": {},
     "output_type": "display_data"
    },
    {
     "name": "stdout",
     "output_type": "stream",
     "text": [
      "Deleting branches from dictionary\n",
      "MP_branches_with_stitch_point= [0]\n",
      "MP_branches_for_correspondence = [0]\n",
      "MP_leftover = [], MP_leftover_idx = []\n",
      " Finished with (0, 0) \n",
      "\n",
      "\n",
      "\n",
      "\n",
      "---- Working on (1, 0) connection-----\n",
      "sk_conn = [0]\n",
      "conn = [0]\n",
      "winning_vertex = [1262597.73845702 1219225.09958902  100842.32240148]\n",
      "MP_branches_with_stitch_point = [0]\n",
      "MAP_branches_with_stitch_point = [12]\n",
      "MAP_stitch_point_on_end_or_branch = False\n"
     ]
    },
    {
     "data": {
      "application/vnd.jupyter.widget-view+json": {
       "model_id": "e44ef8fd98bb4bac8f628a44b6fb88eb",
       "version_major": 2,
       "version_minor": 0
      },
      "text/plain": [
       "0it [00:00, ?it/s]"
      ]
     },
     "metadata": {},
     "output_type": "display_data"
    },
    {
     "name": "stdout",
     "output_type": "stream",
     "text": [
      "\n",
      "\n",
      "--- Working on 1-to-1 correspondence-----\n",
      "max(original_labels),len(original_labels) = (1, 2)\n",
      "empty_indices % = 0.027158001009591117\n",
      " conflict_indices % = 0.008480565371024734\n"
     ]
    },
    {
     "data": {
      "application/vnd.jupyter.widget-view+json": {
       "model_id": "f998acf2ad754cb59a652959b2ac5d4a",
       "version_major": 2,
       "version_minor": 0
      },
      "text/plain": [
       "  0%|          | 0/10 [00:00<?, ?it/s]"
      ]
     },
     "metadata": {},
     "output_type": "display_data"
    },
    {
     "data": {
      "application/vnd.jupyter.widget-view+json": {
       "model_id": "8bff7b3503c64929b0f13f73367fe921",
       "version_major": 2,
       "version_minor": 0
      },
      "text/plain": [
       "  0%|          | 0/2 [00:00<?, ?it/s]"
      ]
     },
     "metadata": {},
     "output_type": "display_data"
    },
    {
     "data": {
      "application/vnd.jupyter.widget-view+json": {
       "model_id": "f57442894752442cbf23dd98064cedb9",
       "version_major": 2,
       "version_minor": 0
      },
      "text/plain": [
       "0it [00:00, ?it/s]"
      ]
     },
     "metadata": {},
     "output_type": "display_data"
    },
    {
     "name": "stdout",
     "output_type": "stream",
     "text": [
      "\n",
      "\n",
      "--- Working on 1-to-1 correspondence-----\n",
      "max(original_labels),len(original_labels) = (2, 3)\n",
      "empty_indices % = 0.04962707974756168\n",
      " conflict_indices % = 0.028757888697647734\n"
     ]
    },
    {
     "data": {
      "application/vnd.jupyter.widget-view+json": {
       "model_id": "9e68f23799ec45a88d7ce055ff048949",
       "version_major": 2,
       "version_minor": 0
      },
      "text/plain": [
       "  0%|          | 0/15 [00:00<?, ?it/s]"
      ]
     },
     "metadata": {},
     "output_type": "display_data"
    },
    {
     "data": {
      "application/vnd.jupyter.widget-view+json": {
       "model_id": "caf9218d64084aecabc22266a161d360",
       "version_major": 2,
       "version_minor": 0
      },
      "text/plain": [
       "  0%|          | 0/3 [00:00<?, ?it/s]"
      ]
     },
     "metadata": {},
     "output_type": "display_data"
    },
    {
     "name": "stdout",
     "output_type": "stream",
     "text": [
      "Deleting branches from dictionary\n",
      "MP_branches_with_stitch_point= [0]\n",
      "MP_branches_for_correspondence = [0]\n",
      "MP_leftover = [], MP_leftover_idx = []\n",
      " Finished with (1, 0) \n",
      "\n",
      "\n",
      "\n",
      "Time for decomp of Limb = 95.85705757141113\n",
      "Number of matching vertices = 72\n",
      "Only one endpoint after filtering away the endpoints that are not on the skeleton\n",
      "Removed 0 skeletal branches\n"
     ]
    },
    {
     "data": {
      "application/vnd.jupyter.widget-view+json": {
       "model_id": "3ea611d7067a4c5f922fb9d7e3cf6822",
       "version_major": 2,
       "version_minor": 0
      },
      "text/plain": [
       "  0%|          | 0/19 [00:00<?, ?it/s]"
      ]
     },
     "metadata": {},
     "output_type": "display_data"
    },
    {
     "name": "stdout",
     "output_type": "stream",
     "text": [
      "97741 97742\n",
      "For marked faces: None\n",
      "empty_indices % = 0.0\n",
      " conflict_indices % = 0.0\n"
     ]
    },
    {
     "data": {
      "application/vnd.jupyter.widget-view+json": {
       "model_id": "eeeaf902f1c54e31bbd74f692c1b8f53",
       "version_major": 2,
       "version_minor": 0
      },
      "text/plain": [
       "0it [00:00, ?it/s]"
      ]
     },
     "metadata": {},
     "output_type": "display_data"
    },
    {
     "data": {
      "application/vnd.jupyter.widget-view+json": {
       "model_id": "70c11d2bec8b4af59d4e1b756f76486a",
       "version_major": 2,
       "version_minor": 0
      },
      "text/plain": [
       "  0%|          | 0/19 [00:00<?, ?it/s]"
      ]
     },
     "metadata": {},
     "output_type": "display_data"
    },
    {
     "name": "stdout",
     "output_type": "stream",
     "text": [
      "Successful Limb Decomposition\n",
      "\n",
      "\n",
      "----- Working on Proper Limb # 1 ---------\n",
      "meshparty_segment_size = 100\n",
      "invalidation_d = 12000\n",
      "use_adaptive_invalidation_d= False\n",
      "axon_width_preprocess_limb_max = 200\n",
      "filter_end_node_length= 4000\n",
      "filter_end_node_length_meshparty = 4000\n",
      "invalidation_d = 12000\n",
      "root_curr = [1224300.      1223147.625    148375.15625]\n",
      "Time for preparing soma vertices and root: 0.0008091926574707031\n",
      "invalidation_d = 12000\n",
      "smooth_neighborhood = 1\n",
      "cc_vertex_thresh = 10\n"
     ]
    },
    {
     "name": "stderr",
     "output_type": "stream",
     "text": [
      "  0%|                                                                                             | 0/1 [00:00<?, ?it/s]"
     ]
    },
    {
     "data": {
      "application/vnd.jupyter.widget-view+json": {
       "model_id": "751a9ef7bf1543e9ace08c9415a6fa47",
       "version_major": 2,
       "version_minor": 0
      },
      "text/plain": [
       "  0%|          | 0/47801 [00:00<?, ?it/s]"
      ]
     },
     "metadata": {},
     "output_type": "display_data"
    },
    {
     "name": "stderr",
     "output_type": "stream",
     "text": [
      "100%|█████████████████████████████████████████████████████████████████████████████████████| 1/1 [00:00<00:00,  3.52it/s]\n"
     ]
    },
    {
     "name": "stdout",
     "output_type": "stream",
     "text": [
      "meshparty_segment_size = 100\n",
      "Time for 1st pass MP skeletonization: 0.7258617877960205\n",
      "connecting at the root\n",
      "branches_touching_root = [10]\n",
      "combining close nodes\n",
      "combine_threshold = 700\n",
      "length of Graph = 2806\n",
      "After combining close endpoints max(kept_branches_idx) = 10, len(kept_branches_idx) = 11\n",
      "empty_indices % = 0.0\n",
      " conflict_indices % = 0.00842252843257269\n"
     ]
    },
    {
     "data": {
      "application/vnd.jupyter.widget-view+json": {
       "model_id": "a45d2c0c94024105a4f7cf1c7ebef728",
       "version_major": 2,
       "version_minor": 0
      },
      "text/plain": [
       "  0%|          | 0/5 [00:00<?, ?it/s]"
      ]
     },
     "metadata": {},
     "output_type": "display_data"
    },
    {
     "data": {
      "application/vnd.jupyter.widget-view+json": {
       "model_id": "e915d7cd6dc94ce3ae367cd412c19ebb",
       "version_major": 2,
       "version_minor": 0
      },
      "text/plain": [
       "  0%|          | 0/11 [00:00<?, ?it/s]"
      ]
     },
     "metadata": {},
     "output_type": "display_data"
    },
    {
     "name": "stdout",
     "output_type": "stream",
     "text": [
      "Decomposing first pass: 5.002007961273193\n",
      "Attempting to use MeshAfterParty Skeletonization and Mesh Correspondence\n",
      "Another print\n",
      "Found len(mesh_large_idx) MAP candidates: [15236, 3682, 8408, 7850, 4047, 13339, 8949, 4142, 17597]\n",
      "mesh_large_connectivity: 0.11436653137207031\n",
      "Finding MAP candidates connected components: 0.0001800060272216797\n",
      "len(filtered_pieces) = 1\n",
      "skeleton_connectivity_MP : 0.03336310386657715\n",
      "Grouping MP Sublimbs by Graph: 0.0076029300689697266\n",
      "Divinding into MP and MAP pieces: 1.1920928955078125e-06\n",
      "--- Working on MAP piece 0---\n",
      "MAP Filtering Soma Pieces: 0.005343198776245117\n",
      "inside skeletonize_connected_branch and use_surface_after_CGAL=True, surface_reconstruction_size=1000\n",
      "keep_idx = [0]\n",
      "     Starting Screened Poisson\n",
      "xvfb-run -n 8468 -s \"-screen 0 800x600x24\" meshlabserver $@  -i /NEURD_Chenlab/Applications/Tutorials/Auto_Proof_Pipeline/Single_Soma_Exc/temp/None.off -o /NEURD_Chenlab/Applications/Tutorials/Auto_Proof_Pipeline/Single_Soma_Exc/temp/None_poisson.off -s /NEURD_Chenlab/Applications/Tutorials/Auto_Proof_Pipeline/Single_Soma_Exc/temp/poisson_550699.mls\n",
      "removed temporary input file: /NEURD_Chenlab/Applications/Tutorials/Auto_Proof_Pipeline/Single_Soma_Exc/temp/None.off\n",
      "removed temporary output file: /NEURD_Chenlab/Applications/Tutorials/Auto_Proof_Pipeline/Single_Soma_Exc/temp/None_poisson.off\n",
      "Using the close holes feature\n",
      "xvfb-run -n 9623 -s \"-screen 0 800x600x24\" meshlabserver $@  -i /NEURD_Chenlab/Applications/Tutorials/Auto_Proof_Pipeline/Single_Soma_Exc/temp/neuron_76548.off -o /NEURD_Chenlab/Applications/Tutorials/Auto_Proof_Pipeline/Single_Soma_Exc/temp/neuron_76548_fill_holes.off -s /NEURD_Chenlab/Applications/Tutorials/Auto_Proof_Pipeline/Single_Soma_Exc/temp/fill_holes_794546.mls\n",
      "removed temporary input file: /NEURD_Chenlab/Applications/Tutorials/Auto_Proof_Pipeline/Single_Soma_Exc/temp/neuron_76548.off\n",
      "removed temporary output file: /NEURD_Chenlab/Applications/Tutorials/Auto_Proof_Pipeline/Single_Soma_Exc/temp/neuron_76548_fill_holes.off\n",
      "/NEURD_Chenlab/Applications/Tutorials/Auto_Proof_Pipeline/Single_Soma_Exc/temp/fill_holes_794546.mls is being deleted....\n",
      "-----Time for Screened Poisson= 29.192188024520874\n",
      "mesh_pieces = [<trimesh.Trimesh(vertices.shape=(139376, 3), faces.shape=(278760, 3), name=`neuron_76548_fill_holes.off`)>]\n",
      "     Starting Calcification (Changed back where stitches large poissons)\n",
      "Manifold status before skeletonization = True\n",
      "Watertight status before skeletonization = True\n",
      "min_edge_length = 75\n",
      "node_degrees = [2 2 3 2 2 4 2 2]\n",
      "Before mesh subtraction number of skeleton edges = 1775\n"
     ]
    },
    {
     "data": {
      "application/vnd.jupyter.widget-view+json": {
       "model_id": "2dc6953d7dea4b67aec659bceeee2707",
       "version_major": 2,
       "version_minor": 0
      },
      "text/plain": [
       "0it [00:00, ?it/s]"
      ]
     },
     "metadata": {},
     "output_type": "display_data"
    },
    {
     "name": "stdout",
     "output_type": "stream",
     "text": [
      "len(leftover_meshes_sig) = []\n"
     ]
    },
    {
     "data": {
      "application/vnd.jupyter.widget-view+json": {
       "model_id": "de970737b7c24ce1aa1bd1b49e6a1102",
       "version_major": 2,
       "version_minor": 0
      },
      "text/plain": [
       "0it [00:00, ?it/s]"
      ]
     },
     "metadata": {},
     "output_type": "display_data"
    },
    {
     "name": "stdout",
     "output_type": "stream",
     "text": [
      "No skeletons to stack so returning empty list\n",
      "STacking the leftover and significant poisson skeleton\n",
      "max_stitch_distance = 5000\n",
      "len_subgraphs AT BEGINNING of the loop\n"
     ]
    },
    {
     "data": {
      "application/vnd.jupyter.widget-view+json": {
       "model_id": "6eb6e04ec2634ab6a55de12416a2ec57",
       "version_major": 2,
       "version_minor": 0
      },
      "text/plain": [
       "  0%|          | 0/1 [00:00<?, ?it/s]"
      ]
     },
     "metadata": {},
     "output_type": "display_data"
    },
    {
     "name": "stdout",
     "output_type": "stream",
     "text": [
      "all graph is one component!\n",
      "Total time for skeleton stitching = 0.06296992301940918\n",
      "The process was using a temp folder\n",
      "Checking connected components after skeletonize_connected_branch\n",
      "    Total time for skeletonizing branch: 55.70793700218201\n",
      "Checking connected components after removing cycles\n",
      "Total time for mesh KDTree = 0.5769975185394287\n",
      "sbv[0].reshape(-1,3) = [[1224300.      1223147.625    148375.15625]]\n",
      "closest_sk_pt_coord BEFORE = [1223560. 1223910.  149784.]\n",
      "current_skeleton.shape = (1774, 2, 3)\n",
      "node_for_stitch = 1047: [1223560. 1223910.  149784.]\n",
      "node_for_stitch AFTER = 1047: [1223560. 1223910.  149784.]\n",
      "possible_node_loc = [   0   64   75  166  292  334  337  559  611  628 1047 1411 1613 1657\n",
      " 1774]\n",
      "possible_node_loc AFTER = [   0   64   75  166  292  334  337  559  611  628 1047 1411 1613 1657\n",
      " 1774]\n",
      "curr_shortest_path = [1047]\n",
      "Current stitch point was a branch or endpoint\n",
      "change_status for create soma extending pieces = False\n",
      "closest_sk_pt_coord AFTER = [1223560. 1223910.  149784.]\n",
      "skipping soma 0 because closest skeleton node was already end node\n",
      "endpoints_must_keep = {0: array([[1223560., 1223910.,  149784.]])}\n",
      "    Total time for Fixing Skeleton Soma Endpoint Extension : 1.0879707336425781\n",
      "filter_end_node_length = 4000\n"
     ]
    },
    {
     "data": {
      "application/vnd.jupyter.widget-view+json": {
       "model_id": "e21e7b3d144b4182ac10eee92b1bb4ac",
       "version_major": 2,
       "version_minor": 0
      },
      "text/plain": [
       "  0%|          | 0/9 [00:00<?, ?it/s]"
      ]
     },
     "metadata": {},
     "output_type": "display_data"
    },
    {
     "name": "stdout",
     "output_type": "stream",
     "text": [
      "Checking connected components after clean_skeleton\n",
      "after DISTANCE cleaning limb size of skeleton = (1722, 2, 3)\n",
      "********COMBINING CLOSE SKELETON NODES WITHIN 700 DISTANCE**********\n",
      "combine_threshold = 700\n",
      "Found 0 valid paths to replace\n",
      "valid_paths = []\n",
      "valid_path_lengths = []\n",
      "No valid paths found so just returning the original\n",
      "skeletonize_and_clean_connected_branch_CGAL: 60.270672082901\n",
      "Working on limb correspondence for #0 MAP piece\n",
      "xvfb-run -n 4754 -s \"-screen 0 800x600x24\" meshlabserver $@  -i /NEURD_Chenlab/Applications/Tutorials/Auto_Proof_Pipeline/Single_Soma_Exc/temp/neuron_1162.off -o /NEURD_Chenlab/Applications/Tutorials/Auto_Proof_Pipeline/Single_Soma_Exc/temp/neuron_1162_remove_interior.off -s /NEURD_Chenlab/Applications/Tutorials/Auto_Proof_Pipeline/Single_Soma_Exc/temp/remove_interior_425102.mls\n",
      "removed temporary input file: /NEURD_Chenlab/Applications/Tutorials/Auto_Proof_Pipeline/Single_Soma_Exc/temp/neuron_1162.off\n",
      "removed temporary output file: /NEURD_Chenlab/Applications/Tutorials/Auto_Proof_Pipeline/Single_Soma_Exc/temp/neuron_1162_remove_interior.off\n",
      "/NEURD_Chenlab/Applications/Tutorials/Auto_Proof_Pipeline/Single_Soma_Exc/temp/remove_interior_425102.mls is being deleted....\n",
      "Removing the following inside neurons: [<trimesh.Trimesh(vertices.shape=(95, 3), faces.shape=(185, 3), name=`neuron_1162_remove_interior.off`)>, <trimesh.Trimesh(vertices.shape=(61, 3), faces.shape=(103, 3), name=`neuron_1162_remove_interior.off`)>]\n"
     ]
    },
    {
     "data": {
      "application/vnd.jupyter.widget-view+json": {
       "model_id": "0b453d6ac6dd4e6cae1b30d8c1243945",
       "version_major": 2,
       "version_minor": 0
      },
      "text/plain": [
       "0it [00:00, ?it/s]"
      ]
     },
     "metadata": {},
     "output_type": "display_data"
    },
    {
     "name": "stdout",
     "output_type": "stream",
     "text": [
      "Total time for decomposition = 10.478045463562012\n",
      "mesh_correspondence_first_pass: 10.47809624671936\n",
      "Limb decomposed into 11 branches\n",
      "divided_skeleton_graph_recovered = (1722, 2, 3) and \n",
      "current_mesh_data[0]['branch_skeletons_cleaned'].shape = (1722, 2, 3)\n",
      "\n",
      "Number of connected components in deocmposed recovered graph = 1\n",
      "Number of connected components in cleaned skeleton graph= 1\n",
      "The downsampled branches number of connected components = 1\n",
      "Empty submeshes = []\n",
      "\n",
      "\n",
      "--- Working on 1-to-1 correspondence-----\n",
      "max(original_labels),len(original_labels) = (10, 11)\n",
      "empty_indices % = 0.029153153153153154\n",
      " conflict_indices % = 0.02496096096096096\n"
     ]
    },
    {
     "data": {
      "application/vnd.jupyter.widget-view+json": {
       "model_id": "b08253f654e94b58a562c4efed9f6431",
       "version_major": 2,
       "version_minor": 0
      },
      "text/plain": [
       "  0%|          | 0/52 [00:00<?, ?it/s]"
      ]
     },
     "metadata": {},
     "output_type": "display_data"
    },
    {
     "name": "stdout",
     "output_type": "stream",
     "text": [
      "Took 0 iterations to expand the label back\n",
      "empty_indices % = 0.0\n",
      " conflict_indices % = 0.0\n"
     ]
    },
    {
     "data": {
      "application/vnd.jupyter.widget-view+json": {
       "model_id": "c065e011900d41dfa8ad05e6691b742f",
       "version_major": 2,
       "version_minor": 0
      },
      "text/plain": [
       "0it [00:00, ?it/s]"
      ]
     },
     "metadata": {},
     "output_type": "display_data"
    },
    {
     "data": {
      "application/vnd.jupyter.widget-view+json": {
       "model_id": "879e993bb3ad494fbeeff8927d6e68c6",
       "version_major": 2,
       "version_minor": 0
      },
      "text/plain": [
       "  0%|          | 0/11 [00:00<?, ?it/s]"
      ]
     },
     "metadata": {},
     "output_type": "display_data"
    },
    {
     "name": "stdout",
     "output_type": "stream",
     "text": [
      "Total time for MAP sublimb #0 mesh processing = 77.38777685165405\n",
      "correspondence_1_to_1: 6.633692502975464\n",
      "Total time for MAP sublimb processing 77.38797497749329\n",
      "---- Working on MP Decomposition #0 ----\n",
      "Computing the current soma touching verts dict manually\n",
      "MP filtering soma verts: 0.0013422966003417969\n",
      "Do Not Need to Fix MP Decomposition 0 so just continuing\n",
      "---- Working on MP Decomposition #1 ----\n",
      "Computing the current soma touching verts dict manually\n",
      "MP filtering soma verts: 0.0011684894561767578\n",
      "Do Not Need to Fix MP Decomposition 1 so just continuing\n",
      "Successful mesh connectivity with type edges\n",
      "\n",
      "---- Working on (0, 0) connection-----\n",
      "sk_conn = [0]\n",
      "conn = [0]\n",
      "winning_vertex = [1215659.46624644 1259058.76855184  161842.66936089]\n",
      "MP_branches_with_stitch_point = [0]\n",
      "MAP_branches_with_stitch_point = [0]\n",
      "MAP_stitch_point_on_end_or_branch = False\n"
     ]
    },
    {
     "data": {
      "application/vnd.jupyter.widget-view+json": {
       "model_id": "90be7f3d6c6d494baafed9788ce60b09",
       "version_major": 2,
       "version_minor": 0
      },
      "text/plain": [
       "0it [00:00, ?it/s]"
      ]
     },
     "metadata": {},
     "output_type": "display_data"
    },
    {
     "name": "stdout",
     "output_type": "stream",
     "text": [
      "\n",
      "\n",
      "--- Working on 1-to-1 correspondence-----\n",
      "max(original_labels),len(original_labels) = (1, 2)\n",
      "empty_indices % = 0.012510826676931961\n",
      " conflict_indices % = 0.006784717544028486\n"
     ]
    },
    {
     "data": {
      "application/vnd.jupyter.widget-view+json": {
       "model_id": "6e292aa706ec4250aa48c7f765e570e4",
       "version_major": 2,
       "version_minor": 0
      },
      "text/plain": [
       "  0%|          | 0/19 [00:00<?, ?it/s]"
      ]
     },
     "metadata": {},
     "output_type": "display_data"
    },
    {
     "data": {
      "application/vnd.jupyter.widget-view+json": {
       "model_id": "00d0d4d9a8a74d8e9772ec9824f33635",
       "version_major": 2,
       "version_minor": 0
      },
      "text/plain": [
       "  0%|          | 0/2 [00:00<?, ?it/s]"
      ]
     },
     "metadata": {},
     "output_type": "display_data"
    },
    {
     "data": {
      "application/vnd.jupyter.widget-view+json": {
       "model_id": "8d9801170f4446ff942531e529296ee9",
       "version_major": 2,
       "version_minor": 0
      },
      "text/plain": [
       "0it [00:00, ?it/s]"
      ]
     },
     "metadata": {},
     "output_type": "display_data"
    },
    {
     "name": "stdout",
     "output_type": "stream",
     "text": [
      "\n",
      "\n",
      "--- Working on 1-to-1 correspondence-----\n",
      "max(original_labels),len(original_labels) = (2, 3)\n",
      "empty_indices % = 0.03163982381224572\n",
      " conflict_indices % = 0.019434450758212568\n"
     ]
    },
    {
     "data": {
      "application/vnd.jupyter.widget-view+json": {
       "model_id": "c9ef70bb138743d0936bb71c880486e9",
       "version_major": 2,
       "version_minor": 0
      },
      "text/plain": [
       "  0%|          | 0/16 [00:00<?, ?it/s]"
      ]
     },
     "metadata": {},
     "output_type": "display_data"
    },
    {
     "data": {
      "application/vnd.jupyter.widget-view+json": {
       "model_id": "d7e0c110c7944a3786997a45a76444fe",
       "version_major": 2,
       "version_minor": 0
      },
      "text/plain": [
       "  0%|          | 0/3 [00:00<?, ?it/s]"
      ]
     },
     "metadata": {},
     "output_type": "display_data"
    },
    {
     "name": "stdout",
     "output_type": "stream",
     "text": [
      "Deleting branches from dictionary\n",
      "MP_branches_with_stitch_point= [0]\n",
      "MP_branches_for_correspondence = [0]\n",
      "MP_leftover = [], MP_leftover_idx = []\n",
      " Finished with (0, 0) \n",
      "\n",
      "\n",
      "\n",
      "\n",
      "---- Working on (1, 0) connection-----\n",
      "sk_conn = [0]\n",
      "conn = [0]\n",
      "winning_vertex = [1222849.22021281 1244178.09105121  147662.8174941 ]\n",
      "MP_branches_with_stitch_point = [0]\n",
      "MAP_branches_with_stitch_point = [11]\n",
      "MAP_stitch_point_on_end_or_branch = False\n"
     ]
    },
    {
     "data": {
      "application/vnd.jupyter.widget-view+json": {
       "model_id": "161c7609c04a4b2994a3c756b5be0454",
       "version_major": 2,
       "version_minor": 0
      },
      "text/plain": [
       "0it [00:00, ?it/s]"
      ]
     },
     "metadata": {},
     "output_type": "display_data"
    },
    {
     "name": "stdout",
     "output_type": "stream",
     "text": [
      "\n",
      "\n",
      "--- Working on 1-to-1 correspondence-----\n",
      "max(original_labels),len(original_labels) = (1, 2)\n",
      "empty_indices % = 0.02354614412136536\n",
      " conflict_indices % = 0.0018963337547408343\n"
     ]
    },
    {
     "data": {
      "application/vnd.jupyter.widget-view+json": {
       "model_id": "f26016a9c5b540cca49a01e472d587dc",
       "version_major": 2,
       "version_minor": 0
      },
      "text/plain": [
       "  0%|          | 0/24 [00:00<?, ?it/s]"
      ]
     },
     "metadata": {},
     "output_type": "display_data"
    },
    {
     "data": {
      "application/vnd.jupyter.widget-view+json": {
       "model_id": "ecf2cb54de53412ab874f9786f6e2af4",
       "version_major": 2,
       "version_minor": 0
      },
      "text/plain": [
       "  0%|          | 0/2 [00:00<?, ?it/s]"
      ]
     },
     "metadata": {},
     "output_type": "display_data"
    },
    {
     "data": {
      "application/vnd.jupyter.widget-view+json": {
       "model_id": "76516682ec654899bc2600046a267dc9",
       "version_major": 2,
       "version_minor": 0
      },
      "text/plain": [
       "0it [00:00, ?it/s]"
      ]
     },
     "metadata": {},
     "output_type": "display_data"
    },
    {
     "name": "stdout",
     "output_type": "stream",
     "text": [
      "\n",
      "\n",
      "--- Working on 1-to-1 correspondence-----\n",
      "max(original_labels),len(original_labels) = (2, 3)\n",
      "empty_indices % = 0.03463554667998003\n",
      " conflict_indices % = 0.02259111333000499\n"
     ]
    },
    {
     "data": {
      "application/vnd.jupyter.widget-view+json": {
       "model_id": "838e8bac32df43abba8eb39eb35eb905",
       "version_major": 2,
       "version_minor": 0
      },
      "text/plain": [
       "  0%|          | 0/4 [00:00<?, ?it/s]"
      ]
     },
     "metadata": {},
     "output_type": "display_data"
    },
    {
     "data": {
      "application/vnd.jupyter.widget-view+json": {
       "model_id": "54be0d68a7c34a879720361335119eff",
       "version_major": 2,
       "version_minor": 0
      },
      "text/plain": [
       "  0%|          | 0/3 [00:00<?, ?it/s]"
      ]
     },
     "metadata": {},
     "output_type": "display_data"
    },
    {
     "name": "stdout",
     "output_type": "stream",
     "text": [
      "Deleting branches from dictionary\n",
      "MP_branches_with_stitch_point= [0]\n",
      "MP_branches_for_correspondence = [0]\n",
      "MP_leftover = [], MP_leftover_idx = []\n",
      " Finished with (1, 0) \n",
      "\n",
      "\n",
      "\n",
      "Time for decomp of Limb = 93.99788737297058\n",
      "Number of matching vertices = 89\n",
      "Only one endpoint after filtering away the endpoints that are not on the skeleton\n",
      "Removed 0 skeletal branches\n"
     ]
    },
    {
     "data": {
      "application/vnd.jupyter.widget-view+json": {
       "model_id": "a65f10f6f3784235a1d6fa1a2c59314a",
       "version_major": 2,
       "version_minor": 0
      },
      "text/plain": [
       "  0%|          | 0/15 [00:00<?, ?it/s]"
      ]
     },
     "metadata": {},
     "output_type": "display_data"
    },
    {
     "name": "stdout",
     "output_type": "stream",
     "text": [
      "95576 95577\n",
      "For marked faces: None\n",
      "empty_indices % = 0.0\n",
      " conflict_indices % = 0.0\n"
     ]
    },
    {
     "data": {
      "application/vnd.jupyter.widget-view+json": {
       "model_id": "6d201174cd1a4d5f8ea4c47b2da1971d",
       "version_major": 2,
       "version_minor": 0
      },
      "text/plain": [
       "0it [00:00, ?it/s]"
      ]
     },
     "metadata": {},
     "output_type": "display_data"
    },
    {
     "data": {
      "application/vnd.jupyter.widget-view+json": {
       "model_id": "3c1ead5a6ca04f5aac1842837de340e4",
       "version_major": 2,
       "version_minor": 0
      },
      "text/plain": [
       "  0%|          | 0/15 [00:00<?, ?it/s]"
      ]
     },
     "metadata": {},
     "output_type": "display_data"
    },
    {
     "name": "stdout",
     "output_type": "stream",
     "text": [
      "Successful Limb Decomposition\n",
      "\n",
      "\n",
      "----- Working on Proper Limb # 2 ---------\n",
      "meshparty_segment_size = 100\n",
      "invalidation_d = 12000\n",
      "use_adaptive_invalidation_d= False\n",
      "axon_width_preprocess_limb_max = 200\n",
      "filter_end_node_length= 4000\n",
      "filter_end_node_length_meshparty = 4000\n",
      "invalidation_d = 12000\n",
      "root_curr = [1224989.875    1212090.        149649.890625]\n",
      "Time for preparing soma vertices and root: 0.000457763671875\n",
      "invalidation_d = 12000\n",
      "smooth_neighborhood = 1\n",
      "cc_vertex_thresh = 10\n"
     ]
    },
    {
     "name": "stderr",
     "output_type": "stream",
     "text": [
      "  0%|                                                                                             | 0/1 [00:00<?, ?it/s]"
     ]
    },
    {
     "data": {
      "application/vnd.jupyter.widget-view+json": {
       "model_id": "aa0faf2913b549e99b053c008a56abd3",
       "version_major": 2,
       "version_minor": 0
      },
      "text/plain": [
       "  0%|          | 0/13473 [00:00<?, ?it/s]"
      ]
     },
     "metadata": {},
     "output_type": "display_data"
    },
    {
     "name": "stderr",
     "output_type": "stream",
     "text": [
      "100%|█████████████████████████████████████████████████████████████████████████████████████| 1/1 [00:00<00:00, 14.68it/s]\n"
     ]
    },
    {
     "name": "stdout",
     "output_type": "stream",
     "text": [
      "meshparty_segment_size = 100\n",
      "Time for 1st pass MP skeletonization: 0.22837209701538086\n",
      "connecting at the root\n",
      "branches_touching_root = [2]\n",
      "combining close nodes\n",
      "combine_threshold = 700\n",
      "length of Graph = 624\n",
      "After combining close endpoints max(kept_branches_idx) = 2, len(kept_branches_idx) = 3\n",
      "empty_indices % = 0.0\n",
      " conflict_indices % = 0.003789426756324999\n"
     ]
    },
    {
     "data": {
      "application/vnd.jupyter.widget-view+json": {
       "model_id": "07834b6f260f4f2198ec381028a8474c",
       "version_major": 2,
       "version_minor": 0
      },
      "text/plain": [
       "  0%|          | 0/1 [00:00<?, ?it/s]"
      ]
     },
     "metadata": {},
     "output_type": "display_data"
    },
    {
     "data": {
      "application/vnd.jupyter.widget-view+json": {
       "model_id": "414fddecde5b45c5acb20418aaec0257",
       "version_major": 2,
       "version_minor": 0
      },
      "text/plain": [
       "  0%|          | 0/3 [00:00<?, ?it/s]"
      ]
     },
     "metadata": {},
     "output_type": "display_data"
    },
    {
     "name": "stdout",
     "output_type": "stream",
     "text": [
      "Decomposing first pass: 1.8951642513275146\n",
      "Attempting to use MeshAfterParty Skeletonization and Mesh Correspondence\n",
      "Another print\n",
      "Found len(mesh_large_idx) MAP candidates: [6950, 7563, 12404]\n",
      "mesh_large_connectivity: 0.026760101318359375\n",
      "Finding MAP candidates connected components: 0.00024580955505371094\n",
      "len(filtered_pieces) = 1\n",
      "skeleton_connectivity_MP : 0.012706518173217773\n",
      "Grouping MP Sublimbs by Graph: 5.054473876953125e-05\n",
      "Divinding into MP and MAP pieces: 7.152557373046875e-07\n",
      "--- Working on MAP piece 0---\n",
      "MAP Filtering Soma Pieces: 0.0022826194763183594\n",
      "inside skeletonize_connected_branch and use_surface_after_CGAL=True, surface_reconstruction_size=1000\n",
      "keep_idx = [0]\n",
      "     Starting Screened Poisson\n",
      "xvfb-run -n 4027 -s \"-screen 0 800x600x24\" meshlabserver $@  -i /NEURD_Chenlab/Applications/Tutorials/Auto_Proof_Pipeline/Single_Soma_Exc/temp/None.off -o /NEURD_Chenlab/Applications/Tutorials/Auto_Proof_Pipeline/Single_Soma_Exc/temp/None_poisson.off -s /NEURD_Chenlab/Applications/Tutorials/Auto_Proof_Pipeline/Single_Soma_Exc/temp/poisson_602495.mls\n",
      "removed temporary input file: /NEURD_Chenlab/Applications/Tutorials/Auto_Proof_Pipeline/Single_Soma_Exc/temp/None.off\n",
      "removed temporary output file: /NEURD_Chenlab/Applications/Tutorials/Auto_Proof_Pipeline/Single_Soma_Exc/temp/None_poisson.off\n",
      "Using the close holes feature\n",
      "xvfb-run -n 8474 -s \"-screen 0 800x600x24\" meshlabserver $@  -i /NEURD_Chenlab/Applications/Tutorials/Auto_Proof_Pipeline/Single_Soma_Exc/temp/neuron_71209.off -o /NEURD_Chenlab/Applications/Tutorials/Auto_Proof_Pipeline/Single_Soma_Exc/temp/neuron_71209_fill_holes.off -s /NEURD_Chenlab/Applications/Tutorials/Auto_Proof_Pipeline/Single_Soma_Exc/temp/fill_holes_943684.mls\n",
      "removed temporary input file: /NEURD_Chenlab/Applications/Tutorials/Auto_Proof_Pipeline/Single_Soma_Exc/temp/neuron_71209.off\n",
      "removed temporary output file: /NEURD_Chenlab/Applications/Tutorials/Auto_Proof_Pipeline/Single_Soma_Exc/temp/neuron_71209_fill_holes.off\n",
      "/NEURD_Chenlab/Applications/Tutorials/Auto_Proof_Pipeline/Single_Soma_Exc/temp/fill_holes_943684.mls is being deleted....\n",
      "-----Time for Screened Poisson= 15.020237684249878\n",
      "mesh_pieces = [<trimesh.Trimesh(vertices.shape=(44621, 3), faces.shape=(89238, 3), name=`neuron_71209_fill_holes.off`)>]\n",
      "     Starting Calcification (Changed back where stitches large poissons)\n",
      "Manifold status before skeletonization = True\n",
      "Watertight status before skeletonization = True\n",
      "min_edge_length = 75\n",
      "Before mesh subtraction number of skeleton edges = 629\n"
     ]
    },
    {
     "data": {
      "application/vnd.jupyter.widget-view+json": {
       "model_id": "31ffb56e254d4064afa4797bf5cecd9c",
       "version_major": 2,
       "version_minor": 0
      },
      "text/plain": [
       "0it [00:00, ?it/s]"
      ]
     },
     "metadata": {},
     "output_type": "display_data"
    },
    {
     "name": "stdout",
     "output_type": "stream",
     "text": [
      "len(leftover_meshes_sig) = []\n"
     ]
    },
    {
     "data": {
      "application/vnd.jupyter.widget-view+json": {
       "model_id": "5c4220ab1bbd4bae8bdd4567a5c66f64",
       "version_major": 2,
       "version_minor": 0
      },
      "text/plain": [
       "0it [00:00, ?it/s]"
      ]
     },
     "metadata": {},
     "output_type": "display_data"
    },
    {
     "name": "stdout",
     "output_type": "stream",
     "text": [
      "No skeletons to stack so returning empty list\n",
      "STacking the leftover and significant poisson skeleton\n",
      "max_stitch_distance = 5000\n",
      "len_subgraphs AT BEGINNING of the loop\n"
     ]
    },
    {
     "data": {
      "application/vnd.jupyter.widget-view+json": {
       "model_id": "568aa934d38f4c838df38b00e8fd486b",
       "version_major": 2,
       "version_minor": 0
      },
      "text/plain": [
       "  0%|          | 0/1 [00:00<?, ?it/s]"
      ]
     },
     "metadata": {},
     "output_type": "display_data"
    },
    {
     "name": "stdout",
     "output_type": "stream",
     "text": [
      "all graph is one component!\n",
      "Total time for skeleton stitching = 0.04005169868469238\n",
      "The process was using a temp folder\n",
      "Checking connected components after skeletonize_connected_branch\n",
      "    Total time for skeletonizing branch: 22.75820517539978\n",
      "Checking connected components after removing cycles\n",
      "Total time for mesh KDTree = 0.17598342895507812\n",
      "sbv[0].reshape(-1,3) = [[1224989.875    1212090.        149649.890625]]\n",
      "closest_sk_pt_coord BEFORE = [1225600. 1211800.  149056.]\n",
      "current_skeleton.shape = (628, 2, 3)\n",
      "node_for_stitch = 0: [1225600. 1211800.  149056.]\n",
      "node_for_stitch AFTER = 0: [1225600. 1211800.  149056.]\n",
      "possible_node_loc = [  0  68 125 173 225 293 309 452 454 467 483 530 592 623 628]\n",
      "possible_node_loc AFTER = [  0  68 125 173 225 293 309 452 454 467 483 530 592 623 628]\n",
      "curr_shortest_path = [0]\n",
      "Current stitch point was a branch or endpoint\n",
      "change_status for create soma extending pieces = False\n",
      "closest_sk_pt_coord AFTER = [1225600. 1211800.  149056.]\n",
      "skipping soma 0 because closest skeleton node was already end node\n",
      "endpoints_must_keep = {0: array([[1225600., 1211800.,  149056.]])}\n",
      "    Total time for Fixing Skeleton Soma Endpoint Extension : 0.3226330280303955\n",
      "filter_end_node_length = 4000\n"
     ]
    },
    {
     "data": {
      "application/vnd.jupyter.widget-view+json": {
       "model_id": "2c9a9f780d4b4cfc833291b201deff7a",
       "version_major": 2,
       "version_minor": 0
      },
      "text/plain": [
       "  0%|          | 0/11 [00:00<?, ?it/s]"
      ]
     },
     "metadata": {},
     "output_type": "display_data"
    },
    {
     "name": "stdout",
     "output_type": "stream",
     "text": [
      "Checking connected components after clean_skeleton\n",
      "after DISTANCE cleaning limb size of skeleton = (562, 2, 3)\n",
      "********COMBINING CLOSE SKELETON NODES WITHIN 700 DISTANCE**********\n",
      "combine_threshold = 700\n",
      "Found 0 valid paths to replace\n",
      "valid_paths = []\n",
      "valid_path_lengths = []\n",
      "No valid paths found so just returning the original\n",
      "skeletonize_and_clean_connected_branch_CGAL: 23.84647488594055\n",
      "Working on limb correspondence for #0 MAP piece\n",
      "xvfb-run -n 948 -s \"-screen 0 800x600x24\" meshlabserver $@  -i /NEURD_Chenlab/Applications/Tutorials/Auto_Proof_Pipeline/Single_Soma_Exc/temp/neuron_56079.off -o /NEURD_Chenlab/Applications/Tutorials/Auto_Proof_Pipeline/Single_Soma_Exc/temp/neuron_56079_remove_interior.off -s /NEURD_Chenlab/Applications/Tutorials/Auto_Proof_Pipeline/Single_Soma_Exc/temp/remove_interior_731685.mls\n",
      "removed temporary input file: /NEURD_Chenlab/Applications/Tutorials/Auto_Proof_Pipeline/Single_Soma_Exc/temp/neuron_56079.off\n",
      "removed temporary output file: /NEURD_Chenlab/Applications/Tutorials/Auto_Proof_Pipeline/Single_Soma_Exc/temp/neuron_56079_remove_interior.off\n",
      "/NEURD_Chenlab/Applications/Tutorials/Auto_Proof_Pipeline/Single_Soma_Exc/temp/remove_interior_731685.mls is being deleted....\n",
      "No significant (100) interior meshes present\n",
      "largest is 99\n"
     ]
    },
    {
     "data": {
      "application/vnd.jupyter.widget-view+json": {
       "model_id": "741990cc5b26474e8e1f0c91ebef1efa",
       "version_major": 2,
       "version_minor": 0
      },
      "text/plain": [
       "0it [00:00, ?it/s]"
      ]
     },
     "metadata": {},
     "output_type": "display_data"
    },
    {
     "name": "stdout",
     "output_type": "stream",
     "text": [
      "Total time for decomposition = 3.680391788482666\n",
      "mesh_correspondence_first_pass: 3.6804420948028564\n",
      "Limb decomposed into 9 branches\n",
      "divided_skeleton_graph_recovered = (562, 2, 3) and \n",
      "current_mesh_data[0]['branch_skeletons_cleaned'].shape = (562, 2, 3)\n",
      "\n",
      "Number of connected components in deocmposed recovered graph = 1\n",
      "Number of connected components in cleaned skeleton graph= 1\n",
      "The downsampled branches number of connected components = 1\n",
      "Empty submeshes = []\n",
      "\n",
      "\n",
      "--- Working on 1-to-1 correspondence-----\n",
      "max(original_labels),len(original_labels) = (8, 9)\n",
      "empty_indices % = 0.07857487832968013\n",
      " conflict_indices % = 0.05067429505516959\n"
     ]
    },
    {
     "data": {
      "application/vnd.jupyter.widget-view+json": {
       "model_id": "e3b987fcadde4b9bb77e1c1e713f8a82",
       "version_major": 2,
       "version_minor": 0
      },
      "text/plain": [
       "  0%|          | 0/39 [00:00<?, ?it/s]"
      ]
     },
     "metadata": {},
     "output_type": "display_data"
    },
    {
     "name": "stdout",
     "output_type": "stream",
     "text": [
      "Took 0 iterations to expand the label back\n",
      "empty_indices % = 0.0\n",
      " conflict_indices % = 0.0\n"
     ]
    },
    {
     "data": {
      "application/vnd.jupyter.widget-view+json": {
       "model_id": "6cf9966e608042f6a3095ebe0b4bd1b2",
       "version_major": 2,
       "version_minor": 0
      },
      "text/plain": [
       "0it [00:00, ?it/s]"
      ]
     },
     "metadata": {},
     "output_type": "display_data"
    },
    {
     "data": {
      "application/vnd.jupyter.widget-view+json": {
       "model_id": "d92ef5af67204a1a904f2cd03ab0ee59",
       "version_major": 2,
       "version_minor": 0
      },
      "text/plain": [
       "  0%|          | 0/9 [00:00<?, ?it/s]"
      ]
     },
     "metadata": {},
     "output_type": "display_data"
    },
    {
     "name": "stdout",
     "output_type": "stream",
     "text": [
      "Total time for MAP sublimb #0 mesh processing = 30.218294382095337\n",
      "correspondence_1_to_1: 2.689051389694214\n",
      "Total time for MAP sublimb processing 30.218405961990356\n",
      "There were not both MAP and MP pieces so skipping the stitch resolving phase\n",
      "Time for decomp of Limb = 32.42143964767456\n",
      "Number of matching vertices = 49\n",
      "Only one endpoint after filtering away the endpoints that are not on the skeleton\n",
      "Removed 0 skeletal branches\n"
     ]
    },
    {
     "data": {
      "application/vnd.jupyter.widget-view+json": {
       "model_id": "b489a96731974da8b93396ef9c9f76d8",
       "version_major": 2,
       "version_minor": 0
      },
      "text/plain": [
       "  0%|          | 0/9 [00:00<?, ?it/s]"
      ]
     },
     "metadata": {},
     "output_type": "display_data"
    },
    {
     "name": "stdout",
     "output_type": "stream",
     "text": [
      "26916 26917\n",
      "For marked faces: None\n",
      "empty_indices % = 0.0\n",
      " conflict_indices % = 0.0\n"
     ]
    },
    {
     "data": {
      "application/vnd.jupyter.widget-view+json": {
       "model_id": "bcedc240f5dd416e8f1935c6a56f4dfa",
       "version_major": 2,
       "version_minor": 0
      },
      "text/plain": [
       "0it [00:00, ?it/s]"
      ]
     },
     "metadata": {},
     "output_type": "display_data"
    },
    {
     "data": {
      "application/vnd.jupyter.widget-view+json": {
       "model_id": "f628a06c54454e1790d0781f59720682",
       "version_major": 2,
       "version_minor": 0
      },
      "text/plain": [
       "  0%|          | 0/9 [00:00<?, ?it/s]"
      ]
     },
     "metadata": {},
     "output_type": "display_data"
    },
    {
     "name": "stdout",
     "output_type": "stream",
     "text": [
      "Successful Limb Decomposition\n",
      "\n",
      "\n",
      "----- Working on Proper Limb # 3 ---------\n",
      "meshparty_segment_size = 100\n",
      "invalidation_d = 12000\n",
      "use_adaptive_invalidation_d= False\n",
      "axon_width_preprocess_limb_max = 200\n",
      "filter_end_node_length= 4000\n",
      "filter_end_node_length_meshparty = 4000\n",
      "invalidation_d = 12000\n",
      "root_curr = [1217009.875   1215690.125    154900.09375]\n",
      "Time for preparing soma vertices and root: 0.0005240440368652344\n",
      "invalidation_d = 12000\n",
      "smooth_neighborhood = 1\n",
      "cc_vertex_thresh = 10\n"
     ]
    },
    {
     "name": "stderr",
     "output_type": "stream",
     "text": [
      "  0%|                                                                                             | 0/1 [00:00<?, ?it/s]"
     ]
    },
    {
     "data": {
      "application/vnd.jupyter.widget-view+json": {
       "model_id": "0876e7cb4f6a4246bef211c4b1b9ef73",
       "version_major": 2,
       "version_minor": 0
      },
      "text/plain": [
       "  0%|          | 0/13402 [00:00<?, ?it/s]"
      ]
     },
     "metadata": {},
     "output_type": "display_data"
    },
    {
     "name": "stderr",
     "output_type": "stream",
     "text": [
      "100%|█████████████████████████████████████████████████████████████████████████████████████| 1/1 [00:00<00:00, 11.51it/s]\n"
     ]
    },
    {
     "name": "stdout",
     "output_type": "stream",
     "text": [
      "meshparty_segment_size = 100\n",
      "Time for 1st pass MP skeletonization: 0.30201125144958496\n",
      "connecting at the root\n",
      "branches_touching_root = [2]\n",
      "combining close nodes\n",
      "combine_threshold = 700\n",
      "length of Graph = 621\n",
      "After combining close endpoints max(kept_branches_idx) = 2, len(kept_branches_idx) = 3\n",
      "empty_indices % = 0.0\n",
      " conflict_indices % = 0.006012398237359026\n"
     ]
    },
    {
     "data": {
      "application/vnd.jupyter.widget-view+json": {
       "model_id": "56c1afe6fb2846bdbcd6f02664d75494",
       "version_major": 2,
       "version_minor": 0
      },
      "text/plain": [
       "  0%|          | 0/1 [00:00<?, ?it/s]"
      ]
     },
     "metadata": {},
     "output_type": "display_data"
    },
    {
     "data": {
      "application/vnd.jupyter.widget-view+json": {
       "model_id": "cb39aab2a6484ef7b84ea4a554139f6b",
       "version_major": 2,
       "version_minor": 0
      },
      "text/plain": [
       "  0%|          | 0/3 [00:00<?, ?it/s]"
      ]
     },
     "metadata": {},
     "output_type": "display_data"
    },
    {
     "name": "stdout",
     "output_type": "stream",
     "text": [
      "Decomposing first pass: 1.127037763595581\n",
      "Attempting to use MeshAfterParty Skeletonization and Mesh Correspondence\n",
      "Another print\n",
      "Found len(mesh_large_idx) MAP candidates: [7961, 13235, 5582]\n",
      "mesh_large_connectivity: 0.009179353713989258\n",
      "Finding MAP candidates connected components: 0.00014209747314453125\n",
      "len(filtered_pieces) = 1\n",
      "skeleton_connectivity_MP : 0.006901741027832031\n",
      "Grouping MP Sublimbs by Graph: 5.435943603515625e-05\n",
      "Divinding into MP and MAP pieces: 4.76837158203125e-07\n",
      "--- Working on MAP piece 0---\n",
      "MAP Filtering Soma Pieces: 0.001531362533569336\n",
      "inside skeletonize_connected_branch and use_surface_after_CGAL=True, surface_reconstruction_size=1000\n",
      "keep_idx = [0]\n",
      "     Starting Screened Poisson\n",
      "xvfb-run -n 1482 -s \"-screen 0 800x600x24\" meshlabserver $@  -i /NEURD_Chenlab/Applications/Tutorials/Auto_Proof_Pipeline/Single_Soma_Exc/temp/None.off -o /NEURD_Chenlab/Applications/Tutorials/Auto_Proof_Pipeline/Single_Soma_Exc/temp/None_poisson.off -s /NEURD_Chenlab/Applications/Tutorials/Auto_Proof_Pipeline/Single_Soma_Exc/temp/poisson_807228.mls\n",
      "removed temporary input file: /NEURD_Chenlab/Applications/Tutorials/Auto_Proof_Pipeline/Single_Soma_Exc/temp/None.off\n",
      "removed temporary output file: /NEURD_Chenlab/Applications/Tutorials/Auto_Proof_Pipeline/Single_Soma_Exc/temp/None_poisson.off\n",
      "Using the close holes feature\n",
      "xvfb-run -n 8116 -s \"-screen 0 800x600x24\" meshlabserver $@  -i /NEURD_Chenlab/Applications/Tutorials/Auto_Proof_Pipeline/Single_Soma_Exc/temp/neuron_71522.off -o /NEURD_Chenlab/Applications/Tutorials/Auto_Proof_Pipeline/Single_Soma_Exc/temp/neuron_71522_fill_holes.off -s /NEURD_Chenlab/Applications/Tutorials/Auto_Proof_Pipeline/Single_Soma_Exc/temp/fill_holes_223929.mls\n",
      "removed temporary input file: /NEURD_Chenlab/Applications/Tutorials/Auto_Proof_Pipeline/Single_Soma_Exc/temp/neuron_71522.off\n",
      "removed temporary output file: /NEURD_Chenlab/Applications/Tutorials/Auto_Proof_Pipeline/Single_Soma_Exc/temp/neuron_71522_fill_holes.off\n",
      "/NEURD_Chenlab/Applications/Tutorials/Auto_Proof_Pipeline/Single_Soma_Exc/temp/fill_holes_223929.mls is being deleted....\n",
      "-----Time for Screened Poisson= 13.273103475570679\n",
      "mesh_pieces = [<trimesh.Trimesh(vertices.shape=(34388, 3), faces.shape=(68776, 3), name=`neuron_71522_fill_holes.off`)>]\n",
      "     Starting Calcification (Changed back where stitches large poissons)\n",
      "Manifold status before skeletonization = True\n",
      "Watertight status before skeletonization = True\n",
      "min_edge_length = 75\n",
      "node_degrees = [2 2 2 3 2]\n",
      "Before mesh subtraction number of skeleton edges = 504\n"
     ]
    },
    {
     "data": {
      "application/vnd.jupyter.widget-view+json": {
       "model_id": "c9f4936b5afc45b2af06f802c26287d5",
       "version_major": 2,
       "version_minor": 0
      },
      "text/plain": [
       "0it [00:00, ?it/s]"
      ]
     },
     "metadata": {},
     "output_type": "display_data"
    },
    {
     "name": "stdout",
     "output_type": "stream",
     "text": [
      "len(leftover_meshes_sig) = []\n"
     ]
    },
    {
     "data": {
      "application/vnd.jupyter.widget-view+json": {
       "model_id": "e593d9ba03844c5dacc32bbb30db60fe",
       "version_major": 2,
       "version_minor": 0
      },
      "text/plain": [
       "0it [00:00, ?it/s]"
      ]
     },
     "metadata": {},
     "output_type": "display_data"
    },
    {
     "name": "stdout",
     "output_type": "stream",
     "text": [
      "No skeletons to stack so returning empty list\n",
      "STacking the leftover and significant poisson skeleton\n",
      "max_stitch_distance = 5000\n",
      "len_subgraphs AT BEGINNING of the loop\n"
     ]
    },
    {
     "data": {
      "application/vnd.jupyter.widget-view+json": {
       "model_id": "1540069c3c0b4385a82404418c7aa058",
       "version_major": 2,
       "version_minor": 0
      },
      "text/plain": [
       "  0%|          | 0/1 [00:00<?, ?it/s]"
      ]
     },
     "metadata": {},
     "output_type": "display_data"
    },
    {
     "name": "stdout",
     "output_type": "stream",
     "text": [
      "all graph is one component!\n",
      "Total time for skeleton stitching = 0.04162788391113281\n",
      "The process was using a temp folder\n",
      "Checking connected components after skeletonize_connected_branch\n",
      "    Total time for skeletonizing branch: 19.542107582092285\n",
      "Checking connected components after removing cycles\n",
      "Total time for mesh KDTree = 0.18470072746276855\n",
      "sbv[0].reshape(-1,3) = [[1217009.875   1215690.125    154900.09375]]\n",
      "closest_sk_pt_coord BEFORE = [1215900. 1215540.  154683.]\n",
      "current_skeleton.shape = (503, 2, 3)\n",
      "node_for_stitch = 503: [1215900. 1215540.  154683.]\n",
      "node_for_stitch AFTER = 503: [1215900. 1215540.  154683.]\n",
      "possible_node_loc = [  0  31  59  72  88 130 158 254 261 343 350 450 498 503]\n",
      "possible_node_loc AFTER = [  0  31  59  72  88 130 158 254 261 343 350 450 498 503]\n",
      "curr_shortest_path = [503]\n",
      "Current stitch point was a branch or endpoint\n",
      "change_status for create soma extending pieces = False\n",
      "closest_sk_pt_coord AFTER = [1215900. 1215540.  154683.]\n",
      "skipping soma 0 because closest skeleton node was already end node\n",
      "endpoints_must_keep = {0: array([[1215900., 1215540.,  154683.]])}\n",
      "    Total time for Fixing Skeleton Soma Endpoint Extension : 0.2989218235015869\n",
      "filter_end_node_length = 4000\n"
     ]
    },
    {
     "data": {
      "application/vnd.jupyter.widget-view+json": {
       "model_id": "8a00fdf811de4817a0fdce2d5b61c134",
       "version_major": 2,
       "version_minor": 0
      },
      "text/plain": [
       "  0%|          | 0/11 [00:00<?, ?it/s]"
      ]
     },
     "metadata": {},
     "output_type": "display_data"
    },
    {
     "name": "stdout",
     "output_type": "stream",
     "text": [
      "Checking connected components after clean_skeleton\n",
      "after DISTANCE cleaning limb size of skeleton = (426, 2, 3)\n",
      "********COMBINING CLOSE SKELETON NODES WITHIN 700 DISTANCE**********\n",
      "combine_threshold = 700\n",
      "Found 0 valid paths to replace\n",
      "valid_paths = []\n",
      "valid_path_lengths = []\n",
      "No valid paths found so just returning the original\n",
      "skeletonize_and_clean_connected_branch_CGAL: 20.46193504333496\n",
      "Working on limb correspondence for #0 MAP piece\n",
      "xvfb-run -n 8528 -s \"-screen 0 800x600x24\" meshlabserver $@  -i /NEURD_Chenlab/Applications/Tutorials/Auto_Proof_Pipeline/Single_Soma_Exc/temp/neuron_20694.off -o /NEURD_Chenlab/Applications/Tutorials/Auto_Proof_Pipeline/Single_Soma_Exc/temp/neuron_20694_remove_interior.off -s /NEURD_Chenlab/Applications/Tutorials/Auto_Proof_Pipeline/Single_Soma_Exc/temp/remove_interior_984101.mls\n",
      "removed temporary input file: /NEURD_Chenlab/Applications/Tutorials/Auto_Proof_Pipeline/Single_Soma_Exc/temp/neuron_20694.off\n",
      "removed temporary output file: /NEURD_Chenlab/Applications/Tutorials/Auto_Proof_Pipeline/Single_Soma_Exc/temp/neuron_20694_remove_interior.off\n",
      "/NEURD_Chenlab/Applications/Tutorials/Auto_Proof_Pipeline/Single_Soma_Exc/temp/remove_interior_984101.mls is being deleted....\n",
      "Removing the following inside neurons: [<trimesh.Trimesh(vertices.shape=(230, 3), faces.shape=(356, 3), name=`neuron_20694_remove_interior.off`)>, <trimesh.Trimesh(vertices.shape=(66, 3), faces.shape=(105, 3), name=`neuron_20694_remove_interior.off`)>]\n"
     ]
    },
    {
     "data": {
      "application/vnd.jupyter.widget-view+json": {
       "model_id": "2e099e726a014a9b8607410759054511",
       "version_major": 2,
       "version_minor": 0
      },
      "text/plain": [
       "0it [00:00, ?it/s]"
      ]
     },
     "metadata": {},
     "output_type": "display_data"
    },
    {
     "name": "stdout",
     "output_type": "stream",
     "text": [
      "Total time for decomposition = 3.27559757232666\n",
      "mesh_correspondence_first_pass: 3.2756502628326416\n",
      "Limb decomposed into 3 branches\n",
      "divided_skeleton_graph_recovered = (426, 2, 3) and \n",
      "current_mesh_data[0]['branch_skeletons_cleaned'].shape = (426, 2, 3)\n",
      "\n",
      "Number of connected components in deocmposed recovered graph = 1\n",
      "Number of connected components in cleaned skeleton graph= 1\n",
      "The downsampled branches number of connected components = 1\n",
      "Empty submeshes = []\n",
      "\n",
      "\n",
      "--- Working on 1-to-1 correspondence-----\n",
      "max(original_labels),len(original_labels) = (2, 3)\n",
      "empty_indices % = 0.12480394353573829\n",
      " conflict_indices % = 0.02741056090820823\n"
     ]
    },
    {
     "data": {
      "application/vnd.jupyter.widget-view+json": {
       "model_id": "f8a71f53dd534daca6ee80326fcc07e9",
       "version_major": 2,
       "version_minor": 0
      },
      "text/plain": [
       "  0%|          | 0/18 [00:00<?, ?it/s]"
      ]
     },
     "metadata": {},
     "output_type": "display_data"
    },
    {
     "name": "stdout",
     "output_type": "stream",
     "text": [
      "Took 0 iterations to expand the label back\n",
      "empty_indices % = 0.0\n",
      " conflict_indices % = 0.0\n"
     ]
    },
    {
     "data": {
      "application/vnd.jupyter.widget-view+json": {
       "model_id": "327b783bb3e14fb98ce4b38e369655e6",
       "version_major": 2,
       "version_minor": 0
      },
      "text/plain": [
       "0it [00:00, ?it/s]"
      ]
     },
     "metadata": {},
     "output_type": "display_data"
    },
    {
     "data": {
      "application/vnd.jupyter.widget-view+json": {
       "model_id": "e3e67dafe54041988ae3287b797fd538",
       "version_major": 2,
       "version_minor": 0
      },
      "text/plain": [
       "  0%|          | 0/3 [00:00<?, ?it/s]"
      ]
     },
     "metadata": {},
     "output_type": "display_data"
    },
    {
     "name": "stdout",
     "output_type": "stream",
     "text": [
      "Total time for MAP sublimb #0 mesh processing = 25.84171748161316\n",
      "correspondence_1_to_1: 2.1025538444519043\n",
      "Total time for MAP sublimb processing 25.841840982437134\n",
      "There were not both MAP and MP pieces so skipping the stitch resolving phase\n",
      "Time for decomp of Limb = 27.301350831985474\n",
      "Number of matching vertices = 46\n",
      "Only one endpoint after filtering away the endpoints that are not on the skeleton\n",
      "Removed 0 skeletal branches\n"
     ]
    },
    {
     "data": {
      "application/vnd.jupyter.widget-view+json": {
       "model_id": "e9c99fd861e541a299d664aff1d5c8c7",
       "version_major": 2,
       "version_minor": 0
      },
      "text/plain": [
       "  0%|          | 0/3 [00:00<?, ?it/s]"
      ]
     },
     "metadata": {},
     "output_type": "display_data"
    },
    {
     "name": "stdout",
     "output_type": "stream",
     "text": [
      "26777 26778\n",
      "For marked faces: None\n",
      "empty_indices % = 0.0\n",
      " conflict_indices % = 0.0\n"
     ]
    },
    {
     "data": {
      "application/vnd.jupyter.widget-view+json": {
       "model_id": "09d189dc428c4f3dbc329490c6ed30f4",
       "version_major": 2,
       "version_minor": 0
      },
      "text/plain": [
       "0it [00:00, ?it/s]"
      ]
     },
     "metadata": {},
     "output_type": "display_data"
    },
    {
     "data": {
      "application/vnd.jupyter.widget-view+json": {
       "model_id": "2e2f137b1d67415eb9ee73f6914f1df8",
       "version_major": 2,
       "version_minor": 0
      },
      "text/plain": [
       "  0%|          | 0/3 [00:00<?, ?it/s]"
      ]
     },
     "metadata": {},
     "output_type": "display_data"
    },
    {
     "name": "stdout",
     "output_type": "stream",
     "text": [
      "Successful Limb Decomposition\n",
      "\n",
      "\n",
      "----- Working on Proper Limb # 4 ---------\n",
      "meshparty_segment_size = 100\n",
      "invalidation_d = 12000\n",
      "use_adaptive_invalidation_d= False\n",
      "axon_width_preprocess_limb_max = 200\n",
      "filter_end_node_length= 4000\n",
      "filter_end_node_length_meshparty = 4000\n",
      "invalidation_d = 12000\n",
      "root_curr = [1213289.875   1219710.125    145299.78125]\n",
      "Time for preparing soma vertices and root: 0.0004305839538574219\n",
      "invalidation_d = 12000\n",
      "smooth_neighborhood = 1\n",
      "cc_vertex_thresh = 10\n"
     ]
    },
    {
     "name": "stderr",
     "output_type": "stream",
     "text": [
      "  0%|                                                                                             | 0/1 [00:00<?, ?it/s]"
     ]
    },
    {
     "data": {
      "application/vnd.jupyter.widget-view+json": {
       "model_id": "f00d6a8c6114448bbfadb5bb0b496184",
       "version_major": 2,
       "version_minor": 0
      },
      "text/plain": [
       "  0%|          | 0/9752 [00:00<?, ?it/s]"
      ]
     },
     "metadata": {},
     "output_type": "display_data"
    },
    {
     "name": "stderr",
     "output_type": "stream",
     "text": [
      "100%|█████████████████████████████████████████████████████████████████████████████████████| 1/1 [00:00<00:00, 21.55it/s]"
     ]
    },
    {
     "name": "stdout",
     "output_type": "stream",
     "text": [
      "meshparty_segment_size = 100\n",
      "Time for 1st pass MP skeletonization: 0.181121826171875\n",
      "connecting at the root\n",
      "branches_touching_root = [0]\n"
     ]
    },
    {
     "name": "stderr",
     "output_type": "stream",
     "text": [
      "\n"
     ]
    },
    {
     "name": "stdout",
     "output_type": "stream",
     "text": [
      "combining close nodes\n",
      "combine_threshold = 700\n",
      "length of Graph = 538\n",
      "After combining close endpoints max(kept_branches_idx) = 0, len(kept_branches_idx) = 1\n",
      "empty_indices % = 0.0\n",
      " conflict_indices % = 0.0\n"
     ]
    },
    {
     "data": {
      "application/vnd.jupyter.widget-view+json": {
       "model_id": "8b3e0a323888435ea6a94d479f560bb4",
       "version_major": 2,
       "version_minor": 0
      },
      "text/plain": [
       "0it [00:00, ?it/s]"
      ]
     },
     "metadata": {},
     "output_type": "display_data"
    },
    {
     "data": {
      "application/vnd.jupyter.widget-view+json": {
       "model_id": "dba61efeae884b76badcd7c828d8deca",
       "version_major": 2,
       "version_minor": 0
      },
      "text/plain": [
       "  0%|          | 0/1 [00:00<?, ?it/s]"
      ]
     },
     "metadata": {},
     "output_type": "display_data"
    },
    {
     "name": "stdout",
     "output_type": "stream",
     "text": [
      "Decomposing first pass: 1.4051578044891357\n",
      "Attempting to use MeshAfterParty Skeletonization and Mesh Correspondence\n",
      "Another print\n",
      "Found len(mesh_large_idx) MAP candidates: [19487]\n",
      "mesh_large_connectivity: 0.0001842975616455078\n",
      "Finding MAP candidates connected components: 8.845329284667969e-05\n",
      "len(filtered_pieces) = 1\n",
      "skeleton_connectivity_MP : 0.006242275238037109\n",
      "Grouping MP Sublimbs by Graph: 4.172325134277344e-05\n",
      "Divinding into MP and MAP pieces: 4.76837158203125e-07\n",
      "--- Working on MAP piece 0---\n",
      "MAP Filtering Soma Pieces: 0.0016794204711914062\n",
      "inside skeletonize_connected_branch and use_surface_after_CGAL=True, surface_reconstruction_size=1000\n",
      "keep_idx = [0]\n",
      "     Starting Screened Poisson\n",
      "xvfb-run -n 9975 -s \"-screen 0 800x600x24\" meshlabserver $@  -i /NEURD_Chenlab/Applications/Tutorials/Auto_Proof_Pipeline/Single_Soma_Exc/temp/None.off -o /NEURD_Chenlab/Applications/Tutorials/Auto_Proof_Pipeline/Single_Soma_Exc/temp/None_poisson.off -s /NEURD_Chenlab/Applications/Tutorials/Auto_Proof_Pipeline/Single_Soma_Exc/temp/poisson_749680.mls\n",
      "removed temporary input file: /NEURD_Chenlab/Applications/Tutorials/Auto_Proof_Pipeline/Single_Soma_Exc/temp/None.off\n",
      "removed temporary output file: /NEURD_Chenlab/Applications/Tutorials/Auto_Proof_Pipeline/Single_Soma_Exc/temp/None_poisson.off\n",
      "Using the close holes feature\n",
      "xvfb-run -n 4574 -s \"-screen 0 800x600x24\" meshlabserver $@  -i /NEURD_Chenlab/Applications/Tutorials/Auto_Proof_Pipeline/Single_Soma_Exc/temp/neuron_61886.off -o /NEURD_Chenlab/Applications/Tutorials/Auto_Proof_Pipeline/Single_Soma_Exc/temp/neuron_61886_fill_holes.off -s /NEURD_Chenlab/Applications/Tutorials/Auto_Proof_Pipeline/Single_Soma_Exc/temp/fill_holes_366506.mls\n",
      "removed temporary input file: /NEURD_Chenlab/Applications/Tutorials/Auto_Proof_Pipeline/Single_Soma_Exc/temp/neuron_61886.off\n",
      "removed temporary output file: /NEURD_Chenlab/Applications/Tutorials/Auto_Proof_Pipeline/Single_Soma_Exc/temp/neuron_61886_fill_holes.off\n",
      "/NEURD_Chenlab/Applications/Tutorials/Auto_Proof_Pipeline/Single_Soma_Exc/temp/fill_holes_366506.mls is being deleted....\n",
      "-----Time for Screened Poisson= 12.774965047836304\n",
      "mesh_pieces = [<trimesh.Trimesh(vertices.shape=(30497, 3), faces.shape=(60994, 3), name=`neuron_61886_fill_holes.off`)>]\n",
      "     Starting Calcification (Changed back where stitches large poissons)\n",
      "Manifold status before skeletonization = True\n",
      "Watertight status before skeletonization = True\n",
      "min_edge_length = 75\n",
      "Before mesh subtraction number of skeleton edges = 521\n"
     ]
    },
    {
     "data": {
      "application/vnd.jupyter.widget-view+json": {
       "model_id": "b5aaa725293c44368fa56591deb4a485",
       "version_major": 2,
       "version_minor": 0
      },
      "text/plain": [
       "0it [00:00, ?it/s]"
      ]
     },
     "metadata": {},
     "output_type": "display_data"
    },
    {
     "name": "stdout",
     "output_type": "stream",
     "text": [
      "len(leftover_meshes_sig) = []\n"
     ]
    },
    {
     "data": {
      "application/vnd.jupyter.widget-view+json": {
       "model_id": "45ed6d1e06b842c680ae35b7be608f9f",
       "version_major": 2,
       "version_minor": 0
      },
      "text/plain": [
       "0it [00:00, ?it/s]"
      ]
     },
     "metadata": {},
     "output_type": "display_data"
    },
    {
     "name": "stdout",
     "output_type": "stream",
     "text": [
      "No skeletons to stack so returning empty list\n",
      "STacking the leftover and significant poisson skeleton\n",
      "max_stitch_distance = 5000\n",
      "len_subgraphs AT BEGINNING of the loop\n"
     ]
    },
    {
     "data": {
      "application/vnd.jupyter.widget-view+json": {
       "model_id": "965e8dcec2f64a2fad9734468b2cd942",
       "version_major": 2,
       "version_minor": 0
      },
      "text/plain": [
       "  0%|          | 0/1 [00:00<?, ?it/s]"
      ]
     },
     "metadata": {},
     "output_type": "display_data"
    },
    {
     "name": "stdout",
     "output_type": "stream",
     "text": [
      "all graph is one component!\n",
      "Total time for skeleton stitching = 0.03563332557678223\n",
      "The process was using a temp folder\n",
      "Checking connected components after skeletonize_connected_branch\n",
      "    Total time for skeletonizing branch: 17.951255559921265\n",
      "Checking connected components after removing cycles\n",
      "Total time for mesh KDTree = 0.13503479957580566\n",
      "sbv[0].reshape(-1,3) = [[1213289.875   1219710.125    145299.78125]]\n",
      "closest_sk_pt_coord BEFORE = [1212690. 1219770.  145787.]\n",
      "current_skeleton.shape = (520, 2, 3)\n",
      "node_for_stitch = 520: [1212690. 1219770.  145787.]\n",
      "node_for_stitch AFTER = 520: [1212690. 1219770.  145787.]\n",
      "possible_node_loc = [ 17  88 109 118 193 329 478 520]\n",
      "possible_node_loc AFTER = [ 17  88 109 118 193 329 478 520]\n",
      "curr_shortest_path = [520]\n",
      "Current stitch point was a branch or endpoint\n",
      "change_status for create soma extending pieces = False\n",
      "closest_sk_pt_coord AFTER = [1212690. 1219770.  145787.]\n",
      "skipping soma 0 because closest skeleton node was already end node\n",
      "endpoints_must_keep = {0: array([[1212690., 1219770.,  145787.]])}\n",
      "    Total time for Fixing Skeleton Soma Endpoint Extension : 0.28148913383483887\n",
      "filter_end_node_length = 4000\n"
     ]
    },
    {
     "data": {
      "application/vnd.jupyter.widget-view+json": {
       "model_id": "895c1f1b458c4e96960c44e64e3b5068",
       "version_major": 2,
       "version_minor": 0
      },
      "text/plain": [
       "  0%|          | 0/4 [00:00<?, ?it/s]"
      ]
     },
     "metadata": {},
     "output_type": "display_data"
    },
    {
     "name": "stdout",
     "output_type": "stream",
     "text": [
      "Checking connected components after clean_skeleton\n",
      "after DISTANCE cleaning limb size of skeleton = (483, 2, 3)\n",
      "********COMBINING CLOSE SKELETON NODES WITHIN 700 DISTANCE**********\n",
      "combine_threshold = 700\n",
      "Found 0 valid paths to replace\n",
      "valid_paths = []\n",
      "valid_path_lengths = []\n",
      "No valid paths found so just returning the original\n",
      "skeletonize_and_clean_connected_branch_CGAL: 18.923356294631958\n",
      "Working on limb correspondence for #0 MAP piece\n",
      "xvfb-run -n 3732 -s \"-screen 0 800x600x24\" meshlabserver $@  -i /NEURD_Chenlab/Applications/Tutorials/Auto_Proof_Pipeline/Single_Soma_Exc/temp/neuron_76354.off -o /NEURD_Chenlab/Applications/Tutorials/Auto_Proof_Pipeline/Single_Soma_Exc/temp/neuron_76354_remove_interior.off -s /NEURD_Chenlab/Applications/Tutorials/Auto_Proof_Pipeline/Single_Soma_Exc/temp/remove_interior_632049.mls\n",
      "removed temporary input file: /NEURD_Chenlab/Applications/Tutorials/Auto_Proof_Pipeline/Single_Soma_Exc/temp/neuron_76354.off\n",
      "removed temporary output file: /NEURD_Chenlab/Applications/Tutorials/Auto_Proof_Pipeline/Single_Soma_Exc/temp/neuron_76354_remove_interior.off\n",
      "/NEURD_Chenlab/Applications/Tutorials/Auto_Proof_Pipeline/Single_Soma_Exc/temp/remove_interior_632049.mls is being deleted....\n",
      "No significant (100) interior meshes present\n",
      "largest is 15\n"
     ]
    },
    {
     "data": {
      "application/vnd.jupyter.widget-view+json": {
       "model_id": "2d3eb550380344e68acdb75e62322479",
       "version_major": 2,
       "version_minor": 0
      },
      "text/plain": [
       "0it [00:00, ?it/s]"
      ]
     },
     "metadata": {},
     "output_type": "display_data"
    },
    {
     "name": "stdout",
     "output_type": "stream",
     "text": [
      "Total time for decomposition = 3.14272141456604\n",
      "mesh_correspondence_first_pass: 3.142770290374756\n",
      "Limb decomposed into 5 branches\n",
      "divided_skeleton_graph_recovered = (483, 2, 3) and \n",
      "current_mesh_data[0]['branch_skeletons_cleaned'].shape = (483, 2, 3)\n",
      "\n",
      "Number of connected components in deocmposed recovered graph = 1\n",
      "Number of connected components in cleaned skeleton graph= 1\n",
      "The downsampled branches number of connected components = 1\n",
      "Empty submeshes = []\n",
      "\n",
      "\n",
      "--- Working on 1-to-1 correspondence-----\n",
      "max(original_labels),len(original_labels) = (4, 5)\n",
      "empty_indices % = 0.08102837789295428\n",
      " conflict_indices % = 0.032329245137784166\n"
     ]
    },
    {
     "data": {
      "application/vnd.jupyter.widget-view+json": {
       "model_id": "a3bf7ace22fc4c67861bf789fe63aac5",
       "version_major": 2,
       "version_minor": 0
      },
      "text/plain": [
       "  0%|          | 0/14 [00:00<?, ?it/s]"
      ]
     },
     "metadata": {},
     "output_type": "display_data"
    },
    {
     "name": "stdout",
     "output_type": "stream",
     "text": [
      "Took 0 iterations to expand the label back\n",
      "empty_indices % = 0.0\n",
      " conflict_indices % = 0.0\n"
     ]
    },
    {
     "data": {
      "application/vnd.jupyter.widget-view+json": {
       "model_id": "6110b3bdd6634153ac0199286767dc78",
       "version_major": 2,
       "version_minor": 0
      },
      "text/plain": [
       "0it [00:00, ?it/s]"
      ]
     },
     "metadata": {},
     "output_type": "display_data"
    },
    {
     "data": {
      "application/vnd.jupyter.widget-view+json": {
       "model_id": "cd02268c510a41ecaf0676a23899df42",
       "version_major": 2,
       "version_minor": 0
      },
      "text/plain": [
       "  0%|          | 0/5 [00:00<?, ?it/s]"
      ]
     },
     "metadata": {},
     "output_type": "display_data"
    },
    {
     "name": "stdout",
     "output_type": "stream",
     "text": [
      "Total time for MAP sublimb #0 mesh processing = 23.422295093536377\n",
      "correspondence_1_to_1: 1.3545684814453125\n",
      "Total time for MAP sublimb processing 23.422574281692505\n",
      "There were not both MAP and MP pieces so skipping the stitch resolving phase\n",
      "Time for decomp of Limb = 25.035194635391235\n",
      "Number of matching vertices = 25\n",
      "Only one endpoint after filtering away the endpoints that are not on the skeleton\n",
      "Removed 0 skeletal branches\n"
     ]
    },
    {
     "data": {
      "application/vnd.jupyter.widget-view+json": {
       "model_id": "15005f7903fb40aa90abff306dd3b41a",
       "version_major": 2,
       "version_minor": 0
      },
      "text/plain": [
       "  0%|          | 0/5 [00:00<?, ?it/s]"
      ]
     },
     "metadata": {},
     "output_type": "display_data"
    },
    {
     "name": "stdout",
     "output_type": "stream",
     "text": [
      "19486 19487\n",
      "For marked faces: None\n",
      "empty_indices % = 0.0\n",
      " conflict_indices % = 0.0\n"
     ]
    },
    {
     "data": {
      "application/vnd.jupyter.widget-view+json": {
       "model_id": "7e48c48a67b44ea495da1a1e8ab37f8a",
       "version_major": 2,
       "version_minor": 0
      },
      "text/plain": [
       "0it [00:00, ?it/s]"
      ]
     },
     "metadata": {},
     "output_type": "display_data"
    },
    {
     "data": {
      "application/vnd.jupyter.widget-view+json": {
       "model_id": "a689befb8d9f471dae8efc863e74246f",
       "version_major": 2,
       "version_minor": 0
      },
      "text/plain": [
       "  0%|          | 0/5 [00:00<?, ?it/s]"
      ]
     },
     "metadata": {},
     "output_type": "display_data"
    },
    {
     "name": "stdout",
     "output_type": "stream",
     "text": [
      "Successful Limb Decomposition\n",
      "\n",
      "\n",
      "----- Working on Proper Limb # 5 ---------\n",
      "meshparty_segment_size = 100\n",
      "invalidation_d = 12000\n",
      "use_adaptive_invalidation_d= False\n",
      "axon_width_preprocess_limb_max = 200\n",
      "filter_end_node_length= 4000\n",
      "filter_end_node_length_meshparty = 4000\n",
      "invalidation_d = 12000\n",
      "root_curr = [1217160.      1213469.875    139774.90625]\n",
      "Time for preparing soma vertices and root: 0.00045609474182128906\n",
      "invalidation_d = 12000\n",
      "smooth_neighborhood = 1\n",
      "cc_vertex_thresh = 10\n"
     ]
    },
    {
     "name": "stderr",
     "output_type": "stream",
     "text": [
      "  0%|                                                                                             | 0/1 [00:00<?, ?it/s]"
     ]
    },
    {
     "data": {
      "application/vnd.jupyter.widget-view+json": {
       "model_id": "d69ec117b5bb4604b08d41bd4f8a44ce",
       "version_major": 2,
       "version_minor": 0
      },
      "text/plain": [
       "  0%|          | 0/2315 [00:00<?, ?it/s]"
      ]
     },
     "metadata": {},
     "output_type": "display_data"
    },
    {
     "name": "stderr",
     "output_type": "stream",
     "text": [
      "100%|█████████████████████████████████████████████████████████████████████████████████████| 1/1 [00:00<00:00, 35.83it/s]"
     ]
    },
    {
     "name": "stdout",
     "output_type": "stream",
     "text": [
      "meshparty_segment_size = 100\n",
      "Time for 1st pass MP skeletonization: 0.10706520080566406\n",
      "branches_touching_root = [0]\n",
      "combining close nodes\n",
      "combine_threshold = 700\n",
      "length of Graph = 204\n",
      "After combining close endpoints max(kept_branches_idx) = 0, len(kept_branches_idx) = 1\n"
     ]
    },
    {
     "name": "stderr",
     "output_type": "stream",
     "text": [
      "\n"
     ]
    },
    {
     "name": "stdout",
     "output_type": "stream",
     "text": [
      "empty_indices % = 0.0\n",
      " conflict_indices % = 0.0\n"
     ]
    },
    {
     "data": {
      "application/vnd.jupyter.widget-view+json": {
       "model_id": "78d3675cf5894078b6300c523561165a",
       "version_major": 2,
       "version_minor": 0
      },
      "text/plain": [
       "0it [00:00, ?it/s]"
      ]
     },
     "metadata": {},
     "output_type": "display_data"
    },
    {
     "data": {
      "application/vnd.jupyter.widget-view+json": {
       "model_id": "5052a53267a8447cbfe4b84c59aa003f",
       "version_major": 2,
       "version_minor": 0
      },
      "text/plain": [
       "  0%|          | 0/1 [00:00<?, ?it/s]"
      ]
     },
     "metadata": {},
     "output_type": "display_data"
    },
    {
     "name": "stdout",
     "output_type": "stream",
     "text": [
      "Decomposing first pass: 0.23479747772216797\n",
      "Attempting to use MeshAfterParty Skeletonization and Mesh Correspondence\n",
      "Another print\n",
      "Found len(mesh_large_idx) MAP candidates: [4600]\n",
      "mesh_large_connectivity: 0.00037169456481933594\n",
      "Finding MAP candidates connected components: 0.00017142295837402344\n",
      "len(filtered_pieces) = 1\n",
      "skeleton_connectivity_MP : 0.0067212581634521484\n",
      "Grouping MP Sublimbs by Graph: 7.128715515136719e-05\n",
      "Divinding into MP and MAP pieces: 1.9073486328125e-06\n",
      "--- Working on MAP piece 0---\n",
      "MAP Filtering Soma Pieces: 0.0029010772705078125\n",
      "inside skeletonize_connected_branch and use_surface_after_CGAL=True, surface_reconstruction_size=1000\n",
      "keep_idx = [0]\n",
      "     Starting Screened Poisson\n",
      "xvfb-run -n 7045 -s \"-screen 0 800x600x24\" meshlabserver $@  -i /NEURD_Chenlab/Applications/Tutorials/Auto_Proof_Pipeline/Single_Soma_Exc/temp/None.off -o /NEURD_Chenlab/Applications/Tutorials/Auto_Proof_Pipeline/Single_Soma_Exc/temp/None_poisson.off -s /NEURD_Chenlab/Applications/Tutorials/Auto_Proof_Pipeline/Single_Soma_Exc/temp/poisson_727634.mls\n",
      "removed temporary input file: /NEURD_Chenlab/Applications/Tutorials/Auto_Proof_Pipeline/Single_Soma_Exc/temp/None.off\n",
      "removed temporary output file: /NEURD_Chenlab/Applications/Tutorials/Auto_Proof_Pipeline/Single_Soma_Exc/temp/None_poisson.off\n",
      "Using the close holes feature\n",
      "xvfb-run -n 5212 -s \"-screen 0 800x600x24\" meshlabserver $@  -i /NEURD_Chenlab/Applications/Tutorials/Auto_Proof_Pipeline/Single_Soma_Exc/temp/neuron_47738.off -o /NEURD_Chenlab/Applications/Tutorials/Auto_Proof_Pipeline/Single_Soma_Exc/temp/neuron_47738_fill_holes.off -s /NEURD_Chenlab/Applications/Tutorials/Auto_Proof_Pipeline/Single_Soma_Exc/temp/fill_holes_101453.mls\n",
      "removed temporary input file: /NEURD_Chenlab/Applications/Tutorials/Auto_Proof_Pipeline/Single_Soma_Exc/temp/neuron_47738.off\n",
      "removed temporary output file: /NEURD_Chenlab/Applications/Tutorials/Auto_Proof_Pipeline/Single_Soma_Exc/temp/neuron_47738_fill_holes.off\n",
      "/NEURD_Chenlab/Applications/Tutorials/Auto_Proof_Pipeline/Single_Soma_Exc/temp/fill_holes_101453.mls is being deleted....\n",
      "-----Time for Screened Poisson= 7.927743434906006\n",
      "mesh_pieces = [<trimesh.Trimesh(vertices.shape=(6042, 3), faces.shape=(12080, 3), name=`neuron_47738_fill_holes.off`)>]\n",
      "     Starting Calcification (Changed back where stitches large poissons)\n",
      "Manifold status before skeletonization = True\n",
      "Watertight status before skeletonization = True\n",
      "min_edge_length = 75\n",
      "MAX ITERATIONS initially 500\n",
      "AREA VARIATION initially 0.0001\n",
      "medial centered initially 1\n",
      "medially_centered_speed_tradeoff initially 0.2\n",
      "quality_speed_tradeoff initially 0.1\n",
      "max_triangle_angle initially 1.91986\n",
      "min_edge_length initially 248.663\n",
      "setting the edge length by absolute length\n",
      "min_edge_length AFTER = 75\n",
      "max_triangle_angle AFTER = 1.91986\n",
      "quality_speed_tradeoff AFTER = 0.2\n",
      "set_medially_centered_speed_tradeoff AFTER = 0.2\n",
      "medial centered AFTER 1\n",
      "AREA VARIATION AFTER 0.0001\n",
      "MAX ITERATIONS AFTER 500\n",
      "medial centered END 1\n",
      "set_medially_centered_speed_tradeoff END = 0.2\n",
      "quality_speed_tradeoff END = 0.2\n",
      "Max iterations END = 500\n",
      "AREA VARIATION END 0.0001\n",
      "Number of vertices of the skeleton: 2068\n",
      "Number of edges of the skeleton: 2068\n",
      "MAX ITERATIONS initially 500\n",
      "AREA VARIATION initially 0.0001\n",
      "medial centered initially 1\n",
      "medially_centered_speed_tradeoff initially 0.2\n",
      "quality_speed_tradeoff initially 0.1\n",
      "max_triangle_angle initially 1.91986\n",
      "min_edge_length initially 231.717\n",
      "setting the edge length by absolute length\n",
      "min_edge_length AFTER = 75\n",
      "max_triangle_angle AFTER = 1.91986\n",
      "quality_speed_tradeoff AFTER = 0.2\n",
      "set_medially_centered_speed_tradeoff AFTER = 0.2\n",
      "medial centered AFTER 1\n",
      "AREA VARIATION AFTER 0.0001\n",
      "MAX ITERATIONS AFTER 500\n",
      "medial centered END 1\n",
      "set_medially_centered_speed_tradeoff END = 0.2\n",
      "quality_speed_tradeoff END = 0.2\n",
      "Max iterations END = 500\n",
      "AREA VARIATION END 0.0001\n",
      "Number of vertices of the skeleton: 1779\n",
      "Number of edges of the skeleton: 1779\n",
      "MAX ITERATIONS initially 500\n",
      "AREA VARIATION initially 0.0001\n",
      "medial centered initially 1\n",
      "medially_centered_speed_tradeoff initially 0.2\n",
      "quality_speed_tradeoff initially 0.1\n",
      "max_triangle_angle initially 1.91986\n",
      "min_edge_length initially 96.6988\n",
      "setting the edge length by absolute length\n",
      "min_edge_length AFTER = 75\n",
      "max_triangle_angle AFTER = 1.91986\n",
      "quality_speed_tradeoff AFTER = 0.2\n",
      "set_medially_centered_speed_tradeoff AFTER = 0.2\n",
      "medial centered AFTER 1\n",
      "AREA VARIATION AFTER 0.0001\n",
      "MAX ITERATIONS AFTER 500\n",
      "medial centered END 1\n",
      "set_medially_centered_speed_tradeoff END = 0.2\n",
      "quality_speed_tradeoff END = 0.2\n",
      "Max iterations END = 500\n",
      "AREA VARIATION END 0.0001\n",
      "Number of vertices of the skeleton: 629\n",
      "Number of edges of the skeleton: 628\n",
      "MAX ITERATIONS initially 500\n",
      "AREA VARIATION initially 0.0001\n",
      "medial centered initially 1\n",
      "medially_centered_speed_tradeoff initially 0.2\n",
      "quality_speed_tradeoff initially 0.1\n",
      "max_triangle_angle initially 1.91986\n",
      "min_edge_length initially 92.4579\n",
      "setting the edge length by absolute length\n",
      "min_edge_length AFTER = 75\n",
      "max_triangle_angle AFTER = 1.91986\n",
      "quality_speed_tradeoff AFTER = 0.2\n",
      "set_medially_centered_speed_tradeoff AFTER = 0.2\n",
      "medial centered AFTER 1\n",
      "AREA VARIATION AFTER 0.0001\n",
      "MAX ITERATIONS AFTER 500\n",
      "medial centered END 1\n",
      "set_medially_centered_speed_tradeoff END = 0.2\n",
      "quality_speed_tradeoff END = 0.2\n",
      "Max iterations END = 500\n",
      "AREA VARIATION END 0.0001\n",
      "Number of vertices of the skeleton: 508\n",
      "Number of edges of the skeleton: 508\n",
      "MAX ITERATIONS initially 500\n",
      "AREA VARIATION initially 0.0001\n",
      "medial centered initially 1\n",
      "medially_centered_speed_tradeoff initially 0.2\n",
      "quality_speed_tradeoff initially 0.1\n",
      "max_triangle_angle initially 1.91986\n",
      "min_edge_length initially 99.4571\n",
      "setting the edge length by absolute length\n",
      "min_edge_length AFTER = 75\n",
      "max_triangle_angle AFTER = 1.91986\n",
      "quality_speed_tradeoff AFTER = 0.2\n",
      "set_medially_centered_speed_tradeoff AFTER = 0.2\n",
      "medial centered AFTER 1\n",
      "AREA VARIATION AFTER 0.0001\n",
      "MAX ITERATIONS AFTER 500\n",
      "medial centered END 1\n",
      "set_medially_centered_speed_tradeoff END = 0.2\n",
      "quality_speed_tradeoff END = 0.2\n",
      "Max iterations END = 500\n",
      "AREA VARIATION END 0.0001\n",
      "Number of vertices of the skeleton: 521\n",
      "Number of edges of the skeleton: 520\n",
      "MAX ITERATIONS initially 500\n",
      "AREA VARIATION initially 0.0001\n",
      "medial centered initially 1\n",
      "medially_centered_speed_tradeoff initially 0.2\n",
      "quality_speed_tradeoff initially 0.1\n",
      "max_triangle_angle initially 1.91986\n",
      "min_edge_length initially 39.2114\n",
      "setting the edge length by absolute length\n",
      "min_edge_length AFTER = 75\n",
      "max_triangle_angle AFTER = 1.91986\n",
      "quality_speed_tradeoff AFTER = 0.2\n",
      "set_mediBefore mesh subtraction number of skeleton edges = 141\n"
     ]
    },
    {
     "data": {
      "application/vnd.jupyter.widget-view+json": {
       "model_id": "9045554244684172a9a6cbb06d980cfa",
       "version_major": 2,
       "version_minor": 0
      },
      "text/plain": [
       "0it [00:00, ?it/s]"
      ]
     },
     "metadata": {},
     "output_type": "display_data"
    },
    {
     "name": "stdout",
     "output_type": "stream",
     "text": [
      "len(leftover_meshes_sig) = []\n"
     ]
    },
    {
     "data": {
      "application/vnd.jupyter.widget-view+json": {
       "model_id": "172a0aa27598468a88374c145214f498",
       "version_major": 2,
       "version_minor": 0
      },
      "text/plain": [
       "0it [00:00, ?it/s]"
      ]
     },
     "metadata": {},
     "output_type": "display_data"
    },
    {
     "name": "stdout",
     "output_type": "stream",
     "text": [
      "No skeletons to stack so returning empty list\n",
      "STacking the leftover and significant poisson skeleton\n",
      "max_stitch_distance = 5000\n",
      "len_subgraphs AT BEGINNING of the loop\n"
     ]
    },
    {
     "data": {
      "application/vnd.jupyter.widget-view+json": {
       "model_id": "c06f1dea14bc4cffb08c8788a6dbef6a",
       "version_major": 2,
       "version_minor": 0
      },
      "text/plain": [
       "  0%|          | 0/1 [00:00<?, ?it/s]"
      ]
     },
     "metadata": {},
     "output_type": "display_data"
    },
    {
     "name": "stdout",
     "output_type": "stream",
     "text": [
      "all graph is one component!\n",
      "Total time for skeleton stitching = 0.025024890899658203\n",
      "The process was using a temp folder\n",
      "Checking connected components after skeletonize_connected_branch\n",
      "    Total time for skeletonizing branch: 8.934927225112915\n",
      "Checking connected components after removing cycles\n",
      "Total time for mesh KDTree = 0.05027604103088379\n",
      "sbv[0].reshape(-1,3) = [[1217160.      1213469.875    139774.90625]]\n",
      "closest_sk_pt_coord BEFORE = [1216590. 1213380.  139096.]\n",
      "current_skeleton.shape = (140, 2, 3)\n",
      "node_for_stitch = 140: [1216590. 1213380.  139096.]\n",
      "node_for_stitch AFTER = 140: [1216590. 1213380.  139096.]\n",
      "possible_node_loc = [  0 110 140]\n",
      "possible_node_loc AFTER = [  0 110 140]\n",
      "curr_shortest_path = [140]\n",
      "Current stitch point was a branch or endpoint\n",
      "change_status for create soma extending pieces = False\n",
      "closest_sk_pt_coord AFTER = [1216590. 1213380.  139096.]\n",
      "skipping soma 0 because closest skeleton node was already end node\n",
      "endpoints_must_keep = {0: array([[1216590., 1213380.,  139096.]])}\n",
      "    Total time for Fixing Skeleton Soma Endpoint Extension : 0.10991144180297852\n",
      "filter_end_node_length = 4000\n"
     ]
    },
    {
     "data": {
      "application/vnd.jupyter.widget-view+json": {
       "model_id": "fa0419524d1145058e5e93dad750385e",
       "version_major": 2,
       "version_minor": 0
      },
      "text/plain": [
       "  0%|          | 0/1 [00:00<?, ?it/s]"
      ]
     },
     "metadata": {},
     "output_type": "display_data"
    },
    {
     "name": "stdout",
     "output_type": "stream",
     "text": [
      "Checking connected components after clean_skeleton\n",
      "after DISTANCE cleaning limb size of skeleton = (133, 2, 3)\n",
      "********COMBINING CLOSE SKELETON NODES WITHIN 700 DISTANCE**********\n",
      "combine_threshold = 700\n",
      "Found 0 valid paths to replace\n",
      "valid_paths = []\n",
      "valid_path_lengths = []\n",
      "No valid paths found so just returning the original\n",
      "skeletonize_and_clean_connected_branch_CGAL: 9.233735084533691\n",
      "Working on limb correspondence for #0 MAP piece\n",
      "xvfb-run -n 527 -s \"-screen 0 800x600x24\" meshlabserver $@  -i /NEURD_Chenlab/Applications/Tutorials/Auto_Proof_Pipeline/Single_Soma_Exc/temp/neuron_26459.off -o /NEURD_Chenlab/Applications/Tutorials/Auto_Proof_Pipeline/Single_Soma_Exc/temp/neuron_26459_remove_interior.off -s /NEURD_Chenlab/Applications/Tutorials/Auto_Proof_Pipeline/Single_Soma_Exc/temp/remove_interior_370179.mls\n",
      "removed temporary input file: /NEURD_Chenlab/Applications/Tutorials/Auto_Proof_Pipeline/Single_Soma_Exc/temp/neuron_26459.off\n",
      "removed temporary output file: /NEURD_Chenlab/Applications/Tutorials/Auto_Proof_Pipeline/Single_Soma_Exc/temp/neuron_26459_remove_interior.off\n",
      "/NEURD_Chenlab/Applications/Tutorials/Auto_Proof_Pipeline/Single_Soma_Exc/temp/remove_interior_370179.mls is being deleted....\n",
      "No significant (100) interior meshes present\n",
      "largest is 6\n"
     ]
    },
    {
     "data": {
      "application/vnd.jupyter.widget-view+json": {
       "model_id": "408b56f792e54cc0ac108fbba30262ba",
       "version_major": 2,
       "version_minor": 0
      },
      "text/plain": [
       "0it [00:00, ?it/s]"
      ]
     },
     "metadata": {},
     "output_type": "display_data"
    },
    {
     "name": "stdout",
     "output_type": "stream",
     "text": [
      "Total time for decomposition = 1.509652853012085\n",
      "mesh_correspondence_first_pass: 1.5097105503082275\n",
      "Limb decomposed into 1 branches\n",
      "divided_skeleton_graph_recovered = (133, 2, 3) and \n",
      "current_mesh_data[0]['branch_skeletons_cleaned'].shape = (133, 2, 3)\n",
      "\n",
      "Number of connected components in deocmposed recovered graph = 1\n",
      "Number of connected components in cleaned skeleton graph= 1\n",
      "The downsampled branches number of connected components = 1\n",
      "Empty submeshes = []\n",
      "\n",
      "\n",
      "--- Working on 1-to-1 correspondence-----\n",
      "max(original_labels),len(original_labels) = (0, 1)\n",
      "empty_indices % = 0.11565217391304349\n",
      " conflict_indices % = 0.0\n"
     ]
    },
    {
     "data": {
      "application/vnd.jupyter.widget-view+json": {
       "model_id": "8a045d01ac7b4e658c017761c2902ea0",
       "version_major": 2,
       "version_minor": 0
      },
      "text/plain": [
       "  0%|          | 0/5 [00:00<?, ?it/s]"
      ]
     },
     "metadata": {},
     "output_type": "display_data"
    },
    {
     "name": "stdout",
     "output_type": "stream",
     "text": [
      "Took 0 iterations to expand the label back\n",
      "empty_indices % = 0.0\n",
      " conflict_indices % = 0.0\n"
     ]
    },
    {
     "data": {
      "application/vnd.jupyter.widget-view+json": {
       "model_id": "05ac276773fb4e28bc392fa418019482",
       "version_major": 2,
       "version_minor": 0
      },
      "text/plain": [
       "0it [00:00, ?it/s]"
      ]
     },
     "metadata": {},
     "output_type": "display_data"
    },
    {
     "data": {
      "application/vnd.jupyter.widget-view+json": {
       "model_id": "b377ac5d9fa641b0a5f72f67336c6361",
       "version_major": 2,
       "version_minor": 0
      },
      "text/plain": [
       "  0%|          | 0/1 [00:00<?, ?it/s]"
      ]
     },
     "metadata": {},
     "output_type": "display_data"
    },
    {
     "name": "stdout",
     "output_type": "stream",
     "text": [
      "Total time for MAP sublimb #0 mesh processing = 11.139664888381958\n",
      "correspondence_1_to_1: 0.39330244064331055\n",
      "Total time for MAP sublimb processing 11.139779806137085\n",
      "There were not both MAP and MP pieces so skipping the stitch resolving phase\n",
      "Time for decomp of Limb = 11.500015497207642\n",
      "Number of matching vertices = 30\n",
      "Only one endpoint after filtering away the endpoints that are not on the skeleton\n",
      "Removed 0 skeletal branches\n"
     ]
    },
    {
     "data": {
      "application/vnd.jupyter.widget-view+json": {
       "model_id": "f96d4ad955c74ae6803935bb12ca5679",
       "version_major": 2,
       "version_minor": 0
      },
      "text/plain": [
       "  0%|          | 0/1 [00:00<?, ?it/s]"
      ]
     },
     "metadata": {},
     "output_type": "display_data"
    },
    {
     "name": "stdout",
     "output_type": "stream",
     "text": [
      "4599 4600\n",
      "For marked faces: None\n",
      "empty_indices % = 0.0\n",
      " conflict_indices % = 0.0\n"
     ]
    },
    {
     "data": {
      "application/vnd.jupyter.widget-view+json": {
       "model_id": "26d23da86d934eda932e3516c4473ff1",
       "version_major": 2,
       "version_minor": 0
      },
      "text/plain": [
       "0it [00:00, ?it/s]"
      ]
     },
     "metadata": {},
     "output_type": "display_data"
    },
    {
     "data": {
      "application/vnd.jupyter.widget-view+json": {
       "model_id": "2b7684b984fc453c84a7be9dde1097a5",
       "version_major": 2,
       "version_minor": 0
      },
      "text/plain": [
       "  0%|          | 0/1 [00:00<?, ?it/s]"
      ]
     },
     "metadata": {},
     "output_type": "display_data"
    },
    {
     "name": "stdout",
     "output_type": "stream",
     "text": [
      "Successful Limb Decomposition\n",
      "\n",
      "\n",
      "----- Working on Proper Limb # 6 ---------\n",
      "meshparty_segment_size = 100\n",
      "invalidation_d = 12000\n",
      "use_adaptive_invalidation_d= False\n",
      "axon_width_preprocess_limb_max = 200\n",
      "filter_end_node_length= 4000\n",
      "filter_end_node_length_meshparty = 4000\n",
      "invalidation_d = 12000\n",
      "root_curr = [1218120.      1215809.875    143925.09375]\n",
      "Time for preparing soma vertices and root: 0.00032973289489746094\n",
      "invalidation_d = 12000\n",
      "smooth_neighborhood = 1\n",
      "cc_vertex_thresh = 10\n"
     ]
    },
    {
     "name": "stderr",
     "output_type": "stream",
     "text": [
      "  0%|                                                                                             | 0/1 [00:00<?, ?it/s]"
     ]
    },
    {
     "data": {
      "application/vnd.jupyter.widget-view+json": {
       "model_id": "79a07895b7324ced8aa55d566743df19",
       "version_major": 2,
       "version_minor": 0
      },
      "text/plain": [
       "  0%|          | 0/1151 [00:00<?, ?it/s]"
      ]
     },
     "metadata": {},
     "output_type": "display_data"
    },
    {
     "name": "stderr",
     "output_type": "stream",
     "text": [
      "100%|█████████████████████████████████████████████████████████████████████████████████████| 1/1 [00:00<00:00, 42.00it/s]"
     ]
    },
    {
     "name": "stdout",
     "output_type": "stream",
     "text": [
      "meshparty_segment_size = 100\n",
      "Time for 1st pass MP skeletonization: 0.0625922679901123\n",
      "connecting at the root\n",
      "branches_touching_root = [0]\n",
      "combining close nodes\n",
      "combine_threshold = 700\n",
      "length of Graph = 71\n",
      "After combining close endpoints max(kept_branches_idx) = 0, len(kept_branches_idx) = 1\n",
      "empty_indices % = 0.0\n",
      " conflict_indices % = 0.0\n"
     ]
    },
    {
     "name": "stderr",
     "output_type": "stream",
     "text": [
      "\n"
     ]
    },
    {
     "data": {
      "application/vnd.jupyter.widget-view+json": {
       "model_id": "0402a28cde94420e9ee075e9c18a797a",
       "version_major": 2,
       "version_minor": 0
      },
      "text/plain": [
       "0it [00:00, ?it/s]"
      ]
     },
     "metadata": {},
     "output_type": "display_data"
    },
    {
     "data": {
      "application/vnd.jupyter.widget-view+json": {
       "model_id": "49100d187354444db7f74de7474a1598",
       "version_major": 2,
       "version_minor": 0
      },
      "text/plain": [
       "  0%|          | 0/1 [00:00<?, ?it/s]"
      ]
     },
     "metadata": {},
     "output_type": "display_data"
    },
    {
     "name": "stdout",
     "output_type": "stream",
     "text": [
      "Decomposing first pass: 0.11937332153320312\n",
      "Attempting to use MeshAfterParty Skeletonization and Mesh Correspondence\n",
      "Another print\n",
      "Found len(mesh_large_idx) MAP candidates: [2147]\n",
      "mesh_large_connectivity: 0.0001323223114013672\n",
      "Finding MAP candidates connected components: 7.82012939453125e-05\n",
      "len(filtered_pieces) = 1\n",
      "skeleton_connectivity_MP : 0.0068531036376953125\n",
      "Grouping MP Sublimbs by Graph: 3.933906555175781e-05\n",
      "Divinding into MP and MAP pieces: 7.152557373046875e-07\n",
      "--- Working on MAP piece 0---\n",
      "MAP Filtering Soma Pieces: 0.004652738571166992\n",
      "inside skeletonize_connected_branch and use_surface_after_CGAL=True, surface_reconstruction_size=1000\n",
      "keep_idx = [0]\n",
      "     Starting Screened Poisson\n",
      "xvfb-run -n 8907 -s \"-screen 0 800x600x24\" meshlabserver $@  -i /NEURD_Chenlab/Applications/Tutorials/Auto_Proof_Pipeline/Single_Soma_Exc/temp/None.off -o /NEURD_Chenlab/Applications/Tutorials/Auto_Proof_Pipeline/Single_Soma_Exc/temp/None_poisson.off -s /NEURD_Chenlab/Applications/Tutorials/Auto_Proof_Pipeline/Single_Soma_Exc/temp/poisson_259256.mls\n",
      "removed temporary input file: /NEURD_Chenlab/Applications/Tutorials/Auto_Proof_Pipeline/Single_Soma_Exc/temp/None.off\n",
      "removed temporary output file: /NEURD_Chenlab/Applications/Tutorials/Auto_Proof_Pipeline/Single_Soma_Exc/temp/None_poisson.off\n",
      "Using the close holes feature\n",
      "xvfb-run -n 128 -s \"-screen 0 800x600x24\" meshlabserver $@  -i /NEURD_Chenlab/Applications/Tutorials/Auto_Proof_Pipeline/Single_Soma_Exc/temp/neuron_17465.off -o /NEURD_Chenlab/Applications/Tutorials/Auto_Proof_Pipeline/Single_Soma_Exc/temp/neuron_17465_fill_holes.off -s /NEURD_Chenlab/Applications/Tutorials/Auto_Proof_Pipeline/Single_Soma_Exc/temp/fill_holes_134258.mls\n",
      "removed temporary input file: /NEURD_Chenlab/Applications/Tutorials/Auto_Proof_Pipeline/Single_Soma_Exc/temp/neuron_17465.off\n",
      "removed temporary output file: /NEURD_Chenlab/Applications/Tutorials/Auto_Proof_Pipeline/Single_Soma_Exc/temp/neuron_17465_fill_holes.off\n",
      "/NEURD_Chenlab/Applications/Tutorials/Auto_Proof_Pipeline/Single_Soma_Exc/temp/fill_holes_134258.mls is being deleted....\n",
      "-----Time for Screened Poisson= 9.060025691986084\n",
      "mesh_pieces = [<trimesh.Trimesh(vertices.shape=(8720, 3), faces.shape=(17436, 3), name=`neuron_17465_fill_holes.off`)>]\n",
      "     Starting Calcification (Changed back where stitches large poissons)\n",
      "Manifold status before skeletonization = True\n",
      "Watertight status before skeletonization = True\n",
      "min_edge_length = 75\n",
      "Before mesh subtraction number of skeleton edges = 2\n"
     ]
    },
    {
     "data": {
      "application/vnd.jupyter.widget-view+json": {
       "model_id": "2c16aa1d4a984977bb7781a542d3d925",
       "version_major": 2,
       "version_minor": 0
      },
      "text/plain": [
       "0it [00:00, ?it/s]"
      ]
     },
     "metadata": {},
     "output_type": "display_data"
    },
    {
     "name": "stdout",
     "output_type": "stream",
     "text": [
      "len(leftover_meshes_sig) = []\n"
     ]
    },
    {
     "data": {
      "application/vnd.jupyter.widget-view+json": {
       "model_id": "f8cf5ce729c1484b94e23a9f63c3e628",
       "version_major": 2,
       "version_minor": 0
      },
      "text/plain": [
       "0it [00:00, ?it/s]"
      ]
     },
     "metadata": {},
     "output_type": "display_data"
    },
    {
     "name": "stdout",
     "output_type": "stream",
     "text": [
      "No skeletons to stack so returning empty list\n",
      "STacking the leftover and significant poisson skeleton\n",
      "max_stitch_distance = 5000\n",
      "len_subgraphs AT BEGINNING of the loop\n"
     ]
    },
    {
     "data": {
      "application/vnd.jupyter.widget-view+json": {
       "model_id": "faf3a93dfb4c4b46a4589a60b425b017",
       "version_major": 2,
       "version_minor": 0
      },
      "text/plain": [
       "  0%|          | 0/1 [00:00<?, ?it/s]"
      ]
     },
     "metadata": {},
     "output_type": "display_data"
    },
    {
     "name": "stdout",
     "output_type": "stream",
     "text": [
      "all graph is one component!\n",
      "Total time for skeleton stitching = 0.018815279006958008\n",
      "The process was using a temp folder\n",
      "Checking connected components after skeletonize_connected_branch\n",
      "    Total time for skeletonizing branch: 10.601848602294922\n",
      "Checking connected components after removing cycles\n",
      "Total time for mesh KDTree = 0.04000735282897949\n",
      "sbv[0].reshape(-1,3) = [[1218120.      1215809.875    143925.09375]]\n",
      "closest_sk_pt_coord BEFORE = [1220070. 1217350.  142105.]\n",
      "current_skeleton.shape = (1, 2, 3)\n",
      "node_for_stitch = 0: [1220070. 1217350.  142105.]\n",
      "node_for_stitch AFTER = 0: [1220070. 1217350.  142105.]\n",
      "possible_node_loc = [0 1]\n",
      "possible_node_loc AFTER = [0 1]\n",
      "curr_shortest_path = [0]\n",
      "Current stitch point was a branch or endpoint\n",
      "change_status for create soma extending pieces = False\n",
      "closest_sk_pt_coord AFTER = [1220070. 1217350.  142105.]\n",
      "skipping soma 0 because closest skeleton node was already end node\n",
      "endpoints_must_keep = {0: array([[1220070., 1217350.,  142105.]])}\n",
      "    Total time for Fixing Skeleton Soma Endpoint Extension : 0.07326292991638184\n",
      "filter_end_node_length = 4000\n"
     ]
    },
    {
     "data": {
      "application/vnd.jupyter.widget-view+json": {
       "model_id": "baa5c0a28f9d4e4f9a2cfab9efe97750",
       "version_major": 2,
       "version_minor": 0
      },
      "text/plain": [
       "  0%|          | 0/1 [00:00<?, ?it/s]"
      ]
     },
     "metadata": {},
     "output_type": "display_data"
    },
    {
     "name": "stdout",
     "output_type": "stream",
     "text": [
      "Checking connected components after clean_skeleton\n",
      "No connected skeleton after cleaning so just going with older skeleton\n",
      "after DISTANCE cleaning limb size of skeleton = (1, 2, 3)\n",
      "********COMBINING CLOSE SKELETON NODES WITHIN 700 DISTANCE**********\n",
      "combine_threshold = 700\n",
      "Found 0 valid paths to replace\n",
      "valid_paths = []\n",
      "valid_path_lengths = []\n",
      "No valid paths found so just returning the original\n",
      "skeletonize_and_clean_connected_branch_CGAL: 10.704305410385132\n",
      "Working on limb correspondence for #0 MAP piece\n",
      "xvfb-run -n 3235 -s \"-screen 0 800x600x24\" meshlabserver $@  -i /NEURD_Chenlab/Applications/Tutorials/Auto_Proof_Pipeline/Single_Soma_Exc/temp/neuron_5447.off -o /NEURD_Chenlab/Applications/Tutorials/Auto_Proof_Pipeline/Single_Soma_Exc/temp/neuron_5447_remove_interior.off -s /NEURD_Chenlab/Applications/Tutorials/Auto_Proof_Pipeline/Single_Soma_Exc/temp/remove_interior_149971.mls\n",
      "removed temporary input file: /NEURD_Chenlab/Applications/Tutorials/Auto_Proof_Pipeline/Single_Soma_Exc/temp/neuron_5447.off\n",
      "removed temporary output file: /NEURD_Chenlab/Applications/Tutorials/Auto_Proof_Pipeline/Single_Soma_Exc/temp/neuron_5447_remove_interior.off\n",
      "/NEURD_Chenlab/Applications/Tutorials/Auto_Proof_Pipeline/Single_Soma_Exc/temp/remove_interior_149971.mls is being deleted....\n",
      "Removing the following inside neurons: [<trimesh.Trimesh(vertices.shape=(131, 3), faces.shape=(217, 3), name=`neuron_5447_remove_interior.off`)>]\n"
     ]
    },
    {
     "data": {
      "application/vnd.jupyter.widget-view+json": {
       "model_id": "c46c4898770c4d5a832df1850ffbda87",
       "version_major": 2,
       "version_minor": 0
      },
      "text/plain": [
       "0it [00:00, ?it/s]"
      ]
     },
     "metadata": {},
     "output_type": "display_data"
    },
    {
     "name": "stdout",
     "output_type": "stream",
     "text": [
      "Total time for decomposition = 0.8051187992095947\n",
      "mesh_correspondence_first_pass: 0.8051717281341553\n",
      "Limb decomposed into 1 branches\n",
      "divided_skeleton_graph_recovered = (1, 2, 3) and \n",
      "current_mesh_data[0]['branch_skeletons_cleaned'].shape = (1, 2, 3)\n",
      "\n",
      "Number of connected components in deocmposed recovered graph = 1\n",
      "Number of connected components in cleaned skeleton graph= 1\n",
      "The downsampled branches number of connected components = 1\n",
      "Empty submeshes = []\n",
      "\n",
      "\n",
      "--- Working on 1-to-1 correspondence-----\n",
      "max(original_labels),len(original_labels) = (0, 1)\n",
      "empty_indices % = 0.9911504424778761\n",
      " conflict_indices % = 0.0\n"
     ]
    },
    {
     "data": {
      "application/vnd.jupyter.widget-view+json": {
       "model_id": "7526b6fc1f3040f3861ed2f458870bca",
       "version_major": 2,
       "version_minor": 0
      },
      "text/plain": [
       "  0%|          | 0/1 [00:00<?, ?it/s]"
      ]
     },
     "metadata": {},
     "output_type": "display_data"
    },
    {
     "name": "stdout",
     "output_type": "stream",
     "text": [
      "Took 0 iterations to expand the label back\n",
      "empty_indices % = 0.0\n",
      " conflict_indices % = 0.0\n"
     ]
    },
    {
     "data": {
      "application/vnd.jupyter.widget-view+json": {
       "model_id": "7dc3358ca6dc4c3f8bf9308aa383c997",
       "version_major": 2,
       "version_minor": 0
      },
      "text/plain": [
       "0it [00:00, ?it/s]"
      ]
     },
     "metadata": {},
     "output_type": "display_data"
    },
    {
     "data": {
      "application/vnd.jupyter.widget-view+json": {
       "model_id": "f8a8122728fe4d77a98ef466a1efe473",
       "version_major": 2,
       "version_minor": 0
      },
      "text/plain": [
       "  0%|          | 0/1 [00:00<?, ?it/s]"
      ]
     },
     "metadata": {},
     "output_type": "display_data"
    },
    {
     "name": "stdout",
     "output_type": "stream",
     "text": [
      "Total time for MAP sublimb #0 mesh processing = 11.71201777458191\n",
      "correspondence_1_to_1: 0.19817852973937988\n",
      "Total time for MAP sublimb processing 11.712447166442871\n",
      "There were not both MAP and MP pieces so skipping the stitch resolving phase\n",
      "Time for decomp of Limb = 11.905416488647461\n",
      "Number of matching vertices = 159\n",
      "Only one endpoint after filtering away the endpoints that are not on the skeleton\n"
     ]
    },
    {
     "data": {
      "application/vnd.jupyter.widget-view+json": {
       "model_id": "b66127663ddf44f3a6c03e4f2973b1df",
       "version_major": 2,
       "version_minor": 0
      },
      "text/plain": [
       "  0%|          | 0/1 [00:00<?, ?it/s]"
      ]
     },
     "metadata": {},
     "output_type": "display_data"
    },
    {
     "name": "stdout",
     "output_type": "stream",
     "text": [
      "Removed 1 skeletal branches\n",
      "There were no branches after cleaning limb correspondence\n",
      "Successful Limb Decomposition\n",
      "Total time for Skeletonization and Mesh Correspondence = 309.5267012119293\n",
      "\n",
      "\n",
      " ----- Working on Stitching ----------\n",
      "Starting the floating pieces preprocessing\n",
      "Floating 0: <trimesh.Trimesh(vertices.shape=(114, 3), faces.shape=(224, 3))>\n",
      "invalidation_d = 12000\n",
      "use_adaptive_invalidation_d= True\n",
      "axon_width_preprocess_limb_max = 200\n",
      "filter_end_node_length= 4000\n",
      "filter_end_node_length_meshparty = 1000\n",
      "invalidation_d = 12000\n",
      "root_curr = None\n",
      "Time for preparing soma vertices and root: 8.344650268554688e-06\n",
      "invalidation_d = 12000\n",
      "smooth_neighborhood = 1\n",
      "cc_vertex_thresh = 10\n"
     ]
    },
    {
     "name": "stderr",
     "output_type": "stream",
     "text": [
      "  0%|                                                                                             | 0/1 [00:00<?, ?it/s]"
     ]
    },
    {
     "data": {
      "application/vnd.jupyter.widget-view+json": {
       "model_id": "d4cbc4379aee4cd5a9b12ef41d5591ce",
       "version_major": 2,
       "version_minor": 0
      },
      "text/plain": [
       "  0%|          | 0/113 [00:00<?, ?it/s]"
      ]
     },
     "metadata": {},
     "output_type": "display_data"
    },
    {
     "name": "stderr",
     "output_type": "stream",
     "text": [
      "100%|█████████████████████████████████████████████████████████████████████████████████████| 1/1 [00:00<00:00, 69.16it/s]"
     ]
    },
    {
     "name": "stdout",
     "output_type": "stream",
     "text": [
      "meshparty_segment_size = 100\n",
      "Time for 1st pass MP skeletonization: 0.044374942779541016\n",
      "branches_touching_root = [0]\n",
      "combining close nodes\n",
      "combine_threshold = 700\n",
      "length of Graph = 11\n",
      "After combining close endpoints max(kept_branches_idx) = 0, len(kept_branches_idx) = 1\n",
      "empty_indices % = 0.0\n",
      " conflict_indices % = 0.0\n"
     ]
    },
    {
     "name": "stderr",
     "output_type": "stream",
     "text": [
      "\n"
     ]
    },
    {
     "data": {
      "application/vnd.jupyter.widget-view+json": {
       "model_id": "82dbc652e69a4f768766b850f9d6b1ac",
       "version_major": 2,
       "version_minor": 0
      },
      "text/plain": [
       "0it [00:00, ?it/s]"
      ]
     },
     "metadata": {},
     "output_type": "display_data"
    },
    {
     "data": {
      "application/vnd.jupyter.widget-view+json": {
       "model_id": "a1c4e971878143f69961231901349369",
       "version_major": 2,
       "version_minor": 0
      },
      "text/plain": [
       "  0%|          | 0/1 [00:00<?, ?it/s]"
      ]
     },
     "metadata": {},
     "output_type": "display_data"
    },
    {
     "name": "stdout",
     "output_type": "stream",
     "text": [
      "widths = [inf]\n",
      "width_median= inf\n",
      "segment_widths_median = [inf]\n",
      "Decomposing first pass: 0.043604373931884766\n",
      "Attempting to use MeshAfterParty Skeletonization and Mesh Correspondence\n",
      "Another print\n",
      "Found len(mesh_large_idx) MAP candidates: [224]\n",
      "mesh_large_connectivity: 0.00010800361633300781\n",
      "Finding MAP candidates connected components: 6.270408630371094e-05\n",
      "Divinding into MP and MAP pieces: 1.6689300537109375e-06\n",
      "Total time for MAP sublimb processing 1.9073486328125e-06\n",
      "---- Working on MP Decomposition #0 ----\n",
      "Using Quicker soma_to_piece_touching_vertices because no MAP and only one sublimb_mesh piece \n",
      "MP filtering soma verts: 1.9311904907226562e-05\n",
      "Do Not Need to Fix MP Decomposition 0 so just continuing\n",
      "There were not both MAP and MP pieces so skipping the stitch resolving phase\n",
      "Time for decomp of Limb = 0.08960580825805664\n"
     ]
    },
    {
     "data": {
      "application/vnd.jupyter.widget-view+json": {
       "model_id": "91d3a408a75444e6a52156fdc47dbae6",
       "version_major": 2,
       "version_minor": 0
      },
      "text/plain": [
       "  0%|          | 0/2 [00:00<?, ?it/s]"
      ]
     },
     "metadata": {},
     "output_type": "display_data"
    },
    {
     "name": "stdout",
     "output_type": "stream",
     "text": [
      "Removed 2 skeletal branches\n",
      "There were no branches after cleaning limb correspondence\n"
     ]
    },
    {
     "data": {
      "application/vnd.jupyter.widget-view+json": {
       "model_id": "04fdf9e717664bf6bfa386f587b95977",
       "version_major": 2,
       "version_minor": 0
      },
      "text/plain": [
       "Container(figure=Figure(box_center=[0.5, 0.5, 0.5], box_size=[1.0, 1.0, 1.0], camera=PerspectiveCamera(fov=45.…"
      ]
     },
     "metadata": {},
     "output_type": "display_data"
    },
    {
     "name": "stdout",
     "output_type": "stream",
     "text": [
      "--> time = 0.1620938777923584\n",
      "Total time for stitching floating pieces = 0.5298736095428467\n",
      "Total time for Concept Networks = 1.369344711303711\n",
      "Total time for all mesh and skeletonization decomp = 311.42657256126404\n",
      "No soma volume ratios so computing them now\n",
      "Using Poisson Surface Reconstruction for watertightness in soma_volume_ratio\n",
      "xvfb-run -n 4336 -s \"-screen 0 800x600x24\" meshlabserver $@  -i /NEURD_Chenlab/Applications/Tutorials/Auto_Proof_Pipeline/Single_Soma_Exc/Poisson_temp/neuron_175805.off -o /NEURD_Chenlab/Applications/Tutorials/Auto_Proof_Pipeline/Single_Soma_Exc/Poisson_temp/neuron_175805_poisson.off -s /NEURD_Chenlab/Applications/Tutorials/Auto_Proof_Pipeline/Single_Soma_Exc/Poisson_temp/poisson_660628.mls\n",
      "removed temporary input file: /NEURD_Chenlab/Applications/Tutorials/Auto_Proof_Pipeline/Single_Soma_Exc/Poisson_temp/neuron_175805.off\n",
      "removed temporary output file: /NEURD_Chenlab/Applications/Tutorials/Auto_Proof_Pipeline/Single_Soma_Exc/Poisson_temp/neuron_175805_poisson.off\n",
      "mesh.is_watertight = True\n",
      "/NEURD_Chenlab/Applications/Tutorials/Auto_Proof_Pipeline/Single_Soma_Exc/Poisson_temp/poisson_660628.mls is being deleted....\n",
      "--- 1) Finished unpacking preprocessed materials: 337.30416345596313\n",
      "total_edges = [['S0', 'L0'], ['S0', 'L1'], ['S0', 'L2'], ['S0', 'L3'], ['S0', 'L4'], ['S0', 'L5'], ['S0', 'L6']]\n",
      "--- 2) Finished creating neuron connectivity graph: 0.0003643035888671875\n",
      "Having to generate soma_meshes_face_idx because none in preprocessed data\n",
      "--- 3a) Finshed generating soma_meshes_face_idx: 0.11977791786193848\n",
      "Using precomputed volume ratio\n",
      "--- 3b) Finished soma creation: 18.90290355682373\n",
      "--- 3) Finshed generating soma objects and adding them to concept graph: 0.000164031982421875\n",
      "--- 4a) Finshed generating curr_limb_meshes_face_idx: 0.5198488235473633\n",
      "curr_limb_concept_networks= {0: [<datasci_tools.networkx_utils.GraphOrderedEdges object at 0x7f848612f790>]}\n",
      "curr_limb_concept_networks= {0: [<datasci_tools.networkx_utils.GraphOrderedEdges object at 0x7f836c5a0160>]}\n",
      "curr_limb_concept_networks= {0: [<datasci_tools.networkx_utils.GraphOrderedEdges object at 0x7f8367129730>]}\n",
      "curr_limb_concept_networks= {0: [<datasci_tools.networkx_utils.GraphOrderedEdges object at 0x7f836a4cd460>]}\n",
      "curr_limb_concept_networks= {0: [<datasci_tools.networkx_utils.GraphOrderedEdges object at 0x7f836a4cd340>]}\n",
      "curr_limb_concept_networks= {0: [<datasci_tools.networkx_utils.GraphOrderedEdges object at 0x7f8367129820>]}\n",
      "curr_limb_concept_networks= {0: [<datasci_tools.networkx_utils.GraphOrderedEdges object at 0x7f8374698ca0>]}\n",
      "--- 4) Finshed generating Limb objects and adding them to concept graph: 1.4319415092468262\n",
      "--- 5) SKIPPING Doing the adaptive mesh correspondence on the meshparty preprocessing ---\n",
      "--- 6) SKIPPING Using the computed_attribute_dict to populate neuron attributes ---\n",
      "self.n_limbs = 7\n",
      "7) Calculating the spines for the neuorn if do not already exist\n",
      "7a) calculating spines because didn't exist\n",
      "The median_mesh_center was requested but has not already been calculated so calculating now.... \n",
      "width_name BEFORE processing = None\n",
      "After processing\n",
      "width_name = median_mesh_center, distance_by_mesh_center= True, no_spines = False, summary_measure= median\n",
      "Working on limb L0 branch 3\n",
      "    current_width= 815.4958543306819\n",
      "Working on limb L0 branch 2\n",
      "    current_width= 290.6647692495148\n",
      "Working on limb L0 branch 5\n",
      "    current_width= 626.0317281041872\n",
      "Working on limb L0 branch 0\n",
      "    current_width= 313.24484502419125\n",
      "Working on limb L0 branch 1\n",
      "    current_width= 300.03913989968\n",
      "Working on limb L0 branch 4\n",
      "    current_width= 357.25729664097986\n",
      "Working on limb L0 branch 6\n",
      "    current_width= 638.9887559329763\n",
      "Working on limb L0 branch 7\n",
      "    current_width= 543.1081562555194\n",
      "Working on limb L0 branch 8\n",
      "    current_width= 440.8530375947197\n",
      "Working on limb L0 branch 9\n",
      "    current_width= 260.32838546597316\n",
      "Working on limb L0 branch 10\n",
      "    current_width= 514.9555927994427\n",
      "Working on limb L0 branch 11\n",
      "    current_width= 329.0313985075601\n",
      "Working on limb L0 branch 12\n",
      "    current_width= 333.67447234039366\n",
      "Working on limb L0 branch 13\n",
      "    current_width= 208.3876049516394\n",
      "Working on limb L0 branch 14\n",
      "    current_width= 576.8762612318483\n",
      "Working on limb L0 branch 15\n",
      "    current_width= 298.0965471231432\n",
      "Working on limb L0 branch 16\n",
      "    current_width= 291.8394741960439\n",
      "Working on limb L0 branch 17\n",
      "    current_width= 462.8026273228779\n",
      "Working on limb L0 branch 18\n",
      "    current_width= 325.0196875617862\n",
      "Working on limb L1 branch 10\n",
      "    current_width= 1202.1865265648582\n",
      "Working on limb L1 branch 8\n",
      "    current_width= 510.20646799075905\n",
      "Working on limb L1 branch 11\n",
      "    current_width= 854.2228005444981\n",
      "Working on limb L1 branch 15\n",
      "    current_width= 275.47003302355733\n",
      "Working on limb L1 branch 4\n",
      "    current_width= 428.8938073098944\n",
      "Working on limb L1 branch 6\n",
      "    current_width= 337.8811809377324\n",
      "Working on limb L1 branch 9\n",
      "    current_width= 469.64113284462894\n",
      "Working on limb L1 branch 12\n",
      "    current_width= 655.3377361454628\n",
      "Working on limb L1 branch 1\n",
      "    current_width= 356.785952023522\n",
      "Working on limb L1 branch 3\n",
      "    current_width= 288.69578072052536\n",
      "Working on limb L1 branch 5\n",
      "    current_width= 460.94241200871704\n",
      "Working on limb L1 branch 7\n",
      "    current_width= 284.2031772952952\n",
      "Working on limb L1 branch 13\n",
      "    current_width= 364.6573203856787\n",
      "Working on limb L1 branch 14\n",
      "    current_width= 614.469520438232\n",
      "Working on limb L1 branch 0\n",
      "    current_width= 302.23752028081617\n",
      "Working on limb L1 branch 2\n",
      "    current_width= 304.5257070509484\n",
      "Working on limb L2 branch 0\n",
      "    current_width= 664.4743251990463\n",
      "Working on limb L2 branch 1\n",
      "    current_width= 307.3548198339307\n",
      "Working on limb L2 branch 2\n",
      "    current_width= 488.46673716212933\n",
      "Working on limb L2 branch 3\n",
      "    current_width= 341.33885490394323\n",
      "Working on limb L2 branch 4\n",
      "    current_width= 563.3328403188829\n",
      "Working on limb L2 branch 5\n",
      "    current_width= 560.3203326241478\n",
      "Working on limb L2 branch 6\n",
      "    current_width= 302.3587607441061\n",
      "Working on limb L2 branch 7\n",
      "    current_width= 292.1934614075396\n",
      "Working on limb L2 branch 8\n",
      "    current_width= 382.3884297262617\n",
      "Working on limb L3 branch 2\n",
      "    current_width= 660.3774471426267\n",
      "Working on limb L3 branch 0\n",
      "    current_width= 373.4025908029828\n",
      "Working on limb L3 branch 1\n",
      "    current_width= 483.52714092113763\n",
      "Working on limb L4 branch 4\n",
      "    current_width= 551.9178036727787\n",
      "Working on limb L4 branch 2\n",
      "    current_width= 417.2554540672859\n",
      "Working on limb L4 branch 3\n",
      "    current_width= 424.2578106288396\n",
      "Working on limb L4 branch 0\n",
      "    current_width= 345.34665350307876\n",
      "Working on limb L4 branch 1\n",
      "    current_width= 227.30643148515128\n",
      "Working on limb L5 branch 0\n",
      "    current_width= 265.01892250583944\n",
      "Working on limb L6 branch 0\n",
      "Assigning the old width calculation because no valid new widths\n",
      "    current_width= 636.4178163553174\n",
      "ally_centered_speed_tradeoff AFTER = 0.2\n",
      "medial centered AFTER 1\n",
      "AREA VARIATION AFTER 0.0001\n",
      "MAX ITERATIONS AFTER 500\n",
      "medial centered END 1\n",
      "set_medially_centered_speed_tradeoff END = 0.2\n",
      "quality_speed_tradeoff END = 0.2\n",
      "Max iterations END = 500\n",
      "AREA VARIATION END 0.0001\n",
      "Number of vertices of the skeleton: 141\n",
      "Number of edges of the skeleton: 140\n",
      "MAX ITERATIONS initially 500\n",
      "AREA VARIATION initially 0.0001\n",
      "medial centered initially 1\n",
      "medially_centered_speed_tradeoff initially 0.2\n",
      "quality_speed_tradeoff initially 0.1\n",
      "max_triangle_angle initially 1.91986\n",
      "min_edge_length initially 20.9542\n",
      "setting the edge length by absolute length\n",
      "min_edge_length AFTER = 75\n",
      "max_triangle_angle AFTER = 1.91986\n",
      "quality_speed_tradeoff AFTER = 0.2\n",
      "set_medially_centered_speed_tradeoff AFTER = 0.2\n",
      "medial centered AFTER 1\n",
      "AREA VARIATION AFTER 0.0001\n",
      "MAX ITERATIONS AFTER 500\n",
      "medial centered END 1\n",
      "set_medially_centered_speed_tradeoff END = 0.2\n",
      "quality_speed_tradeoff END = 0.2\n",
      "Max iterations END = 500\n",
      "AREA VARIATION END 0.0001\n",
      "Number of vertices of the skeleton: 3\n",
      "Number of edges of the skeleton: 2\n",
      "\n",
      "Number of segments: 28\n",
      "\n"
     ]
    },
    {
     "data": {
      "application/vnd.jupyter.widget-view+json": {
       "model_id": "948ec5d5549c43d9a5008a96fb8ba4ef",
       "version_major": 2,
       "version_minor": 0
      },
      "text/plain": [
       "  0%|          | 0/28 [00:00<?, ?it/s]"
      ]
     },
     "metadata": {},
     "output_type": "display_data"
    },
    {
     "data": {
      "application/vnd.jupyter.widget-view+json": {
       "model_id": "6f0c835337c7474cbf56411222e0b32c",
       "version_major": 2,
       "version_minor": 0
      },
      "text/plain": [
       "  0%|          | 0/28 [00:00<?, ?it/s]"
      ]
     },
     "metadata": {},
     "output_type": "display_data"
    },
    {
     "name": "stdout",
     "output_type": "stream",
     "text": [
      "Filtering away by face and skeletal length\n",
      "\n",
      "Number of segments: 17\n",
      "\n"
     ]
    },
    {
     "data": {
      "application/vnd.jupyter.widget-view+json": {
       "model_id": "bd360306df9849eebb7b24bacf9ecab1",
       "version_major": 2,
       "version_minor": 0
      },
      "text/plain": [
       "  0%|          | 0/17 [00:00<?, ?it/s]"
      ]
     },
     "metadata": {},
     "output_type": "display_data"
    },
    {
     "data": {
      "application/vnd.jupyter.widget-view+json": {
       "model_id": "fa7c6db40b314fff9e9ddd2a2df5389c",
       "version_major": 2,
       "version_minor": 0
      },
      "text/plain": [
       "  0%|          | 0/17 [00:00<?, ?it/s]"
      ]
     },
     "metadata": {},
     "output_type": "display_data"
    },
    {
     "name": "stdout",
     "output_type": "stream",
     "text": [
      "Filtering away by face and skeletal length\n",
      "\n",
      "Number of segments: 28\n",
      "\n"
     ]
    },
    {
     "data": {
      "application/vnd.jupyter.widget-view+json": {
       "model_id": "2b6b39c6425d4821a0bef5e8f6348f9c",
       "version_major": 2,
       "version_minor": 0
      },
      "text/plain": [
       "  0%|          | 0/28 [00:00<?, ?it/s]"
      ]
     },
     "metadata": {},
     "output_type": "display_data"
    },
    {
     "data": {
      "application/vnd.jupyter.widget-view+json": {
       "model_id": "6cb1f3833be64022917413b0e0517c5d",
       "version_major": 2,
       "version_minor": 0
      },
      "text/plain": [
       "  0%|          | 0/28 [00:00<?, ?it/s]"
      ]
     },
     "metadata": {},
     "output_type": "display_data"
    },
    {
     "name": "stdout",
     "output_type": "stream",
     "text": [
      "Filtering away by face and skeletal length\n",
      "\n",
      "Number of segments: 11\n",
      "\n"
     ]
    },
    {
     "data": {
      "application/vnd.jupyter.widget-view+json": {
       "model_id": "13a40341cb614e838209005841630bed",
       "version_major": 2,
       "version_minor": 0
      },
      "text/plain": [
       "  0%|          | 0/11 [00:00<?, ?it/s]"
      ]
     },
     "metadata": {},
     "output_type": "display_data"
    },
    {
     "data": {
      "application/vnd.jupyter.widget-view+json": {
       "model_id": "3d5ad1c2b96a482f9eb37818fbb96d14",
       "version_major": 2,
       "version_minor": 0
      },
      "text/plain": [
       "  0%|          | 0/11 [00:00<?, ?it/s]"
      ]
     },
     "metadata": {},
     "output_type": "display_data"
    },
    {
     "name": "stdout",
     "output_type": "stream",
     "text": [
      "Filtering away by face and skeletal length\n",
      "\n",
      "Number of segments: 69\n",
      "\n"
     ]
    },
    {
     "data": {
      "application/vnd.jupyter.widget-view+json": {
       "model_id": "d830b6aecd454246b3497f37c49191ba",
       "version_major": 2,
       "version_minor": 0
      },
      "text/plain": [
       "  0%|          | 0/69 [00:00<?, ?it/s]"
      ]
     },
     "metadata": {},
     "output_type": "display_data"
    },
    {
     "data": {
      "application/vnd.jupyter.widget-view+json": {
       "model_id": "0eb84289d6944071a1dd0c8e1cca26fd",
       "version_major": 2,
       "version_minor": 0
      },
      "text/plain": [
       "  0%|          | 0/69 [00:00<?, ?it/s]"
      ]
     },
     "metadata": {},
     "output_type": "display_data"
    },
    {
     "name": "stdout",
     "output_type": "stream",
     "text": [
      "Filtering away by face and skeletal length\n",
      "\n",
      "Number of segments: 24\n",
      "\n"
     ]
    },
    {
     "data": {
      "application/vnd.jupyter.widget-view+json": {
       "model_id": "638cac28821e4790ac54e9727b2ae444",
       "version_major": 2,
       "version_minor": 0
      },
      "text/plain": [
       "  0%|          | 0/24 [00:00<?, ?it/s]"
      ]
     },
     "metadata": {},
     "output_type": "display_data"
    },
    {
     "data": {
      "application/vnd.jupyter.widget-view+json": {
       "model_id": "44a76b8db5144b41af4fa21a0742c466",
       "version_major": 2,
       "version_minor": 0
      },
      "text/plain": [
       "  0%|          | 0/24 [00:00<?, ?it/s]"
      ]
     },
     "metadata": {},
     "output_type": "display_data"
    },
    {
     "name": "stdout",
     "output_type": "stream",
     "text": [
      "Filtering away by face and skeletal length\n",
      "\n",
      "Number of segments: 21\n",
      "\n"
     ]
    },
    {
     "data": {
      "application/vnd.jupyter.widget-view+json": {
       "model_id": "164ccebb447848dc995315c54110e80d",
       "version_major": 2,
       "version_minor": 0
      },
      "text/plain": [
       "  0%|          | 0/21 [00:00<?, ?it/s]"
      ]
     },
     "metadata": {},
     "output_type": "display_data"
    },
    {
     "data": {
      "application/vnd.jupyter.widget-view+json": {
       "model_id": "33a3ae02eff04011a29647326fee6523",
       "version_major": 2,
       "version_minor": 0
      },
      "text/plain": [
       "  0%|          | 0/21 [00:00<?, ?it/s]"
      ]
     },
     "metadata": {},
     "output_type": "display_data"
    },
    {
     "name": "stdout",
     "output_type": "stream",
     "text": [
      "Filtering away by face and skeletal length\n",
      "\n",
      "Number of segments: 33\n",
      "\n"
     ]
    },
    {
     "data": {
      "application/vnd.jupyter.widget-view+json": {
       "model_id": "b62ecf31d8f249d6b1642803c7d9835d",
       "version_major": 2,
       "version_minor": 0
      },
      "text/plain": [
       "  0%|          | 0/33 [00:00<?, ?it/s]"
      ]
     },
     "metadata": {},
     "output_type": "display_data"
    },
    {
     "data": {
      "application/vnd.jupyter.widget-view+json": {
       "model_id": "dc1e272816d7405b92afee936728e8cf",
       "version_major": 2,
       "version_minor": 0
      },
      "text/plain": [
       "  0%|          | 0/33 [00:00<?, ?it/s]"
      ]
     },
     "metadata": {},
     "output_type": "display_data"
    },
    {
     "name": "stdout",
     "output_type": "stream",
     "text": [
      "Filtering away by face and skeletal length\n",
      "\n",
      "Number of segments: 21\n",
      "\n"
     ]
    },
    {
     "data": {
      "application/vnd.jupyter.widget-view+json": {
       "model_id": "2d870eb357094fe3a418c42242f2e42d",
       "version_major": 2,
       "version_minor": 0
      },
      "text/plain": [
       "  0%|          | 0/21 [00:00<?, ?it/s]"
      ]
     },
     "metadata": {},
     "output_type": "display_data"
    },
    {
     "data": {
      "application/vnd.jupyter.widget-view+json": {
       "model_id": "b86f99b847394d28a4db7c1b8e50f376",
       "version_major": 2,
       "version_minor": 0
      },
      "text/plain": [
       "  0%|          | 0/21 [00:00<?, ?it/s]"
      ]
     },
     "metadata": {},
     "output_type": "display_data"
    },
    {
     "name": "stdout",
     "output_type": "stream",
     "text": [
      "Filtering away by face and skeletal length\n",
      "\n",
      "Number of segments: 14\n",
      "\n"
     ]
    },
    {
     "data": {
      "application/vnd.jupyter.widget-view+json": {
       "model_id": "b05f36f13dc449e59d0de88ee85c841d",
       "version_major": 2,
       "version_minor": 0
      },
      "text/plain": [
       "  0%|          | 0/14 [00:00<?, ?it/s]"
      ]
     },
     "metadata": {},
     "output_type": "display_data"
    },
    {
     "data": {
      "application/vnd.jupyter.widget-view+json": {
       "model_id": "088c0c18752d4abcb341365057518f71",
       "version_major": 2,
       "version_minor": 0
      },
      "text/plain": [
       "  0%|          | 0/14 [00:00<?, ?it/s]"
      ]
     },
     "metadata": {},
     "output_type": "display_data"
    },
    {
     "name": "stdout",
     "output_type": "stream",
     "text": [
      "Filtering away by face and skeletal length\n",
      "\n",
      "Number of segments: 72\n",
      "\n"
     ]
    },
    {
     "data": {
      "application/vnd.jupyter.widget-view+json": {
       "model_id": "8b6ddfb122ba4f42895198fe51b549d4",
       "version_major": 2,
       "version_minor": 0
      },
      "text/plain": [
       "  0%|          | 0/72 [00:00<?, ?it/s]"
      ]
     },
     "metadata": {},
     "output_type": "display_data"
    },
    {
     "data": {
      "application/vnd.jupyter.widget-view+json": {
       "model_id": "af1a33817d944a1ba1757f957af4d379",
       "version_major": 2,
       "version_minor": 0
      },
      "text/plain": [
       "  0%|          | 0/72 [00:00<?, ?it/s]"
      ]
     },
     "metadata": {},
     "output_type": "display_data"
    },
    {
     "name": "stdout",
     "output_type": "stream",
     "text": [
      "Filtering away by face and skeletal length\n",
      "\n",
      "Number of segments: 62\n",
      "\n"
     ]
    },
    {
     "data": {
      "application/vnd.jupyter.widget-view+json": {
       "model_id": "9428ba70805f49f786069c7bbb7b0e4a",
       "version_major": 2,
       "version_minor": 0
      },
      "text/plain": [
       "  0%|          | 0/62 [00:00<?, ?it/s]"
      ]
     },
     "metadata": {},
     "output_type": "display_data"
    },
    {
     "data": {
      "application/vnd.jupyter.widget-view+json": {
       "model_id": "f18214db6ed643568bf151e6d838a58b",
       "version_major": 2,
       "version_minor": 0
      },
      "text/plain": [
       "  0%|          | 0/62 [00:00<?, ?it/s]"
      ]
     },
     "metadata": {},
     "output_type": "display_data"
    },
    {
     "name": "stdout",
     "output_type": "stream",
     "text": [
      "Filtering away by face and skeletal length\n",
      "\n",
      "Number of segments: 46\n",
      "\n"
     ]
    },
    {
     "data": {
      "application/vnd.jupyter.widget-view+json": {
       "model_id": "bf90006869ec4603b6709abd0da512bc",
       "version_major": 2,
       "version_minor": 0
      },
      "text/plain": [
       "  0%|          | 0/46 [00:00<?, ?it/s]"
      ]
     },
     "metadata": {},
     "output_type": "display_data"
    },
    {
     "data": {
      "application/vnd.jupyter.widget-view+json": {
       "model_id": "78e10d7d5aea4e96ae3132e6eb491c24",
       "version_major": 2,
       "version_minor": 0
      },
      "text/plain": [
       "  0%|          | 0/46 [00:00<?, ?it/s]"
      ]
     },
     "metadata": {},
     "output_type": "display_data"
    },
    {
     "name": "stdout",
     "output_type": "stream",
     "text": [
      "Filtering away by face and skeletal length\n",
      "\n",
      "Number of segments: 23\n",
      "\n"
     ]
    },
    {
     "data": {
      "application/vnd.jupyter.widget-view+json": {
       "model_id": "59862aac71fa47f8b18ccb48612292a2",
       "version_major": 2,
       "version_minor": 0
      },
      "text/plain": [
       "  0%|          | 0/23 [00:00<?, ?it/s]"
      ]
     },
     "metadata": {},
     "output_type": "display_data"
    },
    {
     "data": {
      "application/vnd.jupyter.widget-view+json": {
       "model_id": "2f2ae70bf5a64522bc64c8f9b62352bc",
       "version_major": 2,
       "version_minor": 0
      },
      "text/plain": [
       "  0%|          | 0/23 [00:00<?, ?it/s]"
      ]
     },
     "metadata": {},
     "output_type": "display_data"
    },
    {
     "name": "stdout",
     "output_type": "stream",
     "text": [
      "Filtering away by face and skeletal length\n",
      "\n",
      "Number of segments: 26\n",
      "\n"
     ]
    },
    {
     "data": {
      "application/vnd.jupyter.widget-view+json": {
       "model_id": "51baf96d857744b1a1e3c99215839bc3",
       "version_major": 2,
       "version_minor": 0
      },
      "text/plain": [
       "  0%|          | 0/26 [00:00<?, ?it/s]"
      ]
     },
     "metadata": {},
     "output_type": "display_data"
    },
    {
     "data": {
      "application/vnd.jupyter.widget-view+json": {
       "model_id": "288b12aa17024fe2bb536d22c194962d",
       "version_major": 2,
       "version_minor": 0
      },
      "text/plain": [
       "  0%|          | 0/26 [00:00<?, ?it/s]"
      ]
     },
     "metadata": {},
     "output_type": "display_data"
    },
    {
     "name": "stdout",
     "output_type": "stream",
     "text": [
      "Filtering away by face and skeletal length\n",
      "\n",
      "Number of segments: 35\n",
      "\n"
     ]
    },
    {
     "data": {
      "application/vnd.jupyter.widget-view+json": {
       "model_id": "df4416401e684b1f876415f10f2f1b5f",
       "version_major": 2,
       "version_minor": 0
      },
      "text/plain": [
       "  0%|          | 0/35 [00:00<?, ?it/s]"
      ]
     },
     "metadata": {},
     "output_type": "display_data"
    },
    {
     "data": {
      "application/vnd.jupyter.widget-view+json": {
       "model_id": "06755b9b8c1d412f997ac3cd8c588226",
       "version_major": 2,
       "version_minor": 0
      },
      "text/plain": [
       "  0%|          | 0/35 [00:00<?, ?it/s]"
      ]
     },
     "metadata": {},
     "output_type": "display_data"
    },
    {
     "name": "stdout",
     "output_type": "stream",
     "text": [
      "Filtering away by face and skeletal length\n",
      "\n",
      "Number of segments: 26\n",
      "\n"
     ]
    },
    {
     "data": {
      "application/vnd.jupyter.widget-view+json": {
       "model_id": "5b2c3de58e4943b785320cd902f12e15",
       "version_major": 2,
       "version_minor": 0
      },
      "text/plain": [
       "  0%|          | 0/26 [00:00<?, ?it/s]"
      ]
     },
     "metadata": {},
     "output_type": "display_data"
    },
    {
     "data": {
      "application/vnd.jupyter.widget-view+json": {
       "model_id": "0ec64bd5f52d40839090138ea34822d3",
       "version_major": 2,
       "version_minor": 0
      },
      "text/plain": [
       "  0%|          | 0/26 [00:00<?, ?it/s]"
      ]
     },
     "metadata": {},
     "output_type": "display_data"
    },
    {
     "name": "stdout",
     "output_type": "stream",
     "text": [
      "Filtering away by face and skeletal length\n",
      "\n",
      "Number of segments: 31\n",
      "\n"
     ]
    },
    {
     "data": {
      "application/vnd.jupyter.widget-view+json": {
       "model_id": "4ab24b3ef23d4e12b6e51b05f137703f",
       "version_major": 2,
       "version_minor": 0
      },
      "text/plain": [
       "  0%|          | 0/31 [00:00<?, ?it/s]"
      ]
     },
     "metadata": {},
     "output_type": "display_data"
    },
    {
     "data": {
      "application/vnd.jupyter.widget-view+json": {
       "model_id": "9cc42714b3b54b66ba5d4c1b8ddb1805",
       "version_major": 2,
       "version_minor": 0
      },
      "text/plain": [
       "  0%|          | 0/31 [00:00<?, ?it/s]"
      ]
     },
     "metadata": {},
     "output_type": "display_data"
    },
    {
     "name": "stdout",
     "output_type": "stream",
     "text": [
      "Filtering away by face and skeletal length\n",
      "\n",
      "Number of segments: 47\n",
      "\n"
     ]
    },
    {
     "data": {
      "application/vnd.jupyter.widget-view+json": {
       "model_id": "ffb20fa982be43d9a488b11ee345974c",
       "version_major": 2,
       "version_minor": 0
      },
      "text/plain": [
       "  0%|          | 0/47 [00:00<?, ?it/s]"
      ]
     },
     "metadata": {},
     "output_type": "display_data"
    },
    {
     "data": {
      "application/vnd.jupyter.widget-view+json": {
       "model_id": "2ede9ee3de984372a28df1cb2bd461a8",
       "version_major": 2,
       "version_minor": 0
      },
      "text/plain": [
       "  0%|          | 0/47 [00:00<?, ?it/s]"
      ]
     },
     "metadata": {},
     "output_type": "display_data"
    },
    {
     "name": "stdout",
     "output_type": "stream",
     "text": [
      "Filtering away by face and skeletal length\n",
      "\n",
      "Number of segments: 59\n",
      "\n"
     ]
    },
    {
     "data": {
      "application/vnd.jupyter.widget-view+json": {
       "model_id": "ffaeabfff70e4b268647b7567d25110a",
       "version_major": 2,
       "version_minor": 0
      },
      "text/plain": [
       "  0%|          | 0/59 [00:00<?, ?it/s]"
      ]
     },
     "metadata": {},
     "output_type": "display_data"
    },
    {
     "data": {
      "application/vnd.jupyter.widget-view+json": {
       "model_id": "ded6dbd1f1594db3a8f2374a22b7f70b",
       "version_major": 2,
       "version_minor": 0
      },
      "text/plain": [
       "  0%|          | 0/59 [00:00<?, ?it/s]"
      ]
     },
     "metadata": {},
     "output_type": "display_data"
    },
    {
     "name": "stdout",
     "output_type": "stream",
     "text": [
      "Filtering away by face and skeletal length\n",
      "\n",
      "Number of segments: 47\n",
      "\n"
     ]
    },
    {
     "data": {
      "application/vnd.jupyter.widget-view+json": {
       "model_id": "14281e260b02498d930950bc2a5a3f34",
       "version_major": 2,
       "version_minor": 0
      },
      "text/plain": [
       "  0%|          | 0/47 [00:00<?, ?it/s]"
      ]
     },
     "metadata": {},
     "output_type": "display_data"
    },
    {
     "data": {
      "application/vnd.jupyter.widget-view+json": {
       "model_id": "0793b75b628048c08173dfb2feb929dd",
       "version_major": 2,
       "version_minor": 0
      },
      "text/plain": [
       "  0%|          | 0/47 [00:00<?, ?it/s]"
      ]
     },
     "metadata": {},
     "output_type": "display_data"
    },
    {
     "name": "stdout",
     "output_type": "stream",
     "text": [
      "Filtering away by face and skeletal length\n",
      "\n",
      "Number of segments: 66\n",
      "\n"
     ]
    },
    {
     "data": {
      "application/vnd.jupyter.widget-view+json": {
       "model_id": "4fc8c375375a4a7faf8dd3ee90d67da0",
       "version_major": 2,
       "version_minor": 0
      },
      "text/plain": [
       "  0%|          | 0/66 [00:00<?, ?it/s]"
      ]
     },
     "metadata": {},
     "output_type": "display_data"
    },
    {
     "data": {
      "application/vnd.jupyter.widget-view+json": {
       "model_id": "a6fe19f55216447c9ca5ef7f9f72904f",
       "version_major": 2,
       "version_minor": 0
      },
      "text/plain": [
       "  0%|          | 0/66 [00:00<?, ?it/s]"
      ]
     },
     "metadata": {},
     "output_type": "display_data"
    },
    {
     "name": "stdout",
     "output_type": "stream",
     "text": [
      "Filtering away by face and skeletal length\n",
      "\n",
      "Number of segments: 13\n",
      "\n"
     ]
    },
    {
     "data": {
      "application/vnd.jupyter.widget-view+json": {
       "model_id": "beba15f765194d9797cf57598994e845",
       "version_major": 2,
       "version_minor": 0
      },
      "text/plain": [
       "  0%|          | 0/13 [00:00<?, ?it/s]"
      ]
     },
     "metadata": {},
     "output_type": "display_data"
    },
    {
     "data": {
      "application/vnd.jupyter.widget-view+json": {
       "model_id": "a1717968d85d44a4a7b90206aa103777",
       "version_major": 2,
       "version_minor": 0
      },
      "text/plain": [
       "  0%|          | 0/13 [00:00<?, ?it/s]"
      ]
     },
     "metadata": {},
     "output_type": "display_data"
    },
    {
     "name": "stdout",
     "output_type": "stream",
     "text": [
      "Filtering away by face and skeletal length\n",
      "\n",
      "Number of segments: 26\n",
      "\n"
     ]
    },
    {
     "data": {
      "application/vnd.jupyter.widget-view+json": {
       "model_id": "55dd731649884260b79f510d6154eef9",
       "version_major": 2,
       "version_minor": 0
      },
      "text/plain": [
       "  0%|          | 0/26 [00:00<?, ?it/s]"
      ]
     },
     "metadata": {},
     "output_type": "display_data"
    },
    {
     "data": {
      "application/vnd.jupyter.widget-view+json": {
       "model_id": "422e7e941999403d9cdd169e8598acf7",
       "version_major": 2,
       "version_minor": 0
      },
      "text/plain": [
       "  0%|          | 0/26 [00:00<?, ?it/s]"
      ]
     },
     "metadata": {},
     "output_type": "display_data"
    },
    {
     "name": "stdout",
     "output_type": "stream",
     "text": [
      "Filtering away by face and skeletal length\n",
      "\n",
      "Number of segments: 48\n",
      "\n"
     ]
    },
    {
     "data": {
      "application/vnd.jupyter.widget-view+json": {
       "model_id": "b9c0895a17cd4b48a6976c72c0d76ead",
       "version_major": 2,
       "version_minor": 0
      },
      "text/plain": [
       "  0%|          | 0/48 [00:00<?, ?it/s]"
      ]
     },
     "metadata": {},
     "output_type": "display_data"
    },
    {
     "data": {
      "application/vnd.jupyter.widget-view+json": {
       "model_id": "7dfc7121fd1643479ffabea1f989a28e",
       "version_major": 2,
       "version_minor": 0
      },
      "text/plain": [
       "  0%|          | 0/48 [00:00<?, ?it/s]"
      ]
     },
     "metadata": {},
     "output_type": "display_data"
    },
    {
     "name": "stdout",
     "output_type": "stream",
     "text": [
      "Filtering away by face and skeletal length\n",
      "\n",
      "Number of segments: 34\n",
      "\n"
     ]
    },
    {
     "data": {
      "application/vnd.jupyter.widget-view+json": {
       "model_id": "33f3fd3c17c5449dae445cd7ef3b6e0e",
       "version_major": 2,
       "version_minor": 0
      },
      "text/plain": [
       "  0%|          | 0/34 [00:00<?, ?it/s]"
      ]
     },
     "metadata": {},
     "output_type": "display_data"
    },
    {
     "data": {
      "application/vnd.jupyter.widget-view+json": {
       "model_id": "6737a71d458e498983dbcf8f1dd93f98",
       "version_major": 2,
       "version_minor": 0
      },
      "text/plain": [
       "  0%|          | 0/34 [00:00<?, ?it/s]"
      ]
     },
     "metadata": {},
     "output_type": "display_data"
    },
    {
     "name": "stdout",
     "output_type": "stream",
     "text": [
      "Filtering away by face and skeletal length\n",
      "\n",
      "Number of segments: 22\n",
      "\n"
     ]
    },
    {
     "data": {
      "application/vnd.jupyter.widget-view+json": {
       "model_id": "7134a44bdfd143f197561f83814a008d",
       "version_major": 2,
       "version_minor": 0
      },
      "text/plain": [
       "  0%|          | 0/22 [00:00<?, ?it/s]"
      ]
     },
     "metadata": {},
     "output_type": "display_data"
    },
    {
     "data": {
      "application/vnd.jupyter.widget-view+json": {
       "model_id": "b3e977b6e340426488db609d2539dcc9",
       "version_major": 2,
       "version_minor": 0
      },
      "text/plain": [
       "  0%|          | 0/22 [00:00<?, ?it/s]"
      ]
     },
     "metadata": {},
     "output_type": "display_data"
    },
    {
     "name": "stdout",
     "output_type": "stream",
     "text": [
      "Filtering away by face and skeletal length\n",
      "\n",
      "Number of segments: 44\n",
      "\n"
     ]
    },
    {
     "data": {
      "application/vnd.jupyter.widget-view+json": {
       "model_id": "094c2ea511f24bd383881df217d433c1",
       "version_major": 2,
       "version_minor": 0
      },
      "text/plain": [
       "  0%|          | 0/44 [00:00<?, ?it/s]"
      ]
     },
     "metadata": {},
     "output_type": "display_data"
    },
    {
     "data": {
      "application/vnd.jupyter.widget-view+json": {
       "model_id": "ea2c0e1b7f77413494d7453ec66071ef",
       "version_major": 2,
       "version_minor": 0
      },
      "text/plain": [
       "  0%|          | 0/44 [00:00<?, ?it/s]"
      ]
     },
     "metadata": {},
     "output_type": "display_data"
    },
    {
     "name": "stdout",
     "output_type": "stream",
     "text": [
      "Filtering away by face and skeletal length\n",
      "\n",
      "Number of segments: 30\n",
      "\n"
     ]
    },
    {
     "data": {
      "application/vnd.jupyter.widget-view+json": {
       "model_id": "1e79ea6159164ffebd10c250bd9a9c3b",
       "version_major": 2,
       "version_minor": 0
      },
      "text/plain": [
       "  0%|          | 0/30 [00:00<?, ?it/s]"
      ]
     },
     "metadata": {},
     "output_type": "display_data"
    },
    {
     "data": {
      "application/vnd.jupyter.widget-view+json": {
       "model_id": "5c3aa438d858441895c99e78621b7df6",
       "version_major": 2,
       "version_minor": 0
      },
      "text/plain": [
       "  0%|          | 0/30 [00:00<?, ?it/s]"
      ]
     },
     "metadata": {},
     "output_type": "display_data"
    },
    {
     "name": "stdout",
     "output_type": "stream",
     "text": [
      "Filtering away by face and skeletal length\n",
      "\n",
      "Number of segments: 21\n",
      "\n"
     ]
    },
    {
     "data": {
      "application/vnd.jupyter.widget-view+json": {
       "model_id": "d2992b84aa764ef08edc3c974d6256f4",
       "version_major": 2,
       "version_minor": 0
      },
      "text/plain": [
       "  0%|          | 0/21 [00:00<?, ?it/s]"
      ]
     },
     "metadata": {},
     "output_type": "display_data"
    },
    {
     "data": {
      "application/vnd.jupyter.widget-view+json": {
       "model_id": "8951cbc1e2484cfab775a02330a90994",
       "version_major": 2,
       "version_minor": 0
      },
      "text/plain": [
       "  0%|          | 0/21 [00:00<?, ?it/s]"
      ]
     },
     "metadata": {},
     "output_type": "display_data"
    },
    {
     "name": "stdout",
     "output_type": "stream",
     "text": [
      "Filtering away by face and skeletal length\n",
      "\n",
      "Number of segments: 29\n",
      "\n"
     ]
    },
    {
     "data": {
      "application/vnd.jupyter.widget-view+json": {
       "model_id": "6cb81d7cb62e4be0b12e8b052f8dede3",
       "version_major": 2,
       "version_minor": 0
      },
      "text/plain": [
       "  0%|          | 0/29 [00:00<?, ?it/s]"
      ]
     },
     "metadata": {},
     "output_type": "display_data"
    },
    {
     "data": {
      "application/vnd.jupyter.widget-view+json": {
       "model_id": "e47a9fb25ff9452f8f959c691f04711c",
       "version_major": 2,
       "version_minor": 0
      },
      "text/plain": [
       "  0%|          | 0/29 [00:00<?, ?it/s]"
      ]
     },
     "metadata": {},
     "output_type": "display_data"
    },
    {
     "name": "stdout",
     "output_type": "stream",
     "text": [
      "Filtering away by face and skeletal length\n",
      "\n",
      "Number of segments: 23\n",
      "\n"
     ]
    },
    {
     "data": {
      "application/vnd.jupyter.widget-view+json": {
       "model_id": "7cc64ed87d5d482fb4a240a4eadd632a",
       "version_major": 2,
       "version_minor": 0
      },
      "text/plain": [
       "  0%|          | 0/23 [00:00<?, ?it/s]"
      ]
     },
     "metadata": {},
     "output_type": "display_data"
    },
    {
     "data": {
      "application/vnd.jupyter.widget-view+json": {
       "model_id": "77697a580c164c27b419cc2de07ebebd",
       "version_major": 2,
       "version_minor": 0
      },
      "text/plain": [
       "  0%|          | 0/23 [00:00<?, ?it/s]"
      ]
     },
     "metadata": {},
     "output_type": "display_data"
    },
    {
     "name": "stdout",
     "output_type": "stream",
     "text": [
      "Filtering away by face and skeletal length\n",
      "\n",
      "Number of segments: 53\n",
      "\n"
     ]
    },
    {
     "data": {
      "application/vnd.jupyter.widget-view+json": {
       "model_id": "7c060ff4008248f3ada6365ecec36304",
       "version_major": 2,
       "version_minor": 0
      },
      "text/plain": [
       "  0%|          | 0/53 [00:00<?, ?it/s]"
      ]
     },
     "metadata": {},
     "output_type": "display_data"
    },
    {
     "data": {
      "application/vnd.jupyter.widget-view+json": {
       "model_id": "ab5c0e8ee49946328354e40293cc4751",
       "version_major": 2,
       "version_minor": 0
      },
      "text/plain": [
       "  0%|          | 0/53 [00:00<?, ?it/s]"
      ]
     },
     "metadata": {},
     "output_type": "display_data"
    },
    {
     "name": "stdout",
     "output_type": "stream",
     "text": [
      "Filtering away by face and skeletal length\n",
      "\n",
      "Number of segments: 65\n",
      "\n"
     ]
    },
    {
     "data": {
      "application/vnd.jupyter.widget-view+json": {
       "model_id": "2fe5264f931f4677b25facfcfda999a7",
       "version_major": 2,
       "version_minor": 0
      },
      "text/plain": [
       "  0%|          | 0/65 [00:00<?, ?it/s]"
      ]
     },
     "metadata": {},
     "output_type": "display_data"
    },
    {
     "data": {
      "application/vnd.jupyter.widget-view+json": {
       "model_id": "570871b73359417493655607b06d8604",
       "version_major": 2,
       "version_minor": 0
      },
      "text/plain": [
       "  0%|          | 0/65 [00:00<?, ?it/s]"
      ]
     },
     "metadata": {},
     "output_type": "display_data"
    },
    {
     "name": "stdout",
     "output_type": "stream",
     "text": [
      "Filtering away by face and skeletal length\n",
      "\n",
      "Number of segments: 4\n",
      "\n"
     ]
    },
    {
     "data": {
      "application/vnd.jupyter.widget-view+json": {
       "model_id": "087fc31e7c2b4e67b0bd991f9f48e6f3",
       "version_major": 2,
       "version_minor": 0
      },
      "text/plain": [
       "  0%|          | 0/4 [00:00<?, ?it/s]"
      ]
     },
     "metadata": {},
     "output_type": "display_data"
    },
    {
     "data": {
      "application/vnd.jupyter.widget-view+json": {
       "model_id": "12a0237cbb5a46dd894d2948b6a89523",
       "version_major": 2,
       "version_minor": 0
      },
      "text/plain": [
       "  0%|          | 0/4 [00:00<?, ?it/s]"
      ]
     },
     "metadata": {},
     "output_type": "display_data"
    },
    {
     "name": "stdout",
     "output_type": "stream",
     "text": [
      "Filtering away by face and skeletal length\n",
      "\n",
      "Number of segments: 22\n",
      "\n"
     ]
    },
    {
     "data": {
      "application/vnd.jupyter.widget-view+json": {
       "model_id": "58023b8151d2478794c7e46d95ee0fb2",
       "version_major": 2,
       "version_minor": 0
      },
      "text/plain": [
       "  0%|          | 0/22 [00:00<?, ?it/s]"
      ]
     },
     "metadata": {},
     "output_type": "display_data"
    },
    {
     "data": {
      "application/vnd.jupyter.widget-view+json": {
       "model_id": "7d5658ab07744b0a894185bc9749e0fa",
       "version_major": 2,
       "version_minor": 0
      },
      "text/plain": [
       "  0%|          | 0/22 [00:00<?, ?it/s]"
      ]
     },
     "metadata": {},
     "output_type": "display_data"
    },
    {
     "name": "stdout",
     "output_type": "stream",
     "text": [
      "Filtering away by face and skeletal length\n",
      "\n",
      "Number of segments: 17\n",
      "\n"
     ]
    },
    {
     "data": {
      "application/vnd.jupyter.widget-view+json": {
       "model_id": "19ba233743fe488fb52bec043fed7802",
       "version_major": 2,
       "version_minor": 0
      },
      "text/plain": [
       "  0%|          | 0/17 [00:00<?, ?it/s]"
      ]
     },
     "metadata": {},
     "output_type": "display_data"
    },
    {
     "data": {
      "application/vnd.jupyter.widget-view+json": {
       "model_id": "6c1ae023c6b94b559b62589f9e0150af",
       "version_major": 2,
       "version_minor": 0
      },
      "text/plain": [
       "  0%|          | 0/17 [00:00<?, ?it/s]"
      ]
     },
     "metadata": {},
     "output_type": "display_data"
    },
    {
     "name": "stdout",
     "output_type": "stream",
     "text": [
      "Filtering away by face and skeletal length\n",
      "\n",
      "Number of segments: 12\n",
      "\n"
     ]
    },
    {
     "data": {
      "application/vnd.jupyter.widget-view+json": {
       "model_id": "94f61b84ff9e4670aab0bbc4cd66ea5d",
       "version_major": 2,
       "version_minor": 0
      },
      "text/plain": [
       "  0%|          | 0/12 [00:00<?, ?it/s]"
      ]
     },
     "metadata": {},
     "output_type": "display_data"
    },
    {
     "data": {
      "application/vnd.jupyter.widget-view+json": {
       "model_id": "e4b783f2cd1d498887a1dada6535332b",
       "version_major": 2,
       "version_minor": 0
      },
      "text/plain": [
       "  0%|          | 0/12 [00:00<?, ?it/s]"
      ]
     },
     "metadata": {},
     "output_type": "display_data"
    },
    {
     "name": "stdout",
     "output_type": "stream",
     "text": [
      "Filtering away by face and skeletal length\n",
      "\n",
      "Number of segments: 18\n",
      "\n"
     ]
    },
    {
     "data": {
      "application/vnd.jupyter.widget-view+json": {
       "model_id": "e130adcf95f64f438c8850622151e703",
       "version_major": 2,
       "version_minor": 0
      },
      "text/plain": [
       "  0%|          | 0/18 [00:00<?, ?it/s]"
      ]
     },
     "metadata": {},
     "output_type": "display_data"
    },
    {
     "data": {
      "application/vnd.jupyter.widget-view+json": {
       "model_id": "cfb2814a813c437ab0663bd636543694",
       "version_major": 2,
       "version_minor": 0
      },
      "text/plain": [
       "  0%|          | 0/18 [00:00<?, ?it/s]"
      ]
     },
     "metadata": {},
     "output_type": "display_data"
    },
    {
     "name": "stdout",
     "output_type": "stream",
     "text": [
      "Filtering away by face and skeletal length\n",
      "\n",
      "Number of segments: 15\n",
      "\n"
     ]
    },
    {
     "data": {
      "application/vnd.jupyter.widget-view+json": {
       "model_id": "3786b9999df644d1942141af41da969d",
       "version_major": 2,
       "version_minor": 0
      },
      "text/plain": [
       "  0%|          | 0/15 [00:00<?, ?it/s]"
      ]
     },
     "metadata": {},
     "output_type": "display_data"
    },
    {
     "data": {
      "application/vnd.jupyter.widget-view+json": {
       "model_id": "37bbe9fb06ef40a48473c0c17926c08a",
       "version_major": 2,
       "version_minor": 0
      },
      "text/plain": [
       "  0%|          | 0/15 [00:00<?, ?it/s]"
      ]
     },
     "metadata": {},
     "output_type": "display_data"
    },
    {
     "name": "stdout",
     "output_type": "stream",
     "text": [
      "Filtering away by face and skeletal length\n",
      "\n",
      "Number of segments: 21\n",
      "\n"
     ]
    },
    {
     "data": {
      "application/vnd.jupyter.widget-view+json": {
       "model_id": "f6be9bfd73ba4c269c46c219d725e399",
       "version_major": 2,
       "version_minor": 0
      },
      "text/plain": [
       "  0%|          | 0/21 [00:00<?, ?it/s]"
      ]
     },
     "metadata": {},
     "output_type": "display_data"
    },
    {
     "data": {
      "application/vnd.jupyter.widget-view+json": {
       "model_id": "aba0efd6a450464d92cc030aaba32b3f",
       "version_major": 2,
       "version_minor": 0
      },
      "text/plain": [
       "  0%|          | 0/21 [00:00<?, ?it/s]"
      ]
     },
     "metadata": {},
     "output_type": "display_data"
    },
    {
     "name": "stdout",
     "output_type": "stream",
     "text": [
      "Filtering away by face and skeletal length\n",
      "\n",
      "Number of segments: 51\n",
      "\n"
     ]
    },
    {
     "data": {
      "application/vnd.jupyter.widget-view+json": {
       "model_id": "01cbe773677f406b87911ce1a985a323",
       "version_major": 2,
       "version_minor": 0
      },
      "text/plain": [
       "  0%|          | 0/51 [00:00<?, ?it/s]"
      ]
     },
     "metadata": {},
     "output_type": "display_data"
    },
    {
     "data": {
      "application/vnd.jupyter.widget-view+json": {
       "model_id": "cf723c00d5c04c8b978cbf3af8e0100f",
       "version_major": 2,
       "version_minor": 0
      },
      "text/plain": [
       "  0%|          | 0/51 [00:00<?, ?it/s]"
      ]
     },
     "metadata": {},
     "output_type": "display_data"
    },
    {
     "name": "stdout",
     "output_type": "stream",
     "text": [
      "Filtering away by face and skeletal length\n",
      "\n",
      "Number of segments: 8\n",
      "\n"
     ]
    },
    {
     "data": {
      "application/vnd.jupyter.widget-view+json": {
       "model_id": "94e99e7de7e1421fa38b2a97e87724ce",
       "version_major": 2,
       "version_minor": 0
      },
      "text/plain": [
       "  0%|          | 0/8 [00:00<?, ?it/s]"
      ]
     },
     "metadata": {},
     "output_type": "display_data"
    },
    {
     "data": {
      "application/vnd.jupyter.widget-view+json": {
       "model_id": "e1d6c67615a74c93839e17a7d104149e",
       "version_major": 2,
       "version_minor": 0
      },
      "text/plain": [
       "  0%|          | 0/8 [00:00<?, ?it/s]"
      ]
     },
     "metadata": {},
     "output_type": "display_data"
    },
    {
     "name": "stdout",
     "output_type": "stream",
     "text": [
      "Filtering away by face and skeletal length\n",
      "\n",
      "Number of segments: 36\n",
      "\n"
     ]
    },
    {
     "data": {
      "application/vnd.jupyter.widget-view+json": {
       "model_id": "ce6ed3ffc19b47b792f5dab274b28471",
       "version_major": 2,
       "version_minor": 0
      },
      "text/plain": [
       "  0%|          | 0/36 [00:00<?, ?it/s]"
      ]
     },
     "metadata": {},
     "output_type": "display_data"
    },
    {
     "data": {
      "application/vnd.jupyter.widget-view+json": {
       "model_id": "e61d43cccc584152831cda4f09e7fbab",
       "version_major": 2,
       "version_minor": 0
      },
      "text/plain": [
       "  0%|          | 0/36 [00:00<?, ?it/s]"
      ]
     },
     "metadata": {},
     "output_type": "display_data"
    },
    {
     "name": "stdout",
     "output_type": "stream",
     "text": [
      "Filtering away by face and skeletal length\n",
      "\n",
      "Number of segments: 52\n",
      "\n"
     ]
    },
    {
     "data": {
      "application/vnd.jupyter.widget-view+json": {
       "model_id": "e1775bec246c4ff6b8ebb26ba25b21cb",
       "version_major": 2,
       "version_minor": 0
      },
      "text/plain": [
       "  0%|          | 0/52 [00:00<?, ?it/s]"
      ]
     },
     "metadata": {},
     "output_type": "display_data"
    },
    {
     "data": {
      "application/vnd.jupyter.widget-view+json": {
       "model_id": "42929cea8c544a98bc05504d6b8138f7",
       "version_major": 2,
       "version_minor": 0
      },
      "text/plain": [
       "  0%|          | 0/52 [00:00<?, ?it/s]"
      ]
     },
     "metadata": {},
     "output_type": "display_data"
    },
    {
     "name": "stdout",
     "output_type": "stream",
     "text": [
      "Filtering away by face and skeletal length\n",
      "\n",
      "Number of segments: 67\n",
      "\n"
     ]
    },
    {
     "data": {
      "application/vnd.jupyter.widget-view+json": {
       "model_id": "973a138614564bec9d554bd22f1ae776",
       "version_major": 2,
       "version_minor": 0
      },
      "text/plain": [
       "  0%|          | 0/67 [00:00<?, ?it/s]"
      ]
     },
     "metadata": {},
     "output_type": "display_data"
    },
    {
     "data": {
      "application/vnd.jupyter.widget-view+json": {
       "model_id": "b5ab006ff3944fcd9292328b10ff7ab3",
       "version_major": 2,
       "version_minor": 0
      },
      "text/plain": [
       "  0%|          | 0/67 [00:00<?, ?it/s]"
      ]
     },
     "metadata": {},
     "output_type": "display_data"
    },
    {
     "name": "stdout",
     "output_type": "stream",
     "text": [
      "Filtering away by face and skeletal length\n",
      "\n",
      "Number of segments: 32\n",
      "\n"
     ]
    },
    {
     "data": {
      "application/vnd.jupyter.widget-view+json": {
       "model_id": "dff10a209d824f5dade05d33cd6c060d",
       "version_major": 2,
       "version_minor": 0
      },
      "text/plain": [
       "  0%|          | 0/32 [00:00<?, ?it/s]"
      ]
     },
     "metadata": {},
     "output_type": "display_data"
    },
    {
     "data": {
      "application/vnd.jupyter.widget-view+json": {
       "model_id": "bec07ca6fcba4a5bb728db8439282537",
       "version_major": 2,
       "version_minor": 0
      },
      "text/plain": [
       "  0%|          | 0/32 [00:00<?, ?it/s]"
      ]
     },
     "metadata": {},
     "output_type": "display_data"
    },
    {
     "name": "stdout",
     "output_type": "stream",
     "text": [
      "Filtering away by face and skeletal length\n",
      "\n",
      "Number of segments: 55\n",
      "\n"
     ]
    },
    {
     "data": {
      "application/vnd.jupyter.widget-view+json": {
       "model_id": "462bd059c5f641df8d96e00dd5fbbbf0",
       "version_major": 2,
       "version_minor": 0
      },
      "text/plain": [
       "  0%|          | 0/55 [00:00<?, ?it/s]"
      ]
     },
     "metadata": {},
     "output_type": "display_data"
    },
    {
     "data": {
      "application/vnd.jupyter.widget-view+json": {
       "model_id": "93cc9e27981c4cfb98490fd54d81188f",
       "version_major": 2,
       "version_minor": 0
      },
      "text/plain": [
       "  0%|          | 0/55 [00:00<?, ?it/s]"
      ]
     },
     "metadata": {},
     "output_type": "display_data"
    },
    {
     "name": "stdout",
     "output_type": "stream",
     "text": [
      "Filtering away by face and skeletal length\n",
      "\n",
      "Number of segments: 5\n",
      "\n"
     ]
    },
    {
     "data": {
      "application/vnd.jupyter.widget-view+json": {
       "model_id": "6ebbf20030c447088e57ef0f6af64de3",
       "version_major": 2,
       "version_minor": 0
      },
      "text/plain": [
       "  0%|          | 0/5 [00:00<?, ?it/s]"
      ]
     },
     "metadata": {},
     "output_type": "display_data"
    },
    {
     "data": {
      "application/vnd.jupyter.widget-view+json": {
       "model_id": "cfead5bd386b40be8cd72a5586094518",
       "version_major": 2,
       "version_minor": 0
      },
      "text/plain": [
       "  0%|          | 0/5 [00:00<?, ?it/s]"
      ]
     },
     "metadata": {},
     "output_type": "display_data"
    },
    {
     "name": "stdout",
     "output_type": "stream",
     "text": [
      "Filtering away by face and skeletal length\n",
      "\n",
      "Number of segments: 27\n",
      "\n"
     ]
    },
    {
     "data": {
      "application/vnd.jupyter.widget-view+json": {
       "model_id": "c941caadb7a54e4093cad47c7846d047",
       "version_major": 2,
       "version_minor": 0
      },
      "text/plain": [
       "  0%|          | 0/27 [00:00<?, ?it/s]"
      ]
     },
     "metadata": {},
     "output_type": "display_data"
    },
    {
     "data": {
      "application/vnd.jupyter.widget-view+json": {
       "model_id": "2bfa6f636f9d400b9297db9b946ffc6a",
       "version_major": 2,
       "version_minor": 0
      },
      "text/plain": [
       "  0%|          | 0/27 [00:00<?, ?it/s]"
      ]
     },
     "metadata": {},
     "output_type": "display_data"
    },
    {
     "name": "stdout",
     "output_type": "stream",
     "text": [
      "Filtering away by face and skeletal length\n",
      "\n",
      "Number of segments: 30\n",
      "\n"
     ]
    },
    {
     "data": {
      "application/vnd.jupyter.widget-view+json": {
       "model_id": "12eb4f638deb4cbfb644cfe167fd4893",
       "version_major": 2,
       "version_minor": 0
      },
      "text/plain": [
       "  0%|          | 0/30 [00:00<?, ?it/s]"
      ]
     },
     "metadata": {},
     "output_type": "display_data"
    },
    {
     "data": {
      "application/vnd.jupyter.widget-view+json": {
       "model_id": "a7c30f5ba31b4e62b7ed82339ed572e7",
       "version_major": 2,
       "version_minor": 0
      },
      "text/plain": [
       "  0%|          | 0/30 [00:00<?, ?it/s]"
      ]
     },
     "metadata": {},
     "output_type": "display_data"
    },
    {
     "name": "stdout",
     "output_type": "stream",
     "text": [
      "Filtering away by face and skeletal length\n",
      "\n",
      "Number of segments: 9\n",
      "\n"
     ]
    },
    {
     "data": {
      "application/vnd.jupyter.widget-view+json": {
       "model_id": "00369e5ea610400da0532b4c8b10745d",
       "version_major": 2,
       "version_minor": 0
      },
      "text/plain": [
       "  0%|          | 0/9 [00:00<?, ?it/s]"
      ]
     },
     "metadata": {},
     "output_type": "display_data"
    },
    {
     "data": {
      "application/vnd.jupyter.widget-view+json": {
       "model_id": "064dbf3100b348358573febc5b465071",
       "version_major": 2,
       "version_minor": 0
      },
      "text/plain": [
       "  0%|          | 0/9 [00:00<?, ?it/s]"
      ]
     },
     "metadata": {},
     "output_type": "display_data"
    },
    {
     "name": "stdout",
     "output_type": "stream",
     "text": [
      "Filtering away by face and skeletal length\n",
      "\n",
      "Number of segments: 13\n",
      "\n"
     ]
    },
    {
     "data": {
      "application/vnd.jupyter.widget-view+json": {
       "model_id": "5da7d00100a441fd8b5ac39929d1ffb7",
       "version_major": 2,
       "version_minor": 0
      },
      "text/plain": [
       "  0%|          | 0/13 [00:00<?, ?it/s]"
      ]
     },
     "metadata": {},
     "output_type": "display_data"
    },
    {
     "data": {
      "application/vnd.jupyter.widget-view+json": {
       "model_id": "3e41fd5ed8f5431e86ce45706ca549c2",
       "version_major": 2,
       "version_minor": 0
      },
      "text/plain": [
       "  0%|          | 0/13 [00:00<?, ?it/s]"
      ]
     },
     "metadata": {},
     "output_type": "display_data"
    },
    {
     "name": "stdout",
     "output_type": "stream",
     "text": [
      "Filtering away by face and skeletal length\n",
      "\n",
      "Number of segments: 11\n",
      "\n"
     ]
    },
    {
     "data": {
      "application/vnd.jupyter.widget-view+json": {
       "model_id": "bba7a63fde084d8f94c5d0fdb6975d96",
       "version_major": 2,
       "version_minor": 0
      },
      "text/plain": [
       "  0%|          | 0/11 [00:00<?, ?it/s]"
      ]
     },
     "metadata": {},
     "output_type": "display_data"
    },
    {
     "data": {
      "application/vnd.jupyter.widget-view+json": {
       "model_id": "cb229092e7d24d3fb28e08e984a13ca8",
       "version_major": 2,
       "version_minor": 0
      },
      "text/plain": [
       "  0%|          | 0/11 [00:00<?, ?it/s]"
      ]
     },
     "metadata": {},
     "output_type": "display_data"
    },
    {
     "name": "stdout",
     "output_type": "stream",
     "text": [
      "Filtering away by face and skeletal length\n",
      "width_name BEFORE processing = no_spine_median_mesh_center\n",
      "After processing\n",
      "width_name = no_spine_median_mesh_center, distance_by_mesh_center= True, no_spines = True, summary_measure= median\n",
      "Working on limb L0 branch 3\n",
      "    No spines and using precomputed width: 815.4958543306819\n",
      "Working on limb L0 branch 2\n",
      "    current_width= 290.6647692495148\n",
      "Working on limb L0 branch 5\n",
      "    No spines and using precomputed width: 626.0317281041872\n",
      "Working on limb L0 branch 0\n",
      "    No spines and using precomputed width: 313.24484502419125\n",
      "Working on limb L0 branch 1\n",
      "    No spines and using precomputed width: 300.03913989968\n",
      "Working on limb L0 branch 4\n",
      "    current_width= 354.9270946381798\n",
      "Working on limb L0 branch 6\n",
      "    No spines and using precomputed width: 638.9887559329763\n",
      "Working on limb L0 branch 7\n",
      "    No spines and using precomputed width: 543.1081562555194\n",
      "Working on limb L0 branch 8\n",
      "    No spines and using precomputed width: 440.8530375947197\n",
      "Working on limb L0 branch 9\n",
      "    No spines and using precomputed width: 260.32838546597316\n",
      "Working on limb L0 branch 10\n",
      "    No spines and using precomputed width: 514.9555927994427\n",
      "Working on limb L0 branch 11\n",
      "    current_width= 314.57999520684183\n",
      "Working on limb L0 branch 12\n",
      "    No spines and using precomputed width: 333.67447234039366\n",
      "Working on limb L0 branch 13\n",
      "    No spines and using precomputed width: 208.3876049516394\n",
      "Working on limb L0 branch 14\n",
      "    No spines and using precomputed width: 576.8762612318483\n",
      "Working on limb L0 branch 15\n",
      "    current_width= 298.0965471231432\n",
      "Working on limb L0 branch 16\n",
      "    current_width= 284.6229858798131\n",
      "Working on limb L0 branch 17\n",
      "    No spines and using precomputed width: 462.8026273228779\n",
      "Working on limb L0 branch 18\n",
      "    No spines and using precomputed width: 325.0196875617862\n",
      "Working on limb L1 branch 10\n",
      "    No spines and using precomputed width: 1202.1865265648582\n",
      "Working on limb L1 branch 8\n",
      "    No spines and using precomputed width: 510.20646799075905\n",
      "Working on limb L1 branch 11\n",
      "    No spines and using precomputed width: 854.2228005444981\n",
      "Working on limb L1 branch 15\n",
      "    No spines and using precomputed width: 275.47003302355733\n",
      "Working on limb L1 branch 4\n",
      "    No spines and using precomputed width: 428.8938073098944\n",
      "Working on limb L1 branch 6\n",
      "    current_width= 337.8811809377324\n",
      "Working on limb L1 branch 9\n",
      "    No spines and using precomputed width: 469.64113284462894\n",
      "Working on limb L1 branch 12\n",
      "    No spines and using precomputed width: 655.3377361454628\n",
      "Working on limb L1 branch 1\n",
      "    current_width= 356.785952023522\n",
      "Working on limb L1 branch 3\n",
      "    No spines and using precomputed width: 288.69578072052536\n",
      "Working on limb L1 branch 5\n",
      "    current_width= 460.94241200871704\n",
      "Working on limb L1 branch 7\n",
      "    No spines and using precomputed width: 284.2031772952952\n",
      "Working on limb L1 branch 13\n",
      "    current_width= 358.82125708122146\n",
      "Working on limb L1 branch 14\n",
      "    current_width= 614.469520438232\n",
      "Working on limb L1 branch 0\n",
      "    No spines and using precomputed width: 302.23752028081617\n",
      "Working on limb L1 branch 2\n",
      "    No spines and using precomputed width: 304.5257070509484\n",
      "Working on limb L2 branch 0\n",
      "    No spines and using precomputed width: 664.4743251990463\n",
      "Working on limb L2 branch 1\n",
      "    current_width= 303.53668595411733\n",
      "Working on limb L2 branch 2\n",
      "    No spines and using precomputed width: 488.46673716212933\n",
      "Working on limb L2 branch 3\n",
      "    No spines and using precomputed width: 341.33885490394323\n",
      "Working on limb L2 branch 4\n",
      "    No spines and using precomputed width: 563.3328403188829\n",
      "Working on limb L2 branch 5\n",
      "    No spines and using precomputed width: 560.3203326241478\n",
      "Working on limb L2 branch 6\n",
      "    current_width= 302.3587607441061\n",
      "Working on limb L2 branch 7\n",
      "    No spines and using precomputed width: 292.1934614075396\n",
      "Working on limb L2 branch 8\n",
      "    current_width= 382.3884297262617\n",
      "Working on limb L3 branch 2\n",
      "    No spines and using precomputed width: 660.3774471426267\n",
      "Working on limb L3 branch 0\n",
      "    current_width= 373.4025908029828\n",
      "Working on limb L3 branch 1\n",
      "    current_width= 483.52714092113763\n",
      "Working on limb L4 branch 4\n",
      "    No spines and using precomputed width: 551.9178036727787\n",
      "Working on limb L4 branch 2\n",
      "    No spines and using precomputed width: 417.2554540672859\n",
      "Working on limb L4 branch 3\n",
      "    current_width= 424.2578106288396\n",
      "Working on limb L4 branch 0\n",
      "    No spines and using precomputed width: 345.34665350307876\n",
      "Working on limb L4 branch 1\n",
      "    No spines and using precomputed width: 227.30643148515128\n",
      "Working on limb L5 branch 0\n",
      "    current_width= 255.54623988596904\n",
      "Working on limb L6 branch 0\n",
      "    No spines and using precomputed width: 636.4178163553174\n",
      "Total time for neuron instance creation = 506.8208591938019\n"
     ]
    },
    {
     "data": {
      "text/plain": [
       "<neurd.neuron.Neuron at 0x7f83ada84280>"
      ]
     },
     "execution_count": 20,
     "metadata": {},
     "output_type": "execute_result"
    }
   ],
   "source": [
    "from neurd import neuron\n",
    "\n",
    "neuron_obj = neuron.Neuron(\n",
    "    mesh = mesh,\n",
    "    segment_id = segment_id, # don't need this explicitely if segment_id is already in products\n",
    "    pipeline_products = products,\n",
    "    suppress_preprocessing_print=False,\n",
    "    suppress_output=False,\n",
    ")\n",
    "\n",
    "neuron_obj"
   ]
  },
  {
   "cell_type": "code",
   "execution_count": 21,
   "id": "5467bcfe",
   "metadata": {},
   "outputs": [
    {
     "name": "stdout",
     "output_type": "stream",
     "text": [
      "\n",
      " Working on visualization type: mesh\n",
      "\n",
      " Working on visualization type: skeleton\n"
     ]
    },
    {
     "data": {
      "application/vnd.jupyter.widget-view+json": {
       "model_id": "f1f03463ea08411facf3f4f35507de4d",
       "version_major": 2,
       "version_minor": 0
      },
      "text/plain": [
       "Container(figure=Figure(box_center=[0.5, 0.5, 0.5], box_size=[1.0, 1.0, 1.0], camera=PerspectiveCamera(fov=45.…"
      ]
     },
     "metadata": {},
     "output_type": "display_data"
    }
   ],
   "source": [
    "nviz.visualize_neuron(\n",
    "    neuron_obj,\n",
    "    limb_branch_dict=\"all\"\n",
    ")"
   ]
  },
  {
   "cell_type": "markdown",
   "id": "0d43b744",
   "metadata": {},
   "source": [
    "# Calculate statistics"
   ]
  },
  {
   "cell_type": "code",
   "execution_count": 22,
   "id": "cac08fd6",
   "metadata": {},
   "outputs": [
    {
     "data": {
      "text/plain": [
       "<datasci_tools.pipeline.StageProducts at 0x7f8375657220>"
      ]
     },
     "execution_count": 22,
     "metadata": {},
     "output_type": "execute_result"
    }
   ],
   "source": [
    "decomp_products = neuron_obj.calculate_decomposition_products(\n",
    "    store_in_obj = True,\n",
    ")\n",
    "\n",
    "decomp_products"
   ]
  },
  {
   "cell_type": "code",
   "execution_count": 23,
   "id": "fa148fc5",
   "metadata": {
    "scrolled": true
   },
   "outputs": [
    {
     "name": "stdout",
     "output_type": "stream",
     "text": [
      "{\n",
      "  'decimation':\n",
      "  {\n",
      "    'decimation_parameters':\n",
      "    {\n",
      "      'decimation_ratio':0.25,\n",
      "    },\n",
      "    'segment_id':32414,\n",
      "  },\n",
      "  'soma_identification':\n",
      "  {\n",
      "    'glia_meshes':[],\n",
      "    'nuclei_meshes':[<trimesh.Trimesh(vertices.shape=(54, 3), faces.shape=(18, 3))>, <trimesh.Trimesh(vertices.shape=(4, 3), faces.shape=(2, 3))>, <trimesh.Trimesh(vertices.shape=(3, 3), faces.shape=(1, 3))>, <trimesh.Trimesh(vertices.shape=(3, 3), faces.shape=(1, 3))>],\n",
      "    'soma_extraction_parameters':\n",
      "    {\n",
      "    },\n",
      "    'soma_meshes':[<trimesh.Trimesh(vertices.shape=(40159, 3), faces.shape=(79672, 3))>],\n",
      "    'soma_run_time':72.30012321472168,\n",
      "    'soma_sdfs':array([0.808672]),\n",
      "  },\n",
      "  'decomposition':\n",
      "  {\n",
      "    'bbox_volume':1.1508593103890605,\n",
      "    'bbox_x_max':1285730.0,\n",
      "    'bbox_x_max_soma_relative':65163.36356420722,\n",
      "    'bbox_x_min':1191290.0,\n",
      "    'bbox_x_min_soma_relative':-29276.63643579278,\n",
      "    'bbox_y_max':1293642.4680380581,\n",
      "    'bbox_y_max_soma_relative':76223.39815334976,\n",
      "    'bbox_y_min':1191350.0,\n",
      "    'bbox_y_min_soma_relative':-26069.069884708384,\n",
      "    'bbox_z_max':187131.0,\n",
      "    'bbox_z_max_soma_relative':40445.7763853526,\n",
      "    'bbox_z_min':68000.6,\n",
      "    'bbox_z_min_soma_relative':-78684.6236146474,\n",
      "    'branch_length_mean':17.132716702053873,\n",
      "    'branch_length_median':13.533164838860252,\n",
      "    'centroid_volume':436.21756640348303,\n",
      "    'centroid_x':305141,\n",
      "    'centroid_x_nm':1220566.6364357928,\n",
      "    'centroid_y':304354,\n",
      "    'centroid_y_nm':1217419.0698847084,\n",
      "    'centroid_z':3667,\n",
      "    'centroid_z_nm':146685.2236146474,\n",
      "    'max_limb_n_branches':19,\n",
      "    'max_limb_skeletal_length':333164.9497211345,\n",
      "    'max_soma_area':872.3165406736205,\n",
      "    'median_branch_length':12848.959,\n",
      "    'n_branches':54,\n",
      "    'n_error_limbs':0,\n",
      "    'n_faces':358086,\n",
      "    'n_limbs':7,\n",
      "    'n_long_branches':0,\n",
      "    'n_medium_branches':46,\n",
      "    'n_multi_soma_touching_limbs':0,\n",
      "    'n_not_processed_soma_containing_meshes':0,\n",
      "    'n_same_soma_multi_touching_limbs':0,\n",
      "    'n_short_branches':8,\n",
      "    'n_somas':1,\n",
      "    'n_spine_eligible_branches':54,\n",
      "    'n_spines':25,\n",
      "    'n_vertices':178983,\n",
      "    'skeletal_length':867630.9618012649,\n",
      "    'skeletal_length_eligible':867630.962,\n",
      "    'skeleton':array([[[1211120.        , 1237750.        ,  112734.        ],\n",
      "        [1211160.        , 1237660.        ,  112769.        ]],\n",
      "\n",
      "       [[1211160.        , 1237660.        ,  112769.        ],\n",
      "        [1211240.        , 1237480.        ,  112812.        ]],\n",
      "\n",
      "       [[1211240.        , 1237480.        ,  112812.        ],\n",
      "        [1211360.        , 1237350.        ,  112882.        ]],\n",
      "\n",
      "       ...,\n",
      "\n",
      "       [[1220566.63643579, 1217419.06988471,  146685.22361465],\n",
      "        [1212690.        , 1219770.        ,  145787.        ]],\n",
      "\n",
      "       [[1220566.63643579, 1217419.06988471,  146685.22361465],\n",
      "        [1216590.        , 1213380.        ,  139096.        ]],\n",
      "\n",
      "       [[1220566.63643579, 1217419.06988471,  146685.22361465],\n",
      "        [1220070.        , 1217350.        ,  142105.        ]]]),\n",
      "    'spine_density':2.8814093895517733e-05,\n",
      "    'spine_density_eligible':2.8814093888917717e-05,\n",
      "    'spine_volume_density':1155.6356503355228,\n",
      "    'spine_volume_density_eligible':1155.6356500708184,\n",
      "    'spine_volume_median':39317336.7750651,\n",
      "    'spine_volume_per_branch_eligible':18567875.38504518,\n",
      "    'spines_per_branch':0.46296296296296297,\n",
      "    'spines_per_branch_eligible':0.463,\n",
      "    'total_spine_volume':1002665270.7924396,\n",
      "    'width_90_perc':650.433,\n",
      "    'width_median':377.896,\n",
      "    'width_no_spine_90_perc':650.433,\n",
      "    'width_no_spine_median':377.896,\n",
      "  },\n",
      "}\n",
      "\n"
     ]
    }
   ],
   "source": [
    "print(neuron_obj.pipeline_products)"
   ]
  },
  {
   "cell_type": "markdown",
   "id": "d090f774",
   "metadata": {},
   "source": [
    "# Saving off neuron"
   ]
  },
  {
   "cell_type": "code",
   "execution_count": 24,
   "id": "9486c4e6",
   "metadata": {},
   "outputs": [
    {
     "name": "stdout",
     "output_type": "stream",
     "text": [
      "Total time for soma meshes compression = 0.11637496948242188\n",
      "Total time for insignificant_limbs,inside_pieces,non_soma_touching_meshes,not_processed_soma_containing_meshes compression = 0.9917702674865723\n",
      "Total time for limb_meshes compression = 0.5181546211242676\n",
      "    Starting Limb Correspondence Compression\n"
     ]
    },
    {
     "data": {
      "application/vnd.jupyter.widget-view+json": {
       "model_id": "ddaed229eaba44009b8b9b40f724a0c3",
       "version_major": 2,
       "version_minor": 0
      },
      "text/plain": [
       "  0%|          | 0/19 [00:00<?, ?it/s]"
      ]
     },
     "metadata": {},
     "output_type": "display_data"
    },
    {
     "data": {
      "application/vnd.jupyter.widget-view+json": {
       "model_id": "f86ea8c46d2f48dfaeed7ab35ea69671",
       "version_major": 2,
       "version_minor": 0
      },
      "text/plain": [
       "  0%|          | 0/16 [00:00<?, ?it/s]"
      ]
     },
     "metadata": {},
     "output_type": "display_data"
    },
    {
     "data": {
      "application/vnd.jupyter.widget-view+json": {
       "model_id": "a218610682db4ddf9dbc25faf33a83d0",
       "version_major": 2,
       "version_minor": 0
      },
      "text/plain": [
       "  0%|          | 0/9 [00:00<?, ?it/s]"
      ]
     },
     "metadata": {},
     "output_type": "display_data"
    },
    {
     "data": {
      "application/vnd.jupyter.widget-view+json": {
       "model_id": "e48a44ead48a44c1a69f018d2c43da65",
       "version_major": 2,
       "version_minor": 0
      },
      "text/plain": [
       "  0%|          | 0/3 [00:00<?, ?it/s]"
      ]
     },
     "metadata": {},
     "output_type": "display_data"
    },
    {
     "data": {
      "application/vnd.jupyter.widget-view+json": {
       "model_id": "da39236dc07b4ffdb144073186da5b0c",
       "version_major": 2,
       "version_minor": 0
      },
      "text/plain": [
       "  0%|          | 0/5 [00:00<?, ?it/s]"
      ]
     },
     "metadata": {},
     "output_type": "display_data"
    },
    {
     "data": {
      "application/vnd.jupyter.widget-view+json": {
       "model_id": "164f9e763f58472f8d1dcf517bf1c847",
       "version_major": 2,
       "version_minor": 0
      },
      "text/plain": [
       "  0%|          | 0/1 [00:00<?, ?it/s]"
      ]
     },
     "metadata": {},
     "output_type": "display_data"
    },
    {
     "data": {
      "application/vnd.jupyter.widget-view+json": {
       "model_id": "8bc7fbaebed644f38031fa62db5e4dd8",
       "version_major": 2,
       "version_minor": 0
      },
      "text/plain": [
       "  0%|          | 0/1 [00:00<?, ?it/s]"
      ]
     },
     "metadata": {},
     "output_type": "display_data"
    },
    {
     "name": "stdout",
     "output_type": "stream",
     "text": [
      "Total time for new_limb_correspondence compression = 2.372556209564209\n",
      "Cleared mesh: <trimesh.Trimesh(vertices.shape=(54, 3), faces.shape=(18, 3))>:140207185663072\n",
      "Cleared mesh: <trimesh.Trimesh(vertices.shape=(4, 3), faces.shape=(2, 3))>:140207185665904\n",
      "Cleared mesh: <trimesh.Trimesh(vertices.shape=(3, 3), faces.shape=(1, 3))>:140207412124640\n",
      "Cleared mesh: <trimesh.Trimesh(vertices.shape=(3, 3), faces.shape=(1, 3))>:140207412115248\n",
      "Cleared mesh: <trimesh.Trimesh(vertices.shape=(40159, 3), faces.shape=(79672, 3))>:140207419619120\n",
      "Total time for compression = 8.79702091217041\n",
      "\n",
      "\n",
      "---Finished outputing neuron at location: /NEURD_Chenlab/Applications/Tutorials/Auto_Proof_Pipeline/Single_Soma_Exc/32414---\n",
      "saved neuron filepath = 32414\n"
     ]
    },
    {
     "data": {
      "text/plain": [
       "'32414.pbz2'"
      ]
     },
     "execution_count": 24,
     "metadata": {},
     "output_type": "execute_result"
    }
   ],
   "source": [
    "vdi.save_neuron_obj(\n",
    "    neuron_obj,\n",
    "    verbose = True\n",
    ")"
   ]
  },
  {
   "cell_type": "markdown",
   "id": "aa2fc99c",
   "metadata": {},
   "source": [
    "# Reloading the Neuron"
   ]
  },
  {
   "cell_type": "code",
   "execution_count": 25,
   "id": "e6ce238a",
   "metadata": {},
   "outputs": [
    {
     "name": "stdout",
     "output_type": "stream",
     "text": [
      "Decompressing Neuron in minimal output mode...please wait\n"
     ]
    }
   ],
   "source": [
    "neuron_obj_rec = vdi.load_neuron_obj(\n",
    "    segment_id = segment_id,\n",
    "    #mesh_decimated = mesh_decimated\n",
    ")"
   ]
  },
  {
   "cell_type": "markdown",
   "id": "12c62d98",
   "metadata": {},
   "source": [
    "# Exporting Branch meshes"
   ]
  },
  {
   "cell_type": "code",
   "execution_count": 26,
   "id": "04a5567a",
   "metadata": {},
   "outputs": [
    {
     "name": "stdout",
     "output_type": "stream",
     "text": [
      "limb_name = L0\n",
      "\n",
      " Working on visualization type: mesh\n",
      "\n",
      " Working on visualization type: skeleton\n"
     ]
    },
    {
     "data": {
      "application/vnd.jupyter.widget-view+json": {
       "model_id": "4e3548dd86ae4796a2acfebb5c184292",
       "version_major": 2,
       "version_minor": 0
      },
      "text/plain": [
       "Container(figure=Figure(box_center=[0.5, 0.5, 0.5], box_size=[1.0, 1.0, 1.0], camera=PerspectiveCamera(fov=45.…"
      ]
     },
     "metadata": {},
     "output_type": "display_data"
    },
    {
     "name": "stdout",
     "output_type": "stream",
     "text": [
      "No limb name was given so using L0 because was the limb in the first key\n"
     ]
    },
    {
     "data": {
      "image/png": "[encoded data removed]",
      "text/plain": [
       "<Figure size 4000x2000 with 1 Axes>"
      ]
     },
     "metadata": {},
     "output_type": "display_data"
    }
   ],
   "source": [
    "nviz.plot_limb(neuron_obj_rec,0)"
   ]
  },
  {
   "cell_type": "code",
   "execution_count": 27,
   "id": "6591a4f0",
   "metadata": {},
   "outputs": [
    {
     "data": {
      "application/vnd.jupyter.widget-view+json": {
       "model_id": "f2a1bf28622e4e46aa7a3cc4cfde3d24",
       "version_major": 2,
       "version_minor": 0
      },
      "text/plain": [
       "Container(figure=Figure(box_center=[0.5, 0.5, 0.5], box_size=[1.0, 1.0, 1.0], camera=PerspectiveCamera(fov=45.…"
      ]
     },
     "metadata": {},
     "output_type": "display_data"
    }
   ],
   "source": [
    "branch_idx = 3\n",
    "limb_idx = 0\n",
    "\n",
    "branch_mesh = neuron_obj_rec[limb_idx][branch_idx].mesh\n",
    "ipvu.plot_objects(branch_mesh)"
   ]
  },
  {
   "cell_type": "code",
   "execution_count": 28,
   "id": "c3e9c894",
   "metadata": {},
   "outputs": [],
   "source": [
    "_ = branch_mesh.export(f\"{segment_id}_limb_{limb_idx}_branch_{branch_idx}.off\")"
   ]
  },
  {
   "cell_type": "markdown",
   "id": "06b5f069",
   "metadata": {},
   "source": [
    "# Step 4A: Multi Soma Split Suggestions"
   ]
  },
  {
   "cell_type": "code",
   "execution_count": 29,
   "id": "0729b033",
   "metadata": {},
   "outputs": [
    {
     "data": {
      "image/png": "[encoded data removed]",
      "text/plain": [
       "<Figure size 640x480 with 1 Axes>"
      ]
     },
     "metadata": {},
     "output_type": "display_data"
    }
   ],
   "source": [
    "from neurd import neuron_visualizations as nviz\n",
    "nviz.plot_soma_limb_concept_network(\n",
    "    neuron_obj\n",
    ")"
   ]
  },
  {
   "cell_type": "code",
   "execution_count": 30,
   "id": "3ea8a7ec",
   "metadata": {},
   "outputs": [],
   "source": [
    "multi_soma_split_parameters = dict()"
   ]
  },
  {
   "cell_type": "code",
   "execution_count": 31,
   "id": "6b654969",
   "metadata": {},
   "outputs": [],
   "source": [
    "_ = neuron_obj.calculate_multi_soma_split_suggestions(\n",
    "    plot = True,\n",
    "    store_in_obj = True,\n",
    "    **multi_soma_split_parameters\n",
    ")\n"
   ]
  },
  {
   "cell_type": "code",
   "execution_count": 32,
   "id": "a8012cfa",
   "metadata": {},
   "outputs": [],
   "source": [
    "neuron_obj.pipeline_products.multi_soma_split_suggestions.multi_soma_split_parameters = multi_soma_split_parameters"
   ]
  },
  {
   "cell_type": "markdown",
   "id": "2206b4cc",
   "metadata": {},
   "source": [
    "# Step 4B: Multi Soma Split Execution"
   ]
  },
  {
   "cell_type": "code",
   "execution_count": 33,
   "id": "cc8bc52a",
   "metadata": {},
   "outputs": [
    {
     "name": "stdout",
     "output_type": "stream",
     "text": [
      "No error limbs to processs so just returning the original neuron\n"
     ]
    }
   ],
   "source": [
    "neuron_list = neuron_obj.multi_soma_split_execution(\n",
    "    verbose = False,\n",
    ")"
   ]
  },
  {
   "cell_type": "code",
   "execution_count": 34,
   "id": "1239884b",
   "metadata": {
    "scrolled": true
   },
   "outputs": [
    {
     "name": "stdout",
     "output_type": "stream",
     "text": [
      "{\n",
      "  'decimation':\n",
      "  {\n",
      "    'decimation_parameters':\n",
      "    {\n",
      "      'decimation_ratio':0.25,\n",
      "    },\n",
      "    'segment_id':32414,\n",
      "  },\n",
      "  'soma_identification':\n",
      "  {\n",
      "    'glia_meshes':[],\n",
      "    'nuclei_meshes':[<trimesh.Trimesh(vertices.shape=(54, 3), faces.shape=(18, 3))>, <trimesh.Trimesh(vertices.shape=(4, 3), faces.shape=(2, 3))>, <trimesh.Trimesh(vertices.shape=(3, 3), faces.shape=(1, 3))>, <trimesh.Trimesh(vertices.shape=(3, 3), faces.shape=(1, 3))>],\n",
      "    'soma_extraction_parameters':\n",
      "    {\n",
      "    },\n",
      "    'soma_meshes':[<trimesh.Trimesh(vertices.shape=(40159, 3), faces.shape=(79672, 3))>],\n",
      "    'soma_run_time':72.30012321472168,\n",
      "    'soma_sdfs':array([0.808672]),\n",
      "  },\n",
      "  'decomposition':\n",
      "  {\n",
      "    'bbox_volume':1.1508593103890605,\n",
      "    'bbox_x_max':1285730.0,\n",
      "    'bbox_x_max_soma_relative':65163.36356420722,\n",
      "    'bbox_x_min':1191290.0,\n",
      "    'bbox_x_min_soma_relative':-29276.63643579278,\n",
      "    'bbox_y_max':1293642.4680380581,\n",
      "    'bbox_y_max_soma_relative':76223.39815334976,\n",
      "    'bbox_y_min':1191350.0,\n",
      "    'bbox_y_min_soma_relative':-26069.069884708384,\n",
      "    'bbox_z_max':187131.0,\n",
      "    'bbox_z_max_soma_relative':40445.7763853526,\n",
      "    'bbox_z_min':68000.6,\n",
      "    'bbox_z_min_soma_relative':-78684.6236146474,\n",
      "    'branch_length_mean':17.132716702053873,\n",
      "    'branch_length_median':13.533164838860252,\n",
      "    'centroid_volume':436.21756640348303,\n",
      "    'centroid_x':305141,\n",
      "    'centroid_x_nm':1220566.6364357928,\n",
      "    'centroid_y':304354,\n",
      "    'centroid_y_nm':1217419.0698847084,\n",
      "    'centroid_z':3667,\n",
      "    'centroid_z_nm':146685.2236146474,\n",
      "    'max_limb_n_branches':19,\n",
      "    'max_limb_skeletal_length':333164.9497211345,\n",
      "    'max_soma_area':872.3165406736205,\n",
      "    'median_branch_length':12848.959,\n",
      "    'n_branches':54,\n",
      "    'n_error_limbs':0,\n",
      "    'n_faces':358086,\n",
      "    'n_limbs':7,\n",
      "    'n_long_branches':0,\n",
      "    'n_medium_branches':46,\n",
      "    'n_multi_soma_touching_limbs':0,\n",
      "    'n_not_processed_soma_containing_meshes':0,\n",
      "    'n_same_soma_multi_touching_limbs':0,\n",
      "    'n_short_branches':8,\n",
      "    'n_somas':1,\n",
      "    'n_spine_eligible_branches':54,\n",
      "    'n_spines':25,\n",
      "    'n_vertices':178983,\n",
      "    'skeletal_length':867630.9618012649,\n",
      "    'skeletal_length_eligible':867630.962,\n",
      "    'skeleton':array([[[1211120.        , 1237750.        ,  112734.        ],\n",
      "        [1211160.        , 1237660.        ,  112769.        ]],\n",
      "\n",
      "       [[1211160.        , 1237660.        ,  112769.        ],\n",
      "        [1211240.        , 1237480.        ,  112812.        ]],\n",
      "\n",
      "       [[1211240.        , 1237480.        ,  112812.        ],\n",
      "        [1211360.        , 1237350.        ,  112882.        ]],\n",
      "\n",
      "       ...,\n",
      "\n",
      "       [[1220566.63643579, 1217419.06988471,  146685.22361465],\n",
      "        [1212690.        , 1219770.        ,  145787.        ]],\n",
      "\n",
      "       [[1220566.63643579, 1217419.06988471,  146685.22361465],\n",
      "        [1216590.        , 1213380.        ,  139096.        ]],\n",
      "\n",
      "       [[1220566.63643579, 1217419.06988471,  146685.22361465],\n",
      "        [1220070.        , 1217350.        ,  142105.        ]]]),\n",
      "    'spine_density':2.8814093895517733e-05,\n",
      "    'spine_density_eligible':2.8814093888917717e-05,\n",
      "    'spine_volume_density':1155.6356503355228,\n",
      "    'spine_volume_density_eligible':1155.6356500708184,\n",
      "    'spine_volume_median':39317336.7750651,\n",
      "    'spine_volume_per_branch_eligible':18567875.38504518,\n",
      "    'spines_per_branch':0.46296296296296297,\n",
      "    'spines_per_branch_eligible':0.463,\n",
      "    'total_spine_volume':1002665270.7924396,\n",
      "    'width_90_perc':650.433,\n",
      "    'width_median':377.896,\n",
      "    'width_no_spine_90_perc':650.433,\n",
      "    'width_no_spine_median':377.896,\n",
      "  },\n",
      "  'multi_soma_split_suggestions':\n",
      "  {\n",
      "    'multi_soma_split_parameters':\n",
      "    {\n",
      "    },\n",
      "    'n_paths_cut':0,\n",
      "    'red_blue_split_results':\n",
      "    {\n",
      "    },\n",
      "    'split_results':\n",
      "    {\n",
      "    },\n",
      "  },\n",
      "  'multi_soma_split_execution':\n",
      "  {\n",
      "    'multi_soma_errored_limbs_area':[],\n",
      "    'multi_soma_errored_limbs_skeletal_length':[],\n",
      "    'multi_soma_n_multi_soma_errors':0,\n",
      "    'multi_soma_n_same_soma_errors':0,\n",
      "    'multiplicity':1,\n",
      "    'split_index':0,\n",
      "  },\n",
      "}\n",
      "\n"
     ]
    }
   ],
   "source": [
    "n1 = neuron_list[0]\n",
    "print(n1.pipeline_products)"
   ]
  },
  {
   "cell_type": "markdown",
   "id": "a2dcd901",
   "metadata": {},
   "source": [
    "# Step 5: Cell Typing"
   ]
  },
  {
   "cell_type": "code",
   "execution_count": 35,
   "id": "023dd7aa",
   "metadata": {},
   "outputs": [],
   "source": [
    "from neurd import neuron_pipeline_utils as npu"
   ]
  },
  {
   "cell_type": "code",
   "execution_count": 36,
   "id": "b17ecdd9",
   "metadata": {
    "scrolled": true
   },
   "outputs": [
    {
     "ename": "Exception",
     "evalue": "No synapse filepath set",
     "output_type": "error",
     "traceback": [
      "\u001b[0;31m---------------------------------------------------------------------------\u001b[0m",
      "\u001b[0;31mException\u001b[0m                                 Traceback (most recent call last)",
      "Cell \u001b[0;32mIn[36], line 1\u001b[0m\n\u001b[0;32m----> 1\u001b[0m neuron_obj_axon \u001b[38;5;241m=\u001b[39m \u001b[43mnpu\u001b[49m\u001b[38;5;241;43m.\u001b[39;49m\u001b[43mcell_type_ax_dendr_stage\u001b[49m\u001b[43m(\u001b[49m\n\u001b[1;32m      2\u001b[0m \u001b[43m    \u001b[49m\u001b[43mn1\u001b[49m\u001b[43m,\u001b[49m\n\u001b[1;32m      3\u001b[0m \u001b[43m    \u001b[49m\u001b[43mmesh_decimated\u001b[49m\u001b[43m \u001b[49m\u001b[38;5;241;43m=\u001b[39;49m\u001b[43m \u001b[49m\u001b[43mmesh_decimated\u001b[49m\u001b[43m,\u001b[49m\n\u001b[1;32m      4\u001b[0m \u001b[43m    \u001b[49m\u001b[43mplot_axon\u001b[49m\u001b[43m \u001b[49m\u001b[38;5;241;43m=\u001b[39;49m\u001b[43m \u001b[49m\u001b[38;5;28;43;01mFalse\u001b[39;49;00m\u001b[43m,\u001b[49m\n\u001b[1;32m      5\u001b[0m \u001b[43m)\u001b[49m\n",
      "File \u001b[0;32m/usr/local/lib/python3.8/dist-packages/neurd/neuron_pipeline_utils.py:154\u001b[0m, in \u001b[0;36mcell_type_ax_dendr_stage\u001b[0;34m(neuron_obj, mesh_decimated, store_in_obj, return_stage_products, verbose, plot_initial_neuron, plot_floating_end_nodes_limb_branch_dict, plot_downstream_path_limb_branch, plot_after_simplification, filter_low_branch_cluster_dendrite, plot_limb_branch_filter_away_low_branch, plot_synapses, segment_id, synapse_filepath, plot_spines, plot_spines_and_sk_filter_for_syn, plot_spines_and_sk_filter_for_spine, inh_exc_class_to_use_for_axon, plot_aligned_neuron_with_syn_sp, filter_dendrite_on_axon, plot_initial_axon, plot_axon_on_dendrite, plot_high_fidelity_axon, plot_boutons_web, plot_axon)\u001b[0m\n\u001b[1;32m    149\u001b[0m     \u001b[38;5;28mprint\u001b[39m(\u001b[38;5;124mf\u001b[39m\u001b[38;5;124m\"\u001b[39m\u001b[38;5;124mwinning_nucleus_id = \u001b[39m\u001b[38;5;132;01m{\u001b[39;00mwinning_nucleus_id\u001b[38;5;132;01m}\u001b[39;00m\u001b[38;5;124m\"\u001b[39m)\n\u001b[1;32m    153\u001b[0m \u001b[38;5;66;03m# 4) Add synapses to neuron \u001b[39;00m\n\u001b[0;32m--> 154\u001b[0m neuron_obj_attr \u001b[38;5;241m=\u001b[39m \u001b[43msyu\u001b[49m\u001b[38;5;241;43m.\u001b[39;49m\u001b[43madd_synapses_to_neuron_obj\u001b[49m\u001b[43m(\u001b[49m\n\u001b[1;32m    155\u001b[0m \u001b[43m    \u001b[49m\u001b[43mneuron_obj_pre_class\u001b[49m\u001b[43m,\u001b[49m\n\u001b[1;32m    156\u001b[0m \u001b[43m    \u001b[49m\u001b[43msegment_id\u001b[49m\u001b[43m \u001b[49m\u001b[38;5;241;43m=\u001b[39;49m\u001b[43m \u001b[49m\u001b[43msegment_id\u001b[49m\u001b[43m,\u001b[49m\n\u001b[1;32m    157\u001b[0m \u001b[43m    \u001b[49m\u001b[43msynapse_filepath\u001b[49m\u001b[43m \u001b[49m\u001b[38;5;241;43m=\u001b[39;49m\u001b[43m \u001b[49m\u001b[43msynapse_filepath\u001b[49m\u001b[43m,\u001b[49m\n\u001b[1;32m    158\u001b[0m \u001b[43m    \u001b[49m\u001b[43mverbose\u001b[49m\u001b[43m  \u001b[49m\u001b[38;5;241;43m=\u001b[39;49m\u001b[43m \u001b[49m\u001b[43mverbose\u001b[49m\u001b[43m,\u001b[49m\n\u001b[1;32m    159\u001b[0m \u001b[43m    \u001b[49m\u001b[43moriginal_mesh\u001b[49m\u001b[43m \u001b[49m\u001b[38;5;241;43m=\u001b[39;49m\u001b[43m \u001b[49m\u001b[43mmesh_decimated\u001b[49m\u001b[43m,\u001b[49m\n\u001b[1;32m    160\u001b[0m \u001b[43m    \u001b[49m\u001b[43mplot_valid_error_synapses\u001b[49m\u001b[43m \u001b[49m\u001b[38;5;241;43m=\u001b[39;49m\u001b[43m \u001b[49m\u001b[38;5;28;43;01mFalse\u001b[39;49;00m\u001b[43m,\u001b[49m\n\u001b[1;32m    161\u001b[0m \u001b[43m    \u001b[49m\u001b[43mcalculate_synapse_soma_distance\u001b[49m\u001b[43m \u001b[49m\u001b[38;5;241;43m=\u001b[39;49m\u001b[43m \u001b[49m\u001b[38;5;28;43;01mFalse\u001b[39;49;00m\u001b[43m,\u001b[49m\n\u001b[1;32m    162\u001b[0m \u001b[43m    \u001b[49m\u001b[43madd_valid_synapses\u001b[49m\u001b[43m \u001b[49m\u001b[38;5;241;43m=\u001b[39;49m\u001b[43m \u001b[49m\u001b[38;5;28;43;01mTrue\u001b[39;49;00m\u001b[43m,\u001b[49m\n\u001b[1;32m    163\u001b[0m \u001b[43m    \u001b[49m\u001b[43madd_error_synapses\u001b[49m\u001b[38;5;241;43m=\u001b[39;49m\u001b[38;5;28;43;01mFalse\u001b[39;49;00m\u001b[43m,\u001b[49m\n\u001b[1;32m    164\u001b[0m \u001b[43m\u001b[49m\u001b[43m)\u001b[49m\n\u001b[1;32m    168\u001b[0m \u001b[38;5;28;01mif\u001b[39;00m plot_synapses:\n\u001b[1;32m    169\u001b[0m     syu\u001b[38;5;241m.\u001b[39mplot_synapses(neuron_obj_attr)\n",
      "File \u001b[0;32m/usr/local/lib/python3.8/dist-packages/neurd/synapse_utils.py:1439\u001b[0m, in \u001b[0;36madd_synapses_to_neuron_obj\u001b[0;34m(neuron_obj, segment_id, validation, verbose, original_mesh, plot_valid_error_synapses, calculate_synapse_soma_distance, add_valid_synapses, add_error_synapses, limb_branch_dict_to_add_synapses, **kwargs)\u001b[0m\n\u001b[1;32m   1436\u001b[0m \u001b[38;5;28;01mif\u001b[39;00m segment_id \u001b[38;5;129;01mis\u001b[39;00m \u001b[38;5;28;01mNone\u001b[39;00m:\n\u001b[1;32m   1437\u001b[0m     segment_id \u001b[38;5;241m=\u001b[39m neuron_obj\u001b[38;5;241m.\u001b[39msegment_id\n\u001b[0;32m-> 1439\u001b[0m synapse_dict \u001b[38;5;241m=\u001b[39m \u001b[43mvdi\u001b[49m\u001b[38;5;241;43m.\u001b[39;49m\u001b[43msegment_id_to_synapse_dict\u001b[49m\u001b[43m(\u001b[49m\n\u001b[1;32m   1440\u001b[0m \u001b[43m    \u001b[49m\u001b[43msegment_id\u001b[49m\u001b[43m \u001b[49m\u001b[38;5;241;43m=\u001b[39;49m\u001b[43m \u001b[49m\u001b[43msegment_id\u001b[49m\u001b[43m,\u001b[49m\n\u001b[1;32m   1441\u001b[0m \u001b[43m    \u001b[49m\u001b[43mvalidation\u001b[49m\u001b[38;5;241;43m=\u001b[39;49m\u001b[43mvalidation\u001b[49m\u001b[43m,\u001b[49m\n\u001b[1;32m   1442\u001b[0m \u001b[43m    \u001b[49m\u001b[43mverbose\u001b[49m\u001b[38;5;241;43m=\u001b[39;49m\u001b[43mverbose\u001b[49m\u001b[43m,\u001b[49m\n\u001b[1;32m   1443\u001b[0m \u001b[43m    \u001b[49m\u001b[38;5;241;43m*\u001b[39;49m\u001b[38;5;241;43m*\u001b[39;49m\u001b[43mkwargs\u001b[49m\n\u001b[1;32m   1444\u001b[0m \u001b[43m\u001b[49m\u001b[43m)\u001b[49m\n\u001b[1;32m   1449\u001b[0m \u001b[38;5;66;03m#original_mesh_kd = tu.mesh_to_kdtree(original_mesh)\u001b[39;00m\n\u001b[1;32m   1450\u001b[0m \u001b[38;5;28;01mif\u001b[39;00m verbose:\n",
      "File \u001b[0;32m/usr/local/lib/python3.8/dist-packages/neurd/vdi_default.py:398\u001b[0m, in \u001b[0;36mDataInterfaceBoilerplate.segment_id_to_synapse_dict\u001b[0;34m(self, segment_id, **kwargs)\u001b[0m\n\u001b[1;32m    358\u001b[0m \u001b[38;5;28;01mdef\u001b[39;00m \u001b[38;5;21msegment_id_to_synapse_dict\u001b[39m(\n\u001b[1;32m    359\u001b[0m     \u001b[38;5;28mself\u001b[39m,\n\u001b[1;32m    360\u001b[0m     segment_id,\n\u001b[1;32m    361\u001b[0m     \u001b[38;5;241m*\u001b[39m\u001b[38;5;241m*\u001b[39mkwargs):\n\u001b[1;32m    362\u001b[0m \u001b[38;5;250m    \u001b[39m\u001b[38;5;124;03m\"\"\"\u001b[39;00m\n\u001b[1;32m    363\u001b[0m \u001b[38;5;124;03m    \u001b[39;00m\n\u001b[1;32m    364\u001b[0m \u001b[38;5;124;03m    Purpose: return a dictionary containing the presyn and postsyn information for a certain segment from the backend datasource implmeneted for the data. The structure of the returned dictionary should in the following format where all coordinates and sizes ARE SCALED TO NM ALREADY\u001b[39;00m\n\u001b[0;32m   (...)\u001b[0m\n\u001b[1;32m    395\u001b[0m \u001b[38;5;124;03m    \u001b[39;00m\n\u001b[1;32m    396\u001b[0m \u001b[38;5;124;03m    \"\"\"\u001b[39;00m\n\u001b[0;32m--> 398\u001b[0m     syn_df \u001b[38;5;241m=\u001b[39m \u001b[38;5;28;43mself\u001b[39;49m\u001b[38;5;241;43m.\u001b[39;49m\u001b[43msegment_id_to_synapse_df\u001b[49m\u001b[43m(\u001b[49m\n\u001b[1;32m    399\u001b[0m \u001b[43m        \u001b[49m\u001b[43msegment_id\u001b[49m\u001b[43m,\u001b[49m\n\u001b[1;32m    400\u001b[0m \u001b[43m        \u001b[49m\u001b[38;5;241;43m*\u001b[39;49m\u001b[38;5;241;43m*\u001b[39;49m\u001b[43mkwargs\u001b[49m\u001b[43m,\u001b[49m\n\u001b[1;32m    401\u001b[0m \u001b[43m    \u001b[49m\u001b[43m)\u001b[49m\n\u001b[1;32m    405\u001b[0m     df \u001b[38;5;241m=\u001b[39m \u001b[38;5;28mself\u001b[39m\u001b[38;5;241m.\u001b[39madd_nm_to_synapse_df(syn_df)\n\u001b[1;32m    407\u001b[0m     syn_dict \u001b[38;5;241m=\u001b[39m syu\u001b[38;5;241m.\u001b[39msynapse_dict_from_synapse_df(\n\u001b[1;32m    408\u001b[0m         df,\n\u001b[1;32m    409\u001b[0m         scaling \u001b[38;5;241m=\u001b[39m \u001b[38;5;28;01mNone\u001b[39;00m,\n\u001b[1;32m    410\u001b[0m         coordinates_nm \u001b[38;5;241m=\u001b[39m \u001b[38;5;28;01mTrue\u001b[39;00m,\n\u001b[1;32m    411\u001b[0m         \u001b[38;5;241m*\u001b[39m\u001b[38;5;241m*\u001b[39mkwargs\n\u001b[1;32m    412\u001b[0m     )\n",
      "File \u001b[0;32m/usr/local/lib/python3.8/dist-packages/neurd/vdi_microns.py:42\u001b[0m, in \u001b[0;36mDataInterfaceMicrons.segment_id_to_synapse_df\u001b[0;34m(self, *args, **kwargs)\u001b[0m\n\u001b[1;32m     38\u001b[0m \u001b[38;5;28;01mdef\u001b[39;00m \u001b[38;5;21msegment_id_to_synapse_df\u001b[39m(\n\u001b[1;32m     39\u001b[0m     \u001b[38;5;28mself\u001b[39m,\n\u001b[1;32m     40\u001b[0m     \u001b[38;5;241m*\u001b[39margs,\n\u001b[1;32m     41\u001b[0m     \u001b[38;5;241m*\u001b[39m\u001b[38;5;241m*\u001b[39mkwargs):\n\u001b[0;32m---> 42\u001b[0m     \u001b[38;5;28;01mreturn\u001b[39;00m \u001b[38;5;28;43msuper\u001b[39;49m\u001b[43m(\u001b[49m\u001b[43m)\u001b[49m\u001b[38;5;241;43m.\u001b[39;49m\u001b[43msegment_id_to_synapse_df\u001b[49m\u001b[43m(\u001b[49m\n\u001b[1;32m     43\u001b[0m \u001b[43m        \u001b[49m\u001b[38;5;241;43m*\u001b[39;49m\u001b[43margs\u001b[49m\u001b[43m,\u001b[49m\n\u001b[1;32m     44\u001b[0m \u001b[43m        \u001b[49m\u001b[38;5;241;43m*\u001b[39;49m\u001b[38;5;241;43m*\u001b[39;49m\u001b[43mkwargs\u001b[49m\n\u001b[1;32m     45\u001b[0m \u001b[43m    \u001b[49m\u001b[43m)\u001b[49m\n",
      "File \u001b[0;32m/usr/local/lib/python3.8/dist-packages/neurd/vdi_default.py:624\u001b[0m, in \u001b[0;36mDataInterfaceDefault.segment_id_to_synapse_df\u001b[0;34m(self, segment_id, **kwargs)\u001b[0m\n\u001b[1;32m    622\u001b[0m \u001b[38;5;28;01mif\u001b[39;00m kwargs\u001b[38;5;241m.\u001b[39mget(\u001b[38;5;124m\"\u001b[39m\u001b[38;5;124msynapse_filepath\u001b[39m\u001b[38;5;124m\"\u001b[39m,\u001b[38;5;28;01mNone\u001b[39;00m) \u001b[38;5;129;01mis\u001b[39;00m \u001b[38;5;28;01mNone\u001b[39;00m:\n\u001b[1;32m    623\u001b[0m     \u001b[38;5;28;01mif\u001b[39;00m \u001b[38;5;28mself\u001b[39m\u001b[38;5;241m.\u001b[39msynapse_filepath \u001b[38;5;129;01mis\u001b[39;00m \u001b[38;5;28;01mNone\u001b[39;00m:\n\u001b[0;32m--> 624\u001b[0m         \u001b[38;5;28;01mraise\u001b[39;00m \u001b[38;5;167;01mException\u001b[39;00m(\u001b[38;5;124m\"\u001b[39m\u001b[38;5;124mNo synapse filepath set\u001b[39m\u001b[38;5;124m\"\u001b[39m)\n\u001b[1;32m    625\u001b[0m     kwargs[\u001b[38;5;124m\"\u001b[39m\u001b[38;5;124msynapse_filepath\u001b[39m\u001b[38;5;124m\"\u001b[39m] \u001b[38;5;241m=\u001b[39m \u001b[38;5;28mself\u001b[39m\u001b[38;5;241m.\u001b[39msynapse_filepath\n\u001b[1;32m    627\u001b[0m \u001b[38;5;66;03m#raise Exception(\"\")\u001b[39;00m\n",
      "\u001b[0;31mException\u001b[0m: No synapse filepath set"
     ]
    }
   ],
   "source": [
    "neuron_obj_axon = npu.cell_type_ax_dendr_stage(\n",
    "    n1,\n",
    "    mesh_decimated = mesh_decimated,\n",
    "    plot_axon = False,\n",
    ")"
   ]
  },
  {
   "cell_type": "code",
   "execution_count": null,
   "id": "ef29fb5b",
   "metadata": {},
   "outputs": [],
   "source": [
    "nviz.plot_axon(\n",
    "    neuron_obj_axon\n",
    ")"
   ]
  },
  {
   "cell_type": "markdown",
   "id": "e4359d09",
   "metadata": {},
   "source": [
    "# Autoproofreading Stage"
   ]
  },
  {
   "cell_type": "code",
   "execution_count": null,
   "id": "458fa42f",
   "metadata": {
    "scrolled": true
   },
   "outputs": [],
   "source": [
    "neuron_obj_proof = npu.auto_proof_stage(\n",
    "    neuron_obj_axon,\n",
    "    mesh_decimated = mesh_decimated,\n",
    "    calculate_after_proof_stats = False,\n",
    ")"
   ]
  },
  {
   "cell_type": "code",
   "execution_count": null,
   "id": "c7e31a9e",
   "metadata": {},
   "outputs": [],
   "source": [
    "_ = npu.after_auto_proof_stats(\n",
    "    neuron_obj_proof,\n",
    "    store_in_obj = True,\n",
    ")"
   ]
  },
  {
   "cell_type": "markdown",
   "id": "86446328",
   "metadata": {},
   "source": [
    "# Saving off the autoproofread neuron"
   ]
  },
  {
   "cell_type": "code",
   "execution_count": null,
   "id": "fb8c945e",
   "metadata": {},
   "outputs": [],
   "source": [
    "vdi.save_neuron_obj_auto_proof(\n",
    "    neuron_obj_proof,\n",
    ")"
   ]
  },
  {
   "cell_type": "markdown",
   "id": "788253a7",
   "metadata": {},
   "source": [
    "# Plotting the final neuron"
   ]
  },
  {
   "cell_type": "code",
   "execution_count": 99,
   "id": "96df2c4e",
   "metadata": {},
   "outputs": [],
   "source": [
    "from neurd import synapse_utils as syu"
   ]
  },
  {
   "cell_type": "code",
   "execution_count": 100,
   "id": "6eb2997d",
   "metadata": {},
   "outputs": [
    {
     "data": {
      "application/vnd.jupyter.widget-view+json": {
       "model_id": "37f52d4b48a54b1a93cc7b363d136231",
       "version_major": 2,
       "version_minor": 0
      },
      "text/plain": [
       "Container(figure=Figure(box_center=[0.5, 0.5, 0.5], box_size=[1.0, 1.0, 1.0], camera=PerspectiveCamera(fov=45.…"
      ]
     },
     "metadata": {},
     "output_type": "display_data"
    }
   ],
   "source": [
    "from datasci_tools import ipyvolume_utils as ipvu\n",
    "ipvu.plot_objects(\n",
    "    neuron_obj_axon.mesh,\n",
    "    meshes = [neuron_obj_proof.mesh],\n",
    "    meshes_colors=\"red\"\n",
    ")"
   ]
  },
  {
   "cell_type": "code",
   "execution_count": 101,
   "id": "60c5c168",
   "metadata": {},
   "outputs": [
    {
     "name": "stdout",
     "output_type": "stream",
     "text": [
      "\n",
      " Working on visualization type: mesh\n",
      "\n",
      " Working on visualization type: skeleton\n"
     ]
    },
    {
     "data": {
      "application/vnd.jupyter.widget-view+json": {
       "model_id": "87934543b2ca4546aa3d512255441744",
       "version_major": 2,
       "version_minor": 0
      },
      "text/plain": [
       "HBox(children=(FloatSlider(value=0.3, description='Size', max=3.0), Dropdown(description='Geo', index=3, optio…"
      ]
     },
     "metadata": {},
     "output_type": "display_data"
    },
    {
     "data": {
      "application/vnd.jupyter.widget-view+json": {
       "model_id": "9f33d0b39899421bb7f1009a3859cf9c",
       "version_major": 2,
       "version_minor": 0
      },
      "text/plain": [
       "HBox(children=(FloatSlider(value=0.3, description='Size', max=3.0), Dropdown(description='Geo', index=3, optio…"
      ]
     },
     "metadata": {},
     "output_type": "display_data"
    },
    {
     "data": {
      "application/vnd.jupyter.widget-view+json": {
       "model_id": "25dd48dd11064964870aed912dc19695",
       "version_major": 2,
       "version_minor": 0
      },
      "text/plain": [
       "Container(figure=Figure(box_center=[0.5, 0.5, 0.5], box_size=[1.0, 1.0, 1.0], camera=PerspectiveCamera(fov=45.…"
      ]
     },
     "metadata": {},
     "output_type": "display_data"
    }
   ],
   "source": [
    "syu.plot_synapses(neuron_obj_proof)"
   ]
  },
  {
   "cell_type": "code",
   "execution_count": 102,
   "id": "4069451e",
   "metadata": {},
   "outputs": [
    {
     "name": "stdout",
     "output_type": "stream",
     "text": [
      "# of error synapses = 199\n",
      "\n",
      " Working on visualization type: mesh\n"
     ]
    },
    {
     "data": {
      "application/vnd.jupyter.widget-view+json": {
       "model_id": "6225c856dc2b43f2ba7b4227483b5283",
       "version_major": 2,
       "version_minor": 0
      },
      "text/plain": [
       "HBox(children=(FloatSlider(value=0.3, description='Size', max=3.0), Dropdown(description='Geo', index=3, optio…"
      ]
     },
     "metadata": {},
     "output_type": "display_data"
    },
    {
     "data": {
      "application/vnd.jupyter.widget-view+json": {
       "model_id": "5450a69395454b3f863cd9a914ea53a9",
       "version_major": 2,
       "version_minor": 0
      },
      "text/plain": [
       "Container(figure=Figure(box_center=[0.5, 0.5, 0.5], box_size=[1.0, 1.0, 1.0], camera=PerspectiveCamera(fov=45.…"
      ]
     },
     "metadata": {},
     "output_type": "display_data"
    }
   ],
   "source": [
    "syu.plot_synapses_error_from_neuron_obj(neuron_obj_proof)    "
   ]
  },
  {
   "cell_type": "code",
   "execution_count": 103,
   "id": "c3ba8212",
   "metadata": {},
   "outputs": [
    {
     "name": "stdout",
     "output_type": "stream",
     "text": [
      "# of valid synapses = 2116\n",
      "\n",
      " Working on visualization type: mesh\n"
     ]
    },
    {
     "data": {
      "application/vnd.jupyter.widget-view+json": {
       "model_id": "234ab0ebc2d0413cb7777c066c8995d6",
       "version_major": 2,
       "version_minor": 0
      },
      "text/plain": [
       "HBox(children=(FloatSlider(value=0.3, description='Size', max=3.0), Dropdown(description='Geo', index=3, optio…"
      ]
     },
     "metadata": {},
     "output_type": "display_data"
    },
    {
     "data": {
      "application/vnd.jupyter.widget-view+json": {
       "model_id": "6a82d18a36b642cc9b0cd7bed17b879b",
       "version_major": 2,
       "version_minor": 0
      },
      "text/plain": [
       "Container(figure=Figure(box_center=[0.5, 0.5, 0.5], box_size=[1.0, 1.0, 1.0], camera=PerspectiveCamera(fov=45.…"
      ]
     },
     "metadata": {},
     "output_type": "display_data"
    }
   ],
   "source": [
    "syu.plot_synapses_valid_from_neuron_obj(neuron_obj_proof)  "
   ]
  },
  {
   "cell_type": "code",
   "execution_count": 104,
   "id": "a1174825",
   "metadata": {},
   "outputs": [
    {
     "name": "stdout",
     "output_type": "stream",
     "text": [
      "\n",
      " Working on visualization type: mesh\n"
     ]
    },
    {
     "data": {
      "application/vnd.jupyter.widget-view+json": {
       "model_id": "99ba4598916647708a7708382e577741",
       "version_major": 2,
       "version_minor": 0
      },
      "text/plain": [
       "Container(figure=Figure(box_center=[0.5, 0.5, 0.5], box_size=[1.0, 1.0, 1.0], camera=PerspectiveCamera(fov=45.…"
      ]
     },
     "metadata": {},
     "output_type": "display_data"
    },
    {
     "name": "stdout",
     "output_type": "stream",
     "text": [
      "apical:blue\n",
      "apical_shaft:aqua\n",
      "apical_tuft:purple\n",
      "basal:yellow\n",
      "axon:red\n",
      "oblique:green\n",
      "\n",
      "\n",
      "Unlabeled: transparent green\n"
     ]
    }
   ],
   "source": [
    "nviz.plot_compartments(neuron_obj_proof)"
   ]
  },
  {
   "cell_type": "code",
   "execution_count": 105,
   "id": "8843c624-5210-4f4e-8459-2beb758ab1a3",
   "metadata": {},
   "outputs": [
    {
     "name": "stdout",
     "output_type": "stream",
     "text": [
      "The autoreload extension is already loaded. To reload it, use:\n",
      "  %reload_ext autoreload\n"
     ]
    }
   ],
   "source": [
    "%load_ext autoreload\n",
    "%autoreload 2"
   ]
  },
  {
   "cell_type": "code",
   "execution_count": null,
   "id": "81cc6b6b-8411-4a92-9d9c-5af12b50bd17",
   "metadata": {},
   "outputs": [],
   "source": []
  }
 ],
 "metadata": {
  "kernelspec": {
   "display_name": "Python 3 (ipykernel)",
   "language": "python",
   "name": "python3"
  },
  "language_info": {
   "codemirror_mode": {
    "name": "ipython",
    "version": 3
   },
   "file_extension": ".py",
   "mimetype": "text/x-python",
   "name": "python",
   "nbconvert_exporter": "python",
   "pygments_lexer": "ipython3",
   "version": "3.8.0"
  }
 },
 "nbformat": 4,
 "nbformat_minor": 5
}
