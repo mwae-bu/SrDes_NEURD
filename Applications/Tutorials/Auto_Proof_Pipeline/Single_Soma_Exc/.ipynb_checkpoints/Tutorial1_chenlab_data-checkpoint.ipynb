{
 "cells": [
  {
   "cell_type": "code",
   "execution_count": 1,
   "id": "077350ae",
   "metadata": {},
   "outputs": [],
   "source": [
    "%load_ext autoreload\n",
    "%autoreload 2"
   ]
  },
  {
   "cell_type": "code",
   "execution_count": 2,
   "id": "f59f25d5",
   "metadata": {
    "scrolled": true
   },
   "outputs": [
    {
     "name": "stderr",
     "output_type": "stream",
     "text": [
      "/usr/local/lib/python3.8/dist-packages/python_jsonschema_objects/__init__.py:113: UserWarning: Schema id not specified. Defaulting to 'self'\n",
      "  warnings.warn(\"Schema id not specified. Defaulting to 'self'\")\n"
     ]
    },
    {
     "name": "stdout",
     "output_type": "stream",
     "text": [
      "/usr/local/lib/python3.8/dist-packages/mesh_tools/trimesh_utils.py\n"
     ]
    }
   ],
   "source": [
    "# relevant modules for code\n",
    "import neurd\n",
    "from mesh_tools import trimesh_utils as tu\n",
    "from datasci_tools import ipyvolume_utils as ipvu\n",
    "from neurd import neuron_visualizations as nviz\n",
    "from pathlib import Path\n",
    "import os\n",
    "\n",
    "import inspect\n",
    "print(inspect.getfile(tu))\n",
    "\n",
    "\n",
    "\n",
    "from datasci_tools import pipeline\n",
    "\n"
   ]
  },
  {
   "cell_type": "markdown",
   "id": "a4a1285f-b1d1-4ea3-89ed-38d99ff2b421",
   "metadata": {},
   "source": [
    "Use MeshParty to Upload ChenLab Data "
   ]
  },
  {
   "cell_type": "code",
   "execution_count": 3,
   "id": "87e82616-a29a-483d-80bd-c1794d687348",
   "metadata": {},
   "outputs": [
    {
     "name": "stdout",
     "output_type": "stream",
     "text": [
      "Mesh has been saved to /NEURD_Chenlab/Applications/Tutorials/Auto_Proof_Pipeline/Single_Soma_Exc/32414.off\n"
     ]
    }
   ],
   "source": [
    "#  ChenLab script...\n",
    "\n",
    "from meshparty import trimesh_io  # for grabbing a mesh\n",
    "from meshparty import trimesh_vtk  # for visualizing meshes and skeletons\n",
    "    \n",
    "# provide the DENDRITIC segmentation ID for the cell of interest\n",
    "dend_id = 75719036679410195  \n",
    "\n",
    "# Get the DENDRITIC segmentation mesh from neuroglancer\n",
    "mm = trimesh_io.MeshMeta(\n",
    "        cv_path=\"precomputed://gs://zetta_jchen_mouse_cortex_001_segmentation/cell/lowres/240820_emb24_lowres_x1/seg\", \n",
    "        map_gs_to_https=True)\n",
    "\n",
    "mesh = mm.mesh(seg_id=dend_id) \n",
    "\n",
    "# visualize the mesh\n",
    "mesh_actor = trimesh_vtk.mesh_actor(mesh,  color=(1,0,0),  opacity=0.25)\n",
    "#trimesh_vtk.render_actors([mesh_actor]) #NOTE: need to close the window when done to unpause python\n",
    "\n",
    "# store the mesh\n",
    "# Define the local file path where you want to save the mesh (with .off extension)\n",
    "local_file_path = \"32414.off\"\n",
    "# Export the mesh to a .off file\n",
    "mesh.export(local_file_path)\n",
    "# Confirm the file has been saved\n",
    "print(f\"Mesh has been saved to {os.path.abspath(local_file_path)}\")\n",
    "\n",
    "\n",
    "#import skeletor as sk\n",
    "# pre-process the mesh (may not be necessary)\n",
    "#mesh_fix = sk.pre.fix_mesh(mesh) #\n",
    "#mesh_fix_actor = trimesh_vtk.mesh_actor(mesh_fix,  color=(1,0,0),  opacity=0.25)\n",
    "#trimesh_vtk.render_actors([mesh_actor, mesh_fix_actor]) \n",
    "\n"
   ]
  },
  {
   "cell_type": "markdown",
   "id": "8c857d7b",
   "metadata": {},
   "source": [
    "# Load the appropriate volume data inferface object"
   ]
  },
  {
   "cell_type": "code",
   "execution_count": 4,
   "id": "863967b7",
   "metadata": {},
   "outputs": [],
   "source": [
    "from neurd.vdi_microns import volume_data_interface as vdi\n",
    "vdi.set_parameters_for_directory_modules()"
   ]
  },
  {
   "cell_type": "markdown",
   "id": "6f9b75c9",
   "metadata": {},
   "source": [
    "# Data Prep: Loading mesh"
   ]
  },
  {
   "cell_type": "code",
   "execution_count": 5,
   "id": "ad55fde0-6dab-4af5-a657-64bb10d87a82",
   "metadata": {},
   "outputs": [
    {
     "name": "stderr",
     "output_type": "stream",
     "text": [
      "/usr/local/lib/python3.8/dist-packages/traittypes/traittypes.py:97: UserWarning: Given trait value dtype \"float64\" does not match required type \"float64\". A coerced copy has been created.\n",
      "  warnings.warn(\n"
     ]
    },
    {
     "data": {
      "application/vnd.jupyter.widget-view+json": {
       "model_id": "9b80cb6d82b64b9da5874799093d563e",
       "version_major": 2,
       "version_minor": 0
      },
      "text/plain": [
       "Container(figure=Figure(box_center=[0.5, 0.5, 0.5], box_size=[1.0, 1.0, 1.0], camera=PerspectiveCamera(fov=45.…"
      ]
     },
     "metadata": {},
     "output_type": "display_data"
    },
    {
     "data": {
      "text/plain": [
       "<trimesh.Trimesh(vertices.shape=(365198, 3), faces.shape=(730572, 3), name=`32414.off`)>"
      ]
     },
     "execution_count": 5,
     "metadata": {},
     "output_type": "execute_result"
    }
   ],
   "source": [
    "# ChenLab MESH!!!\n",
    "segment_id = 32414\n",
    "\n",
    "mesh = vdi.fetch_segment_id_mesh(\n",
    "    segment_id,\n",
    "    plot = True\n",
    ")\n",
    "\n",
    "mesh"
   ]
  },
  {
   "cell_type": "code",
   "execution_count": 6,
   "id": "ca761cd9-6852-4f40-a684-2c99665df28b",
   "metadata": {},
   "outputs": [
    {
     "name": "stdout",
     "output_type": "stream",
     "text": [
      "mesh size 36116418 bytes\n"
     ]
    }
   ],
   "source": [
    "# analyze dataset properties (ChenLab)\n",
    "\n",
    "filepath = '32414.off'\n",
    "print(f'mesh size {os.path.getsize(filepath)} bytes')\n"
   ]
  },
  {
   "cell_type": "code",
   "execution_count": 7,
   "id": "0cfc1789",
   "metadata": {},
   "outputs": [
    {
     "data": {
      "text/plain": [
       "<datasci_tools.pipeline.PipelineProducts at 0x7f1d6fd31fa0>"
      ]
     },
     "execution_count": 7,
     "metadata": {},
     "output_type": "execute_result"
    }
   ],
   "source": [
    "from datasci_tools import pipeline\n",
    "\n",
    "products = pipeline.PipelineProducts()\n",
    "products"
   ]
  },
  {
   "cell_type": "markdown",
   "id": "7a30c933",
   "metadata": {},
   "source": [
    "# Step 1: Decimation"
   ]
  },
  {
   "cell_type": "markdown",
   "id": "128122bb-3c47-4de9-b325-bc0c802edaa3",
   "metadata": {},
   "source": [
    "Decimation involves\n"
   ]
  },
  {
   "cell_type": "code",
   "execution_count": 8,
   "id": "29e0844f",
   "metadata": {},
   "outputs": [
    {
     "data": {
      "text/plain": [
       "\"\\nNOTE: an already decimated mesh is used for the example\\nin order to speed up time, that's why the mesh_dec\\nobject will be overwritten with original mesh object\\n\""
      ]
     },
     "execution_count": 8,
     "metadata": {},
     "output_type": "execute_result"
    }
   ],
   "source": [
    "\"\"\"\n",
    "NOTE: an already decimated mesh is used for the example\n",
    "in order to speed up time, that's why the mesh_dec\n",
    "object will be overwritten with original mesh object\n",
    "\"\"\""
   ]
  },
  {
   "cell_type": "code",
   "execution_count": 9,
   "id": "cdbb6e70",
   "metadata": {},
   "outputs": [],
   "source": [
    "decimation_parameters = dict(\n",
    "    decimation_ratio =0.25,\n",
    ")"
   ]
  },
  {
   "cell_type": "code",
   "execution_count": 10,
   "id": "b3973f2c",
   "metadata": {},
   "outputs": [
    {
     "name": "stdout",
     "output_type": "stream",
     "text": [
      "xvfb-run -n 9267 -s \"-screen 0 800x600x24\" meshlabserver $@  -i /NEURD_Chenlab/Applications/Tutorials/Auto_Proof_Pipeline/Single_Soma_Exc/temp/neuron_83221.off -o /NEURD_Chenlab/Applications/Tutorials/Auto_Proof_Pipeline/Single_Soma_Exc/temp/neuron_83221_decimated.off -s /NEURD_Chenlab/Applications/Tutorials/Auto_Proof_Pipeline/Single_Soma_Exc/temp/decimation_meshlab_25795178.mls\n",
      "Total time = 23.771519422531128\n"
     ]
    }
   ],
   "source": [
    "import time\n",
    "\n",
    "# tu\n",
    "\n",
    "st = time.time()\n",
    "mesh_decimated = tu.decimate(\n",
    "    mesh,\n",
    "    **decimation_parameters\n",
    ")\n",
    "\n",
    "print(f\"Total time = {time.time() - st}\")"
   ]
  },
  {
   "cell_type": "code",
   "execution_count": 11,
   "id": "bbf7c8d0",
   "metadata": {},
   "outputs": [
    {
     "name": "stdout",
     "output_type": "stream",
     "text": [
      "{\n",
      "  'decimation':\n",
      "  {\n",
      "    'decimation_parameters':\n",
      "    {\n",
      "      'decimation_ratio':0.25,\n",
      "    },\n",
      "    'segment_id':32414,\n",
      "  },\n",
      "}\n",
      "\n"
     ]
    }
   ],
   "source": [
    "# saving any parameters used or output products for later use\n",
    "products.set_stage_attrs(\n",
    "    stage = \"decimation\",\n",
    "    attr_dict = dict(\n",
    "        decimation_parameters = decimation_parameters,\n",
    "        segment_id = segment_id,\n",
    "    ),\n",
    ")\n",
    "\n",
    "print(products)"
   ]
  },
  {
   "cell_type": "markdown",
   "id": "bc57fd52",
   "metadata": {},
   "source": [
    "# Step 2: Soma Identification"
   ]
  },
  {
   "cell_type": "code",
   "execution_count": 12,
   "id": "8866641c",
   "metadata": {},
   "outputs": [],
   "source": [
    "from neurd import soma_extraction_utils as sm\n",
    "soma_extraction_parameters = dict()"
   ]
  },
  {
   "cell_type": "code",
   "execution_count": 13,
   "id": "b65f18a1",
   "metadata": {},
   "outputs": [
    {
     "data": {
      "text/plain": [
       "{'glia_volume_threshold_in_um_global': 2500,\n",
       " 'glia_n_faces_threshold_global': 400000,\n",
       " 'glia_n_faces_min_global': 100000}"
      ]
     },
     "execution_count": 13,
     "metadata": {},
     "output_type": "execute_result"
    }
   ],
   "source": [
    "# could inspect the parameters of a certain category\n",
    "from neurd import parameter_utils as paru\n",
    "paru.category_param_from_module(\n",
    "        module = sm,\n",
    "        category = \"glia\",\n",
    ")"
   ]
  },
  {
   "cell_type": "code",
   "execution_count": 14,
   "id": "b6ff9777",
   "metadata": {
    "scrolled": true
   },
   "outputs": [
    {
     "name": "stdout",
     "output_type": "stream",
     "text": [
      "Current Arguments Using (adjusted for decimation):\n",
      " large_mesh_threshold= 5000.0 \n",
      "large_mesh_threshold_inner = 3250.0 \n",
      "soma_size_threshold = 562.5 \n",
      "soma_size_threshold_max = 75000.0\n",
      "outer_decimation_ratio = 0.25\n",
      "inner_decimation_ratio = 0.25\n",
      "max_mesh_sized_filtered_away = 22500.0\n",
      "xvfb-run -n 9454 -s \"-screen 0 800x600x24\" meshlabserver $@  -i /NEURD_Chenlab/Applications/Tutorials/Auto_Proof_Pipeline/Single_Soma_Exc/temp/neuron_60273.off -o /NEURD_Chenlab/Applications/Tutorials/Auto_Proof_Pipeline/Single_Soma_Exc/temp/neuron_60273_remove_interior.off -s /NEURD_Chenlab/Applications/Tutorials/Auto_Proof_Pipeline/Single_Soma_Exc/temp/remove_interior_761255.mls\n",
      "removed temporary input file: /NEURD_Chenlab/Applications/Tutorials/Auto_Proof_Pipeline/Single_Soma_Exc/temp/neuron_60273.off\n",
      "removed temporary output file: /NEURD_Chenlab/Applications/Tutorials/Auto_Proof_Pipeline/Single_Soma_Exc/temp/neuron_60273_remove_interior.off\n",
      "/NEURD_Chenlab/Applications/Tutorials/Auto_Proof_Pipeline/Single_Soma_Exc/temp/remove_interior_761255.mls is being deleted....\n",
      "There were 1 total interior meshes\n",
      "Pieces satisfying glia requirements (volume) (x >= 2500000000000): 0\n",
      "Pieces satisfying nuclie requirements: n_faces (700 <= x) and volume (x < 2500000000000) : 1\n",
      "inside remove_mesh_interior and using precomputed inside_pieces\n",
      "Removing the following inside neurons: [<trimesh.Trimesh(vertices.shape=(4492, 3), faces.shape=(8984, 3))>]\n",
      "\n",
      "\n",
      "Original Mesh size: 182642, Final mesh size: 173658\n",
      "Total time = 10.430450916290283\n",
      "xvfb-run -n 2313 -s \"-screen 0 800x600x24\" meshlabserver $@  -i /NEURD_Chenlab/Applications/Tutorials/Auto_Proof_Pipeline/Single_Soma_Exc/12345/neuron_12345.off -o /NEURD_Chenlab/Applications/Tutorials/Auto_Proof_Pipeline/Single_Soma_Exc/12345/neuron_12345_decimated.off -s /NEURD_Chenlab/Applications/Tutorials/Auto_Proof_Pipeline/Single_Soma_Exc/12345/decimation_meshlab_25796976.mls\n",
      "Total found significant pieces before Poisson = [<trimesh.Trimesh(vertices.shape=(21068, 3), faces.shape=(42628, 3), name=`neuron_12345_decimated.off`)>]\n",
      "----- working on large mesh #0: <trimesh.Trimesh(vertices.shape=(21068, 3), faces.shape=(42628, 3), name=`neuron_12345_decimated.off`)>\n",
      "remove_inside_pieces requested \n",
      "xvfb-run -n 9024 -s \"-screen 0 800x600x24\" meshlabserver $@  -i /NEURD_Chenlab/Applications/Tutorials/Auto_Proof_Pipeline/Single_Soma_Exc/temp/neuron_89677.off -o /NEURD_Chenlab/Applications/Tutorials/Auto_Proof_Pipeline/Single_Soma_Exc/temp/neuron_89677_remove_interior.off -s /NEURD_Chenlab/Applications/Tutorials/Auto_Proof_Pipeline/Single_Soma_Exc/temp/remove_interior_818118.mls\n",
      "removed temporary input file: /NEURD_Chenlab/Applications/Tutorials/Auto_Proof_Pipeline/Single_Soma_Exc/temp/neuron_89677.off\n",
      "removed temporary output file: /NEURD_Chenlab/Applications/Tutorials/Auto_Proof_Pipeline/Single_Soma_Exc/temp/neuron_89677_remove_interior.off\n",
      "/NEURD_Chenlab/Applications/Tutorials/Auto_Proof_Pipeline/Single_Soma_Exc/temp/remove_interior_818118.mls is being deleted....\n",
      "No significant (1000) interior meshes present\n",
      "largest is 52\n",
      "pre_largest_mesh_path = /NEURD_Chenlab/Applications/Tutorials/Auto_Proof_Pipeline/Single_Soma_Exc/12345/neuron_12345_decimated_largest_piece.off\n",
      "xvfb-run -n 7263 -s \"-screen 0 800x600x24\" meshlabserver $@  -i /NEURD_Chenlab/Applications/Tutorials/Auto_Proof_Pipeline/Single_Soma_Exc/12345/neuron_12345_decimated_largest_piece.off -o /NEURD_Chenlab/Applications/Tutorials/Auto_Proof_Pipeline/Single_Soma_Exc/12345/neuron_12345_decimated_largest_piece_poisson.off -s /NEURD_Chenlab/Applications/Tutorials/Auto_Proof_Pipeline/Single_Soma_Exc/12345/poisson_93408.mls\n",
      "Total found significant pieces AFTER Poisson = [<trimesh.Trimesh(vertices.shape=(51109, 3), faces.shape=(102214, 3), name=`neuron_12345_decimated_largest_piece_poisson.off`)>, <trimesh.Trimesh(vertices.shape=(4229, 3), faces.shape=(8454, 3), name=`neuron_12345_decimated_largest_piece_poisson.off`)>]\n",
      "----- working on mesh after poisson #0: <trimesh.Trimesh(vertices.shape=(51109, 3), faces.shape=(102214, 3), name=`neuron_12345_decimated_largest_piece_poisson.off`)>\n",
      "xvfb-run -n 6465 -s \"-screen 0 800x600x24\" meshlabserver $@  -i /NEURD_Chenlab/Applications/Tutorials/Auto_Proof_Pipeline/Single_Soma_Exc/12345/neuron_12345_decimated_largest_piece_poisson_largest_inner.off -o /NEURD_Chenlab/Applications/Tutorials/Auto_Proof_Pipeline/Single_Soma_Exc/12345/neuron_12345_decimated_largest_piece_poisson_largest_inner_decimated.off -s /NEURD_Chenlab/Applications/Tutorials/Auto_Proof_Pipeline/Single_Soma_Exc/12345/decimation_meshlab_2532060.mls\n",
      "\n",
      "-------Splits after inner decimation len = 1--------\n",
      "\n",
      "done exporting decimated mesh: neuron_12345_decimated_largest_piece_poisson_largest_inner.off\n",
      "\n",
      "    --- On segmentation loop 0 --\n",
      "largest_mesh_path_inner_decimated_clean = <trimesh.Trimesh(vertices.shape=(12777, 3), faces.shape=(25550, 3), name=`neuron_12345_decimated_largest_piece_poisson_largest_inner_decimated.off`)>\n",
      "\n",
      "largest_mesh_path_inner_decimated_clean = <trimesh.Trimesh(vertices.shape=(12777, 3), faces.shape=(25550, 3), name=`neuron_12345_decimated_largest_piece_poisson_largest_inner_decimated.off`)>\n",
      "soma_size_threshold = 562.5\n",
      "soma_size_threshold_max = 75000.0\n",
      "soma_width_threshold = 0.32\n",
      "\n",
      "Number of segments: 14\n",
      "\n"
     ]
    },
    {
     "data": {
      "application/vnd.jupyter.widget-view+json": {
       "model_id": "ba954e85453c417f8d0b1cb7ff81e991",
       "version_major": 2,
       "version_minor": 0
      },
      "text/plain": [
       "  0%|          | 0/14 [00:00<?, ?it/s]"
      ]
     },
     "metadata": {},
     "output_type": "display_data"
    },
    {
     "name": "stdout",
     "output_type": "stream",
     "text": [
      "      ------ Found 1 viable somas: [0.8670964999999999]\n",
      "Using Poisson Surface Reconstruction for watertightness in soma_volume_ratio\n",
      "xvfb-run -n 442 -s \"-screen 0 800x600x24\" meshlabserver $@  -i /NEURD_Chenlab/Applications/Tutorials/Auto_Proof_Pipeline/Single_Soma_Exc/Poisson_temp/neuron_646580.off -o /NEURD_Chenlab/Applications/Tutorials/Auto_Proof_Pipeline/Single_Soma_Exc/Poisson_temp/neuron_646580_poisson.off -s /NEURD_Chenlab/Applications/Tutorials/Auto_Proof_Pipeline/Single_Soma_Exc/Poisson_temp/poisson_245232.mls\n",
      "removed temporary input file: /NEURD_Chenlab/Applications/Tutorials/Auto_Proof_Pipeline/Single_Soma_Exc/Poisson_temp/neuron_646580.off\n",
      "removed temporary output file: /NEURD_Chenlab/Applications/Tutorials/Auto_Proof_Pipeline/Single_Soma_Exc/Poisson_temp/neuron_646580_poisson.off\n",
      "mesh.is_watertight = True\n",
      "/NEURD_Chenlab/Applications/Tutorials/Auto_Proof_Pipeline/Single_Soma_Exc/Poisson_temp/poisson_245232.mls is being deleted....\n",
      "Inside sphere validater: ratio_val = 2.486329499435363\n",
      "----- working on mesh after poisson #1: <trimesh.Trimesh(vertices.shape=(4229, 3), faces.shape=(8454, 3), name=`neuron_12345_decimated_largest_piece_poisson.off`)>\n",
      "xvfb-run -n 6820 -s \"-screen 0 800x600x24\" meshlabserver $@  -i /NEURD_Chenlab/Applications/Tutorials/Auto_Proof_Pipeline/Single_Soma_Exc/12345/neuron_12345_decimated_largest_piece_poisson_largest_inner.off -o /NEURD_Chenlab/Applications/Tutorials/Auto_Proof_Pipeline/Single_Soma_Exc/12345/neuron_12345_decimated_largest_piece_poisson_largest_inner_decimated.off -s /NEURD_Chenlab/Applications/Tutorials/Auto_Proof_Pipeline/Single_Soma_Exc/12345/decimation_meshlab_2532060.mls\n",
      "\n",
      "-------Splits after inner decimation len = 1--------\n",
      "\n",
      "done exporting decimated mesh: neuron_12345_decimated_largest_piece_poisson_largest_inner.off\n",
      "\n",
      "    --- On segmentation loop 0 --\n",
      "largest_mesh_path_inner_decimated_clean = <trimesh.Trimesh(vertices.shape=(1058, 3), faces.shape=(2112, 3), name=`neuron_12345_decimated_largest_piece_poisson_largest_inner_decimated.off`)>\n",
      "\n",
      "largest_mesh_path_inner_decimated_clean = <trimesh.Trimesh(vertices.shape=(1058, 3), faces.shape=(2112, 3), name=`neuron_12345_decimated_largest_piece_poisson_largest_inner_decimated.off`)>\n",
      "soma_size_threshold = 562.5\n",
      "soma_size_threshold_max = 75000.0\n",
      "soma_width_threshold = 0.32\n",
      "\n",
      "Number of segments: 5\n",
      "\n"
     ]
    },
    {
     "data": {
      "application/vnd.jupyter.widget-view+json": {
       "model_id": "5491a0dc0e5b442f89c0496a987ac401",
       "version_major": 2,
       "version_minor": 0
      },
      "text/plain": [
       "  0%|          | 0/5 [00:00<?, ?it/s]"
      ]
     },
     "metadata": {},
     "output_type": "display_data"
    },
    {
     "name": "stdout",
     "output_type": "stream",
     "text": [
      "      ------ Found 1 viable somas: [0.577805]\n",
      "xz = 6.232575437305518 ratio was beyong 6 multiplier\n",
      "yz = 7.309074290114619 ratio was beyong 6 multiplier\n",
      "mesh.is_watertight = True\n",
      "/NEURD_Chenlab/Applications/Tutorials/Auto_Proof_Pipeline/Single_Soma_Exc/Poisson_temp/poisson_780468.mls is being deleted....\n",
      "Inside sphere validater: ratio_val = 455.11247054898183\n",
      "->Attempting retry of soma because failed first checks: soma_mesh = <trimesh.Trimesh(vertices.shape=(542, 3), faces.shape=(1077, 3), name=`neuron_12345_decimated_largest_piece_poisson_largest_inner_decimated.off`)>, curr_side_len_check = False, curr_volume_check = False\n",
      "perc_0_faces = 0.002785515320334262\n",
      "Going to run cgal segmentation with:\n",
      "File: /NEURD_Chenlab/Applications/Tutorials/Auto_Proof_Pipeline/Single_Soma_Exc/435_mesh \n",
      "clusters:3 \n",
      "smoothness:0.2\n",
      "\n",
      "Number of segments: 3\n",
      "\n"
     ]
    },
    {
     "data": {
      "application/vnd.jupyter.widget-view+json": {
       "model_id": "bef6a3c16b274d8bba6f1ef15fc01566",
       "version_major": 2,
       "version_minor": 0
      },
      "text/plain": [
       "  0%|          | 0/3 [00:00<?, ?it/s]"
      ]
     },
     "metadata": {},
     "output_type": "display_data"
    },
    {
     "name": "stdout",
     "output_type": "stream",
     "text": [
      "yz = 6.041267222886148 ratio was beyong 6 multiplier\n",
      "mesh.is_watertight = True\n",
      "/NEURD_Chenlab/Applications/Tutorials/Auto_Proof_Pipeline/Single_Soma_Exc/Poisson_temp/poisson_375867.mls is being deleted....\n",
      "Inside sphere validater: ratio_val = 393.3269542168001\n",
      "--->This soma mesh was not added because failed retry of sphere validation:\n",
      " soma_mesh = <trimesh.Trimesh(vertices.shape=(457, 3), faces.shape=(908, 3), name=`neuron_12345_decimated_largest_piece_poisson_largest_inner_decimated.off`)>, curr_side_len_check = False, curr_volume_check = False\n",
      "\n",
      "\n",
      "\n",
      " Total time for run = 54.35878944396973\n",
      "Before Filtering the number of somas found = 1\n",
      "\n",
      "---Performing Soma Mesh Backtracking to original mesh for poisson soma 0\n",
      "backtrack_soma_size_threshold = 8000\n",
      "xvfb-run -n 199 -s \"-screen 0 800x600x24\" meshlabserver $@  -i /NEURD_Chenlab/Applications/Tutorials/Auto_Proof_Pipeline/Single_Soma_Exc/temp/neuron_50622.off -o /NEURD_Chenlab/Applications/Tutorials/Auto_Proof_Pipeline/Single_Soma_Exc/temp/neuron_50622_fill_holes.off -s /NEURD_Chenlab/Applications/Tutorials/Auto_Proof_Pipeline/Single_Soma_Exc/temp/fill_holes_161492.mls\n",
      "removed temporary input file: /NEURD_Chenlab/Applications/Tutorials/Auto_Proof_Pipeline/Single_Soma_Exc/temp/neuron_50622.off\n",
      "removed temporary output file: /NEURD_Chenlab/Applications/Tutorials/Auto_Proof_Pipeline/Single_Soma_Exc/temp/neuron_50622_fill_holes.off\n",
      "/NEURD_Chenlab/Applications/Tutorials/Auto_Proof_Pipeline/Single_Soma_Exc/temp/fill_holes_161492.mls is being deleted....\n",
      "xvfb-run -n 4165 -s \"-screen 0 800x600x24\" meshlabserver $@  -i /NEURD_Chenlab/Applications/Tutorials/Auto_Proof_Pipeline/Single_Soma_Exc/temp/neuron_48681.off -o /NEURD_Chenlab/Applications/Tutorials/Auto_Proof_Pipeline/Single_Soma_Exc/temp/neuron_48681_remove_interior.off -s /NEURD_Chenlab/Applications/Tutorials/Auto_Proof_Pipeline/Single_Soma_Exc/temp/remove_interior_681841.mls\n",
      "removed temporary input file: /NEURD_Chenlab/Applications/Tutorials/Auto_Proof_Pipeline/Single_Soma_Exc/temp/neuron_48681.off\n",
      "removed temporary output file: /NEURD_Chenlab/Applications/Tutorials/Auto_Proof_Pipeline/Single_Soma_Exc/temp/neuron_48681_remove_interior.off\n",
      "/NEURD_Chenlab/Applications/Tutorials/Auto_Proof_Pipeline/Single_Soma_Exc/temp/remove_interior_681841.mls is being deleted....\n",
      "No significant (300) interior meshes present\n",
      "largest is 206\n",
      "split_meshes_after_backtrack = [<trimesh.Trimesh(vertices.shape=(8836, 3), faces.shape=(17487, 3))>]\n",
      "soma_size_threshold = 8000\n",
      "After backtrack the found 1 possible somas: [<trimesh.Trimesh(vertices.shape=(8836, 3), faces.shape=(17487, 3))>] \n",
      "\n",
      "--- working on backtrack soma 0: <trimesh.Trimesh(vertices.shape=(8836, 3), faces.shape=(17487, 3))>\n",
      "poisson_backtrack_distance_threshold = None\n",
      "Using Poisson Surface Reconstruction for watertightness in soma_volume_ratio\n",
      "xvfb-run -n 3234 -s \"-screen 0 800x600x24\" meshlabserver $@  -i /NEURD_Chenlab/Applications/Tutorials/Auto_Proof_Pipeline/Single_Soma_Exc/Poisson_temp/neuron_994864.off -o /NEURD_Chenlab/Applications/Tutorials/Auto_Proof_Pipeline/Single_Soma_Exc/Poisson_temp/neuron_994864_poisson.off -s /NEURD_Chenlab/Applications/Tutorials/Auto_Proof_Pipeline/Single_Soma_Exc/Poisson_temp/poisson_36212.mls\n",
      "removed temporary input file: /NEURD_Chenlab/Applications/Tutorials/Auto_Proof_Pipeline/Single_Soma_Exc/Poisson_temp/neuron_994864.off\n",
      "removed temporary output file: /NEURD_Chenlab/Applications/Tutorials/Auto_Proof_Pipeline/Single_Soma_Exc/Poisson_temp/neuron_994864_poisson.off\n",
      "mesh.is_watertight = True\n",
      "/NEURD_Chenlab/Applications/Tutorials/Auto_Proof_Pipeline/Single_Soma_Exc/Poisson_temp/poisson_36212.mls is being deleted....\n",
      "Inside sphere validater: ratio_val = 3.8851124950154654\n",
      "Skipping the segmentatio filter at end\n",
      "removing mesh interior before segmentation\n",
      "xvfb-run -n 3098 -s \"-screen 0 800x600x24\" meshlabserver $@  -i /NEURD_Chenlab/Applications/Tutorials/Auto_Proof_Pipeline/Single_Soma_Exc/temp/neuron_4170.off -o /NEURD_Chenlab/Applications/Tutorials/Auto_Proof_Pipeline/Single_Soma_Exc/temp/neuron_4170_fill_holes.off -s /NEURD_Chenlab/Applications/Tutorials/Auto_Proof_Pipeline/Single_Soma_Exc/temp/fill_holes_378753.mls\n",
      "removed temporary input file: /NEURD_Chenlab/Applications/Tutorials/Auto_Proof_Pipeline/Single_Soma_Exc/temp/neuron_4170.off\n",
      "removed temporary output file: /NEURD_Chenlab/Applications/Tutorials/Auto_Proof_Pipeline/Single_Soma_Exc/temp/neuron_4170_fill_holes.off\n",
      "/NEURD_Chenlab/Applications/Tutorials/Auto_Proof_Pipeline/Single_Soma_Exc/temp/fill_holes_378753.mls is being deleted....\n",
      "xvfb-run -n 7016 -s \"-screen 0 800x600x24\" meshlabserver $@  -i /NEURD_Chenlab/Applications/Tutorials/Auto_Proof_Pipeline/Single_Soma_Exc/temp/neuron_78924.off -o /NEURD_Chenlab/Applications/Tutorials/Auto_Proof_Pipeline/Single_Soma_Exc/temp/neuron_78924_remove_interior.off -s /NEURD_Chenlab/Applications/Tutorials/Auto_Proof_Pipeline/Single_Soma_Exc/temp/remove_interior_809342.mls\n",
      "removed temporary input file: /NEURD_Chenlab/Applications/Tutorials/Auto_Proof_Pipeline/Single_Soma_Exc/temp/neuron_78924.off\n",
      "removed temporary output file: /NEURD_Chenlab/Applications/Tutorials/Auto_Proof_Pipeline/Single_Soma_Exc/temp/neuron_78924_remove_interior.off\n",
      "/NEURD_Chenlab/Applications/Tutorials/Auto_Proof_Pipeline/Single_Soma_Exc/temp/remove_interior_809342.mls is being deleted....\n",
      "No significant (1000) interior meshes present\n",
      "largest is 66\n",
      "Doing the soma segmentation filter at end\n",
      "\n",
      "Number of segments: 1\n",
      "\n"
     ]
    },
    {
     "data": {
      "application/vnd.jupyter.widget-view+json": {
       "model_id": "174ee20515ff4dc59ffb272ff7d060f0",
       "version_major": 2,
       "version_minor": 0
      },
      "text/plain": [
       "  0%|          | 0/1 [00:00<?, ?it/s]"
      ]
     },
     "metadata": {},
     "output_type": "display_data"
    },
    {
     "name": "stdout",
     "output_type": "stream",
     "text": [
      "Largest hole before segmentation = 131857.2229139092, after = 131857.2229139092,\n",
      "\n",
      "ratio = 1.0, difference = 0.0\n",
      "filtered_soma_list_components = [<trimesh.Trimesh(vertices.shape=(8836, 3), faces.shape=(17487, 3))>]\n",
      "Not need to do a second pass because already found a soma\n"
     ]
    }
   ],
   "source": [
    "from neurd import neuron_visualizations as nviz\n",
    "\n",
    "verbose = True\n",
    "\n",
    "soma_products = sm.soma_indentification(\n",
    "    mesh_decimated,\n",
    "    verbose=verbose,\n",
    "    **soma_extraction_parameters\n",
    ")"
   ]
  },
  {
   "cell_type": "code",
   "execution_count": 15,
   "id": "6a79d754",
   "metadata": {},
   "outputs": [
    {
     "name": "stdout",
     "output_type": "stream",
     "text": [
      "# of somas = 1\n",
      "# of glia = 0\n",
      "# of nuclei = 1\n"
     ]
    },
    {
     "data": {
      "application/vnd.jupyter.widget-view+json": {
       "model_id": "81b0cb178d2e4fa4b5c66f81b0158871",
       "version_major": 2,
       "version_minor": 0
      },
      "text/plain": [
       "Container(figure=Figure(box_center=[0.5, 0.5, 0.5], box_size=[1.0, 1.0, 1.0], camera=PerspectiveCamera(fov=45.…"
      ]
     },
     "metadata": {},
     "output_type": "display_data"
    }
   ],
   "source": [
    "sm.plot_soma_products(\n",
    "    mesh_decimated,\n",
    "    soma_products = soma_products,\n",
    "    verbose = True\n",
    ")"
   ]
  },
  {
   "cell_type": "code",
   "execution_count": 16,
   "id": "e43e9f14",
   "metadata": {},
   "outputs": [
    {
     "data": {
      "text/plain": [
       "<datasci_tools.pipeline.StageProducts at 0x7f1d55dca3a0>"
      ]
     },
     "execution_count": 16,
     "metadata": {},
     "output_type": "execute_result"
    }
   ],
   "source": [
    "soma_products.soma_extraction_parameters = soma_extraction_parameters\n",
    "soma_products"
   ]
  },
  {
   "cell_type": "code",
   "execution_count": 17,
   "id": "a5056278",
   "metadata": {
    "scrolled": true
   },
   "outputs": [
    {
     "name": "stdout",
     "output_type": "stream",
     "text": [
      "{\n",
      "  'decimation':\n",
      "  {\n",
      "    'decimation_parameters':\n",
      "    {\n",
      "      'decimation_ratio':0.25,\n",
      "    },\n",
      "    'segment_id':32414,\n",
      "  },\n",
      "  'soma_identification':\n",
      "  {\n",
      "    'glia_meshes':[],\n",
      "    'nuclei_meshes':[<trimesh.Trimesh(vertices.shape=(4492, 3), faces.shape=(8984, 3))>],\n",
      "    'soma_extraction_parameters':\n",
      "    {\n",
      "    },\n",
      "    'soma_meshes':[<trimesh.Trimesh(vertices.shape=(8836, 3), faces.shape=(17487, 3))>],\n",
      "    'soma_run_time':54.35878849029541,\n",
      "    'soma_sdfs':array([0.8670965]),\n",
      "  },\n",
      "}\n",
      "\n"
     ]
    }
   ],
   "source": [
    "products.set_stage_attrs(\n",
    "    stage = \"soma_identification\",\n",
    "    attr_dict = soma_products,\n",
    ")\n",
    "\n",
    "print(products)"
   ]
  },
  {
   "cell_type": "markdown",
   "id": "da45be47",
   "metadata": {},
   "source": [
    "# Step 2b: Saving off pipeline products"
   ]
  },
  {
   "cell_type": "code",
   "execution_count": 18,
   "id": "c99ef858",
   "metadata": {},
   "outputs": [
    {
     "name": "stdout",
     "output_type": "stream",
     "text": [
      "Saved object at /NEURD_Chenlab/Applications/Tutorials/Auto_Proof_Pipeline/Single_Soma_Exc/products_up_to_soma_stage.pkl\n",
      "File size is 7.846925 MB\n",
      "Cleared mesh: <trimesh.Trimesh(vertices.shape=(4492, 3), faces.shape=(8984, 3))>:139763971613456\n",
      "Cleared mesh: <trimesh.Trimesh(vertices.shape=(8836, 3), faces.shape=(17487, 3))>:139763971303840\n"
     ]
    }
   ],
   "source": [
    "from datasci_tools import system_utils as su\n",
    "su.save_object(\n",
    "    products,\"products_up_to_soma_stage\"\n",
    ")"
   ]
  },
  {
   "cell_type": "markdown",
   "id": "bfdbcc82",
   "metadata": {},
   "source": [
    "# Step 3: Decomposition"
   ]
  },
  {
   "cell_type": "code",
   "execution_count": 19,
   "id": "5b3f9c44-1b58-48ba-905b-e81ceb1f119d",
   "metadata": {},
   "outputs": [
    {
     "data": {
      "text/plain": [
       "'2.8.8'"
      ]
     },
     "execution_count": 19,
     "metadata": {},
     "output_type": "execute_result"
    }
   ],
   "source": [
    "import networkx as nx\n",
    "nx.__version__"
   ]
  },
  {
   "cell_type": "code",
   "execution_count": null,
   "id": "84193a27",
   "metadata": {
    "scrolled": true
   },
   "outputs": [
    {
     "name": "stdout",
     "output_type": "stream",
     "text": [
      "Processing Neuorn in minimal output mode...please wait\n"
     ]
    }
   ],
   "source": [
    "from neurd import neuron\n",
    "\n",
    "neuron_obj = neuron.Neuron(\n",
    "    mesh = mesh,\n",
    "    segment_id = segment_id, # don't need this explicitely if segment_id is already in products\n",
    "    pipeline_products = products,\n",
    "    suppress_preprocessing_print=False,\n",
    "    suppress_output=True,\n",
    ")\n",
    "\n",
    "neuron_obj"
   ]
  },
  {
   "cell_type": "code",
   "execution_count": null,
   "id": "5467bcfe",
   "metadata": {},
   "outputs": [],
   "source": [
    "nviz.visualize_neuron(\n",
    "    neuron_obj,\n",
    "    limb_branch_dict=\"all\"\n",
    ")"
   ]
  },
  {
   "cell_type": "markdown",
   "id": "0d43b744",
   "metadata": {},
   "source": [
    "# Calculate statistics"
   ]
  },
  {
   "cell_type": "code",
   "execution_count": null,
   "id": "cac08fd6",
   "metadata": {},
   "outputs": [],
   "source": [
    "decomp_products = neuron_obj.calculate_decomposition_products(\n",
    "    store_in_obj = True,\n",
    ")\n",
    "\n",
    "decomp_products"
   ]
  },
  {
   "cell_type": "code",
   "execution_count": null,
   "id": "fa148fc5",
   "metadata": {
    "scrolled": true
   },
   "outputs": [],
   "source": [
    "print(neuron_obj.pipeline_products)"
   ]
  },
  {
   "cell_type": "markdown",
   "id": "d090f774",
   "metadata": {},
   "source": [
    "# Saving off neuron"
   ]
  },
  {
   "cell_type": "code",
   "execution_count": null,
   "id": "9486c4e6",
   "metadata": {
    "scrolled": true
   },
   "outputs": [],
   "source": [
    "vdi.save_neuron_obj(\n",
    "    neuron_obj,\n",
    "    verbose = True\n",
    ")"
   ]
  },
  {
   "cell_type": "markdown",
   "id": "aa2fc99c",
   "metadata": {},
   "source": [
    "# Reloading the Neuron"
   ]
  },
  {
   "cell_type": "code",
   "execution_count": null,
   "id": "e6ce238a",
   "metadata": {},
   "outputs": [],
   "source": [
    "neuron_obj_rec = vdi.load_neuron_obj(\n",
    "    segment_id = segment_id,\n",
    "    #mesh_decimated = mesh_decimated\n",
    ")"
   ]
  },
  {
   "cell_type": "code",
   "execution_count": null,
   "id": "78e4533d",
   "metadata": {},
   "outputs": [],
   "source": [
    "nviz.visualize_neuron(\n",
    "    neuron_obj_rec,\n",
    "    limb_branch_dict=\"all\"\n",
    ")"
   ]
  },
  {
   "cell_type": "code",
   "execution_count": null,
   "id": "2c3edd21-dbb6-41bf-96c7-6d83cb3b9952",
   "metadata": {
    "scrolled": true
   },
   "outputs": [],
   "source": [
    "print(neuron_obj_rec.pipeline_products)"
   ]
  },
  {
   "cell_type": "markdown",
   "id": "12c62d98",
   "metadata": {},
   "source": [
    "# Exporting Branch meshes"
   ]
  },
  {
   "cell_type": "code",
   "execution_count": null,
   "id": "04a5567a",
   "metadata": {
    "scrolled": true
   },
   "outputs": [],
   "source": [
    "nviz.plot_limb(neuron_obj_rec,0)"
   ]
  },
  {
   "cell_type": "code",
   "execution_count": null,
   "id": "6591a4f0",
   "metadata": {},
   "outputs": [],
   "source": [
    "branch_idx = 3\n",
    "limb_idx = 0\n",
    "\n",
    "branch_mesh = neuron_obj_rec[limb_idx][branch_idx].mesh\n",
    "ipvu.plot_objects(branch_mesh)"
   ]
  },
  {
   "cell_type": "code",
   "execution_count": null,
   "id": "c3e9c894",
   "metadata": {},
   "outputs": [],
   "source": [
    "_ = branch_mesh.export(f\"{segment_id}_limb_{limb_idx}_branch_{branch_idx}.off\")"
   ]
  },
  {
   "cell_type": "markdown",
   "id": "06b5f069",
   "metadata": {},
   "source": [
    "# Step 4A: Multi Soma Split Suggestions"
   ]
  },
  {
   "cell_type": "code",
   "execution_count": null,
   "id": "0729b033",
   "metadata": {
    "scrolled": true
   },
   "outputs": [],
   "source": [
    "from neurd import neuron_visualizations as nviz\n",
    "nviz.plot_soma_limb_concept_network(\n",
    "    neuron_obj_rec\n",
    ")"
   ]
  },
  {
   "cell_type": "code",
   "execution_count": null,
   "id": "3ea8a7ec",
   "metadata": {},
   "outputs": [],
   "source": [
    "multi_soma_split_parameters = dict()"
   ]
  },
  {
   "cell_type": "code",
   "execution_count": null,
   "id": "6b654969",
   "metadata": {},
   "outputs": [],
   "source": [
    "_ = neuron_obj_rec.calculate_multi_soma_split_suggestions(\n",
    "    plot = True,\n",
    "    store_in_obj = True,\n",
    "    **multi_soma_split_parameters\n",
    ")\n"
   ]
  },
  {
   "cell_type": "code",
   "execution_count": null,
   "id": "a8012cfa",
   "metadata": {},
   "outputs": [],
   "source": [
    "neuron_obj_rec.pipeline_products.multi_soma_split_suggestions.multi_soma_split_parameters = multi_soma_split_parameters"
   ]
  },
  {
   "cell_type": "markdown",
   "id": "2206b4cc",
   "metadata": {},
   "source": [
    "# Step 4B: Multi Soma Split Execution"
   ]
  },
  {
   "cell_type": "code",
   "execution_count": null,
   "id": "cc8bc52a",
   "metadata": {},
   "outputs": [],
   "source": [
    "neuron_list = neuron_obj_rec.multi_soma_split_execution(\n",
    "    verbose = False,\n",
    ")"
   ]
  },
  {
   "cell_type": "code",
   "execution_count": null,
   "id": "1239884b",
   "metadata": {
    "scrolled": true
   },
   "outputs": [],
   "source": [
    "n1 = neuron_list[0]\n",
    "print(n1.pipeline_products)"
   ]
  },
  {
   "cell_type": "code",
   "execution_count": null,
   "id": "1fb700e4-f6f0-45f0-9190-3cb34e86404a",
   "metadata": {},
   "outputs": [],
   "source": [
    "type(n1.pipeline_products)"
   ]
  },
  {
   "cell_type": "markdown",
   "id": "a2dcd901",
   "metadata": {},
   "source": [
    "# Step 5: Cell Typing"
   ]
  },
  {
   "cell_type": "code",
   "execution_count": null,
   "id": "023dd7aa",
   "metadata": {},
   "outputs": [],
   "source": [
    "from neurd import neuron_pipeline_utils as npu"
   ]
  },
  {
   "cell_type": "code",
   "execution_count": null,
   "id": "b17ecdd9",
   "metadata": {
    "scrolled": true
   },
   "outputs": [],
   "source": [
    "neuron_obj_axon = npu.cell_type_ax_dendr_stage(\n",
    "    n1,\n",
    "    mesh_decimated = mesh_decimated,\n",
    "    plot_axon = False,\n",
    ")"
   ]
  },
  {
   "cell_type": "code",
   "execution_count": null,
   "id": "ef29fb5b",
   "metadata": {},
   "outputs": [],
   "source": [
    "nviz.plot_axon(\n",
    "    neuron_obj_axon\n",
    ")"
   ]
  },
  {
   "cell_type": "markdown",
   "id": "e4359d09",
   "metadata": {},
   "source": [
    "# Autoproofreading Stage"
   ]
  },
  {
   "cell_type": "code",
   "execution_count": null,
   "id": "458fa42f",
   "metadata": {},
   "outputs": [],
   "source": [
    "neuron_obj_proof = npu.auto_proof_stage(\n",
    "    neuron_obj_axon,\n",
    "    mesh_decimated = mesh_decimated,\n",
    "    calculate_after_proof_stats = False,\n",
    ")"
   ]
  },
  {
   "cell_type": "code",
   "execution_count": null,
   "id": "c7e31a9e",
   "metadata": {},
   "outputs": [],
   "source": [
    "_ = npu.after_auto_proof_stats(\n",
    "    neuron_obj_proof,\n",
    "    store_in_obj = True,\n",
    ")"
   ]
  },
  {
   "cell_type": "markdown",
   "id": "86446328",
   "metadata": {},
   "source": [
    "# Saving off the autoproofread neuron"
   ]
  },
  {
   "cell_type": "code",
   "execution_count": null,
   "id": "fb8c945e",
   "metadata": {},
   "outputs": [],
   "source": [
    "vdi.save_neuron_obj_auto_proof(\n",
    "    neuron_obj_proof,\n",
    ")"
   ]
  },
  {
   "cell_type": "markdown",
   "id": "788253a7",
   "metadata": {},
   "source": [
    "# Plotting the final neuron"
   ]
  },
  {
   "cell_type": "code",
   "execution_count": null,
   "id": "96df2c4e",
   "metadata": {},
   "outputs": [],
   "source": [
    "from neurd import synapse_utils as syu"
   ]
  },
  {
   "cell_type": "code",
   "execution_count": null,
   "id": "6eb2997d",
   "metadata": {},
   "outputs": [],
   "source": [
    "from datasci_tools import ipyvolume_utils as ipvu\n",
    "ipvu.plot_objects(\n",
    "    neuron_obj_axon.mesh,\n",
    "    meshes = [neuron_obj_proof.mesh],\n",
    "    meshes_colors=\"red\"\n",
    ")"
   ]
  },
  {
   "cell_type": "code",
   "execution_count": null,
   "id": "60c5c168",
   "metadata": {},
   "outputs": [],
   "source": [
    "syu.plot_synapses(neuron_obj_proof)"
   ]
  },
  {
   "cell_type": "code",
   "execution_count": null,
   "id": "4069451e",
   "metadata": {},
   "outputs": [],
   "source": [
    "syu.plot_synapses_error_from_neuron_obj(neuron_obj_proof)    "
   ]
  },
  {
   "cell_type": "code",
   "execution_count": null,
   "id": "c3ba8212",
   "metadata": {},
   "outputs": [],
   "source": [
    "syu.plot_synapses_valid_from_neuron_obj(neuron_obj_proof)  "
   ]
  },
  {
   "cell_type": "code",
   "execution_count": null,
   "id": "a1174825",
   "metadata": {},
   "outputs": [],
   "source": [
    "nviz.plot_compartments(neuron_obj_proof)"
   ]
  },
  {
   "cell_type": "code",
   "execution_count": null,
   "id": "a7eb4315",
   "metadata": {},
   "outputs": [],
   "source": []
  },
  {
   "cell_type": "code",
   "execution_count": null,
   "id": "8843c624-5210-4f4e-8459-2beb758ab1a3",
   "metadata": {},
   "outputs": [],
   "source": [
    "%load_ext autoreload\n",
    "%autoreload 2"
   ]
  },
  {
   "cell_type": "code",
   "execution_count": null,
   "id": "2fa5bebf-fdf7-4099-b07d-c95442f906c1",
   "metadata": {},
   "outputs": [],
   "source": []
  },
  {
   "cell_type": "code",
   "execution_count": null,
   "id": "81cc6b6b-8411-4a92-9d9c-5af12b50bd17",
   "metadata": {},
   "outputs": [],
   "source": []
  }
 ],
 "metadata": {
  "kernelspec": {
   "display_name": "Python 3 (ipykernel)",
   "language": "python",
   "name": "python3"
  },
  "language_info": {
   "codemirror_mode": {
    "name": "ipython",
    "version": 3
   },
   "file_extension": ".py",
   "mimetype": "text/x-python",
   "name": "python",
   "nbconvert_exporter": "python",
   "pygments_lexer": "ipython3",
   "version": "3.8.0"
  }
 },
 "nbformat": 4,
 "nbformat_minor": 5
}
