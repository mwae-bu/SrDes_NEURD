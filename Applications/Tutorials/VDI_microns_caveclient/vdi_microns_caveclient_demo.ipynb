{
 "cells": [
  {
   "cell_type": "code",
   "execution_count": 1,
   "id": "ff1f7fe3",
   "metadata": {},
   "outputs": [],
   "source": [
    "%load_ext autoreload\n",
    "%autoreload 2"
   ]
  },
  {
   "cell_type": "code",
   "execution_count": 2,
   "id": "ba99eb93-3640-488f-aa29-c076ad4725ed",
   "metadata": {},
   "outputs": [
    {
     "data": {
      "text/plain": [
       "'\\nPurpose: To test the neuron decomposition pipeline using \\nthe vdi for microns that accesses the data through the caveclient\\n'"
      ]
     },
     "execution_count": 2,
     "metadata": {},
     "output_type": "execute_result"
    }
   ],
   "source": [
    "\"\"\"\n",
    "Purpose: To test the neuron decomposition pipeline using \n",
    "the vdi for microns that accesses the data through the caveclient\n",
    "\"\"\""
   ]
  },
  {
   "cell_type": "markdown",
   "id": "c37828ed-121b-4226-bfd6-222b051eeeb8",
   "metadata": {},
   "source": [
    "# Setting up the Cave Client"
   ]
  },
  {
   "cell_type": "code",
   "execution_count": 3,
   "id": "a4ac32e5-1893-4d2f-8d3d-b77df400d1c9",
   "metadata": {},
   "outputs": [
    {
     "name": "stdout",
     "output_type": "stream",
     "text": [
      "New Tokens need to be acquired by hand. Please follow the following steps:\n",
      "                1) Go to: https://global.daf-apis.com/auth/api/v1/create_token to create a new token.\n",
      "                2) Log in with your Google credentials and copy the token shown afterward.\n",
      "                3a) Save it to your computer with: client.auth.save_token(token=\"PASTE_YOUR_TOKEN_HERE\")\n",
      "                or\n",
      "                3b) Set it for the current session only with client.auth.token = \"PASTE_YOUR_TOKEN_HERE\"\n",
      "                Note: If you need to save or load multiple tokens, please read the documentation for details.\n",
      "                Warning! Creating a new token by finishing step 2 will invalidate the previous token!\n"
     ]
    }
   ],
   "source": [
    "from caveclient import CAVEclient\n",
    "client = CAVEclient()\n",
    "client.auth.get_new_token()"
   ]
  },
  {
   "cell_type": "code",
   "execution_count": 4,
   "id": "f6fa3637-b1e2-4b63-8947-5d1d0105224f",
   "metadata": {},
   "outputs": [],
   "source": [
    "CAVE_TOKEN  = \"INSERT TOKEN HERE\"\n",
    "\n",
    "#this token is an example token but is not valid\n",
    "CAVE_TOKEN=\"ba0a1b546e9b87f402c5d8c1d1d45bca\" "
   ]
  },
  {
   "cell_type": "code",
   "execution_count": 5,
   "id": "7ff6be2a-8663-4958-bf63-7054eb052b68",
   "metadata": {},
   "outputs": [
    {
     "name": "stdout",
     "output_type": "stream",
     "text": [
      "Key \"token\" already exists in token file \"/root/.cloudvolume/secrets/global.daf-apis.com-cave-secret.json\"\n"
     ]
    }
   ],
   "source": [
    "# Saving the token to caveclient package and as a local env file\n",
    "try:\n",
    "    client.auth.save_token(token=CAVE_TOKEN)\n",
    "except Exception as e:\n",
    "    print(e)\n",
    "\n",
    "filepath =\"./.env\" \n",
    "with open(filepath,\"w+\") as f:\n",
    "    f.write(f\"CAVE_TOKEN={CAVE_TOKEN}\")"
   ]
  },
  {
   "cell_type": "markdown",
   "id": "e0621252-b718-4042-91b3-a8b856d61cda",
   "metadata": {},
   "source": [
    "# Importing the VDI with microns_cave interface\n"
   ]
  },
  {
   "cell_type": "code",
   "execution_count": 6,
   "id": "2a1322eb-4a5f-41ae-879a-c5097364b156",
   "metadata": {},
   "outputs": [
    {
     "name": "stdout",
     "output_type": "stream",
     "text": [
      "Jupyter environment detected. Enabling Open3D WebVisualizer.\n",
      "[Open3D INFO] WebRTC GUI backend enabled.\n",
      "[Open3D INFO] WebRTCWindowSystem: HTTP handshake server disabled.\n"
     ]
    },
    {
     "data": {
      "text/plain": [
       "<neurd.cave_client_utils.CaveInterface at 0x7fc5246b7130>"
      ]
     },
     "execution_count": 6,
     "metadata": {},
     "output_type": "execute_result"
    }
   ],
   "source": [
    "from neurd.cave_interface import CaveInterface\n",
    "from pathlib import Path\n",
    "\n",
    "client = CaveInterface(\n",
    "    \"minnie65_public\",\n",
    "    env_filepath=Path(filepath).absolute()\n",
    ")\n",
    "client"
   ]
  },
  {
   "cell_type": "code",
   "execution_count": 29,
   "id": "70efe204",
   "metadata": {},
   "outputs": [
    {
     "data": {
      "text/plain": [
       "['lots', 'of', 'tags']"
      ]
     },
     "execution_count": 29,
     "metadata": {},
     "output_type": "execute_result"
    }
   ],
   "source": [
    "from neurd.documentation_utils import tag\n",
    "\n",
    "@tag(['lots','of','tags'])\n",
    "def example_func():\n",
    "    pass\n",
    "\n",
    "example_func.tags"
   ]
  },
  {
   "cell_type": "code",
   "execution_count": 27,
   "id": "3aee04bf",
   "metadata": {},
   "outputs": [
    {
     "name": "stdout",
     "output_type": "stream",
     "text": [
      "a = 10\n"
     ]
    }
   ],
   "source": [
    "\"\"\"\n",
    "Purpose: Want to label certain methods\n",
    "with tags so we can go and get those methods\n",
    "with certain tags to then export all\n",
    "or part of their docstring\n",
    "\n",
    "\n",
    "label attributes as \n",
    "\n",
    "\"\"\""
   ]
  },
  {
   "cell_type": "code",
   "execution_count": 37,
   "id": "d72fcfff",
   "metadata": {},
   "outputs": [
    {
     "data": {
      "text/plain": [
       "'this is my summary'"
      ]
     },
     "execution_count": 37,
     "metadata": {},
     "output_type": "execute_result"
    }
   ],
   "source": [
    "s = \"\"\"\n",
    "this is my summary\n",
    "\n",
    "this is not\n",
    "\n",
    "\"\"\"\n",
    "from datasci_tools import docstring_utils as docu\n",
    "docu.summary_from_docstring(s)\n"
   ]
  },
  {
   "cell_type": "code",
   "execution_count": null,
   "id": "caa019d5",
   "metadata": {},
   "outputs": [],
   "source": []
  },
  {
   "cell_type": "code",
   "execution_count": 17,
   "id": "ac5a6bf2",
   "metadata": {},
   "outputs": [
    {
     "data": {
      "text/plain": [
       "['__annotations__',\n",
       " '__call__',\n",
       " '__class__',\n",
       " '__closure__',\n",
       " '__code__',\n",
       " '__defaults__',\n",
       " '__delattr__',\n",
       " '__dict__',\n",
       " '__dir__',\n",
       " '__doc__',\n",
       " '__eq__',\n",
       " '__format__',\n",
       " '__ge__',\n",
       " '__get__',\n",
       " '__getattribute__',\n",
       " '__globals__',\n",
       " '__gt__',\n",
       " '__hash__',\n",
       " '__init__',\n",
       " '__init_subclass__',\n",
       " '__kwdefaults__',\n",
       " '__le__',\n",
       " '__lt__',\n",
       " '__module__',\n",
       " '__name__',\n",
       " '__ne__',\n",
       " '__new__',\n",
       " '__qualname__',\n",
       " '__reduce__',\n",
       " '__reduce_ex__',\n",
       " '__repr__',\n",
       " '__setattr__',\n",
       " '__sizeof__',\n",
       " '__str__',\n",
       " '__subclasshook__',\n",
       " 'tag']"
      ]
     },
     "execution_count": 17,
     "metadata": {},
     "output_type": "execute_result"
    }
   ],
   "source": [
    "from functools import wraps\n",
    "def tag(func,tag=\"emphasis\"):\n",
    "    if not hasattr(func,\"tags\"):\n",
    "        func.tags = []\n",
    "    if tag not in func.tags:\n",
    "        func.tags.append(tag)\n",
    "        \n",
    "    return func\n",
    "\n",
    "@document_tag\n",
    "def example_func(x = 10):\n",
    "    return x*2\n",
    "\n",
    "dir(example_func)"
   ]
  },
  {
   "cell_type": "code",
   "execution_count": null,
   "id": "d5ab2bd8",
   "metadata": {},
   "outputs": [],
   "source": []
  },
  {
   "cell_type": "code",
   "execution_count": null,
   "id": "2bf02c65",
   "metadata": {},
   "outputs": [],
   "source": []
  },
  {
   "cell_type": "markdown",
   "id": "71b85c1d-6b5a-4c5e-9982-05f630cad273",
   "metadata": {},
   "source": [
    "# Accessing the data with the Cave Interface (we are just checking to make sure cave client access is working, lines of code not necessary for VDI to function)"
   ]
  },
  {
   "cell_type": "code",
   "execution_count": null,
   "id": "2d87e269-31a5-4521-aaf1-330e85100eda",
   "metadata": {},
   "outputs": [],
   "source": [
    "nucleus_seg_ids = client.segment_ids_with_nucleus()\n",
    "nucleus_seg_ids[:10]"
   ]
  },
  {
   "cell_type": "code",
   "execution_count": null,
   "id": "f20d172f-d031-4997-8fcc-3c536835fb63",
   "metadata": {},
   "outputs": [],
   "source": [
    "# finding a segement id from the nuclues id\n",
    "nucleus_id = 197805\n",
    "\n",
    "nuc_df = client.neuron_nucleus_df()\n",
    "seg_id = nuc_df.query(f\"id_ref=={nucleus_id}\")[\n",
    "    \"pt_root_id\"].to_list()[0]\n",
    "seg_id"
   ]
  },
  {
   "cell_type": "code",
   "execution_count": null,
   "id": "a534f472-3e51-4c05-b693-fccaae989b39",
   "metadata": {},
   "outputs": [],
   "source": [
    "# downloading the mesh\n",
    "mesh = client.mesh_from_seg_id(\n",
    "    seg_id\n",
    ")"
   ]
  },
  {
   "cell_type": "code",
   "execution_count": null,
   "id": "ca6aee94-bca7-405a-8c7a-76dbb1714308",
   "metadata": {},
   "outputs": [],
   "source": [
    "# downloading the synapses\n",
    "syn_df = client.pre_post_df_from_seg_id(seg_id)\n",
    "syn_df"
   ]
  },
  {
   "cell_type": "markdown",
   "id": "be992837-9250-4bc2-9039-37a172ef9521",
   "metadata": {},
   "source": [
    "# Using the VDI Microns Cave"
   ]
  },
  {
   "cell_type": "code",
   "execution_count": 10,
   "id": "324e4275-ae61-4389-bd34-ce256bb59915",
   "metadata": {},
   "outputs": [],
   "source": [
    "# assumes your caveclient token is stored in an env file\n",
    "from neurd.vdi_microns_cave import volume_data_interface as vdi"
   ]
  },
  {
   "cell_type": "code",
   "execution_count": 12,
   "id": "220ad6ba",
   "metadata": {},
   "outputs": [
    {
     "data": {
      "text/html": [
       "<div>\n",
       "<style scoped>\n",
       "    .dataframe tbody tr th:only-of-type {\n",
       "        vertical-align: middle;\n",
       "    }\n",
       "\n",
       "    .dataframe tbody tr th {\n",
       "        vertical-align: top;\n",
       "    }\n",
       "\n",
       "    .dataframe thead th {\n",
       "        text-align: right;\n",
       "    }\n",
       "</style>\n",
       "<table border=\"1\" class=\"dataframe\">\n",
       "  <thead>\n",
       "    <tr style=\"text-align: right;\">\n",
       "      <th></th>\n",
       "      <th>segment_id</th>\n",
       "      <th>segment_id_secondary</th>\n",
       "      <th>synapse_id</th>\n",
       "      <th>prepost</th>\n",
       "      <th>synapse_x</th>\n",
       "      <th>synapse_y</th>\n",
       "      <th>synapse_z</th>\n",
       "      <th>synapse_size</th>\n",
       "    </tr>\n",
       "  </thead>\n",
       "  <tbody>\n",
       "    <tr>\n",
       "      <th>0</th>\n",
       "      <td>864691135502491741</td>\n",
       "      <td>864691135446598290</td>\n",
       "      <td>60791196</td>\n",
       "      <td>presyn</td>\n",
       "      <td>119972</td>\n",
       "      <td>204962</td>\n",
       "      <td>25221</td>\n",
       "      <td>8540</td>\n",
       "    </tr>\n",
       "    <tr>\n",
       "      <th>1</th>\n",
       "      <td>864691135502491741</td>\n",
       "      <td>864691135542422980</td>\n",
       "      <td>55276068</td>\n",
       "      <td>presyn</td>\n",
       "      <td>114538</td>\n",
       "      <td>208976</td>\n",
       "      <td>25325</td>\n",
       "      <td>1480</td>\n",
       "    </tr>\n",
       "    <tr>\n",
       "      <th>2</th>\n",
       "      <td>864691135502491741</td>\n",
       "      <td>864691135498532371</td>\n",
       "      <td>77044514</td>\n",
       "      <td>presyn</td>\n",
       "      <td>131210</td>\n",
       "      <td>147454</td>\n",
       "      <td>26145</td>\n",
       "      <td>1884</td>\n",
       "    </tr>\n",
       "    <tr>\n",
       "      <th>3</th>\n",
       "      <td>864691135502491741</td>\n",
       "      <td>864691133673798118</td>\n",
       "      <td>99612983</td>\n",
       "      <td>presyn</td>\n",
       "      <td>140944</td>\n",
       "      <td>192064</td>\n",
       "      <td>25870</td>\n",
       "      <td>816</td>\n",
       "    </tr>\n",
       "    <tr>\n",
       "      <th>4</th>\n",
       "      <td>864691135502491741</td>\n",
       "      <td>864691136176212230</td>\n",
       "      <td>92346441</td>\n",
       "      <td>presyn</td>\n",
       "      <td>135980</td>\n",
       "      <td>207692</td>\n",
       "      <td>26255</td>\n",
       "      <td>25688</td>\n",
       "    </tr>\n",
       "    <tr>\n",
       "      <th>...</th>\n",
       "      <td>...</td>\n",
       "      <td>...</td>\n",
       "      <td>...</td>\n",
       "      <td>...</td>\n",
       "      <td>...</td>\n",
       "      <td>...</td>\n",
       "      <td>...</td>\n",
       "      <td>...</td>\n",
       "    </tr>\n",
       "    <tr>\n",
       "      <th>2258</th>\n",
       "      <td>864691135502491741</td>\n",
       "      <td>864691135575386654</td>\n",
       "      <td>82723156</td>\n",
       "      <td>postsyn</td>\n",
       "      <td>134149</td>\n",
       "      <td>174026</td>\n",
       "      <td>24229</td>\n",
       "      <td>3996</td>\n",
       "    </tr>\n",
       "    <tr>\n",
       "      <th>2259</th>\n",
       "      <td>864691135502491741</td>\n",
       "      <td>864691136105933529</td>\n",
       "      <td>89540754</td>\n",
       "      <td>postsyn</td>\n",
       "      <td>137552</td>\n",
       "      <td>184610</td>\n",
       "      <td>25572</td>\n",
       "      <td>9260</td>\n",
       "    </tr>\n",
       "    <tr>\n",
       "      <th>2260</th>\n",
       "      <td>864691135502491741</td>\n",
       "      <td>864691136617619675</td>\n",
       "      <td>104897868</td>\n",
       "      <td>postsyn</td>\n",
       "      <td>145084</td>\n",
       "      <td>190310</td>\n",
       "      <td>26798</td>\n",
       "      <td>11104</td>\n",
       "    </tr>\n",
       "    <tr>\n",
       "      <th>2261</th>\n",
       "      <td>864691135502491741</td>\n",
       "      <td>864691135939963393</td>\n",
       "      <td>89272330</td>\n",
       "      <td>postsyn</td>\n",
       "      <td>135678</td>\n",
       "      <td>188953</td>\n",
       "      <td>25192</td>\n",
       "      <td>900</td>\n",
       "    </tr>\n",
       "    <tr>\n",
       "      <th>2262</th>\n",
       "      <td>864691135502491741</td>\n",
       "      <td>864691135762144822</td>\n",
       "      <td>113438365</td>\n",
       "      <td>postsyn</td>\n",
       "      <td>148436</td>\n",
       "      <td>190943</td>\n",
       "      <td>25588</td>\n",
       "      <td>2780</td>\n",
       "    </tr>\n",
       "  </tbody>\n",
       "</table>\n",
       "<p>2263 rows × 8 columns</p>\n",
       "</div>"
      ],
      "text/plain": [
       "              segment_id  segment_id_secondary  synapse_id  prepost  \\\n",
       "0     864691135502491741    864691135446598290    60791196   presyn   \n",
       "1     864691135502491741    864691135542422980    55276068   presyn   \n",
       "2     864691135502491741    864691135498532371    77044514   presyn   \n",
       "3     864691135502491741    864691133673798118    99612983   presyn   \n",
       "4     864691135502491741    864691136176212230    92346441   presyn   \n",
       "...                  ...                   ...         ...      ...   \n",
       "2258  864691135502491741    864691135575386654    82723156  postsyn   \n",
       "2259  864691135502491741    864691136105933529    89540754  postsyn   \n",
       "2260  864691135502491741    864691136617619675   104897868  postsyn   \n",
       "2261  864691135502491741    864691135939963393    89272330  postsyn   \n",
       "2262  864691135502491741    864691135762144822   113438365  postsyn   \n",
       "\n",
       "      synapse_x  synapse_y  synapse_z  synapse_size  \n",
       "0        119972     204962      25221          8540  \n",
       "1        114538     208976      25325          1480  \n",
       "2        131210     147454      26145          1884  \n",
       "3        140944     192064      25870           816  \n",
       "4        135980     207692      26255         25688  \n",
       "...         ...        ...        ...           ...  \n",
       "2258     134149     174026      24229          3996  \n",
       "2259     137552     184610      25572          9260  \n",
       "2260     145084     190310      26798         11104  \n",
       "2261     135678     188953      25192           900  \n",
       "2262     148436     190943      25588          2780  \n",
       "\n",
       "[2263 rows x 8 columns]"
      ]
     },
     "execution_count": 12,
     "metadata": {},
     "output_type": "execute_result"
    }
   ],
   "source": [
    "segment_id = 864691135502491741\n",
    "syn_df = vdi.segment_id_to_synapse_df(segment_id)\n",
    "syn_df"
   ]
  },
  {
   "cell_type": "code",
   "execution_count": 13,
   "id": "09a73270",
   "metadata": {},
   "outputs": [
    {
     "name": "stdout",
     "output_type": "stream",
     "text": [
      "# of presyn: 134\n",
      "# of postsyn: 2129\n"
     ]
    }
   ],
   "source": [
    "syn_dict = vdi.segment_id_to_synapse_dict(segment_id)"
   ]
  },
  {
   "cell_type": "code",
   "execution_count": 14,
   "id": "d7572240",
   "metadata": {},
   "outputs": [
    {
     "data": {
      "text/plain": [
       "array([[ 479888.,  819848., 1008840.],\n",
       "       [ 458152.,  835904., 1013000.],\n",
       "       [ 524840.,  589816., 1045800.],\n",
       "       [ 563776.,  768256., 1034800.],\n",
       "       [ 543920.,  830768., 1050200.],\n",
       "       [ 479152.,  828928., 1004080.],\n",
       "       [ 486128.,  821680., 1004440.],\n",
       "       [ 599296.,  777704., 1055200.],\n",
       "       [ 477672.,  833464., 1009120.],\n",
       "       [ 576040.,  802680., 1069400.],\n",
       "       [ 476168.,  837464., 1018520.],\n",
       "       [ 570208.,  748808., 1105080.],\n",
       "       [ 467956.,  836528., 1010320.],\n",
       "       [ 507256.,  820864., 1014960.],\n",
       "       [ 532280.,  662856., 1041720.],\n",
       "       [ 455800.,  810800., 1010160.],\n",
       "       [ 533184.,  818424., 1024640.],\n",
       "       [ 573304.,  803384., 1067960.],\n",
       "       [ 473344.,  839232., 1021160.],\n",
       "       [ 519368.,  564312., 1046120.],\n",
       "       [ 542720.,  830832., 1049400.],\n",
       "       [ 541912.,  816064., 1028360.],\n",
       "       [ 450376.,  811560., 1010000.],\n",
       "       [ 447264.,  808200., 1010000.],\n",
       "       [ 447224.,  812280., 1010280.],\n",
       "       [ 452848.,  811960., 1009360.],\n",
       "       [ 545096.,  840152., 1047640.],\n",
       "       [ 555220.,  799780., 1062880.],\n",
       "       [ 479240.,  828472., 1004320.],\n",
       "       [ 558096.,  753048., 1009400.],\n",
       "       [ 539136.,  817768., 1027440.],\n",
       "       [ 484056.,  820060., 1010000.],\n",
       "       [ 567976.,  748536., 1104120.],\n",
       "       [ 477704.,  816864., 1007920.],\n",
       "       [ 545440.,  831176., 1051880.],\n",
       "       [ 596528.,  792768., 1059960.],\n",
       "       [ 465296.,  814056., 1007280.],\n",
       "       [ 613072.,  742136., 1105760.],\n",
       "       [ 538048.,  817344., 1027440.],\n",
       "       [ 571056.,  801760., 1061320.],\n",
       "       [ 484332.,  820108., 1009600.],\n",
       "       [ 533508.,  818212., 1024840.],\n",
       "       [ 558264.,  753872., 1054800.],\n",
       "       [ 472776.,  815768., 1007440.],\n",
       "       [ 480576.,  818832., 1008000.],\n",
       "       [ 523296.,  584400., 1047400.],\n",
       "       [ 616224.,  699440., 1112800.],\n",
       "       [ 559160.,  767848., 1056600.],\n",
       "       [ 584800.,  795952., 1057400.],\n",
       "       [ 577016.,  799688., 1058320.],\n",
       "       [ 603296.,  812624., 1062520.],\n",
       "       [ 476520.,  832232., 1005760.],\n",
       "       [ 544476.,  831868., 1048800.],\n",
       "       [ 543992.,  833616., 1047240.],\n",
       "       [ 569256.,  804500., 1068680.],\n",
       "       [ 543584.,  831360., 1049720.],\n",
       "       [ 520072.,  566176., 1047040.],\n",
       "       [ 561152.,  807480., 1066760.],\n",
       "       [ 470496.,  839248., 1014800.],\n",
       "       [ 487932.,  820228., 1005000.],\n",
       "       [ 451064.,  810336., 1010040.],\n",
       "       [ 527072.,  721032., 1005320.],\n",
       "       [ 539040.,  817112., 1027600.],\n",
       "       [ 613232.,  738188., 1109560.],\n",
       "       [ 537352.,  757416.,  968680.],\n",
       "       [ 595112.,  813512., 1069040.],\n",
       "       [ 542480.,  831232., 1049160.],\n",
       "       [ 527504.,  821232., 1022320.],\n",
       "       [ 488928.,  830188., 1011800.],\n",
       "       [ 593808.,  783776., 1055080.],\n",
       "       [ 545672.,  765896.,  940080.],\n",
       "       [ 446296.,  814328., 1009400.],\n",
       "       [ 454752.,  811672., 1009200.],\n",
       "       [ 470688.,  837312., 1012960.],\n",
       "       [ 512432.,  446512., 1046080.],\n",
       "       [ 563000.,  802104., 1056600.],\n",
       "       [ 530072.,  632056., 1046240.],\n",
       "       [ 543440.,  837104., 1046200.],\n",
       "       [ 450568.,  809956., 1008920.],\n",
       "       [ 555192.,  802016., 1061760.],\n",
       "       [ 538248.,  822848., 1043960.],\n",
       "       [ 584648.,  795824., 1058080.],\n",
       "       [ 481472.,  817160., 1007560.],\n",
       "       [ 574184.,  725064., 1033760.],\n",
       "       [ 590944.,  812808., 1074960.],\n",
       "       [ 451412.,  809948., 1009560.],\n",
       "       [ 547560.,  701920.,  962000.],\n",
       "       [ 592712.,  809664., 1065800.],\n",
       "       [ 487880.,  830480., 1011240.],\n",
       "       [ 595648.,  813968., 1070400.],\n",
       "       [ 556280.,  801592., 1061040.],\n",
       "       [ 473168.,  835216., 1009320.],\n",
       "       [ 466016.,  813600., 1009400.],\n",
       "       [ 444268.,  813544., 1007040.],\n",
       "       [ 455236.,  810912., 1009080.],\n",
       "       [ 494792.,  742496., 1077680.],\n",
       "       [ 476432.,  831800., 1005120.],\n",
       "       [ 471944.,  835672., 1011040.],\n",
       "       [ 547648.,  808768., 1060920.],\n",
       "       [ 612604.,  742256., 1106000.],\n",
       "       [ 477092.,  829944., 1004960.],\n",
       "       [ 466488.,  814112., 1007040.],\n",
       "       [ 447048.,  815488., 1009960.],\n",
       "       [ 567496.,  666880., 1002480.],\n",
       "       [ 452288.,  813112., 1010360.],\n",
       "       [ 577904.,  816472., 1052280.],\n",
       "       [ 578384.,  796880., 1058560.],\n",
       "       [ 532308.,  733396., 1029280.],\n",
       "       [ 529552.,  760256., 1093880.],\n",
       "       [ 480676.,  367460., 1026280.],\n",
       "       [ 608288.,  739432., 1111280.],\n",
       "       [ 559696.,  771872., 1052080.],\n",
       "       [ 484232.,  825264., 1004120.],\n",
       "       [ 501300.,  739228., 1024520.],\n",
       "       [ 566528.,  817752., 1047480.],\n",
       "       [ 477144.,  817088., 1007560.],\n",
       "       [ 459680.,  837976., 1017080.],\n",
       "       [ 557136.,  800792., 1061400.],\n",
       "       [ 541048.,  824520., 1045120.],\n",
       "       [ 473408.,  838032., 1014800.],\n",
       "       [ 482880.,  370588., 1028920.],\n",
       "       [ 452388.,  837180., 1015840.],\n",
       "       [ 477064.,  817088., 1007760.],\n",
       "       [ 613288.,  738500., 1110240.],\n",
       "       [ 556596.,  807456., 1063920.],\n",
       "       [ 529000.,  784280.,  960800.],\n",
       "       [ 558952.,  768824., 1044760.],\n",
       "       [ 528704.,  784144.,  961200.],\n",
       "       [ 596336.,  811160., 1063920.],\n",
       "       [ 484840.,  820000., 1010520.],\n",
       "       [ 570272.,  748416., 1107200.],\n",
       "       [ 544520.,  729816., 1045840.],\n",
       "       [ 498376.,  745760., 1079360.],\n",
       "       [ 611956.,  739752., 1109960.]])"
      ]
     },
     "execution_count": 14,
     "metadata": {},
     "output_type": "execute_result"
    }
   ],
   "source": [
    "syn_dict['presyn'][\"synapse_coordinates\"]"
   ]
  },
  {
   "cell_type": "code",
   "execution_count": null,
   "id": "7d9c62e3-4e01-4ae0-8aae-583353d79a7c",
   "metadata": {},
   "outputs": [],
   "source": [
    "vdi.client.segment_ids_with_nucleus()"
   ]
  },
  {
   "cell_type": "code",
   "execution_count": null,
   "id": "1d1591a1-5ee2-4afd-b318-801a7bb73311",
   "metadata": {},
   "outputs": [],
   "source": [
    "vdi.voxel_to_nm_scaling"
   ]
  },
  {
   "cell_type": "markdown",
   "id": "02beb81f-23a2-4ce2-bc3f-cd1e5e75c5cb",
   "metadata": {},
   "source": [
    "# Neuron Preprocessing Pipeline"
   ]
  },
  {
   "cell_type": "code",
   "execution_count": null,
   "id": "4e24d0a7-30ea-48c7-8de1-8c34a45ddb2f",
   "metadata": {},
   "outputs": [],
   "source": [
    "from mesh_tools import trimesh_utils as tu\n",
    "from datasci_tools import ipyvolume_utils as ipvu\n",
    "from neurd import neuron_visualizations as nviz"
   ]
  },
  {
   "cell_type": "code",
   "execution_count": null,
   "id": "e27ecc67-541e-4adb-85a6-9220ee474f1a",
   "metadata": {},
   "outputs": [],
   "source": [
    "segment_id = 864691135502491741"
   ]
  },
  {
   "cell_type": "markdown",
   "id": "f6299109-222e-4d87-9e63-6cdd4e6b7156",
   "metadata": {},
   "source": [
    "# Step 0: Loading Mesh"
   ]
  },
  {
   "cell_type": "code",
   "execution_count": null,
   "id": "03ed1bf3-62db-4ea2-b269-dacc9a9a8295",
   "metadata": {},
   "outputs": [],
   "source": [
    "mesh = vdi.fetch_segment_id_mesh(\n",
    "    segment_id,\n",
    "    plot = False\n",
    ")\n",
    "mesh"
   ]
  },
  {
   "cell_type": "code",
   "execution_count": null,
   "id": "06d77614-f674-4b93-a60b-89b4bf99e6c1",
   "metadata": {},
   "outputs": [],
   "source": [
    "from datasci_tools import pipeline\n",
    "\n",
    "products = pipeline.PipelineProducts()\n",
    "products"
   ]
  },
  {
   "cell_type": "markdown",
   "id": "f0086e61",
   "metadata": {},
   "source": [
    "# Step 0.1 (optional): Visualizing Synapses with Mesh"
   ]
  },
  {
   "cell_type": "code",
   "execution_count": null,
   "id": "db96277a",
   "metadata": {},
   "outputs": [],
   "source": [
    "syn_dict = vdi.segment_id_to_synapse_dict(segment_id)"
   ]
  },
  {
   "cell_type": "code",
   "execution_count": null,
   "id": "1264ae47",
   "metadata": {},
   "outputs": [],
   "source": [
    "from datasci_tools import ipyvolume_utils as ipvu\n",
    "ipvu.plot_objects(\n",
    "    mesh,\n",
    "    scatters = [\n",
    "        syn_dict[\"postsyn\"][\"synapse_coordinates\"],\n",
    "        syn_dict[\"presyn\"][\"synapse_coordinates\"]\n",
    "    ],\n",
    "    scatters_colors=[\"blue\",\"yellow\"]\n",
    ")"
   ]
  },
  {
   "cell_type": "markdown",
   "id": "a2913cdc-726c-4646-bafd-b4418ddbf7ef",
   "metadata": {},
   "source": [
    "# Step 1: Decimation"
   ]
  },
  {
   "cell_type": "code",
   "execution_count": null,
   "id": "8eba61b0-5da6-44c0-b603-f724c495ec14",
   "metadata": {},
   "outputs": [],
   "source": [
    "decimation_parameters = dict(\n",
    "    decimation_ratio =0.25,\n",
    ")"
   ]
  },
  {
   "cell_type": "code",
   "execution_count": null,
   "id": "05768a97-a909-4401-95ad-f5d2cc536dee",
   "metadata": {},
   "outputs": [],
   "source": [
    "mesh_decimated = tu.decimate(\n",
    "    mesh,\n",
    "    **decimation_parameters\n",
    ")"
   ]
  },
  {
   "cell_type": "code",
   "execution_count": null,
   "id": "ccc97938-122b-4269-bf66-f463b5ab2124",
   "metadata": {},
   "outputs": [],
   "source": [
    "ipvu.plot_objects(mesh_decimated)"
   ]
  },
  {
   "cell_type": "code",
   "execution_count": null,
   "id": "66f9e498-c575-4c17-98fc-588975dfb0cd",
   "metadata": {},
   "outputs": [],
   "source": [
    "# saving any parameters used or output products for later use\n",
    "products.set_stage_attrs(\n",
    "    stage = \"decimation\",\n",
    "    attr_dict = dict(\n",
    "        decimation_parameters = decimation_parameters,\n",
    "        segment_id = segment_id,\n",
    "    ),\n",
    "    \n",
    ")\n",
    "\n",
    "print(products)"
   ]
  },
  {
   "cell_type": "markdown",
   "id": "f029c3ab-cc06-49e8-9e61-e6b9df99291d",
   "metadata": {},
   "source": [
    "# Step 2: Soma Identification"
   ]
  },
  {
   "cell_type": "code",
   "execution_count": null,
   "id": "8866641c",
   "metadata": {},
   "outputs": [],
   "source": [
    "from neurd import soma_extraction_utils as sm\n",
    "soma_extraction_parameters = dict()"
   ]
  },
  {
   "cell_type": "code",
   "execution_count": null,
   "id": "b65f18a1",
   "metadata": {},
   "outputs": [],
   "source": [
    "# could inspect the parameters of a certain category\n",
    "from neurd import parameter_utils as paru\n",
    "paru.category_param_from_module(\n",
    "        module = sm,\n",
    "        category = \"glia\",\n",
    ")"
   ]
  },
  {
   "cell_type": "code",
   "execution_count": null,
   "id": "24667352",
   "metadata": {},
   "outputs": [],
   "source": [
    "# overwritting decimated mesh because original was already decimated\n",
    "mesh_decimated = mesh"
   ]
  },
  {
   "cell_type": "code",
   "execution_count": null,
   "id": "b6ff9777",
   "metadata": {},
   "outputs": [],
   "source": [
    "from neurd import neuron_visualizations as nviz\n",
    "\n",
    "verbose = True\n",
    "\n",
    "soma_products = sm.soma_indentification(\n",
    "    mesh_decimated,\n",
    "    verbose=verbose,\n",
    "    **soma_extraction_parameters\n",
    ")"
   ]
  },
  {
   "cell_type": "code",
   "execution_count": null,
   "id": "6a79d754",
   "metadata": {},
   "outputs": [],
   "source": [
    "sm.plot_soma_products(\n",
    "    mesh_decimated,\n",
    "    soma_products = soma_products,\n",
    "    verbose = True\n",
    ")"
   ]
  },
  {
   "cell_type": "code",
   "execution_count": null,
   "id": "e43e9f14",
   "metadata": {},
   "outputs": [],
   "source": [
    "soma_products.soma_extraction_parameters = soma_extraction_parameters\n",
    "soma_products"
   ]
  },
  {
   "cell_type": "code",
   "execution_count": null,
   "id": "a5056278",
   "metadata": {},
   "outputs": [],
   "source": [
    "products.set_stage_attrs(\n",
    "    stage = \"soma_identification\",\n",
    "    attr_dict = soma_products,\n",
    ")\n",
    "\n",
    "print(products)"
   ]
  },
  {
   "cell_type": "markdown",
   "id": "da45be47",
   "metadata": {},
   "source": [
    "# Step 2b: Saving off pipeline products"
   ]
  },
  {
   "cell_type": "code",
   "execution_count": null,
   "id": "c99ef858",
   "metadata": {},
   "outputs": [],
   "source": [
    "from datasci_tools import system_utils as su\n",
    "su.save_object(\n",
    "    products,\"products_up_to_soma_stage\"\n",
    ")"
   ]
  },
  {
   "cell_type": "markdown",
   "id": "bfdbcc82",
   "metadata": {},
   "source": [
    "# Step 3: Decomposition"
   ]
  },
  {
   "cell_type": "code",
   "execution_count": null,
   "id": "84193a27",
   "metadata": {},
   "outputs": [],
   "source": [
    "from neurd import neuron\n",
    "\n",
    "neuron_obj = neuron.Neuron(\n",
    "    mesh = mesh,\n",
    "    segment_id = segment_id, # don't need this explicitely if segment_id is already in products\n",
    "    pipeline_products = products,\n",
    "    suppress_preprocessing_print=False,\n",
    "    suppress_output=False,\n",
    ")\n",
    "\n",
    "neuron_obj"
   ]
  },
  {
   "cell_type": "code",
   "execution_count": null,
   "id": "5467bcfe",
   "metadata": {},
   "outputs": [],
   "source": [
    "nviz.visualize_neuron(\n",
    "    neuron_obj,\n",
    "    limb_branch_dict=\"all\"\n",
    ")"
   ]
  },
  {
   "cell_type": "markdown",
   "id": "0d43b744",
   "metadata": {},
   "source": [
    "# Calculate statistics"
   ]
  },
  {
   "cell_type": "code",
   "execution_count": null,
   "id": "cac08fd6",
   "metadata": {},
   "outputs": [],
   "source": [
    "decomp_products = neuron_obj.calculate_decomposition_products(\n",
    "    store_in_obj = True,\n",
    ")\n",
    "\n",
    "decomp_products"
   ]
  },
  {
   "cell_type": "code",
   "execution_count": null,
   "id": "fa148fc5",
   "metadata": {},
   "outputs": [],
   "source": [
    "print(neuron_obj.pipeline_products)"
   ]
  },
  {
   "cell_type": "markdown",
   "id": "d090f774",
   "metadata": {},
   "source": [
    "# Saving off neuron"
   ]
  },
  {
   "cell_type": "code",
   "execution_count": null,
   "id": "9486c4e6",
   "metadata": {},
   "outputs": [],
   "source": [
    "vdi.save_neuron_obj(\n",
    "    neuron_obj,\n",
    "    verbose = True\n",
    ")"
   ]
  },
  {
   "cell_type": "markdown",
   "id": "aa2fc99c",
   "metadata": {},
   "source": [
    "# Reloading the Neuron"
   ]
  },
  {
   "cell_type": "code",
   "execution_count": null,
   "id": "e6ce238a",
   "metadata": {},
   "outputs": [],
   "source": [
    "neuron_obj_rec = vdi.load_neuron_obj(\n",
    "    segment_id = segment_id,\n",
    "    #mesh_decimated = mesh_decimated\n",
    ")"
   ]
  },
  {
   "cell_type": "code",
   "execution_count": null,
   "id": "84734850",
   "metadata": {},
   "outputs": [],
   "source": [
    "print(neuron_obj_rec.pipeline_products)"
   ]
  },
  {
   "cell_type": "markdown",
   "id": "06b5f069",
   "metadata": {},
   "source": [
    "# Step 4A: Multi Soma Split Suggestions"
   ]
  },
  {
   "cell_type": "code",
   "execution_count": null,
   "id": "0729b033",
   "metadata": {},
   "outputs": [],
   "source": [
    "from neurd import neuron_visualizations as nviz\n",
    "nviz.plot_soma_limb_concept_network(\n",
    "    neuron_obj\n",
    ")"
   ]
  },
  {
   "cell_type": "code",
   "execution_count": null,
   "id": "3ea8a7ec",
   "metadata": {},
   "outputs": [],
   "source": [
    "multi_soma_split_parameters = dict()"
   ]
  },
  {
   "cell_type": "code",
   "execution_count": null,
   "id": "6b654969",
   "metadata": {},
   "outputs": [],
   "source": [
    "_ = neuron_obj.calculate_multi_soma_split_suggestions(\n",
    "    plot = True,\n",
    "    store_in_obj = True,\n",
    "    **multi_soma_split_parameters\n",
    ")\n"
   ]
  },
  {
   "cell_type": "code",
   "execution_count": null,
   "id": "a8012cfa",
   "metadata": {},
   "outputs": [],
   "source": [
    "neuron_obj.pipeline_products.multi_soma_split_suggestions.multi_soma_split_parameters = multi_soma_split_parameters"
   ]
  },
  {
   "cell_type": "markdown",
   "id": "2206b4cc",
   "metadata": {},
   "source": [
    "# Step 4B: Multi Soma Split Execution"
   ]
  },
  {
   "cell_type": "code",
   "execution_count": null,
   "id": "cc8bc52a",
   "metadata": {},
   "outputs": [],
   "source": [
    "neuron_list = neuron_obj.multi_soma_split_execution(\n",
    "    verbose = False,\n",
    ")"
   ]
  },
  {
   "cell_type": "code",
   "execution_count": null,
   "id": "1239884b",
   "metadata": {},
   "outputs": [],
   "source": [
    "n1 = neuron_list[0]\n",
    "print(n1.pipeline_products)"
   ]
  },
  {
   "cell_type": "markdown",
   "id": "a2dcd901",
   "metadata": {},
   "source": [
    "# Step 5: Cell Typing"
   ]
  },
  {
   "cell_type": "code",
   "execution_count": null,
   "id": "023dd7aa",
   "metadata": {},
   "outputs": [],
   "source": [
    "from neurd import neuron_pipeline_utils as npu"
   ]
  },
  {
   "cell_type": "code",
   "execution_count": null,
   "id": "b17ecdd9",
   "metadata": {},
   "outputs": [],
   "source": [
    "neuron_obj_axon = npu.cell_type_ax_dendr_stage(\n",
    "    n1,\n",
    "    mesh_decimated = mesh_decimated,\n",
    "    plot_axon = False,\n",
    ")"
   ]
  },
  {
   "cell_type": "code",
   "execution_count": null,
   "id": "ef29fb5b",
   "metadata": {},
   "outputs": [],
   "source": [
    "nviz.plot_axon(\n",
    "    neuron_obj_axon\n",
    ")"
   ]
  },
  {
   "cell_type": "markdown",
   "id": "e4359d09",
   "metadata": {},
   "source": [
    "# Autoproofreading Stage"
   ]
  },
  {
   "cell_type": "code",
   "execution_count": null,
   "id": "458fa42f",
   "metadata": {},
   "outputs": [],
   "source": [
    "neuron_obj_proof = npu.auto_proof_stage(\n",
    "    neuron_obj_axon,\n",
    "    mesh_decimated = mesh_decimated,\n",
    "    calculate_after_proof_stats = False,\n",
    ")"
   ]
  },
  {
   "cell_type": "code",
   "execution_count": null,
   "id": "c7e31a9e",
   "metadata": {},
   "outputs": [],
   "source": [
    "_ = npu.after_auto_proof_stats(\n",
    "    neuron_obj_proof,\n",
    "    store_in_obj = True,\n",
    ")"
   ]
  },
  {
   "cell_type": "markdown",
   "id": "86446328",
   "metadata": {},
   "source": [
    "# Saving off the autoproofread neuron"
   ]
  },
  {
   "cell_type": "code",
   "execution_count": null,
   "id": "fb8c945e",
   "metadata": {},
   "outputs": [],
   "source": [
    "vdi.save_neuron_obj_auto_proof(\n",
    "    neuron_obj_proof,\n",
    ")"
   ]
  },
  {
   "cell_type": "markdown",
   "id": "788253a7",
   "metadata": {},
   "source": [
    "# Plotting the final neuron"
   ]
  },
  {
   "cell_type": "code",
   "execution_count": null,
   "id": "96df2c4e",
   "metadata": {},
   "outputs": [],
   "source": [
    "from neurd import synapse_utils as syu"
   ]
  },
  {
   "cell_type": "code",
   "execution_count": null,
   "id": "6eb2997d",
   "metadata": {},
   "outputs": [],
   "source": [
    "from datasci_tools import ipyvolume_utils as ipvu\n",
    "ipvu.plot_objects(\n",
    "    neuron_obj_axon.mesh,\n",
    "    meshes = [neuron_obj_proof.mesh],\n",
    "    meshes_colors=\"red\"\n",
    ")"
   ]
  },
  {
   "cell_type": "code",
   "execution_count": null,
   "id": "60c5c168",
   "metadata": {},
   "outputs": [],
   "source": [
    "syu.plot_synapses(neuron_obj_proof)"
   ]
  },
  {
   "cell_type": "code",
   "execution_count": null,
   "id": "4069451e",
   "metadata": {},
   "outputs": [],
   "source": [
    "syu.plot_synapses_error_from_neuron_obj(neuron_obj_proof)    "
   ]
  },
  {
   "cell_type": "code",
   "execution_count": null,
   "id": "c3ba8212",
   "metadata": {},
   "outputs": [],
   "source": [
    "syu.plot_synapses_valid_from_neuron_obj(neuron_obj_proof)  "
   ]
  },
  {
   "cell_type": "code",
   "execution_count": null,
   "id": "a1174825",
   "metadata": {},
   "outputs": [],
   "source": [
    "nviz.plot_compartments(neuron_obj_proof)"
   ]
  },
  {
   "cell_type": "code",
   "execution_count": null,
   "id": "40ae6bf2-f1d3-4523-a9f1-b3567c362293",
   "metadata": {},
   "outputs": [],
   "source": [
    "from neurd import soma_extraction_utils as sm\n",
    "soma_extraction_parameters = dict()\n",
    "\n",
    "# could inspect the parameters of a certain category\n",
    "from neurd import parameter_utils as paru\n",
    "paru.category_param_from_module(\n",
    "        module = sm,\n",
    "        category = \"glia\",\n",
    ")\n",
    "\n",
    "# overwritting decimated mesh because original was already decimated\n",
    "mesh_decimated = mesh\n",
    "\n",
    "from neurd import neuron_visualizations as nviz\n",
    "\n",
    "verbose = True\n",
    "\n",
    "soma_products = sm.soma_indentification(\n",
    "    mesh_decimated,\n",
    "    verbose=verbose,\n",
    "    **soma_extraction_parameters\n",
    ")\n",
    "\n",
    "sm.plot_soma_products(\n",
    "    mesh_decimated,\n",
    "    soma_products = soma_products,\n",
    "    verbose = True\n",
    ")\n",
    "\n",
    "soma_products.soma_extraction_parameters = soma_extraction_parameters\n",
    "soma_products\n",
    "\n",
    "products.set_stage_attrs(\n",
    "    stage = \"soma_identification\",\n",
    "    attr_dict = soma_products,\n",
    ")\n",
    "\n",
    "print(products)\n",
    "\n",
    "# Step 2b: Saving off pipeline products\n",
    "\n",
    "from datasci_tools import system_utils as su\n",
    "su.save_object(\n",
    "    products,\"products_up_to_soma_stage\"\n",
    ")\n",
    "\n",
    "# Step 3: Decomposition\n",
    "\n",
    "from neurd import neuron\n",
    "\n",
    "neuron_obj = neuron.Neuron(\n",
    "    mesh = mesh,\n",
    "    segment_id = segment_id, # don't need this explicitely if segment_id is already in products\n",
    "    pipeline_products = products,\n",
    "    suppress_preprocessing_print=False,\n",
    "    suppress_output=False,\n",
    ")\n",
    "\n",
    "neuron_obj\n",
    "\n",
    "nviz.visualize_neuron(\n",
    "    neuron_obj,\n",
    "    limb_branch_dict=\"all\"\n",
    ")\n",
    "\n",
    "# Calculate statistics\n",
    "\n",
    "decomp_products = neuron_obj.calculate_decomposition_products(\n",
    "    store_in_obj = True,\n",
    ")\n",
    "\n",
    "decomp_products\n",
    "\n",
    "print(neuron_obj.pipeline_products)\n",
    "\n",
    "# Saving off neuron\n",
    "\n",
    "vdi.save_neuron_obj(\n",
    "    neuron_obj,\n",
    "    verbose = True\n",
    ")\n",
    "\n",
    "# Reloading the Neuron\n",
    "\n",
    "neuron_obj_rec = vdi.load_neuron_obj(\n",
    "    segment_id = segment_id,\n",
    "    #mesh_decimated = mesh_decimated\n",
    ")\n",
    "\n",
    "print(neuron_obj_rec.pipeline_products)\n",
    "\n",
    "# Step 4A: Multi Soma Split Suggestions\n",
    "\n",
    "from neurd import neuron_visualizations as nviz\n",
    "nviz.plot_soma_limb_concept_network(\n",
    "    neuron_obj\n",
    ")\n",
    "\n",
    "multi_soma_split_parameters = dict()\n",
    "\n",
    "_ = neuron_obj.calculate_multi_soma_split_suggestions(\n",
    "    plot = True,\n",
    "    store_in_obj = True,\n",
    "    **multi_soma_split_parameters\n",
    ")\n",
    "\n",
    "\n",
    "neuron_obj.pipeline_products.multi_soma_split_suggestions.multi_soma_split_parameters = multi_soma_split_parameters\n",
    "\n",
    "# Step 4B: Multi Soma Split Execution\n",
    "\n",
    "neuron_list = neuron_obj.multi_soma_split_execution(\n",
    "    verbose = False,\n",
    ")\n",
    "\n",
    "n1 = neuron_list[0]\n",
    "print(n1.pipeline_products)\n",
    "\n",
    "# Step 5: Cell Typing\n",
    "\n",
    "from neurd import neuron_pipeline_utils as npu\n",
    "\n",
    "neuron_obj_axon = npu.cell_type_ax_dendr_stage(\n",
    "    n1,\n",
    "    mesh_decimated = mesh_decimated,\n",
    "    plot_axon = False,\n",
    ")\n",
    "\n",
    "nviz.plot_axon(\n",
    "    neuron_obj_axon\n",
    ")\n",
    "\n",
    "# Autoproofreading Stage\n",
    "\n",
    "neuron_obj_proof = npu.auto_proof_stage(\n",
    "    neuron_obj_axon,\n",
    "    mesh_decimated = mesh_decimated,\n",
    "    calculate_after_proof_stats = False,\n",
    ")\n",
    "\n",
    "_ = npu.after_auto_proof_stats(\n",
    "    neuron_obj_proof,\n",
    "    store_in_obj = True,\n",
    ")\n",
    "\n",
    "# Saving off the autoproofread neuron\n",
    "\n",
    "vdi.save_neuron_obj_auto_proof(\n",
    "    neuron_obj_proof,\n",
    ")\n",
    "\n",
    "# Plotting the final neuron\n",
    "\n",
    "from neurd import synapse_utils as syu\n",
    "\n",
    "from datasci_tools import ipyvolume_utils as ipvu\n",
    "ipvu.plot_objects(\n",
    "    neuron_obj_axon.mesh,\n",
    "    meshes = [neuron_obj_proof.mesh],\n",
    "    meshes_colors=\"red\"\n",
    ")\n",
    "\n",
    "syu.plot_synapses(neuron_obj_proof)\n",
    "\n",
    "syu.plot_synapses_error_from_neuron_obj(neuron_obj_proof)    \n",
    "\n",
    "syu.plot_synapses_valid_from_neuron_obj(neuron_obj_proof)  \n",
    "\n",
    "nviz.plot_compartments(neuron_obj_proof)"
   ]
  }
 ],
 "metadata": {
  "kernelspec": {
   "display_name": "Python 3 (ipykernel)",
   "language": "python",
   "name": "python3"
  },
  "language_info": {
   "codemirror_mode": {
    "name": "ipython",
    "version": 3
   },
   "file_extension": ".py",
   "mimetype": "text/x-python",
   "name": "python",
   "nbconvert_exporter": "python",
   "pygments_lexer": "ipython3",
   "version": "3.8.0"
  }
 },
 "nbformat": 4,
 "nbformat_minor": 5
}
