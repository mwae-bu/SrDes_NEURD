{
 "cells": [
  {
   "cell_type": "code",
   "execution_count": 1,
   "id": "8d13acd1-626b-4398-afa7-3f417ab490a2",
   "metadata": {},
   "outputs": [
    {
     "data": {
      "text/plain": [
       "'\\nTo retrieve the public cell typing training data\\n'"
      ]
     },
     "execution_count": 1,
     "metadata": {},
     "output_type": "execute_result"
    }
   ],
   "source": [
    "\"\"\"\n",
    "To retrieve the public cell typing training data\n",
    "\"\"\""
   ]
  },
  {
   "cell_type": "code",
   "execution_count": 2,
   "id": "5af7eb1c-6aa5-4961-9de9-d1ba75dce1a9",
   "metadata": {},
   "outputs": [],
   "source": [
    "%load_ext autoreload\n",
    "%autoreload 2"
   ]
  },
  {
   "cell_type": "code",
   "execution_count": 3,
   "id": "cd420d62-f37e-437d-9744-4eab6a85c151",
   "metadata": {},
   "outputs": [
    {
     "ename": "AuthException",
     "evalue": "You have not setup a token to access\nhttps://global.daf-apis.com/info/api/v2/datastack/full/minnie65_phase3_v1\nwith the current auth configuration.\n\nRead the documentation at \nhttps://caveclient.readthedocs.io/en/latest/guide/authentication.html\nor follow instructions under \nclient.auth.get_new_token() for how to set a valid API token.\nafter initializing a global client with\nclient=CAVEclient(server_address=\"https://global.daf-apis.com\")",
     "output_type": "error",
     "traceback": [
      "\u001b[0;31m---------------------------------------------------------------------------\u001b[0m",
      "\u001b[0;31mAuthException\u001b[0m                             Traceback (most recent call last)",
      "Cell \u001b[0;32mIn[3], line 2\u001b[0m\n\u001b[1;32m      1\u001b[0m \u001b[38;5;28;01mfrom\u001b[39;00m \u001b[38;5;21;01mcaveclient\u001b[39;00m \u001b[38;5;28;01mimport\u001b[39;00m CAVEclient\n\u001b[0;32m----> 2\u001b[0m client \u001b[38;5;241m=\u001b[39m \u001b[43mCAVEclient\u001b[49m\u001b[43m(\u001b[49m\u001b[38;5;124;43m'\u001b[39;49m\u001b[38;5;124;43mminnie65_phase3_v1\u001b[39;49m\u001b[38;5;124;43m'\u001b[39;49m\u001b[43m)\u001b[49m \u001b[38;5;66;03m# doesn't work just by itself (all commands hang)\u001b[39;00m\n",
      "File \u001b[0;32m/usr/local/lib/python3.8/dist-packages/caveclient/frameworkclient.py:99\u001b[0m, in \u001b[0;36mCAVEclient.__new__\u001b[0;34m(cls, datastack_name, server_address, auth_token_file, auth_token_key, auth_token, global_only, max_retries, pool_maxsize, pool_block, desired_resolution, info_cache, write_server_cache)\u001b[0m\n\u001b[1;32m     88\u001b[0m     \u001b[38;5;28;01mreturn\u001b[39;00m CAVEclientGlobal(\n\u001b[1;32m     89\u001b[0m         server_address\u001b[38;5;241m=\u001b[39mserver_address,\n\u001b[1;32m     90\u001b[0m         auth_token_file\u001b[38;5;241m=\u001b[39mauth_token_file,\n\u001b[0;32m   (...)\u001b[0m\n\u001b[1;32m     96\u001b[0m         info_cache\u001b[38;5;241m=\u001b[39minfo_cache,\n\u001b[1;32m     97\u001b[0m     )\n\u001b[1;32m     98\u001b[0m \u001b[38;5;28;01melse\u001b[39;00m:\n\u001b[0;32m---> 99\u001b[0m     \u001b[38;5;28;01mreturn\u001b[39;00m \u001b[43mCAVEclientFull\u001b[49m\u001b[43m(\u001b[49m\n\u001b[1;32m    100\u001b[0m \u001b[43m        \u001b[49m\u001b[43mdatastack_name\u001b[49m\u001b[38;5;241;43m=\u001b[39;49m\u001b[43mdatastack_name\u001b[49m\u001b[43m,\u001b[49m\n\u001b[1;32m    101\u001b[0m \u001b[43m        \u001b[49m\u001b[43mserver_address\u001b[49m\u001b[38;5;241;43m=\u001b[39;49m\u001b[43mserver_address\u001b[49m\u001b[43m,\u001b[49m\n\u001b[1;32m    102\u001b[0m \u001b[43m        \u001b[49m\u001b[43mauth_token_file\u001b[49m\u001b[38;5;241;43m=\u001b[39;49m\u001b[43mauth_token_file\u001b[49m\u001b[43m,\u001b[49m\n\u001b[1;32m    103\u001b[0m \u001b[43m        \u001b[49m\u001b[43mauth_token_key\u001b[49m\u001b[38;5;241;43m=\u001b[39;49m\u001b[43mauth_token_key\u001b[49m\u001b[43m,\u001b[49m\n\u001b[1;32m    104\u001b[0m \u001b[43m        \u001b[49m\u001b[43mauth_token\u001b[49m\u001b[38;5;241;43m=\u001b[39;49m\u001b[43mauth_token\u001b[49m\u001b[43m,\u001b[49m\n\u001b[1;32m    105\u001b[0m \u001b[43m        \u001b[49m\u001b[43mmax_retries\u001b[49m\u001b[38;5;241;43m=\u001b[39;49m\u001b[43mmax_retries\u001b[49m\u001b[43m,\u001b[49m\n\u001b[1;32m    106\u001b[0m \u001b[43m        \u001b[49m\u001b[43mpool_maxsize\u001b[49m\u001b[38;5;241;43m=\u001b[39;49m\u001b[43mpool_maxsize\u001b[49m\u001b[43m,\u001b[49m\n\u001b[1;32m    107\u001b[0m \u001b[43m        \u001b[49m\u001b[43mpool_block\u001b[49m\u001b[38;5;241;43m=\u001b[39;49m\u001b[43mpool_block\u001b[49m\u001b[43m,\u001b[49m\n\u001b[1;32m    108\u001b[0m \u001b[43m        \u001b[49m\u001b[43mdesired_resolution\u001b[49m\u001b[38;5;241;43m=\u001b[39;49m\u001b[43mdesired_resolution\u001b[49m\u001b[43m,\u001b[49m\n\u001b[1;32m    109\u001b[0m \u001b[43m        \u001b[49m\u001b[43minfo_cache\u001b[49m\u001b[38;5;241;43m=\u001b[39;49m\u001b[43minfo_cache\u001b[49m\u001b[43m,\u001b[49m\n\u001b[1;32m    110\u001b[0m \u001b[43m    \u001b[49m\u001b[43m)\u001b[49m\n",
      "File \u001b[0;32m/usr/local/lib/python3.8/dist-packages/caveclient/frameworkclient.py:364\u001b[0m, in \u001b[0;36mCAVEclientFull.__init__\u001b[0;34m(self, datastack_name, server_address, auth_token_file, auth_token_key, auth_token, max_retries, pool_maxsize, pool_block, desired_resolution, info_cache)\u001b[0m\n\u001b[1;32m    362\u001b[0m \u001b[38;5;28mself\u001b[39m\u001b[38;5;241m.\u001b[39m_l2cache \u001b[38;5;241m=\u001b[39m \u001b[38;5;28;01mNone\u001b[39;00m\n\u001b[1;32m    363\u001b[0m \u001b[38;5;28mself\u001b[39m\u001b[38;5;241m.\u001b[39mdesired_resolution \u001b[38;5;241m=\u001b[39m desired_resolution\n\u001b[0;32m--> 364\u001b[0m \u001b[38;5;28mself\u001b[39m\u001b[38;5;241m.\u001b[39mlocal_server \u001b[38;5;241m=\u001b[39m \u001b[38;5;28;43mself\u001b[39;49m\u001b[38;5;241;43m.\u001b[39;49m\u001b[43minfo\u001b[49m\u001b[38;5;241m.\u001b[39mlocal_server()\n\u001b[1;32m    365\u001b[0m av_info \u001b[38;5;241m=\u001b[39m \u001b[38;5;28mself\u001b[39m\u001b[38;5;241m.\u001b[39minfo\u001b[38;5;241m.\u001b[39mget_aligned_volume_info()\n\u001b[1;32m    366\u001b[0m \u001b[38;5;28mself\u001b[39m\u001b[38;5;241m.\u001b[39m_aligned_volume_name \u001b[38;5;241m=\u001b[39m av_info[\u001b[38;5;124m\"\u001b[39m\u001b[38;5;124mname\u001b[39m\u001b[38;5;124m\"\u001b[39m]\n",
      "File \u001b[0;32m/usr/local/lib/python3.8/dist-packages/caveclient/frameworkclient.py:227\u001b[0m, in \u001b[0;36mCAVEclientGlobal.info\u001b[0;34m(self)\u001b[0m\n\u001b[1;32m    224\u001b[0m \u001b[38;5;129m@property\u001b[39m\n\u001b[1;32m    225\u001b[0m \u001b[38;5;28;01mdef\u001b[39;00m \u001b[38;5;21minfo\u001b[39m(\u001b[38;5;28mself\u001b[39m) \u001b[38;5;241m-\u001b[39m\u001b[38;5;241m>\u001b[39m InfoServiceClient:\n\u001b[1;32m    226\u001b[0m     \u001b[38;5;28;01mif\u001b[39;00m \u001b[38;5;28mself\u001b[39m\u001b[38;5;241m.\u001b[39m_info \u001b[38;5;129;01mis\u001b[39;00m \u001b[38;5;28;01mNone\u001b[39;00m:\n\u001b[0;32m--> 227\u001b[0m         \u001b[38;5;28mself\u001b[39m\u001b[38;5;241m.\u001b[39m_info \u001b[38;5;241m=\u001b[39m \u001b[43mInfoServiceClient\u001b[49m\u001b[43m(\u001b[49m\n\u001b[1;32m    228\u001b[0m \u001b[43m            \u001b[49m\u001b[43mserver_address\u001b[49m\u001b[38;5;241;43m=\u001b[39;49m\u001b[38;5;28;43mself\u001b[39;49m\u001b[38;5;241;43m.\u001b[39;49m\u001b[43mserver_address\u001b[49m\u001b[43m,\u001b[49m\n\u001b[1;32m    229\u001b[0m \u001b[43m            \u001b[49m\u001b[43mdatastack_name\u001b[49m\u001b[38;5;241;43m=\u001b[39;49m\u001b[38;5;28;43mself\u001b[39;49m\u001b[38;5;241;43m.\u001b[39;49m\u001b[43mdatastack_name\u001b[49m\u001b[43m,\u001b[49m\n\u001b[1;32m    230\u001b[0m \u001b[43m            \u001b[49m\u001b[43mauth_client\u001b[49m\u001b[38;5;241;43m=\u001b[39;49m\u001b[38;5;28;43mself\u001b[39;49m\u001b[38;5;241;43m.\u001b[39;49m\u001b[43mauth\u001b[49m\u001b[43m,\u001b[49m\n\u001b[1;32m    231\u001b[0m \u001b[43m            \u001b[49m\u001b[43mmax_retries\u001b[49m\u001b[38;5;241;43m=\u001b[39;49m\u001b[38;5;28;43mself\u001b[39;49m\u001b[38;5;241;43m.\u001b[39;49m\u001b[43m_max_retries\u001b[49m\u001b[43m,\u001b[49m\n\u001b[1;32m    232\u001b[0m \u001b[43m            \u001b[49m\u001b[43mpool_maxsize\u001b[49m\u001b[38;5;241;43m=\u001b[39;49m\u001b[38;5;28;43mself\u001b[39;49m\u001b[38;5;241;43m.\u001b[39;49m\u001b[43m_pool_maxsize\u001b[49m\u001b[43m,\u001b[49m\n\u001b[1;32m    233\u001b[0m \u001b[43m            \u001b[49m\u001b[43mpool_block\u001b[49m\u001b[38;5;241;43m=\u001b[39;49m\u001b[38;5;28;43mself\u001b[39;49m\u001b[38;5;241;43m.\u001b[39;49m\u001b[43m_pool_block\u001b[49m\u001b[43m,\u001b[49m\n\u001b[1;32m    234\u001b[0m \u001b[43m            \u001b[49m\u001b[43mover_client\u001b[49m\u001b[38;5;241;43m=\u001b[39;49m\u001b[38;5;28;43mself\u001b[39;49m\u001b[43m,\u001b[49m\n\u001b[1;32m    235\u001b[0m \u001b[43m            \u001b[49m\u001b[43minfo_cache\u001b[49m\u001b[38;5;241;43m=\u001b[39;49m\u001b[38;5;28;43mself\u001b[39;49m\u001b[38;5;241;43m.\u001b[39;49m\u001b[43m_info_cache\u001b[49m\u001b[43m,\u001b[49m\n\u001b[1;32m    236\u001b[0m \u001b[43m        \u001b[49m\u001b[43m)\u001b[49m\n\u001b[1;32m    237\u001b[0m     \u001b[38;5;28;01mreturn\u001b[39;00m \u001b[38;5;28mself\u001b[39m\u001b[38;5;241m.\u001b[39m_info\n",
      "File \u001b[0;32m/usr/local/lib/python3.8/dist-packages/caveclient/infoservice.py:53\u001b[0m, in \u001b[0;36mInfoServiceClient\u001b[0;34m(server_address, datastack_name, auth_client, api_version, verify, max_retries, pool_maxsize, pool_block, over_client, info_cache)\u001b[0m\n\u001b[1;32m     42\u001b[0m endpoints, api_version \u001b[38;5;241m=\u001b[39m _api_endpoints(\n\u001b[1;32m     43\u001b[0m     api_version,\n\u001b[1;32m     44\u001b[0m     SERVER_KEY,\n\u001b[0;32m   (...)\u001b[0m\n\u001b[1;32m     49\u001b[0m     verify\u001b[38;5;241m=\u001b[39mverify\n\u001b[1;32m     50\u001b[0m )\n\u001b[1;32m     52\u001b[0m InfoClient \u001b[38;5;241m=\u001b[39m client_mapping[api_version]\n\u001b[0;32m---> 53\u001b[0m \u001b[38;5;28;01mreturn\u001b[39;00m \u001b[43mInfoClient\u001b[49m\u001b[43m(\u001b[49m\n\u001b[1;32m     54\u001b[0m \u001b[43m    \u001b[49m\u001b[43mserver_address\u001b[49m\u001b[43m,\u001b[49m\n\u001b[1;32m     55\u001b[0m \u001b[43m    \u001b[49m\u001b[43mauth_header\u001b[49m\u001b[43m,\u001b[49m\n\u001b[1;32m     56\u001b[0m \u001b[43m    \u001b[49m\u001b[43mapi_version\u001b[49m\u001b[43m,\u001b[49m\n\u001b[1;32m     57\u001b[0m \u001b[43m    \u001b[49m\u001b[43mendpoints\u001b[49m\u001b[43m,\u001b[49m\n\u001b[1;32m     58\u001b[0m \u001b[43m    \u001b[49m\u001b[43mSERVER_KEY\u001b[49m\u001b[43m,\u001b[49m\n\u001b[1;32m     59\u001b[0m \u001b[43m    \u001b[49m\u001b[43mdatastack_name\u001b[49m\u001b[43m,\u001b[49m\n\u001b[1;32m     60\u001b[0m \u001b[43m    \u001b[49m\u001b[43mverify\u001b[49m\u001b[38;5;241;43m=\u001b[39;49m\u001b[43mverify\u001b[49m\u001b[43m,\u001b[49m\n\u001b[1;32m     61\u001b[0m \u001b[43m    \u001b[49m\u001b[43mmax_retries\u001b[49m\u001b[38;5;241;43m=\u001b[39;49m\u001b[43mmax_retries\u001b[49m\u001b[43m,\u001b[49m\n\u001b[1;32m     62\u001b[0m \u001b[43m    \u001b[49m\u001b[43mpool_maxsize\u001b[49m\u001b[38;5;241;43m=\u001b[39;49m\u001b[43mpool_maxsize\u001b[49m\u001b[43m,\u001b[49m\n\u001b[1;32m     63\u001b[0m \u001b[43m    \u001b[49m\u001b[43mpool_block\u001b[49m\u001b[38;5;241;43m=\u001b[39;49m\u001b[43mpool_block\u001b[49m\u001b[43m,\u001b[49m\n\u001b[1;32m     64\u001b[0m \u001b[43m    \u001b[49m\u001b[43mover_client\u001b[49m\u001b[38;5;241;43m=\u001b[39;49m\u001b[43mover_client\u001b[49m\u001b[43m,\u001b[49m\n\u001b[1;32m     65\u001b[0m \u001b[43m    \u001b[49m\u001b[43minfo_cache\u001b[49m\u001b[38;5;241;43m=\u001b[39;49m\u001b[43minfo_cache\u001b[49m\u001b[43m,\u001b[49m\n\u001b[1;32m     66\u001b[0m \u001b[43m\u001b[49m\u001b[43m)\u001b[49m\n",
      "File \u001b[0;32m/usr/local/lib/python3.8/dist-packages/caveclient/infoservice.py:104\u001b[0m, in \u001b[0;36mInfoServiceClientV2.__init__\u001b[0;34m(self, server_address, auth_header, api_version, endpoints, server_name, datastack_name, verify, max_retries, pool_maxsize, pool_block, over_client, info_cache)\u001b[0m\n\u001b[1;32m    101\u001b[0m     \u001b[38;5;28mself\u001b[39m\u001b[38;5;241m.\u001b[39minfo_cache \u001b[38;5;241m=\u001b[39m info_cache\n\u001b[1;32m    103\u001b[0m \u001b[38;5;28;01mif\u001b[39;00m datastack_name \u001b[38;5;129;01mis\u001b[39;00m \u001b[38;5;129;01mnot\u001b[39;00m \u001b[38;5;28;01mNone\u001b[39;00m:\n\u001b[0;32m--> 104\u001b[0m     ds_info \u001b[38;5;241m=\u001b[39m \u001b[38;5;28;43mself\u001b[39;49m\u001b[38;5;241;43m.\u001b[39;49m\u001b[43mget_datastack_info\u001b[49m\u001b[43m(\u001b[49m\u001b[43mdatastack_name\u001b[49m\u001b[38;5;241;43m=\u001b[39;49m\u001b[43mdatastack_name\u001b[49m\u001b[43m)\u001b[49m\n\u001b[1;32m    105\u001b[0m     \u001b[38;5;28mself\u001b[39m\u001b[38;5;241m.\u001b[39m_aligned_volume_name \u001b[38;5;241m=\u001b[39m ds_info[\u001b[38;5;124m\"\u001b[39m\u001b[38;5;124maligned_volume\u001b[39m\u001b[38;5;124m\"\u001b[39m][\u001b[38;5;124m\"\u001b[39m\u001b[38;5;124mname\u001b[39m\u001b[38;5;124m\"\u001b[39m]\n\u001b[1;32m    106\u001b[0m     \u001b[38;5;28mself\u001b[39m\u001b[38;5;241m.\u001b[39m_aligned_volume_id \u001b[38;5;241m=\u001b[39m ds_info[\u001b[38;5;124m\"\u001b[39m\u001b[38;5;124maligned_volume\u001b[39m\u001b[38;5;124m\"\u001b[39m][\u001b[38;5;124m\"\u001b[39m\u001b[38;5;124mid\u001b[39m\u001b[38;5;124m\"\u001b[39m]\n",
      "File \u001b[0;32m/usr/local/lib/python3.8/dist-packages/caveclient/infoservice.py:161\u001b[0m, in \u001b[0;36mInfoServiceClientV2.get_datastack_info\u001b[0;34m(self, datastack_name, use_stored)\u001b[0m\n\u001b[1;32m    158\u001b[0m     response \u001b[38;5;241m=\u001b[39m \u001b[38;5;28mself\u001b[39m\u001b[38;5;241m.\u001b[39msession\u001b[38;5;241m.\u001b[39mget(url)\n\u001b[1;32m    159\u001b[0m     \u001b[38;5;28mself\u001b[39m\u001b[38;5;241m.\u001b[39mraise_for_status(response)\n\u001b[0;32m--> 161\u001b[0m     \u001b[38;5;28mself\u001b[39m\u001b[38;5;241m.\u001b[39minfo_cache[datastack_name] \u001b[38;5;241m=\u001b[39m \u001b[43mhandle_response\u001b[49m\u001b[43m(\u001b[49m\u001b[43mresponse\u001b[49m\u001b[43m)\u001b[49m\n\u001b[1;32m    163\u001b[0m \u001b[38;5;28;01mreturn\u001b[39;00m \u001b[38;5;28mself\u001b[39m\u001b[38;5;241m.\u001b[39minfo_cache\u001b[38;5;241m.\u001b[39mget(datastack_name, \u001b[38;5;28;01mNone\u001b[39;00m)\n",
      "File \u001b[0;32m/usr/local/lib/python3.8/dist-packages/caveclient/base.py:89\u001b[0m, in \u001b[0;36mhandle_response\u001b[0;34m(response, as_json, log_warning)\u001b[0m\n\u001b[1;32m     87\u001b[0m \u001b[38;5;250m\u001b[39m\u001b[38;5;124;03m\"\"\"Deal with potential errors in endpoint response and return json for default case\"\"\"\u001b[39;00m\n\u001b[1;32m     88\u001b[0m _raise_for_status(response, log_warning\u001b[38;5;241m=\u001b[39mlog_warning)\n\u001b[0;32m---> 89\u001b[0m \u001b[43m_check_authorization_redirect\u001b[49m\u001b[43m(\u001b[49m\u001b[43mresponse\u001b[49m\u001b[43m)\u001b[49m\n\u001b[1;32m     90\u001b[0m \u001b[38;5;28;01mif\u001b[39;00m as_json:\n\u001b[1;32m     91\u001b[0m     \u001b[38;5;28;01mreturn\u001b[39;00m response\u001b[38;5;241m.\u001b[39mjson()\n",
      "File \u001b[0;32m/usr/local/lib/python3.8/dist-packages/caveclient/base.py:103\u001b[0m, in \u001b[0;36m_check_authorization_redirect\u001b[0;34m(response)\u001b[0m\n\u001b[1;32m    100\u001b[0m         first_url \u001b[38;5;241m=\u001b[39m response\u001b[38;5;241m.\u001b[39mhistory[\u001b[38;5;241m0\u001b[39m]\u001b[38;5;241m.\u001b[39murl\n\u001b[1;32m    101\u001b[0m         urlp \u001b[38;5;241m=\u001b[39m urllib\u001b[38;5;241m.\u001b[39mparse\u001b[38;5;241m.\u001b[39murlparse(first_url)\n\u001b[0;32m--> 103\u001b[0m         \u001b[38;5;28;01mraise\u001b[39;00m AuthException(\n\u001b[1;32m    104\u001b[0m             \u001b[38;5;124mf\u001b[39m\u001b[38;5;124m\"\"\"\u001b[39m\u001b[38;5;124mYou have not setup a token to access\u001b[39m\n\u001b[1;32m    105\u001b[0m \u001b[38;5;132;01m{\u001b[39;00mfirst_url\u001b[38;5;132;01m}\u001b[39;00m\n\u001b[1;32m    106\u001b[0m \u001b[38;5;124mwith the current auth configuration.\u001b[39m\u001b[38;5;130;01m\\n\u001b[39;00m\n\u001b[1;32m    107\u001b[0m \u001b[38;5;124mRead the documentation at \u001b[39m\n\u001b[1;32m    108\u001b[0m \u001b[38;5;124mhttps://caveclient.readthedocs.io/en/latest/guide/authentication.html\u001b[39m\n\u001b[1;32m    109\u001b[0m \u001b[38;5;124mor follow instructions under \u001b[39m\n\u001b[1;32m    110\u001b[0m \u001b[38;5;124mclient.auth.get_new_token() for how to set a valid API token.\u001b[39m\n\u001b[1;32m    111\u001b[0m \u001b[38;5;124mafter initializing a global client with\u001b[39m\n\u001b[1;32m    112\u001b[0m \u001b[38;5;124mclient=CAVEclient(server_address=\u001b[39m\u001b[38;5;124m\"\u001b[39m\u001b[38;5;132;01m{\u001b[39;00murlp\u001b[38;5;241m.\u001b[39mscheme\u001b[38;5;250m \u001b[39m\u001b[38;5;241m+\u001b[39m\u001b[38;5;124m\"\u001b[39m\u001b[38;5;124m://\u001b[39m\u001b[38;5;124m\"\u001b[39m\u001b[38;5;241m+\u001b[39m\u001b[38;5;250m \u001b[39murlp\u001b[38;5;241m.\u001b[39mnetloc\u001b[38;5;132;01m}\u001b[39;00m\u001b[38;5;124m\"\u001b[39m\u001b[38;5;124m)\u001b[39m\u001b[38;5;124m\"\"\"\u001b[39m\n\u001b[1;32m    113\u001b[0m         )\n",
      "\u001b[0;31mAuthException\u001b[0m: You have not setup a token to access\nhttps://global.daf-apis.com/info/api/v2/datastack/full/minnie65_phase3_v1\nwith the current auth configuration.\n\nRead the documentation at \nhttps://caveclient.readthedocs.io/en/latest/guide/authentication.html\nor follow instructions under \nclient.auth.get_new_token() for how to set a valid API token.\nafter initializing a global client with\nclient=CAVEclient(server_address=\"https://global.daf-apis.com\")"
     ]
    }
   ],
   "source": [
    "from caveclient import CAVEclient\n",
    "client = CAVEclient('minnie65_phase3_v1') # doesn't work just by itself (all commands hang)"
   ]
  },
  {
   "cell_type": "code",
   "execution_count": null,
   "id": "aa497414-329a-48ab-bc3b-193c1fec0896",
   "metadata": {
    "scrolled": true
   },
   "outputs": [],
   "source": [
    "client.materialize.get_tables()"
   ]
  },
  {
   "cell_type": "code",
   "execution_count": 9,
   "id": "6d041fa9-2f2d-4f08-b9bd-109b52495998",
   "metadata": {},
   "outputs": [],
   "source": [
    "public_cave_ground_truth_cell_types = \"allen_v1_column_types_slanted_ref\"\n",
    "public_nucleus_table = \"nucleus_detection_v0\""
   ]
  },
  {
   "cell_type": "code",
   "execution_count": 14,
   "id": "7d0bd78d-f59e-433b-ac95-f0b1d03656e7",
   "metadata": {},
   "outputs": [
    {
     "name": "stdout",
     "output_type": "stream",
     "text": [
      "Jupyter environment detected. Enabling Open3D WebVisualizer.\n",
      "[Open3D INFO] WebRTC GUI backend enabled.\n",
      "[Open3D INFO] WebRTCWindowSystem: HTTP handshake server disabled.\n"
     ]
    }
   ],
   "source": [
    "from datasci_tools import pandas_utils as pu"
   ]
  },
  {
   "cell_type": "code",
   "execution_count": 15,
   "id": "373783a8-e95c-4803-87ff-a24a2250bd7b",
   "metadata": {},
   "outputs": [],
   "source": [
    "nucleus_db = client.materialize.query_table(public_nucleus_table)"
   ]
  },
  {
   "cell_type": "code",
   "execution_count": 16,
   "id": "97a66a36-78c3-4191-8074-17eade4588fe",
   "metadata": {},
   "outputs": [
    {
     "data": {
      "text/plain": [
       "\u001b[0;31mSignature:\u001b[0m \u001b[0mpu\u001b[0m\u001b[0;34m.\u001b[0m\u001b[0mrename_columns\u001b[0m\u001b[0;34m(\u001b[0m\u001b[0mdf\u001b[0m\u001b[0;34m,\u001b[0m \u001b[0mcolumns_name_map\u001b[0m\u001b[0;34m,\u001b[0m \u001b[0min_place\u001b[0m\u001b[0;34m=\u001b[0m\u001b[0;32mFalse\u001b[0m\u001b[0;34m)\u001b[0m\u001b[0;34m\u001b[0m\u001b[0;34m\u001b[0m\u001b[0m\n",
       "\u001b[0;31mDocstring:\u001b[0m <no docstring>\n",
       "\u001b[0;31mSource:\u001b[0m   \n",
       "\u001b[0;32mdef\u001b[0m \u001b[0mrename_columns\u001b[0m\u001b[0;34m(\u001b[0m\u001b[0mdf\u001b[0m\u001b[0;34m,\u001b[0m\u001b[0mcolumns_name_map\u001b[0m\u001b[0;34m,\u001b[0m\u001b[0min_place\u001b[0m \u001b[0;34m=\u001b[0m \u001b[0;32mFalse\u001b[0m\u001b[0;34m,\u001b[0m\u001b[0;34m)\u001b[0m\u001b[0;34m:\u001b[0m\u001b[0;34m\u001b[0m\n",
       "\u001b[0;34m\u001b[0m    \u001b[0mreturn_value\u001b[0m \u001b[0;34m=\u001b[0m \u001b[0mdf\u001b[0m\u001b[0;34m.\u001b[0m\u001b[0mrename\u001b[0m\u001b[0;34m(\u001b[0m\u001b[0mcolumns\u001b[0m\u001b[0;34m=\u001b[0m\u001b[0mcolumns_name_map\u001b[0m\u001b[0;34m,\u001b[0m\u001b[0minplace\u001b[0m \u001b[0;34m=\u001b[0m \u001b[0min_place\u001b[0m\u001b[0;34m)\u001b[0m\u001b[0;34m\u001b[0m\n",
       "\u001b[0;34m\u001b[0m    \u001b[0;32mif\u001b[0m \u001b[0min_place\u001b[0m\u001b[0;34m:\u001b[0m\u001b[0;34m\u001b[0m\n",
       "\u001b[0;34m\u001b[0m        \u001b[0;32mreturn\u001b[0m \u001b[0mdf\u001b[0m\u001b[0;34m\u001b[0m\n",
       "\u001b[0;34m\u001b[0m    \u001b[0;32melse\u001b[0m\u001b[0;34m:\u001b[0m\u001b[0;34m\u001b[0m\n",
       "\u001b[0;34m\u001b[0m        \u001b[0;32mreturn\u001b[0m \u001b[0mreturn_value\u001b[0m\u001b[0;34m\u001b[0m\u001b[0;34m\u001b[0m\u001b[0m\n",
       "\u001b[0;31mFile:\u001b[0m      /neurd_packages/datasci_tools/datasci_tools/pandas_utils.py\n",
       "\u001b[0;31mType:\u001b[0m      function"
      ]
     },
     "metadata": {},
     "output_type": "display_data"
    }
   ],
   "source": [
    "pu.rename_columns??"
   ]
  },
  {
   "cell_type": "code",
   "execution_count": 21,
   "id": "869aad65-28fb-4ce6-8ece-219ddb59d4fa",
   "metadata": {},
   "outputs": [
    {
     "data": {
      "text/html": [
       "<div>\n",
       "<style scoped>\n",
       "    .dataframe tbody tr th:only-of-type {\n",
       "        vertical-align: middle;\n",
       "    }\n",
       "\n",
       "    .dataframe tbody tr th {\n",
       "        vertical-align: top;\n",
       "    }\n",
       "\n",
       "    .dataframe thead th {\n",
       "        text-align: right;\n",
       "    }\n",
       "</style>\n",
       "<table border=\"1\" class=\"dataframe\">\n",
       "  <thead>\n",
       "    <tr style=\"text-align: right;\">\n",
       "      <th></th>\n",
       "      <th>nucleus_id</th>\n",
       "      <th>pt_root_id</th>\n",
       "    </tr>\n",
       "  </thead>\n",
       "  <tbody>\n",
       "    <tr>\n",
       "      <th>0</th>\n",
       "      <td>730537</td>\n",
       "      <td>0</td>\n",
       "    </tr>\n",
       "    <tr>\n",
       "      <th>1</th>\n",
       "      <td>373879</td>\n",
       "      <td>864691136090135607</td>\n",
       "    </tr>\n",
       "    <tr>\n",
       "      <th>2</th>\n",
       "      <td>601340</td>\n",
       "      <td>0</td>\n",
       "    </tr>\n",
       "    <tr>\n",
       "      <th>3</th>\n",
       "      <td>201858</td>\n",
       "      <td>864691135373893678</td>\n",
       "    </tr>\n",
       "    <tr>\n",
       "      <th>4</th>\n",
       "      <td>600774</td>\n",
       "      <td>0</td>\n",
       "    </tr>\n",
       "    <tr>\n",
       "      <th>...</th>\n",
       "      <td>...</td>\n",
       "      <td>...</td>\n",
       "    </tr>\n",
       "    <tr>\n",
       "      <th>144115</th>\n",
       "      <td>598753</td>\n",
       "      <td>864691135743752909</td>\n",
       "    </tr>\n",
       "    <tr>\n",
       "      <th>144116</th>\n",
       "      <td>111162</td>\n",
       "      <td>864691134912248365</td>\n",
       "    </tr>\n",
       "    <tr>\n",
       "      <th>144117</th>\n",
       "      <td>795176</td>\n",
       "      <td>0</td>\n",
       "    </tr>\n",
       "    <tr>\n",
       "      <th>144118</th>\n",
       "      <td>528334</td>\n",
       "      <td>864691135968943973</td>\n",
       "    </tr>\n",
       "    <tr>\n",
       "      <th>144119</th>\n",
       "      <td>267033</td>\n",
       "      <td>864691135489514810</td>\n",
       "    </tr>\n",
       "  </tbody>\n",
       "</table>\n",
       "<p>144120 rows × 2 columns</p>\n",
       "</div>"
      ],
      "text/plain": [
       "        nucleus_id          pt_root_id\n",
       "0           730537                   0\n",
       "1           373879  864691136090135607\n",
       "2           601340                   0\n",
       "3           201858  864691135373893678\n",
       "4           600774                   0\n",
       "...            ...                 ...\n",
       "144115      598753  864691135743752909\n",
       "144116      111162  864691134912248365\n",
       "144117      795176                   0\n",
       "144118      528334  864691135968943973\n",
       "144119      267033  864691135489514810\n",
       "\n",
       "[144120 rows x 2 columns]"
      ]
     },
     "execution_count": 21,
     "metadata": {},
     "output_type": "execute_result"
    }
   ],
   "source": [
    "nucleus_df = nucleus_db[[\"id\",\"pt_root_id\"]]\n",
    "nucleus_df = pu.rename_columns(nucleus_df,{\"id\":\"nucleus_id\",})\n",
    "nucleus_df"
   ]
  },
  {
   "cell_type": "code",
   "execution_count": 22,
   "id": "02766574-2761-4afb-a76a-2f0e9389a143",
   "metadata": {
    "scrolled": true
   },
   "outputs": [
    {
     "data": {
      "text/html": [
       "<div>\n",
       "<style scoped>\n",
       "    .dataframe tbody tr th:only-of-type {\n",
       "        vertical-align: middle;\n",
       "    }\n",
       "\n",
       "    .dataframe tbody tr th {\n",
       "        vertical-align: top;\n",
       "    }\n",
       "\n",
       "    .dataframe thead th {\n",
       "        text-align: right;\n",
       "    }\n",
       "</style>\n",
       "<table border=\"1\" class=\"dataframe\">\n",
       "  <thead>\n",
       "    <tr style=\"text-align: right;\">\n",
       "      <th></th>\n",
       "      <th>cell_type</th>\n",
       "      <th>pt_root_id</th>\n",
       "    </tr>\n",
       "  </thead>\n",
       "  <tbody>\n",
       "    <tr>\n",
       "      <th>0</th>\n",
       "      <td>23P</td>\n",
       "      <td>864691136021936376</td>\n",
       "    </tr>\n",
       "    <tr>\n",
       "      <th>1</th>\n",
       "      <td>6P-CT</td>\n",
       "      <td>864691136487559186</td>\n",
       "    </tr>\n",
       "    <tr>\n",
       "      <th>2</th>\n",
       "      <td>23P</td>\n",
       "      <td>864691135784109363</td>\n",
       "    </tr>\n",
       "    <tr>\n",
       "      <th>3</th>\n",
       "      <td>23P</td>\n",
       "      <td>864691135694415551</td>\n",
       "    </tr>\n",
       "    <tr>\n",
       "      <th>4</th>\n",
       "      <td>BPC</td>\n",
       "      <td>864691135759892302</td>\n",
       "    </tr>\n",
       "    <tr>\n",
       "      <th>...</th>\n",
       "      <td>...</td>\n",
       "      <td>...</td>\n",
       "    </tr>\n",
       "    <tr>\n",
       "      <th>1352</th>\n",
       "      <td>5P-PT</td>\n",
       "      <td>864691135503182685</td>\n",
       "    </tr>\n",
       "    <tr>\n",
       "      <th>1353</th>\n",
       "      <td>5P-PT</td>\n",
       "      <td>864691136335150259</td>\n",
       "    </tr>\n",
       "    <tr>\n",
       "      <th>1354</th>\n",
       "      <td>5P-PT</td>\n",
       "      <td>864691135688186080</td>\n",
       "    </tr>\n",
       "    <tr>\n",
       "      <th>1355</th>\n",
       "      <td>5P-PT</td>\n",
       "      <td>864691135503435613</td>\n",
       "    </tr>\n",
       "    <tr>\n",
       "      <th>1356</th>\n",
       "      <td>5P-PT</td>\n",
       "      <td>864691135489514810</td>\n",
       "    </tr>\n",
       "  </tbody>\n",
       "</table>\n",
       "<p>1357 rows × 2 columns</p>\n",
       "</div>"
      ],
      "text/plain": [
       "     cell_type          pt_root_id\n",
       "0          23P  864691136021936376\n",
       "1        6P-CT  864691136487559186\n",
       "2          23P  864691135784109363\n",
       "3          23P  864691135694415551\n",
       "4          BPC  864691135759892302\n",
       "...        ...                 ...\n",
       "1352     5P-PT  864691135503182685\n",
       "1353     5P-PT  864691136335150259\n",
       "1354     5P-PT  864691135688186080\n",
       "1355     5P-PT  864691135503435613\n",
       "1356     5P-PT  864691135489514810\n",
       "\n",
       "[1357 rows x 2 columns]"
      ]
     },
     "execution_count": 22,
     "metadata": {},
     "output_type": "execute_result"
    }
   ],
   "source": [
    "df = client.materialize.query_table(public_cave_ground_truth_cell_types)\n",
    "cell_type_df = df[[\"cell_type\",\"pt_root_id\"]]\n",
    "cell_type_df"
   ]
  },
  {
   "cell_type": "code",
   "execution_count": 28,
   "id": "06f4b4d8-dcf7-4dc4-9467-8ecfa8f53e67",
   "metadata": {},
   "outputs": [
    {
     "data": {
      "text/html": [
       "<div>\n",
       "<style scoped>\n",
       "    .dataframe tbody tr th:only-of-type {\n",
       "        vertical-align: middle;\n",
       "    }\n",
       "\n",
       "    .dataframe tbody tr th {\n",
       "        vertical-align: top;\n",
       "    }\n",
       "\n",
       "    .dataframe thead th {\n",
       "        text-align: right;\n",
       "    }\n",
       "</style>\n",
       "<table border=\"1\" class=\"dataframe\">\n",
       "  <thead>\n",
       "    <tr style=\"text-align: right;\">\n",
       "      <th></th>\n",
       "      <th>segment_id</th>\n",
       "      <th>nucleus_id</th>\n",
       "      <th>cell_type</th>\n",
       "    </tr>\n",
       "  </thead>\n",
       "  <tbody>\n",
       "    <tr>\n",
       "      <th>0</th>\n",
       "      <td>864691136021936376</td>\n",
       "      <td>258319</td>\n",
       "      <td>23P</td>\n",
       "    </tr>\n",
       "    <tr>\n",
       "      <th>1</th>\n",
       "      <td>864691136487559186</td>\n",
       "      <td>276438</td>\n",
       "      <td>6P-CT</td>\n",
       "    </tr>\n",
       "    <tr>\n",
       "      <th>2</th>\n",
       "      <td>864691135784109363</td>\n",
       "      <td>260552</td>\n",
       "      <td>23P</td>\n",
       "    </tr>\n",
       "    <tr>\n",
       "      <th>3</th>\n",
       "      <td>864691135694415551</td>\n",
       "      <td>260263</td>\n",
       "      <td>23P</td>\n",
       "    </tr>\n",
       "    <tr>\n",
       "      <th>4</th>\n",
       "      <td>864691135759892302</td>\n",
       "      <td>262898</td>\n",
       "      <td>BPC</td>\n",
       "    </tr>\n",
       "    <tr>\n",
       "      <th>...</th>\n",
       "      <td>...</td>\n",
       "      <td>...</td>\n",
       "      <td>...</td>\n",
       "    </tr>\n",
       "    <tr>\n",
       "      <th>1352</th>\n",
       "      <td>864691135503182685</td>\n",
       "      <td>267029</td>\n",
       "      <td>5P-PT</td>\n",
       "    </tr>\n",
       "    <tr>\n",
       "      <th>1353</th>\n",
       "      <td>864691136335150259</td>\n",
       "      <td>267294</td>\n",
       "      <td>5P-PT</td>\n",
       "    </tr>\n",
       "    <tr>\n",
       "      <th>1354</th>\n",
       "      <td>864691135688186080</td>\n",
       "      <td>303145</td>\n",
       "      <td>5P-PT</td>\n",
       "    </tr>\n",
       "    <tr>\n",
       "      <th>1355</th>\n",
       "      <td>864691135503435613</td>\n",
       "      <td>302955</td>\n",
       "      <td>5P-PT</td>\n",
       "    </tr>\n",
       "    <tr>\n",
       "      <th>1356</th>\n",
       "      <td>864691135489514810</td>\n",
       "      <td>267033</td>\n",
       "      <td>5P-PT</td>\n",
       "    </tr>\n",
       "  </tbody>\n",
       "</table>\n",
       "<p>1357 rows × 3 columns</p>\n",
       "</div>"
      ],
      "text/plain": [
       "              segment_id  nucleus_id cell_type\n",
       "0     864691136021936376      258319       23P\n",
       "1     864691136487559186      276438     6P-CT\n",
       "2     864691135784109363      260552       23P\n",
       "3     864691135694415551      260263       23P\n",
       "4     864691135759892302      262898       BPC\n",
       "...                  ...         ...       ...\n",
       "1352  864691135503182685      267029     5P-PT\n",
       "1353  864691136335150259      267294     5P-PT\n",
       "1354  864691135688186080      303145     5P-PT\n",
       "1355  864691135503435613      302955     5P-PT\n",
       "1356  864691135489514810      267033     5P-PT\n",
       "\n",
       "[1357 rows x 3 columns]"
      ]
     },
     "execution_count": 28,
     "metadata": {},
     "output_type": "execute_result"
    }
   ],
   "source": [
    "import pandas as pd\n",
    "nuc_cell_type_df = pd.merge(cell_type_df,nucleus_df,how=\"inner\",on=[\"pt_root_id\"])\n",
    "nuc_cell_type_df = nuc_cell_type_df.rename(columns=dict(pt_root_id='segment_id'),inplace = False)\n",
    "nuc_cell_type_df = nuc_cell_type_df[['segment_id','nucleus_id','cell_type']]\n",
    "nuc_cell_type_df"
   ]
  },
  {
   "cell_type": "code",
   "execution_count": 29,
   "id": "1f7d93e6-604c-4f11-8f04-f2e700173bc4",
   "metadata": {},
   "outputs": [
    {
     "data": {
      "text/plain": [
       "'/neurd_packages/NEURD/Applications/Tutorials/GNN_Cell_Typing/training_data/public_cave_ground_truth_cell_types_with_nucleus.csv'"
      ]
     },
     "execution_count": 29,
     "metadata": {},
     "output_type": "execute_result"
    }
   ],
   "source": [
    "pu.df_to_csv(nuc_cell_type_df,\"public_cave_ground_truth_cell_types_with_nucleus.csv\")"
   ]
  },
  {
   "cell_type": "code",
   "execution_count": null,
   "id": "4aa49055-0976-433a-9889-1aab865df365",
   "metadata": {},
   "outputs": [],
   "source": []
  }
 ],
 "metadata": {
  "kernelspec": {
   "display_name": "Python 3 (ipykernel)",
   "language": "python",
   "name": "python3"
  },
  "language_info": {
   "codemirror_mode": {
    "name": "ipython",
    "version": 3
   },
   "file_extension": ".py",
   "mimetype": "text/x-python",
   "name": "python",
   "nbconvert_exporter": "python",
   "pygments_lexer": "ipython3",
   "version": "3.8.0"
  }
 },
 "nbformat": 4,
 "nbformat_minor": 5
}
