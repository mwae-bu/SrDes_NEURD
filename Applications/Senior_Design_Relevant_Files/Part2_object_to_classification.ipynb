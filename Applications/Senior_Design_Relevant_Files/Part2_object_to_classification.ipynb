{
 "cells": [
  {
   "cell_type": "code",
   "execution_count": 4,
   "id": "4fe1715b-aa44-4554-982f-0ad5b919a595",
   "metadata": {},
   "outputs": [
    {
     "name": "stdout",
     "output_type": "stream",
     "text": [
      "The autoreload extension is already loaded. To reload it, use:\n",
      "  %reload_ext autoreload\n"
     ]
    }
   ],
   "source": [
    "# load modules \n",
    "\n",
    "%load_ext autoreload\n",
    "%autoreload 2\n",
    "\n",
    "import neurd\n",
    "from mesh_tools import trimesh_utils as tu\n",
    "from datasci_tools import ipyvolume_utils as ipvu\n",
    "from neurd import neuron_visualizations as nviz\n",
    "from pathlib import Path\n",
    "from neurd.vdi_microns import volume_data_interface as vdi\n",
    "from datasci_tools import pipeline\n",
    "vdi.set_parameters_for_directory_modules()\n",
    "\n",
    "\n",
    "# ensure the neurd is being pulled from the right repo\n",
    "import sys\n",
    "import os\n",
    "\n",
    "# Specify the local neurd path\n",
    "neurd_path = \"/NEURD_Chenlab/\"\n",
    "# Add your local neurd path to the beginning of sys.path\n",
    "sys.path.insert(0, neurd_path)\n",
    "import neurd\n",
    "print(neurd.__file__)\n",
    "\n",
    "from neurd import neuron_utils as nru\n",
    "from neuron_morphology_tools import neuron_nx_utils as nxu\n",
    "print(nru.__file__)\n",
    "\n"
   ]
  },
  {
   "cell_type": "code",
   "execution_count": null,
   "id": "0f3d85c7-61e8-4089-8976-276eee1536a4",
   "metadata": {},
   "outputs": [],
   "source": [
    "# reload neuron (previously save from mesh_to_object)\n",
    "\n",
    "exc_neuron_obj = \"/NEURD_Chenlab/Applications/Tutorials/Auto_Proof_Pipeline/Single_Soma_Exc/864691134917511946_auto_proof.pbz2\"  \n",
    "exc_neuron_mesh = \"/NEURD_Chenlab/Applications/Tutorials/Auto_Proof_Pipeline/Single_Soma_Exc/864691134917511946.off\"\n",
    "exc_cell_type = \"5P-IT\"\n",
    "\n",
    "neuron_obj_exc = nru.decompress_neuron(\n",
    "    exc_neuron_obj,\n",
    "    original_mesh=exc_neuron_mesh\n",
    ")\n",
    "neuron_obj_exc"
   ]
  },
  {
   "cell_type": "code",
   "execution_count": null,
   "id": "0a71dc01-4ede-41ec-8916-be3ef4c66afd",
   "metadata": {},
   "outputs": [],
   "source": [
    "G_exc = neuron_obj_exc.neuron_graph_after_proof\n",
    "nxu.draw_tree(G_exc)\n",
    "G_exc"
   ]
  },
  {
   "cell_type": "code",
   "execution_count": 5,
   "id": "184713e1-bdc1-440e-8116-0638f568486e",
   "metadata": {},
   "outputs": [],
   "source": [
    "# cell typing\n",
    "from neurd.gnn_cell_typing_utils import NeuronGraphData,OutputClassConfig\n",
    "from neurd import gnn_cell_typing_utils as gnnu\n",
    "\n",
    "\n",
    "### should edit to ensure we can run many samples at once\n",
    "\n"
   ]
  },
  {
   "cell_type": "code",
   "execution_count": null,
   "id": "6be288cc-d032-4fda-a6ed-95c5c03865dc",
   "metadata": {},
   "outputs": [],
   "source": []
  }
 ],
 "metadata": {
  "kernelspec": {
   "display_name": "Python 3 (ipykernel)",
   "language": "python",
   "name": "python3"
  },
  "language_info": {
   "codemirror_mode": {
    "name": "ipython",
    "version": 3
   },
   "file_extension": ".py",
   "mimetype": "text/x-python",
   "name": "python",
   "nbconvert_exporter": "python",
   "pygments_lexer": "ipython3",
   "version": "3.8.0"
  }
 },
 "nbformat": 4,
 "nbformat_minor": 5
}
