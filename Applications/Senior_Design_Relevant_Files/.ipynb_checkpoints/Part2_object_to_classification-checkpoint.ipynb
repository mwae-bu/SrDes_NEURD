{
 "cells": [
  {
   "cell_type": "code",
   "execution_count": 4,
   "id": "4fe1715b-aa44-4554-982f-0ad5b919a595",
   "metadata": {},
   "outputs": [
    {
     "name": "stdout",
     "output_type": "stream",
     "text": [
      "The autoreload extension is already loaded. To reload it, use:\n",
      "  %reload_ext autoreload\n"
     ]
    }
   ],
   "source": [
    "# load modules \n",
    "\n",
    "%load_ext autoreload\n",
    "%autoreload 2\n",
    "\n",
    "import neurd\n",
    "from mesh_tools import trimesh_utils as tu\n",
    "from datasci_tools import ipyvolume_utils as ipvu\n",
    "from neurd import neuron_visualizations as nviz\n",
    "from pathlib import Path\n",
    "from neurd.vdi_microns import volume_data_interface as vdi\n",
    "from datasci_tools import pipeline\n",
    "vdi.set_parameters_for_directory_modules()"
   ]
  },
  {
   "cell_type": "code",
   "execution_count": null,
   "id": "baa54f34-b9cb-474e-ab60-2b26f48ede65",
   "metadata": {},
   "outputs": [],
   "source": [
    "segment_id = 4"
   ]
  },
  {
   "cell_type": "code",
   "execution_count": 5,
   "id": "0f3d85c7-61e8-4089-8976-276eee1536a4",
   "metadata": {},
   "outputs": [
    {
     "name": "stdout",
     "output_type": "stream",
     "text": [
      "Decompressing Neuron in minimal output mode...please wait\n"
     ]
    },
    {
     "ename": "AttributeError",
     "evalue": "Can't get attribute '_PrimitiveAttributes' on <module 'trimesh.primitives' from '/usr/local/lib/python3.8/dist-packages/trimesh/primitives.py'>",
     "output_type": "error",
     "traceback": [
      "\u001b[0;31m---------------------------------------------------------------------------\u001b[0m",
      "\u001b[0;31mAttributeError\u001b[0m                            Traceback (most recent call last)",
      "Cell \u001b[0;32mIn[5], line 2\u001b[0m\n\u001b[1;32m      1\u001b[0m \u001b[38;5;66;03m# reload neuron\u001b[39;00m\n\u001b[0;32m----> 2\u001b[0m neuron_obj_rec \u001b[38;5;241m=\u001b[39m \u001b[43mvdi\u001b[49m\u001b[38;5;241;43m.\u001b[39;49m\u001b[43mload_neuron_obj\u001b[49m\u001b[43m(\u001b[49m\n\u001b[1;32m      3\u001b[0m \u001b[43m    \u001b[49m\u001b[43msegment_id\u001b[49m\u001b[43m \u001b[49m\u001b[38;5;241;43m=\u001b[39;49m\u001b[43m \u001b[49m\u001b[43msegment_id\u001b[49m\u001b[43m,\u001b[49m\n\u001b[1;32m      4\u001b[0m \u001b[43m    \u001b[49m\u001b[38;5;66;43;03m#mesh_decimated = mesh_decimated\u001b[39;49;00m\n\u001b[1;32m      5\u001b[0m \u001b[43m)\u001b[49m\n",
      "File \u001b[0;32m/usr/local/lib/python3.8/dist-packages/neurd/vdi_default.py:286\u001b[0m, in \u001b[0;36mDataInterfaceBoilerplate.load_neuron_obj\u001b[0;34m(self, segment_id, mesh_decimated, mesh_filepath, meshes_directory, filepath, directory, filename, suffix, verbose, **kwargs)\u001b[0m\n\u001b[1;32m    282\u001b[0m         filename \u001b[38;5;241m=\u001b[39m \u001b[38;5;124mf\u001b[39m\u001b[38;5;124m\"\u001b[39m\u001b[38;5;132;01m{\u001b[39;00msegment_id\u001b[38;5;132;01m}\u001b[39;00m\u001b[38;5;132;01m{\u001b[39;00msuffix\u001b[38;5;132;01m}\u001b[39;00m\u001b[38;5;124m\"\u001b[39m\n\u001b[1;32m    284\u001b[0m     filepath \u001b[38;5;241m=\u001b[39m Path(directory) \u001b[38;5;241m/\u001b[39m Path(filename)\n\u001b[0;32m--> 286\u001b[0m \u001b[38;5;28;01mreturn\u001b[39;00m \u001b[43mnru\u001b[49m\u001b[38;5;241;43m.\u001b[39;49m\u001b[43mdecompress_neuron\u001b[49m\u001b[43m(\u001b[49m\n\u001b[1;32m    287\u001b[0m \u001b[43m    \u001b[49m\u001b[43mfilepath\u001b[49m\u001b[43m \u001b[49m\u001b[38;5;241;43m=\u001b[39;49m\u001b[43m \u001b[49m\u001b[43mfilepath\u001b[49m\u001b[43m,\u001b[49m\n\u001b[1;32m    288\u001b[0m \u001b[43m    \u001b[49m\u001b[43moriginal_mesh\u001b[49m\u001b[43m \u001b[49m\u001b[38;5;241;43m=\u001b[39;49m\u001b[43m \u001b[49m\u001b[43mmesh_decimated\u001b[49m\u001b[43m,\u001b[49m\n\u001b[1;32m    289\u001b[0m \u001b[43m    \u001b[49m\u001b[38;5;241;43m*\u001b[39;49m\u001b[38;5;241;43m*\u001b[39;49m\u001b[43mkwargs\u001b[49m\n\u001b[1;32m    290\u001b[0m \u001b[43m\u001b[49m\u001b[43m)\u001b[49m\n",
      "File \u001b[0;32m/usr/local/lib/python3.8/dist-packages/neurd/neuron_utils.py:1620\u001b[0m, in \u001b[0;36mdecompress_neuron\u001b[0;34m(filepath, original_mesh, suppress_output, debug_time, using_original_mesh)\u001b[0m\n\u001b[1;32m   1616\u001b[0m \u001b[38;5;28;01mwith\u001b[39;00m su\u001b[38;5;241m.\u001b[39msuppress_stdout_stderr() \u001b[38;5;28;01mif\u001b[39;00m suppress_output \u001b[38;5;28;01melse\u001b[39;00m su\u001b[38;5;241m.\u001b[39mdummy_context_mgr():\n\u001b[1;32m   1618\u001b[0m     decompr_time \u001b[38;5;241m=\u001b[39m time\u001b[38;5;241m.\u001b[39mtime()\n\u001b[0;32m-> 1620\u001b[0m     loaded_compression \u001b[38;5;241m=\u001b[39m \u001b[43msu\u001b[49m\u001b[38;5;241;43m.\u001b[39;49m\u001b[43mdecompress_pickle\u001b[49m\u001b[43m(\u001b[49m\u001b[43mfilepath\u001b[49m\u001b[43m)\u001b[49m\n\u001b[1;32m   1621\u001b[0m     \u001b[38;5;28mprint\u001b[39m(\u001b[38;5;124mf\u001b[39m\u001b[38;5;124m\"\u001b[39m\u001b[38;5;124mInside decompress neuron and decomposition_type = \u001b[39m\u001b[38;5;132;01m{\u001b[39;00mloaded_compression[\u001b[38;5;124m'\u001b[39m\u001b[38;5;124mdecomposition_type\u001b[39m\u001b[38;5;124m'\u001b[39m]\u001b[38;5;132;01m}\u001b[39;00m\u001b[38;5;124m\"\u001b[39m)\n\u001b[1;32m   1623\u001b[0m     \u001b[38;5;28;01mif\u001b[39;00m debug_time:\n",
      "File \u001b[0;32m/usr/local/lib/python3.8/dist-packages/datasci_tools/system_utils.py:284\u001b[0m, in \u001b[0;36mdecompress_pickle\u001b[0;34m(filename)\u001b[0m\n\u001b[1;32m    281\u001b[0m     filename \u001b[38;5;241m+\u001b[39m\u001b[38;5;241m=\u001b[39m \u001b[38;5;124m\"\u001b[39m\u001b[38;5;124m.pbz2\u001b[39m\u001b[38;5;124m\"\u001b[39m\n\u001b[1;32m    283\u001b[0m data \u001b[38;5;241m=\u001b[39m bz2\u001b[38;5;241m.\u001b[39mBZ2File(filename, \u001b[38;5;124m'\u001b[39m\u001b[38;5;124mrb\u001b[39m\u001b[38;5;124m'\u001b[39m)\n\u001b[0;32m--> 284\u001b[0m data \u001b[38;5;241m=\u001b[39m \u001b[43mcPickle\u001b[49m\u001b[38;5;241;43m.\u001b[39;49m\u001b[43mload\u001b[49m\u001b[43m(\u001b[49m\u001b[43mdata\u001b[49m\u001b[43m)\u001b[49m\n\u001b[1;32m    285\u001b[0m \u001b[38;5;28;01mreturn\u001b[39;00m data\n",
      "\u001b[0;31mAttributeError\u001b[0m: Can't get attribute '_PrimitiveAttributes' on <module 'trimesh.primitives' from '/usr/local/lib/python3.8/dist-packages/trimesh/primitives.py'>"
     ]
    }
   ],
   "source": [
    "# reload neuron (previously save from mesh_to_object)\n",
    "neuron_obj_rec = vdi.load_neuron_obj(\n",
    "    segment_id = segment_id,\n",
    "    #mesh_decimated = mesh_decimated     ### <-- unable to reload for some reason??\n",
    ")"
   ]
  },
  {
   "cell_type": "code",
   "execution_count": null,
   "id": "184713e1-bdc1-440e-8116-0638f568486e",
   "metadata": {},
   "outputs": [],
   "source": [
    "# cell typing\n",
    "\n",
    "\n",
    "\n"
   ]
  },
  {
   "cell_type": "code",
   "execution_count": null,
   "id": "6be288cc-d032-4fda-a6ed-95c5c03865dc",
   "metadata": {},
   "outputs": [],
   "source": []
  }
 ],
 "metadata": {
  "kernelspec": {
   "display_name": "Python 3 (ipykernel)",
   "language": "python",
   "name": "python3"
  },
  "language_info": {
   "codemirror_mode": {
    "name": "ipython",
    "version": 3
   },
   "file_extension": ".py",
   "mimetype": "text/x-python",
   "name": "python",
   "nbconvert_exporter": "python",
   "pygments_lexer": "ipython3",
   "version": "3.8.0"
  }
 },
 "nbformat": 4,
 "nbformat_minor": 5
}
