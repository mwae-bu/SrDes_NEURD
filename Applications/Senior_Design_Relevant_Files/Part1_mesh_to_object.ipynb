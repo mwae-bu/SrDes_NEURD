{
 "cells": [
  {
   "cell_type": "markdown",
   "id": "1a99a672-ed4b-42f9-827d-a5bafb3cd2ef",
   "metadata": {},
   "source": [
    "Part 1: Raw mesh --> decimation --> autoproofreading --> save object"
   ]
  },
  {
   "cell_type": "code",
   "execution_count": 3,
   "id": "4fe1715b-aa44-4554-982f-0ad5b919a595",
   "metadata": {},
   "outputs": [
    {
     "name": "stdout",
     "output_type": "stream",
     "text": [
      "The autoreload extension is already loaded. To reload it, use:\n",
      "  %reload_ext autoreload\n"
     ]
    }
   ],
   "source": [
    "%load_ext autoreload\n",
    "%autoreload 2\n",
    "\n",
    "import neurd\n",
    "from mesh_tools import trimesh_utils as tu\n",
    "from datasci_tools import ipyvolume_utils as ipvu\n",
    "from neurd import neuron_visualizations as nviz\n",
    "from pathlib import Path\n",
    "from neurd.vdi_microns import volume_data_interface as vdi\n",
    "vdi.set_parameters_for_directory_modules()\n",
    "import os\n",
    "import time\n",
    "\n",
    "ChenLabData = False"
   ]
  },
  {
   "cell_type": "code",
   "execution_count": null,
   "id": "c2b2a417-a227-4bdc-8087-6753e7e1e3cb",
   "metadata": {},
   "outputs": [],
   "source": [
    "## Run if we are using Chenlab Data \n",
    "from meshparty import trimesh_io  # for grabbing a mesh\n",
    "from meshparty import trimesh_vtk  # for visualizing meshes and skeletons\n",
    "\n",
    "# Set boolean variable\n",
    "ChenLabData = True\n",
    "\n",
    "# provide the DENDRITIC segmentation ID for the cell of interest\n",
    "dend_id = 75719036679410195  \n",
    "\n",
    "# Get the DENDRITIC segmentation mesh from neuroglancer\n",
    "mm = trimesh_io.MeshMeta(\n",
    "        cv_path=\"precomputed://gs://zetta_jchen_mouse_cortex_001_segmentation/cell/lowres/240820_emb24_lowres_x1/seg\", \n",
    "        map_gs_to_https=True)\n",
    "\n",
    "mesh = mm.mesh(seg_id=dend_id) \n",
    "\n",
    "# visualize the mesh\n",
    "mesh_actor = trimesh_vtk.mesh_actor(mesh,  color=(1,0,0),  opacity=0.25)\n",
    "#trimesh_vtk.render_actors([mesh_actor]) #NOTE: need to close the window when done to unpause python\n",
    "\n",
    "# store the mesh\n",
    "# Define the local file path where you want to save the mesh (with .off extension)\n",
    "local_file_path = \"32414.off\"\n",
    "# Export the mesh to a .off file\n",
    "mesh.export(local_file_path)\n",
    "# Confirm the file has been saved\n",
    "print(f\"Mesh has been saved to {os.path.abspath(local_file_path)}\")\n",
    "\n",
    "#import skeletor as sk\n",
    "# pre-process the mesh (may not be necessary)\n",
    "#mesh_fix = sk.pre.fix_mesh(mesh) #\n",
    "#mesh_fix_actor = trimesh_vtk.mesh_actor(mesh_fix,  color=(1,0,0),  opacity=0.25)\n",
    "#trimesh_vtk.render_actors([mesh_actor, mesh_fix_actor]) \n"
   ]
  },
  {
   "cell_type": "code",
   "execution_count": 14,
   "id": "f14162cc-281d-4be7-8fce-952fc093a300",
   "metadata": {},
   "outputs": [
    {
     "name": "stdout",
     "output_type": "stream",
     "text": [
      "/NEURD_Chenlab/Applications/Senior_Design_Relevant_Files/864691134917511946_synapses.csv\n"
     ]
    },
    {
     "data": {
      "application/vnd.jupyter.widget-view+json": {
       "model_id": "170020670e4942f082acaae7d38cc799",
       "version_major": 2,
       "version_minor": 0
      },
      "text/plain": [
       "Container(figure=Figure(box_center=[0.5, 0.5, 0.5], box_size=[1.0, 1.0, 1.0], camera=PerspectiveCamera(fov=45.…"
      ]
     },
     "metadata": {},
     "output_type": "display_data"
    },
    {
     "data": {
      "text/plain": [
       "<trimesh.Trimesh(vertices.shape=(420741, 3), faces.shape=(865980, 3), name=`864691134917511946.off`)>"
      ]
     },
     "execution_count": 14,
     "metadata": {},
     "output_type": "execute_result"
    }
   ],
   "source": [
    "# load raw mesh and synapse file \n",
    "\n",
    "# load appropriate volume data inteface object\n",
    "from neurd.vdi_microns import volume_data_interface as vdi\n",
    "vdi.set_parameters_for_directory_modules()\n",
    "\n",
    "# user change segment_id, synapsefilepath\n",
    "segment_id = 864691134917511946 # BCM\n",
    "\n",
    "synapse_filepath = str(Path(f'./{segment_id}_synapses.csv').absolute())\n",
    "print(synapse_filepath)\n",
    "\n",
    "# get synapse (if not ChenLab)\n",
    "if not ChenLabData: \n",
    "    vdi.set_synapse_filepath(\n",
    "        synapse_filepath\n",
    "    )\n",
    "\n",
    "# fetch segment mesh\n",
    "mesh = vdi.fetch_segment_id_mesh(\n",
    "    segment_id,\n",
    "    plot = True\n",
    ")\n",
    "mesh\n"
   ]
  },
  {
   "cell_type": "code",
   "execution_count": 15,
   "id": "5374f1c7-383b-4d19-819e-06091ce42c5a",
   "metadata": {},
   "outputs": [
    {
     "data": {
      "text/plain": [
       "<datasci_tools.pipeline.PipelineProducts at 0x7f6654f26100>"
      ]
     },
     "execution_count": 15,
     "metadata": {},
     "output_type": "execute_result"
    }
   ],
   "source": [
    "from datasci_tools import pipeline\n",
    "\n",
    "products = pipeline.PipelineProducts()\n",
    "products"
   ]
  },
  {
   "cell_type": "code",
   "execution_count": 16,
   "id": "61f29328-e315-4a2b-b129-7054a4a26ab3",
   "metadata": {},
   "outputs": [
    {
     "name": "stdout",
     "output_type": "stream",
     "text": [
      "xvfb-run -n 633 -s \"-screen 0 800x600x24\" meshlabserver $@  -i /NEURD_Chenlab/Applications/Senior_Design_Relevant_Files/temp/neuron_4862.off -o /NEURD_Chenlab/Applications/Senior_Design_Relevant_Files/temp/neuron_4862_decimated.off -s /NEURD_Chenlab/Applications/Senior_Design_Relevant_Files/temp/decimation_meshlab_25460966.mls\n",
      "{\n",
      "  'decimation':\n",
      "  {\n",
      "    'decimation_parameters':\n",
      "    {\n",
      "      'decimation_ratio':0.25,\n",
      "    },\n",
      "    'segment_id':864691134917511946,\n",
      "  },\n",
      "}\n",
      "\n"
     ]
    }
   ],
   "source": [
    "# decimate mesh \n",
    "\n",
    "decimation_parameters = dict(\n",
    "    decimation_ratio =0.25,\n",
    ")\n",
    "\n",
    "mesh_decimated = tu.decimate(\n",
    "    mesh,\n",
    "    **decimation_parameters\n",
    ")\n",
    "\n",
    "# saving any parameters used or output products for later use\n",
    "products.set_stage_attrs(\n",
    "    stage = \"decimation\",\n",
    "    attr_dict = dict(\n",
    "        decimation_parameters = decimation_parameters,\n",
    "        segment_id = segment_id,\n",
    "    ), \n",
    ")\n",
    "\n",
    "print(products)"
   ]
  },
  {
   "cell_type": "code",
   "execution_count": 17,
   "id": "711049a7-74fc-4266-ae2b-37b0d454ad91",
   "metadata": {
    "scrolled": true
   },
   "outputs": [
    {
     "name": "stdout",
     "output_type": "stream",
     "text": [
      "Current Arguments Using (adjusted for decimation):\n",
      " large_mesh_threshold= 5000.0 \n",
      "large_mesh_threshold_inner = 3250.0 \n",
      "soma_size_threshold = 562.5 \n",
      "soma_size_threshold_max = 75000.0\n",
      "outer_decimation_ratio = 0.25\n",
      "inner_decimation_ratio = 0.25\n",
      "max_mesh_sized_filtered_away = 22500.0\n",
      "xvfb-run -n 7042 -s \"-screen 0 800x600x24\" meshlabserver $@  -i /NEURD_Chenlab/Applications/Senior_Design_Relevant_Files/temp/neuron_65045.off -o /NEURD_Chenlab/Applications/Senior_Design_Relevant_Files/temp/neuron_65045_remove_interior.off -s /NEURD_Chenlab/Applications/Senior_Design_Relevant_Files/temp/remove_interior_267909.mls\n",
      "removed temporary input file: /NEURD_Chenlab/Applications/Senior_Design_Relevant_Files/temp/neuron_65045.off\n",
      "removed temporary output file: /NEURD_Chenlab/Applications/Senior_Design_Relevant_Files/temp/neuron_65045_remove_interior.off\n",
      "/NEURD_Chenlab/Applications/Senior_Design_Relevant_Files/temp/remove_interior_267909.mls is being deleted....\n",
      "There were 7 total interior meshes\n",
      "Pieces satisfying glia requirements (volume) (x >= 2500000000000): 0\n",
      "Pieces satisfying nuclie requirements: n_faces (700 <= x) and volume (x < 2500000000000) : 7\n",
      "inside remove_mesh_interior and using precomputed inside_pieces\n",
      "Removing the following inside neurons: [<trimesh.Trimesh(vertices.shape=(12086, 3), faces.shape=(31665, 3))>, <trimesh.Trimesh(vertices.shape=(471, 3), faces.shape=(1095, 3))>, <trimesh.Trimesh(vertices.shape=(456, 3), faces.shape=(1084, 3))>, <trimesh.Trimesh(vertices.shape=(435, 3), faces.shape=(1028, 3))>]\n",
      "\n",
      "\n",
      "Original Mesh size: 216494, Final mesh size: 181621\n",
      "Total time = 16.631237983703613\n",
      "xvfb-run -n 7451 -s \"-screen 0 800x600x24\" meshlabserver $@  -i /NEURD_Chenlab/Applications/Senior_Design_Relevant_Files/12345/neuron_12345.off -o /NEURD_Chenlab/Applications/Senior_Design_Relevant_Files/12345/neuron_12345_decimated.off -s /NEURD_Chenlab/Applications/Senior_Design_Relevant_Files/12345/decimation_meshlab_25259721.mls\n",
      "Total found significant pieces before Poisson = [<trimesh.Trimesh(vertices.shape=(12285, 3), faces.shape=(22484, 3), name=`neuron_12345_decimated.off`)>]\n",
      "----- working on large mesh #0: <trimesh.Trimesh(vertices.shape=(12285, 3), faces.shape=(22484, 3), name=`neuron_12345_decimated.off`)>\n",
      "remove_inside_pieces requested \n",
      "xvfb-run -n 3340 -s \"-screen 0 800x600x24\" meshlabserver $@  -i /NEURD_Chenlab/Applications/Senior_Design_Relevant_Files/temp/neuron_16209.off -o /NEURD_Chenlab/Applications/Senior_Design_Relevant_Files/temp/neuron_16209_remove_interior.off -s /NEURD_Chenlab/Applications/Senior_Design_Relevant_Files/temp/remove_interior_614937.mls\n",
      "removed temporary input file: /NEURD_Chenlab/Applications/Senior_Design_Relevant_Files/temp/neuron_16209.off\n",
      "removed temporary output file: /NEURD_Chenlab/Applications/Senior_Design_Relevant_Files/temp/neuron_16209_remove_interior.off\n",
      "/NEURD_Chenlab/Applications/Senior_Design_Relevant_Files/temp/remove_interior_614937.mls is being deleted....\n",
      "No significant (1000) interior meshes present\n",
      "largest is 204\n",
      "pre_largest_mesh_path = /NEURD_Chenlab/Applications/Senior_Design_Relevant_Files/12345/neuron_12345_decimated_largest_piece.off\n",
      "xvfb-run -n 3755 -s \"-screen 0 800x600x24\" meshlabserver $@  -i /NEURD_Chenlab/Applications/Senior_Design_Relevant_Files/12345/neuron_12345_decimated_largest_piece.off -o /NEURD_Chenlab/Applications/Senior_Design_Relevant_Files/12345/neuron_12345_decimated_largest_piece_poisson.off -s /NEURD_Chenlab/Applications/Senior_Design_Relevant_Files/12345/poisson_980790.mls\n",
      "Total found significant pieces AFTER Poisson = [<trimesh.Trimesh(vertices.shape=(13708, 3), faces.shape=(27430, 3), name=`neuron_12345_decimated_largest_piece_poisson.off`)>, <trimesh.Trimesh(vertices.shape=(7502, 3), faces.shape=(15012, 3), name=`neuron_12345_decimated_largest_piece_poisson.off`)>, <trimesh.Trimesh(vertices.shape=(3886, 3), faces.shape=(7772, 3), name=`neuron_12345_decimated_largest_piece_poisson.off`)>, <trimesh.Trimesh(vertices.shape=(3393, 3), faces.shape=(6786, 3), name=`neuron_12345_decimated_largest_piece_poisson.off`)>, <trimesh.Trimesh(vertices.shape=(3296, 3), faces.shape=(6596, 3), name=`neuron_12345_decimated_largest_piece_poisson.off`)>, <trimesh.Trimesh(vertices.shape=(2949, 3), faces.shape=(5910, 3), name=`neuron_12345_decimated_largest_piece_poisson.off`)>, <trimesh.Trimesh(vertices.shape=(2618, 3), faces.shape=(5232, 3), name=`neuron_12345_decimated_largest_piece_poisson.off`)>, <trimesh.Trimesh(vertices.shape=(2433, 3), faces.shape=(4862, 3), name=`neuron_12345_decimated_largest_piece_poisson.off`)>, <trimesh.Trimesh(vertices.shape=(2244, 3), faces.shape=(4484, 3), name=`neuron_12345_decimated_largest_piece_poisson.off`)>, <trimesh.Trimesh(vertices.shape=(2185, 3), faces.shape=(4366, 3), name=`neuron_12345_decimated_largest_piece_poisson.off`)>, <trimesh.Trimesh(vertices.shape=(2090, 3), faces.shape=(4184, 3), name=`neuron_12345_decimated_largest_piece_poisson.off`)>, <trimesh.Trimesh(vertices.shape=(2012, 3), faces.shape=(4024, 3), name=`neuron_12345_decimated_largest_piece_poisson.off`)>, <trimesh.Trimesh(vertices.shape=(1982, 3), faces.shape=(3968, 3), name=`neuron_12345_decimated_largest_piece_poisson.off`)>, <trimesh.Trimesh(vertices.shape=(1818, 3), faces.shape=(3632, 3), name=`neuron_12345_decimated_largest_piece_poisson.off`)>]\n",
      "----- working on mesh after poisson #0: <trimesh.Trimesh(vertices.shape=(13708, 3), faces.shape=(27430, 3), name=`neuron_12345_decimated_largest_piece_poisson.off`)>\n",
      "xvfb-run -n 7550 -s \"-screen 0 800x600x24\" meshlabserver $@  -i /NEURD_Chenlab/Applications/Senior_Design_Relevant_Files/12345/neuron_12345_decimated_largest_piece_poisson_largest_inner.off -o /NEURD_Chenlab/Applications/Senior_Design_Relevant_Files/12345/neuron_12345_decimated_largest_piece_poisson_largest_inner_decimated.off -s /NEURD_Chenlab/Applications/Senior_Design_Relevant_Files/12345/decimation_meshlab_25816501.mls\n",
      "\n",
      "-------Splits after inner decimation len = 1--------\n",
      "\n",
      "done exporting decimated mesh: neuron_12345_decimated_largest_piece_poisson_largest_inner.off\n",
      "\n",
      "    --- On segmentation loop 0 --\n",
      "largest_mesh_path_inner_decimated_clean = <trimesh.Trimesh(vertices.shape=(3421, 3), faces.shape=(6856, 3), name=`neuron_12345_decimated_largest_piece_poisson_largest_inner_decimated.off`)>\n",
      "\n",
      "largest_mesh_path_inner_decimated_clean = <trimesh.Trimesh(vertices.shape=(3421, 3), faces.shape=(6856, 3), name=`neuron_12345_decimated_largest_piece_poisson_largest_inner_decimated.off`)>\n",
      "soma_size_threshold = 562.5\n",
      "soma_size_threshold_max = 75000.0\n",
      "soma_width_threshold = 0.32\n",
      "\n",
      "Number of segments: 9\n",
      "\n",
      "      ------ Found 1 viable somas: [0.556723]\n",
      "Using Poisson Surface Reconstruction for watertightness in soma_volume_ratio\n",
      "xvfb-run -n 2249 -s \"-screen 0 800x600x24\" meshlabserver $@  -i /NEURD_Chenlab/Applications/Senior_Design_Relevant_Files/Poisson_temp/neuron_65394.off -o /NEURD_Chenlab/Applications/Senior_Design_Relevant_Files/Poisson_temp/neuron_65394_poisson.off -s /NEURD_Chenlab/Applications/Senior_Design_Relevant_Files/Poisson_temp/poisson_466639.mls\n",
      "removed temporary input file: /NEURD_Chenlab/Applications/Senior_Design_Relevant_Files/Poisson_temp/neuron_65394.off\n",
      "removed temporary output file: /NEURD_Chenlab/Applications/Senior_Design_Relevant_Files/Poisson_temp/neuron_65394_poisson.off\n",
      "mesh.is_watertight = False\n",
      "/NEURD_Chenlab/Applications/Senior_Design_Relevant_Files/Poisson_temp/poisson_466639.mls is being deleted....\n",
      "Inside sphere validater: ratio_val = 4.449440394738677\n",
      "----- working on mesh after poisson #1: <trimesh.Trimesh(vertices.shape=(7502, 3), faces.shape=(15012, 3), name=`neuron_12345_decimated_largest_piece_poisson.off`)>\n",
      "xvfb-run -n 8826 -s \"-screen 0 800x600x24\" meshlabserver $@  -i /NEURD_Chenlab/Applications/Senior_Design_Relevant_Files/12345/neuron_12345_decimated_largest_piece_poisson_largest_inner.off -o /NEURD_Chenlab/Applications/Senior_Design_Relevant_Files/12345/neuron_12345_decimated_largest_piece_poisson_largest_inner_decimated.off -s /NEURD_Chenlab/Applications/Senior_Design_Relevant_Files/12345/decimation_meshlab_25816501.mls\n",
      "\n",
      "-------Splits after inner decimation len = 1--------\n",
      "\n",
      "done exporting decimated mesh: neuron_12345_decimated_largest_piece_poisson_largest_inner.off\n",
      "\n",
      "    --- On segmentation loop 0 --\n",
      "largest_mesh_path_inner_decimated_clean = <trimesh.Trimesh(vertices.shape=(1872, 3), faces.shape=(3752, 3), name=`neuron_12345_decimated_largest_piece_poisson_largest_inner_decimated.off`)>\n",
      "\n",
      "largest_mesh_path_inner_decimated_clean = <trimesh.Trimesh(vertices.shape=(1872, 3), faces.shape=(3752, 3), name=`neuron_12345_decimated_largest_piece_poisson_largest_inner_decimated.off`)>\n",
      "soma_size_threshold = 562.5\n",
      "soma_size_threshold_max = 75000.0\n",
      "soma_width_threshold = 0.32\n",
      "\n",
      "Number of segments: 8\n",
      "\n",
      "      ------ Found 1 viable somas: [0.662175]\n",
      "Using Poisson Surface Reconstruction for watertightness in soma_volume_ratio\n",
      "xvfb-run -n 3792 -s \"-screen 0 800x600x24\" meshlabserver $@  -i /NEURD_Chenlab/Applications/Senior_Design_Relevant_Files/Poisson_temp/neuron_389127.off -o /NEURD_Chenlab/Applications/Senior_Design_Relevant_Files/Poisson_temp/neuron_389127_poisson.off -s /NEURD_Chenlab/Applications/Senior_Design_Relevant_Files/Poisson_temp/poisson_953899.mls\n",
      "removed temporary input file: /NEURD_Chenlab/Applications/Senior_Design_Relevant_Files/Poisson_temp/neuron_389127.off\n",
      "removed temporary output file: /NEURD_Chenlab/Applications/Senior_Design_Relevant_Files/Poisson_temp/neuron_389127_poisson.off\n",
      "mesh.is_watertight = True\n",
      "/NEURD_Chenlab/Applications/Senior_Design_Relevant_Files/Poisson_temp/poisson_953899.mls is being deleted....\n",
      "Inside sphere validater: ratio_val = 3.1240133486527126\n",
      "----- working on mesh after poisson #2: <trimesh.Trimesh(vertices.shape=(3886, 3), faces.shape=(7772, 3), name=`neuron_12345_decimated_largest_piece_poisson.off`)>\n",
      "xvfb-run -n 4470 -s \"-screen 0 800x600x24\" meshlabserver $@  -i /NEURD_Chenlab/Applications/Senior_Design_Relevant_Files/12345/neuron_12345_decimated_largest_piece_poisson_largest_inner.off -o /NEURD_Chenlab/Applications/Senior_Design_Relevant_Files/12345/neuron_12345_decimated_largest_piece_poisson_largest_inner_decimated.off -s /NEURD_Chenlab/Applications/Senior_Design_Relevant_Files/12345/decimation_meshlab_25816501.mls\n",
      "\n",
      "-------Splits after inner decimation len = 1--------\n",
      "\n",
      "done exporting decimated mesh: neuron_12345_decimated_largest_piece_poisson_largest_inner.off\n",
      "\n",
      "    --- On segmentation loop 0 --\n",
      "largest_mesh_path_inner_decimated_clean = <trimesh.Trimesh(vertices.shape=(971, 3), faces.shape=(1942, 3), name=`neuron_12345_decimated_largest_piece_poisson_largest_inner_decimated.off`)>\n",
      "\n",
      "largest_mesh_path_inner_decimated_clean = <trimesh.Trimesh(vertices.shape=(971, 3), faces.shape=(1942, 3), name=`neuron_12345_decimated_largest_piece_poisson_largest_inner_decimated.off`)>\n",
      "soma_size_threshold = 562.5\n",
      "soma_size_threshold_max = 75000.0\n",
      "soma_width_threshold = 0.32\n",
      "\n",
      "Number of segments: 6\n",
      "\n",
      "      ------ Found 2 viable somas: [0.509271, 0.563631]\n",
      "mesh.is_watertight = True\n",
      "/NEURD_Chenlab/Applications/Senior_Design_Relevant_Files/Poisson_temp/poisson_96262.mls is being deleted....\n",
      "Inside sphere validater: ratio_val = 9.229654751737693\n",
      "->Attempting retry of soma because failed first checks: soma_mesh = <trimesh.Trimesh(vertices.shape=(367, 3), faces.shape=(730, 3), name=`neuron_12345_decimated_largest_piece_poisson_largest_inner_decimated.off`)>, curr_side_len_check = True, curr_volume_check = False\n",
      "perc_0_faces = 0.0027397260273972603\n",
      "Going to run cgal segmentation with:\n",
      "File: /NEURD_Chenlab/Applications/Senior_Design_Relevant_Files/120_mesh \n",
      "clusters:3 \n",
      "smoothness:0.2\n",
      "\n",
      "Number of segments: 1\n",
      "\n",
      "mesh.is_watertight = True\n",
      "/NEURD_Chenlab/Applications/Senior_Design_Relevant_Files/Poisson_temp/poisson_610025.mls is being deleted....\n",
      "Inside sphere validater: ratio_val = 9.229654751737693\n",
      "--->This soma mesh was not added because failed retry of sphere validation:\n",
      " soma_mesh = <trimesh.Trimesh(vertices.shape=(367, 3), faces.shape=(730, 3), name=`neuron_12345_decimated_largest_piece_poisson_largest_inner_decimated.off`)>, curr_side_len_check = True, curr_volume_check = False\n",
      "Using Poisson Surface Reconstruction for watertightness in soma_volume_ratio\n",
      "xvfb-run -n 6897 -s \"-screen 0 800x600x24\" meshlabserver $@  -i /NEURD_Chenlab/Applications/Senior_Design_Relevant_Files/Poisson_temp/neuron_462792.off -o /NEURD_Chenlab/Applications/Senior_Design_Relevant_Files/Poisson_temp/neuron_462792_poisson.off -s /NEURD_Chenlab/Applications/Senior_Design_Relevant_Files/Poisson_temp/poisson_239121.mls\n",
      "removed temporary input file: /NEURD_Chenlab/Applications/Senior_Design_Relevant_Files/Poisson_temp/neuron_462792.off\n",
      "removed temporary output file: /NEURD_Chenlab/Applications/Senior_Design_Relevant_Files/Poisson_temp/neuron_462792_poisson.off\n",
      "mesh.is_watertight = True\n",
      "/NEURD_Chenlab/Applications/Senior_Design_Relevant_Files/Poisson_temp/poisson_239121.mls is being deleted....\n",
      "Inside sphere validater: ratio_val = 7.314654734584023\n",
      "----- working on mesh after poisson #3: <trimesh.Trimesh(vertices.shape=(3393, 3), faces.shape=(6786, 3), name=`neuron_12345_decimated_largest_piece_poisson.off`)>\n",
      "xvfb-run -n 2090 -s \"-screen 0 800x600x24\" meshlabserver $@  -i /NEURD_Chenlab/Applications/Senior_Design_Relevant_Files/12345/neuron_12345_decimated_largest_piece_poisson_largest_inner.off -o /NEURD_Chenlab/Applications/Senior_Design_Relevant_Files/12345/neuron_12345_decimated_largest_piece_poisson_largest_inner_decimated.off -s /NEURD_Chenlab/Applications/Senior_Design_Relevant_Files/12345/decimation_meshlab_25816501.mls\n",
      "\n",
      "-------Splits after inner decimation len = 1--------\n",
      "\n",
      "done exporting decimated mesh: neuron_12345_decimated_largest_piece_poisson_largest_inner.off\n",
      "\n",
      "    --- On segmentation loop 0 --\n",
      "largest_mesh_path_inner_decimated_clean = <trimesh.Trimesh(vertices.shape=(848, 3), faces.shape=(1696, 3), name=`neuron_12345_decimated_largest_piece_poisson_largest_inner_decimated.off`)>\n",
      "\n",
      "largest_mesh_path_inner_decimated_clean = <trimesh.Trimesh(vertices.shape=(848, 3), faces.shape=(1696, 3), name=`neuron_12345_decimated_largest_piece_poisson_largest_inner_decimated.off`)>\n",
      "soma_size_threshold = 562.5\n",
      "soma_size_threshold_max = 75000.0\n",
      "soma_width_threshold = 0.32\n",
      "\n",
      "Number of segments: 4\n",
      "\n",
      "      ------ Found 1 viable somas: [0.750514]\n",
      "Using Poisson Surface Reconstruction for watertightness in soma_volume_ratio\n",
      "xvfb-run -n 2470 -s \"-screen 0 800x600x24\" meshlabserver $@  -i /NEURD_Chenlab/Applications/Senior_Design_Relevant_Files/Poisson_temp/neuron_711636.off -o /NEURD_Chenlab/Applications/Senior_Design_Relevant_Files/Poisson_temp/neuron_711636_poisson.off -s /NEURD_Chenlab/Applications/Senior_Design_Relevant_Files/Poisson_temp/poisson_93478.mls\n",
      "removed temporary input file: /NEURD_Chenlab/Applications/Senior_Design_Relevant_Files/Poisson_temp/neuron_711636.off\n",
      "removed temporary output file: /NEURD_Chenlab/Applications/Senior_Design_Relevant_Files/Poisson_temp/neuron_711636_poisson.off\n",
      "mesh.is_watertight = True\n",
      "/NEURD_Chenlab/Applications/Senior_Design_Relevant_Files/Poisson_temp/poisson_93478.mls is being deleted....\n",
      "Inside sphere validater: ratio_val = 2.9368971842996063\n",
      "----- working on mesh after poisson #4: <trimesh.Trimesh(vertices.shape=(3296, 3), faces.shape=(6596, 3), name=`neuron_12345_decimated_largest_piece_poisson.off`)>\n",
      "xvfb-run -n 8542 -s \"-screen 0 800x600x24\" meshlabserver $@  -i /NEURD_Chenlab/Applications/Senior_Design_Relevant_Files/12345/neuron_12345_decimated_largest_piece_poisson_largest_inner.off -o /NEURD_Chenlab/Applications/Senior_Design_Relevant_Files/12345/neuron_12345_decimated_largest_piece_poisson_largest_inner_decimated.off -s /NEURD_Chenlab/Applications/Senior_Design_Relevant_Files/12345/decimation_meshlab_25816501.mls\n",
      "\n",
      "-------Splits after inner decimation len = 1--------\n",
      "\n",
      "done exporting decimated mesh: neuron_12345_decimated_largest_piece_poisson_largest_inner.off\n",
      "\n",
      "    --- On segmentation loop 0 --\n",
      "largest_mesh_path_inner_decimated_clean = <trimesh.Trimesh(vertices.shape=(822, 3), faces.shape=(1648, 3), name=`neuron_12345_decimated_largest_piece_poisson_largest_inner_decimated.off`)>\n",
      "\n",
      "largest_mesh_path_inner_decimated_clean = <trimesh.Trimesh(vertices.shape=(822, 3), faces.shape=(1648, 3), name=`neuron_12345_decimated_largest_piece_poisson_largest_inner_decimated.off`)>\n",
      "soma_size_threshold = 562.5\n",
      "soma_size_threshold_max = 75000.0\n",
      "soma_width_threshold = 0.32\n",
      "\n",
      "Number of segments: 5\n",
      "\n",
      "      ------ Found 1 viable somas: [0.438636]\n",
      "Using Poisson Surface Reconstruction for watertightness in soma_volume_ratio\n",
      "xvfb-run -n 2020 -s \"-screen 0 800x600x24\" meshlabserver $@  -i /NEURD_Chenlab/Applications/Senior_Design_Relevant_Files/Poisson_temp/neuron_4587.off -o /NEURD_Chenlab/Applications/Senior_Design_Relevant_Files/Poisson_temp/neuron_4587_poisson.off -s /NEURD_Chenlab/Applications/Senior_Design_Relevant_Files/Poisson_temp/poisson_806657.mls\n",
      "removed temporary input file: /NEURD_Chenlab/Applications/Senior_Design_Relevant_Files/Poisson_temp/neuron_4587.off\n",
      "removed temporary output file: /NEURD_Chenlab/Applications/Senior_Design_Relevant_Files/Poisson_temp/neuron_4587_poisson.off\n",
      "mesh.is_watertight = True\n",
      "/NEURD_Chenlab/Applications/Senior_Design_Relevant_Files/Poisson_temp/poisson_806657.mls is being deleted....\n",
      "Inside sphere validater: ratio_val = 8.488295269168887\n",
      "->Attempting retry of soma because failed first checks: soma_mesh = <trimesh.Trimesh(vertices.shape=(392, 3), faces.shape=(769, 3), name=`neuron_12345_decimated_largest_piece_poisson_largest_inner_decimated.off`)>, curr_side_len_check = True, curr_volume_check = False\n",
      "perc_0_faces = 0.0039011703511053317\n",
      "Going to run cgal segmentation with:\n",
      "File: /NEURD_Chenlab/Applications/Senior_Design_Relevant_Files/63_mesh \n",
      "clusters:3 \n",
      "smoothness:0.2\n",
      "\n",
      "Number of segments: 2\n",
      "\n",
      "mesh.is_watertight = True\n",
      "/NEURD_Chenlab/Applications/Senior_Design_Relevant_Files/Poisson_temp/poisson_275265.mls is being deleted....\n",
      "Inside sphere validater: ratio_val = 6.374611580920063\n",
      "----- working on mesh after poisson #5: <trimesh.Trimesh(vertices.shape=(2949, 3), faces.shape=(5910, 3), name=`neuron_12345_decimated_largest_piece_poisson.off`)>\n",
      "xvfb-run -n 416 -s \"-screen 0 800x600x24\" meshlabserver $@  -i /NEURD_Chenlab/Applications/Senior_Design_Relevant_Files/12345/neuron_12345_decimated_largest_piece_poisson_largest_inner.off -o /NEURD_Chenlab/Applications/Senior_Design_Relevant_Files/12345/neuron_12345_decimated_largest_piece_poisson_largest_inner_decimated.off -s /NEURD_Chenlab/Applications/Senior_Design_Relevant_Files/12345/decimation_meshlab_25816501.mls\n",
      "\n",
      "-------Splits after inner decimation len = 1--------\n",
      "\n",
      "done exporting decimated mesh: neuron_12345_decimated_largest_piece_poisson_largest_inner.off\n",
      "\n",
      "    --- On segmentation loop 0 --\n",
      "largest_mesh_path_inner_decimated_clean = <trimesh.Trimesh(vertices.shape=(732, 3), faces.shape=(1476, 3), name=`neuron_12345_decimated_largest_piece_poisson_largest_inner_decimated.off`)>\n",
      "\n",
      "largest_mesh_path_inner_decimated_clean = <trimesh.Trimesh(vertices.shape=(732, 3), faces.shape=(1476, 3), name=`neuron_12345_decimated_largest_piece_poisson_largest_inner_decimated.off`)>\n",
      "soma_size_threshold = 562.5\n",
      "soma_size_threshold_max = 75000.0\n",
      "soma_width_threshold = 0.32\n",
      "\n",
      "Number of segments: 2\n",
      "\n",
      "      ------ Found 1 viable somas: [0.5311965000000001]\n",
      "Using Poisson Surface Reconstruction for watertightness in soma_volume_ratio\n",
      "xvfb-run -n 2433 -s \"-screen 0 800x600x24\" meshlabserver $@  -i /NEURD_Chenlab/Applications/Senior_Design_Relevant_Files/Poisson_temp/neuron_437904.off -o /NEURD_Chenlab/Applications/Senior_Design_Relevant_Files/Poisson_temp/neuron_437904_poisson.off -s /NEURD_Chenlab/Applications/Senior_Design_Relevant_Files/Poisson_temp/poisson_224693.mls\n",
      "removed temporary input file: /NEURD_Chenlab/Applications/Senior_Design_Relevant_Files/Poisson_temp/neuron_437904.off\n",
      "removed temporary output file: /NEURD_Chenlab/Applications/Senior_Design_Relevant_Files/Poisson_temp/neuron_437904_poisson.off\n",
      "mesh.is_watertight = True\n",
      "/NEURD_Chenlab/Applications/Senior_Design_Relevant_Files/Poisson_temp/poisson_224693.mls is being deleted....\n",
      "Inside sphere validater: ratio_val = 4.540995469699511\n",
      "----- working on mesh after poisson #6: <trimesh.Trimesh(vertices.shape=(2618, 3), faces.shape=(5232, 3), name=`neuron_12345_decimated_largest_piece_poisson.off`)>\n",
      "xvfb-run -n 1208 -s \"-screen 0 800x600x24\" meshlabserver $@  -i /NEURD_Chenlab/Applications/Senior_Design_Relevant_Files/12345/neuron_12345_decimated_largest_piece_poisson_largest_inner.off -o /NEURD_Chenlab/Applications/Senior_Design_Relevant_Files/12345/neuron_12345_decimated_largest_piece_poisson_largest_inner_decimated.off -s /NEURD_Chenlab/Applications/Senior_Design_Relevant_Files/12345/decimation_meshlab_25816501.mls\n",
      "\n",
      "-------Splits after inner decimation len = 1--------\n",
      "\n",
      "done exporting decimated mesh: neuron_12345_decimated_largest_piece_poisson_largest_inner.off\n",
      "\n",
      "    --- On segmentation loop 0 --\n",
      "largest_mesh_path_inner_decimated_clean = <trimesh.Trimesh(vertices.shape=(656, 3), faces.shape=(1308, 3), name=`neuron_12345_decimated_largest_piece_poisson_largest_inner_decimated.off`)>\n",
      "\n",
      "largest_mesh_path_inner_decimated_clean = <trimesh.Trimesh(vertices.shape=(656, 3), faces.shape=(1308, 3), name=`neuron_12345_decimated_largest_piece_poisson_largest_inner_decimated.off`)>\n",
      "soma_size_threshold = 562.5\n",
      "soma_size_threshold_max = 75000.0\n",
      "soma_width_threshold = 0.32\n",
      "\n",
      "Number of segments: 6\n",
      "\n",
      "\n",
      "    --- On segmentation loop 1 --\n",
      "largest_mesh_path_inner_decimated_clean = <trimesh.Trimesh(vertices.shape=(212, 3), faces.shape=(410, 3), name=`neuron_12345_decimated_largest_piece_poisson_largest_inner_decimated.off`)>\n",
      "\n",
      "largest_mesh_path_inner_decimated_clean = <trimesh.Trimesh(vertices.shape=(212, 3), faces.shape=(410, 3), name=`neuron_12345_decimated_largest_piece_poisson_largest_inner_decimated.off`)>\n",
      "soma_size_threshold = 562.5\n",
      "soma_size_threshold_max = 75000.0\n",
      "soma_width_threshold = 0.32\n",
      "\n",
      "Number of segments: 2\n",
      "\n",
      "\n",
      "    --- On segmentation loop 2 --\n",
      "largest_mesh_path_inner_decimated_clean = <trimesh.Trimesh(vertices.shape=(148, 3), faces.shape=(277, 3), name=`neuron_12345_decimated_largest_piece_poisson_largest_inner_decimated.off`)>\n",
      "\n",
      "largest_mesh_path_inner_decimated_clean = <trimesh.Trimesh(vertices.shape=(148, 3), faces.shape=(277, 3), name=`neuron_12345_decimated_largest_piece_poisson_largest_inner_decimated.off`)>\n",
      "soma_size_threshold = 562.5\n",
      "soma_size_threshold_max = 75000.0\n",
      "soma_width_threshold = 0.32\n",
      "\n",
      "Number of segments: 1\n",
      "\n",
      "----- working on mesh after poisson #7: <trimesh.Trimesh(vertices.shape=(2433, 3), faces.shape=(4862, 3), name=`neuron_12345_decimated_largest_piece_poisson.off`)>\n",
      "xvfb-run -n 8557 -s \"-screen 0 800x600x24\" meshlabserver $@  -i /NEURD_Chenlab/Applications/Senior_Design_Relevant_Files/12345/neuron_12345_decimated_largest_piece_poisson_largest_inner.off -o /NEURD_Chenlab/Applications/Senior_Design_Relevant_Files/12345/neuron_12345_decimated_largest_piece_poisson_largest_inner_decimated.off -s /NEURD_Chenlab/Applications/Senior_Design_Relevant_Files/12345/decimation_meshlab_25816501.mls\n",
      "\n",
      "-------Splits after inner decimation len = 1--------\n",
      "\n",
      "done exporting decimated mesh: neuron_12345_decimated_largest_piece_poisson_largest_inner.off\n",
      "\n",
      "    --- On segmentation loop 0 --\n",
      "largest_mesh_path_inner_decimated_clean = <trimesh.Trimesh(vertices.shape=(609, 3), faces.shape=(1214, 3), name=`neuron_12345_decimated_largest_piece_poisson_largest_inner_decimated.off`)>\n",
      "\n",
      "largest_mesh_path_inner_decimated_clean = <trimesh.Trimesh(vertices.shape=(609, 3), faces.shape=(1214, 3), name=`neuron_12345_decimated_largest_piece_poisson_largest_inner_decimated.off`)>\n",
      "soma_size_threshold = 562.5\n",
      "soma_size_threshold_max = 75000.0\n",
      "soma_width_threshold = 0.32\n",
      "\n",
      "Number of segments: 3\n",
      "\n",
      "      ------ Found 1 viable somas: [0.42871800000000004]\n",
      "Using Poisson Surface Reconstruction for watertightness in soma_volume_ratio\n",
      "xvfb-run -n 6297 -s \"-screen 0 800x600x24\" meshlabserver $@  -i /NEURD_Chenlab/Applications/Senior_Design_Relevant_Files/Poisson_temp/neuron_949464.off -o /NEURD_Chenlab/Applications/Senior_Design_Relevant_Files/Poisson_temp/neuron_949464_poisson.off -s /NEURD_Chenlab/Applications/Senior_Design_Relevant_Files/Poisson_temp/poisson_86574.mls\n",
      "removed temporary input file: /NEURD_Chenlab/Applications/Senior_Design_Relevant_Files/Poisson_temp/neuron_949464.off\n",
      "removed temporary output file: /NEURD_Chenlab/Applications/Senior_Design_Relevant_Files/Poisson_temp/neuron_949464_poisson.off\n",
      "mesh.is_watertight = True\n",
      "/NEURD_Chenlab/Applications/Senior_Design_Relevant_Files/Poisson_temp/poisson_86574.mls is being deleted....\n",
      "Inside sphere validater: ratio_val = 12.25531623198249\n",
      "->Attempting retry of soma because failed first checks: soma_mesh = <trimesh.Trimesh(vertices.shape=(405, 3), faces.shape=(802, 3), name=`neuron_12345_decimated_largest_piece_poisson_largest_inner_decimated.off`)>, curr_side_len_check = True, curr_volume_check = False\n",
      "perc_0_faces = 0.0024937655860349127\n",
      "Going to run cgal segmentation with:\n",
      "File: /NEURD_Chenlab/Applications/Senior_Design_Relevant_Files/472_mesh \n",
      "clusters:3 \n",
      "smoothness:0.2\n",
      "\n",
      "Number of segments: 2\n",
      "\n",
      "Could not find valid soma mesh in retry\n",
      "----- working on mesh after poisson #8: <trimesh.Trimesh(vertices.shape=(2244, 3), faces.shape=(4484, 3), name=`neuron_12345_decimated_largest_piece_poisson.off`)>\n",
      "xvfb-run -n 3842 -s \"-screen 0 800x600x24\" meshlabserver $@  -i /NEURD_Chenlab/Applications/Senior_Design_Relevant_Files/12345/neuron_12345_decimated_largest_piece_poisson_largest_inner.off -o /NEURD_Chenlab/Applications/Senior_Design_Relevant_Files/12345/neuron_12345_decimated_largest_piece_poisson_largest_inner_decimated.off -s /NEURD_Chenlab/Applications/Senior_Design_Relevant_Files/12345/decimation_meshlab_25816501.mls\n",
      "\n",
      "-------Splits after inner decimation len = 1--------\n",
      "\n",
      "done exporting decimated mesh: neuron_12345_decimated_largest_piece_poisson_largest_inner.off\n",
      "\n",
      "    --- On segmentation loop 0 --\n",
      "largest_mesh_path_inner_decimated_clean = <trimesh.Trimesh(vertices.shape=(562, 3), faces.shape=(1120, 3), name=`neuron_12345_decimated_largest_piece_poisson_largest_inner_decimated.off`)>\n",
      "\n",
      "largest_mesh_path_inner_decimated_clean = <trimesh.Trimesh(vertices.shape=(562, 3), faces.shape=(1120, 3), name=`neuron_12345_decimated_largest_piece_poisson_largest_inner_decimated.off`)>\n",
      "soma_size_threshold = 562.5\n",
      "soma_size_threshold_max = 75000.0\n",
      "soma_width_threshold = 0.32\n",
      "\n",
      "Number of segments: 4\n",
      "\n",
      "\n",
      "    --- On segmentation loop 1 --\n",
      "largest_mesh_path_inner_decimated_clean = <trimesh.Trimesh(vertices.shape=(246, 3), faces.shape=(485, 3), name=`neuron_12345_decimated_largest_piece_poisson_largest_inner_decimated.off`)>\n",
      "\n",
      "largest_mesh_path_inner_decimated_clean = <trimesh.Trimesh(vertices.shape=(246, 3), faces.shape=(485, 3), name=`neuron_12345_decimated_largest_piece_poisson_largest_inner_decimated.off`)>\n",
      "soma_size_threshold = 562.5\n",
      "soma_size_threshold_max = 75000.0\n",
      "soma_width_threshold = 0.32\n",
      "\n",
      "Number of segments: 3\n",
      "\n",
      "\n",
      "    --- On segmentation loop 2 --\n",
      "largest_mesh_path_inner_decimated_clean = <trimesh.Trimesh(vertices.shape=(202, 3), faces.shape=(395, 3), name=`neuron_12345_decimated_largest_piece_poisson_largest_inner_decimated.off`)>\n",
      "\n",
      "largest_mesh_path_inner_decimated_clean = <trimesh.Trimesh(vertices.shape=(202, 3), faces.shape=(395, 3), name=`neuron_12345_decimated_largest_piece_poisson_largest_inner_decimated.off`)>\n",
      "soma_size_threshold = 562.5\n",
      "soma_size_threshold_max = 75000.0\n",
      "soma_width_threshold = 0.32\n",
      "\n",
      "Number of segments: 1\n",
      "\n",
      "----- working on mesh after poisson #9: <trimesh.Trimesh(vertices.shape=(2185, 3), faces.shape=(4366, 3), name=`neuron_12345_decimated_largest_piece_poisson.off`)>\n",
      "xvfb-run -n 2419 -s \"-screen 0 800x600x24\" meshlabserver $@  -i /NEURD_Chenlab/Applications/Senior_Design_Relevant_Files/12345/neuron_12345_decimated_largest_piece_poisson_largest_inner.off -o /NEURD_Chenlab/Applications/Senior_Design_Relevant_Files/12345/neuron_12345_decimated_largest_piece_poisson_largest_inner_decimated.off -s /NEURD_Chenlab/Applications/Senior_Design_Relevant_Files/12345/decimation_meshlab_25816501.mls\n",
      "\n",
      "-------Splits after inner decimation len = 1--------\n",
      "\n",
      "done exporting decimated mesh: neuron_12345_decimated_largest_piece_poisson_largest_inner.off\n",
      "\n",
      "    --- On segmentation loop 0 --\n",
      "largest_mesh_path_inner_decimated_clean = <trimesh.Trimesh(vertices.shape=(547, 3), faces.shape=(1090, 3), name=`neuron_12345_decimated_largest_piece_poisson_largest_inner_decimated.off`)>\n",
      "\n",
      "largest_mesh_path_inner_decimated_clean = <trimesh.Trimesh(vertices.shape=(547, 3), faces.shape=(1090, 3), name=`neuron_12345_decimated_largest_piece_poisson_largest_inner_decimated.off`)>\n",
      "soma_size_threshold = 562.5\n",
      "soma_size_threshold_max = 75000.0\n",
      "soma_width_threshold = 0.32\n",
      "\n",
      "Number of segments: 4\n",
      "\n",
      "      ------ Found 1 viable somas: [0.7517039999999999]\n",
      "Using Poisson Surface Reconstruction for watertightness in soma_volume_ratio\n",
      "xvfb-run -n 9493 -s \"-screen 0 800x600x24\" meshlabserver $@  -i /NEURD_Chenlab/Applications/Senior_Design_Relevant_Files/Poisson_temp/neuron_147143.off -o /NEURD_Chenlab/Applications/Senior_Design_Relevant_Files/Poisson_temp/neuron_147143_poisson.off -s /NEURD_Chenlab/Applications/Senior_Design_Relevant_Files/Poisson_temp/poisson_903111.mls\n",
      "removed temporary input file: /NEURD_Chenlab/Applications/Senior_Design_Relevant_Files/Poisson_temp/neuron_147143.off\n",
      "removed temporary output file: /NEURD_Chenlab/Applications/Senior_Design_Relevant_Files/Poisson_temp/neuron_147143_poisson.off\n",
      "mesh.is_watertight = True\n",
      "/NEURD_Chenlab/Applications/Senior_Design_Relevant_Files/Poisson_temp/poisson_903111.mls is being deleted....\n",
      "Inside sphere validater: ratio_val = 5.328501225365536\n",
      "----- working on mesh after poisson #10: <trimesh.Trimesh(vertices.shape=(2090, 3), faces.shape=(4184, 3), name=`neuron_12345_decimated_largest_piece_poisson.off`)>\n",
      "xvfb-run -n 2293 -s \"-screen 0 800x600x24\" meshlabserver $@  -i /NEURD_Chenlab/Applications/Senior_Design_Relevant_Files/12345/neuron_12345_decimated_largest_piece_poisson_largest_inner.off -o /NEURD_Chenlab/Applications/Senior_Design_Relevant_Files/12345/neuron_12345_decimated_largest_piece_poisson_largest_inner_decimated.off -s /NEURD_Chenlab/Applications/Senior_Design_Relevant_Files/12345/decimation_meshlab_25816501.mls\n",
      "\n",
      "-------Splits after inner decimation len = 1--------\n",
      "\n",
      "done exporting decimated mesh: neuron_12345_decimated_largest_piece_poisson_largest_inner.off\n",
      "\n",
      "    --- On segmentation loop 0 --\n",
      "largest_mesh_path_inner_decimated_clean = <trimesh.Trimesh(vertices.shape=(521, 3), faces.shape=(1046, 3), name=`neuron_12345_decimated_largest_piece_poisson_largest_inner_decimated.off`)>\n",
      "\n",
      "largest_mesh_path_inner_decimated_clean = <trimesh.Trimesh(vertices.shape=(521, 3), faces.shape=(1046, 3), name=`neuron_12345_decimated_largest_piece_poisson_largest_inner_decimated.off`)>\n",
      "soma_size_threshold = 562.5\n",
      "soma_size_threshold_max = 75000.0\n",
      "soma_width_threshold = 0.32\n",
      "\n",
      "Number of segments: 3\n",
      "\n",
      "      ------ Found 1 viable somas: [0.813753]\n",
      "Using Poisson Surface Reconstruction for watertightness in soma_volume_ratio\n",
      "xvfb-run -n 8455 -s \"-screen 0 800x600x24\" meshlabserver $@  -i /NEURD_Chenlab/Applications/Senior_Design_Relevant_Files/Poisson_temp/neuron_823203.off -o /NEURD_Chenlab/Applications/Senior_Design_Relevant_Files/Poisson_temp/neuron_823203_poisson.off -s /NEURD_Chenlab/Applications/Senior_Design_Relevant_Files/Poisson_temp/poisson_101098.mls\n",
      "removed temporary input file: /NEURD_Chenlab/Applications/Senior_Design_Relevant_Files/Poisson_temp/neuron_823203.off\n",
      "removed temporary output file: /NEURD_Chenlab/Applications/Senior_Design_Relevant_Files/Poisson_temp/neuron_823203_poisson.off\n",
      "mesh.is_watertight = True\n",
      "/NEURD_Chenlab/Applications/Senior_Design_Relevant_Files/Poisson_temp/poisson_101098.mls is being deleted....\n",
      "Inside sphere validater: ratio_val = 2.358529572849983\n",
      "----- working on mesh after poisson #11: <trimesh.Trimesh(vertices.shape=(2012, 3), faces.shape=(4024, 3), name=`neuron_12345_decimated_largest_piece_poisson.off`)>\n",
      "xvfb-run -n 5752 -s \"-screen 0 800x600x24\" meshlabserver $@  -i /NEURD_Chenlab/Applications/Senior_Design_Relevant_Files/12345/neuron_12345_decimated_largest_piece_poisson_largest_inner.off -o /NEURD_Chenlab/Applications/Senior_Design_Relevant_Files/12345/neuron_12345_decimated_largest_piece_poisson_largest_inner_decimated.off -s /NEURD_Chenlab/Applications/Senior_Design_Relevant_Files/12345/decimation_meshlab_25816501.mls\n",
      "\n",
      "-------Splits after inner decimation len = 1--------\n",
      "\n",
      "done exporting decimated mesh: neuron_12345_decimated_largest_piece_poisson_largest_inner.off\n",
      "\n",
      "    --- On segmentation loop 0 --\n",
      "largest_mesh_path_inner_decimated_clean = <trimesh.Trimesh(vertices.shape=(503, 3), faces.shape=(1006, 3), name=`neuron_12345_decimated_largest_piece_poisson_largest_inner_decimated.off`)>\n",
      "\n",
      "largest_mesh_path_inner_decimated_clean = <trimesh.Trimesh(vertices.shape=(503, 3), faces.shape=(1006, 3), name=`neuron_12345_decimated_largest_piece_poisson_largest_inner_decimated.off`)>\n",
      "soma_size_threshold = 562.5\n",
      "soma_size_threshold_max = 75000.0\n",
      "soma_width_threshold = 0.32\n",
      "\n",
      "Number of segments: 4\n",
      "\n",
      "      ------ Found 1 viable somas: [0.678756]\n",
      "Using Poisson Surface Reconstruction for watertightness in soma_volume_ratio\n",
      "xvfb-run -n 9566 -s \"-screen 0 800x600x24\" meshlabserver $@  -i /NEURD_Chenlab/Applications/Senior_Design_Relevant_Files/Poisson_temp/neuron_797871.off -o /NEURD_Chenlab/Applications/Senior_Design_Relevant_Files/Poisson_temp/neuron_797871_poisson.off -s /NEURD_Chenlab/Applications/Senior_Design_Relevant_Files/Poisson_temp/poisson_329803.mls\n",
      "removed temporary input file: /NEURD_Chenlab/Applications/Senior_Design_Relevant_Files/Poisson_temp/neuron_797871.off\n",
      "removed temporary output file: /NEURD_Chenlab/Applications/Senior_Design_Relevant_Files/Poisson_temp/neuron_797871_poisson.off\n",
      "mesh.is_watertight = True\n",
      "/NEURD_Chenlab/Applications/Senior_Design_Relevant_Files/Poisson_temp/poisson_329803.mls is being deleted....\n",
      "Inside sphere validater: ratio_val = 4.4048264119519045\n",
      "----- working on mesh after poisson #12: <trimesh.Trimesh(vertices.shape=(1982, 3), faces.shape=(3968, 3), name=`neuron_12345_decimated_largest_piece_poisson.off`)>\n",
      "xvfb-run -n 1348 -s \"-screen 0 800x600x24\" meshlabserver $@  -i /NEURD_Chenlab/Applications/Senior_Design_Relevant_Files/12345/neuron_12345_decimated_largest_piece_poisson_largest_inner.off -o /NEURD_Chenlab/Applications/Senior_Design_Relevant_Files/12345/neuron_12345_decimated_largest_piece_poisson_largest_inner_decimated.off -s /NEURD_Chenlab/Applications/Senior_Design_Relevant_Files/12345/decimation_meshlab_25816501.mls\n",
      "\n",
      "-------Splits after inner decimation len = 1--------\n",
      "\n",
      "done exporting decimated mesh: neuron_12345_decimated_largest_piece_poisson_largest_inner.off\n",
      "\n",
      "    --- On segmentation loop 0 --\n",
      "largest_mesh_path_inner_decimated_clean = <trimesh.Trimesh(vertices.shape=(494, 3), faces.shape=(992, 3), name=`neuron_12345_decimated_largest_piece_poisson_largest_inner_decimated.off`)>\n",
      "\n",
      "largest_mesh_path_inner_decimated_clean = <trimesh.Trimesh(vertices.shape=(494, 3), faces.shape=(992, 3), name=`neuron_12345_decimated_largest_piece_poisson_largest_inner_decimated.off`)>\n",
      "soma_size_threshold = 562.5\n",
      "soma_size_threshold_max = 75000.0\n",
      "soma_width_threshold = 0.32\n",
      "\n",
      "Number of segments: 3\n",
      "\n",
      "\n",
      "    --- On segmentation loop 1 --\n",
      "largest_mesh_path_inner_decimated_clean = <trimesh.Trimesh(vertices.shape=(266, 3), faces.shape=(526, 3), name=`neuron_12345_decimated_largest_piece_poisson_largest_inner_decimated.off`)>\n",
      "\n",
      "largest_mesh_path_inner_decimated_clean = <trimesh.Trimesh(vertices.shape=(266, 3), faces.shape=(526, 3), name=`neuron_12345_decimated_largest_piece_poisson_largest_inner_decimated.off`)>\n",
      "soma_size_threshold = 562.5\n",
      "soma_size_threshold_max = 75000.0\n",
      "soma_width_threshold = 0.32\n",
      "\n",
      "Number of segments: 1\n",
      "\n",
      "\n",
      "    --- On segmentation loop 2 --\n",
      "largest_mesh_path_inner_decimated_clean = <trimesh.Trimesh(vertices.shape=(266, 3), faces.shape=(526, 3), name=`neuron_12345_decimated_largest_piece_poisson_largest_inner_decimated.off`)>\n",
      "\n",
      "largest_mesh_path_inner_decimated_clean = <trimesh.Trimesh(vertices.shape=(266, 3), faces.shape=(526, 3), name=`neuron_12345_decimated_largest_piece_poisson_largest_inner_decimated.off`)>\n",
      "soma_size_threshold = 562.5\n",
      "soma_size_threshold_max = 75000.0\n",
      "soma_width_threshold = 0.32\n",
      "\n",
      "Number of segments: 1\n",
      "\n",
      "----- working on mesh after poisson #13: <trimesh.Trimesh(vertices.shape=(1818, 3), faces.shape=(3632, 3), name=`neuron_12345_decimated_largest_piece_poisson.off`)>\n",
      "xvfb-run -n 6252 -s \"-screen 0 800x600x24\" meshlabserver $@  -i /NEURD_Chenlab/Applications/Senior_Design_Relevant_Files/12345/neuron_12345_decimated_largest_piece_poisson_largest_inner.off -o /NEURD_Chenlab/Applications/Senior_Design_Relevant_Files/12345/neuron_12345_decimated_largest_piece_poisson_largest_inner_decimated.off -s /NEURD_Chenlab/Applications/Senior_Design_Relevant_Files/12345/decimation_meshlab_25816501.mls\n",
      "\n",
      "-------Splits after inner decimation len = 1--------\n",
      "\n",
      "done exporting decimated mesh: neuron_12345_decimated_largest_piece_poisson_largest_inner.off\n",
      "\n",
      "    --- On segmentation loop 0 --\n",
      "largest_mesh_path_inner_decimated_clean = <trimesh.Trimesh(vertices.shape=(456, 3), faces.shape=(908, 3), name=`neuron_12345_decimated_largest_piece_poisson_largest_inner_decimated.off`)>\n",
      "\n",
      "largest_mesh_path_inner_decimated_clean = <trimesh.Trimesh(vertices.shape=(456, 3), faces.shape=(908, 3), name=`neuron_12345_decimated_largest_piece_poisson_largest_inner_decimated.off`)>\n",
      "soma_size_threshold = 562.5\n",
      "soma_size_threshold_max = 75000.0\n",
      "soma_width_threshold = 0.32\n",
      "\n",
      "Number of segments: 4\n",
      "\n",
      "\n",
      "    --- On segmentation loop 1 --\n",
      "largest_mesh_path_inner_decimated_clean = <trimesh.Trimesh(vertices.shape=(215, 3), faces.shape=(413, 3), name=`neuron_12345_decimated_largest_piece_poisson_largest_inner_decimated.off`)>\n",
      "\n",
      "largest_mesh_path_inner_decimated_clean = <trimesh.Trimesh(vertices.shape=(215, 3), faces.shape=(413, 3), name=`neuron_12345_decimated_largest_piece_poisson_largest_inner_decimated.off`)>\n",
      "soma_size_threshold = 562.5\n",
      "soma_size_threshold_max = 75000.0\n",
      "soma_width_threshold = 0.32\n",
      "\n",
      "Number of segments: 1\n",
      "\n",
      "\n",
      "    --- On segmentation loop 2 --\n",
      "largest_mesh_path_inner_decimated_clean = <trimesh.Trimesh(vertices.shape=(215, 3), faces.shape=(413, 3), name=`neuron_12345_decimated_largest_piece_poisson_largest_inner_decimated.off`)>\n",
      "\n",
      "largest_mesh_path_inner_decimated_clean = <trimesh.Trimesh(vertices.shape=(215, 3), faces.shape=(413, 3), name=`neuron_12345_decimated_largest_piece_poisson_largest_inner_decimated.off`)>\n",
      "soma_size_threshold = 562.5\n",
      "soma_size_threshold_max = 75000.0\n",
      "soma_width_threshold = 0.32\n",
      "\n",
      "Number of segments: 1\n",
      "\n",
      "\n",
      "\n",
      "\n",
      " Total time for run = 136.0718550682068\n",
      "Before Filtering the number of somas found = 9\n",
      "\n",
      "---Performing Soma Mesh Backtracking to original mesh for poisson soma 0\n",
      "backtrack_soma_size_threshold = 8000\n",
      "xvfb-run -n 2417 -s \"-screen 0 800x600x24\" meshlabserver $@  -i /NEURD_Chenlab/Applications/Senior_Design_Relevant_Files/temp/neuron_82461.off -o /NEURD_Chenlab/Applications/Senior_Design_Relevant_Files/temp/neuron_82461_fill_holes.off -s /NEURD_Chenlab/Applications/Senior_Design_Relevant_Files/temp/fill_holes_806442.mls\n",
      "\n",
      "---- meshlab output -----\n",
      "QStandardPaths: XDG_RUNTIME_DIR not set, defaulting to '/tmp/runtime-root'\n",
      "Current Plugins Dir is: /meshlab/src/distrib/plugins \n",
      "Error While parsing the XML filter plugin descriptors: We are trying to load a xml file that does not correspond to any dll or javascript code; please delete all the spurious xml files\n",
      "Error While parsing the XML filter plugin descriptors: We are trying to load a xml file that does not correspond to any dll or javascript code; please delete all the spurious xml files\n",
      "Opening a file with extention off\n",
      "FilterScript\n",
      "Reading filter with name Remove Duplicate Vertices\n",
      "Reading filter with name Remove Faces from Non Manifold Edges\n",
      "Reading filter with name Close Holes\n",
      "    Reading Param with name MaxHoleSize : RichInt\n",
      "    Reading Param with name Selected : RichBool\n",
      "    Reading Param with name NewFaceSelected : RichBool\n",
      "    Reading Param with name SelfIntersection : RichBool\n",
      "Loading Plugins:\n",
      "Total 105 filtering actions\n",
      "Total 1 io plugins\n",
      "Mesh /NEURD_Chenlab/Applications/Senior_Design_Relevant_Files/temp/neuron_82461.off loaded has 43088 vn 88919 fn\n",
      "output mesh  /NEURD_Chenlab/Applications/Senior_Design_Relevant_Files/temp/neuron_82461_fill_holes.off\n",
      "Apply FilterScript: '/NEURD_Chenlab/Applications/Senior_Design_Relevant_Files/temp/fill_holes_806442.mls'\n",
      "Starting Script of 3 actionsfilter: Remove Duplicate Vertices\n",
      "no additional memory available!!! memory required: 2101140\n",
      "LOG: 2 Removed 0 duplicated vertices\n",
      "Removed 0 duplicated vertices\n",
      "filter: Remove Faces from Non Manifold Edges\n",
      "no additional memory available!!! memory required: 2101140\n",
      "LOG: 2 Successfully removed 10750 non-manifold faces\n",
      "Removed 0 duplicated vertices\n",
      "Successfully removed 10750 non-manifold faces\n",
      "filter: Close Holes\n",
      "no additional memory available!!! memory required: 1972140\n",
      "meshlabserver: ../../../../vcglib/vcg/complex/algorithms/hole.h:259: bool vcg::tri::TrivialEar<MESH>::Close(vcg::tri::TrivialEar<MESH>::PosType&, vcg::tri::TrivialEar<MESH>::PosType&, vcg::tri::TrivialEar<MESH>::FaceType*) [with MESH = CMeshO; vcg::tri::TrivialEar<MESH>::PosType = vcg::face::Pos<CFaceO>; typename MeshType::FaceType = CFaceO; vcg::tri::TrivialEar<MESH>::FaceType = CFaceO]: Assertion `e1.v->IsUserBit(NonManifoldBit())' failed.\n",
      "Aborted (core dumped)\n",
      "\n",
      "\n",
      " returncode ====== 134\n",
      "\n",
      " ------ Done with meshlab output------\n",
      "/NEURD_Chenlab/Applications/Senior_Design_Relevant_Files/temp/fill_holes_806442.mls is being deleted....\n",
      "The hole closing did not work so continuing without\n",
      "xvfb-run -n 5020 -s \"-screen 0 800x600x24\" meshlabserver $@  -i /NEURD_Chenlab/Applications/Senior_Design_Relevant_Files/temp/neuron_68877.off -o /NEURD_Chenlab/Applications/Senior_Design_Relevant_Files/temp/neuron_68877_remove_interior.off -s /NEURD_Chenlab/Applications/Senior_Design_Relevant_Files/temp/remove_interior_773331.mls\n",
      "removed temporary input file: /NEURD_Chenlab/Applications/Senior_Design_Relevant_Files/temp/neuron_68877.off\n",
      "removed temporary output file: /NEURD_Chenlab/Applications/Senior_Design_Relevant_Files/temp/neuron_68877_remove_interior.off\n",
      "/NEURD_Chenlab/Applications/Senior_Design_Relevant_Files/temp/remove_interior_773331.mls is being deleted....\n",
      "Removing the following inside neurons: [<trimesh.Trimesh(vertices.shape=(6382, 3), faces.shape=(15760, 3), name=`neuron_68877_remove_interior.off`)>, <trimesh.Trimesh(vertices.shape=(825, 3), faces.shape=(1476, 3), name=`neuron_68877_remove_interior.off`)>, <trimesh.Trimesh(vertices.shape=(399, 3), faces.shape=(998, 3), name=`neuron_68877_remove_interior.off`)>, <trimesh.Trimesh(vertices.shape=(281, 3), faces.shape=(629, 3), name=`neuron_68877_remove_interior.off`)>, <trimesh.Trimesh(vertices.shape=(151, 3), faces.shape=(358, 3), name=`neuron_68877_remove_interior.off`)>, <trimesh.Trimesh(vertices.shape=(142, 3), faces.shape=(325, 3), name=`neuron_68877_remove_interior.off`)>]\n",
      "split_meshes_after_backtrack = []\n",
      "soma_size_threshold = 8000\n",
      "--->This soma mesh was not added because Was not able to backtrack soma to mesh\n",
      "\n",
      "---Performing Soma Mesh Backtracking to original mesh for poisson soma 1\n",
      "backtrack_soma_size_threshold = 8000\n",
      "xvfb-run -n 1391 -s \"-screen 0 800x600x24\" meshlabserver $@  -i /NEURD_Chenlab/Applications/Senior_Design_Relevant_Files/temp/neuron_96315.off -o /NEURD_Chenlab/Applications/Senior_Design_Relevant_Files/temp/neuron_96315_fill_holes.off -s /NEURD_Chenlab/Applications/Senior_Design_Relevant_Files/temp/fill_holes_598221.mls\n",
      "removed temporary input file: /NEURD_Chenlab/Applications/Senior_Design_Relevant_Files/temp/neuron_96315.off\n",
      "removed temporary output file: /NEURD_Chenlab/Applications/Senior_Design_Relevant_Files/temp/neuron_96315_fill_holes.off\n",
      "/NEURD_Chenlab/Applications/Senior_Design_Relevant_Files/temp/fill_holes_598221.mls is being deleted....\n",
      "xvfb-run -n 5665 -s \"-screen 0 800x600x24\" meshlabserver $@  -i /NEURD_Chenlab/Applications/Senior_Design_Relevant_Files/temp/neuron_53254.off -o /NEURD_Chenlab/Applications/Senior_Design_Relevant_Files/temp/neuron_53254_remove_interior.off -s /NEURD_Chenlab/Applications/Senior_Design_Relevant_Files/temp/remove_interior_641451.mls\n",
      "removed temporary input file: /NEURD_Chenlab/Applications/Senior_Design_Relevant_Files/temp/neuron_53254.off\n",
      "removed temporary output file: /NEURD_Chenlab/Applications/Senior_Design_Relevant_Files/temp/neuron_53254_remove_interior.off\n",
      "/NEURD_Chenlab/Applications/Senior_Design_Relevant_Files/temp/remove_interior_641451.mls is being deleted....\n",
      "No significant (300) interior meshes present\n",
      "largest is 6\n",
      "split_meshes_after_backtrack = []\n",
      "soma_size_threshold = 8000\n",
      "--->This soma mesh was not added because Was not able to backtrack soma to mesh\n",
      "\n",
      "---Performing Soma Mesh Backtracking to original mesh for poisson soma 2\n",
      "backtrack_soma_size_threshold = 8000\n",
      "xvfb-run -n 9136 -s \"-screen 0 800x600x24\" meshlabserver $@  -i /NEURD_Chenlab/Applications/Senior_Design_Relevant_Files/temp/neuron_72979.off -o /NEURD_Chenlab/Applications/Senior_Design_Relevant_Files/temp/neuron_72979_fill_holes.off -s /NEURD_Chenlab/Applications/Senior_Design_Relevant_Files/temp/fill_holes_317758.mls\n",
      "removed temporary input file: /NEURD_Chenlab/Applications/Senior_Design_Relevant_Files/temp/neuron_72979.off\n",
      "removed temporary output file: /NEURD_Chenlab/Applications/Senior_Design_Relevant_Files/temp/neuron_72979_fill_holes.off\n",
      "/NEURD_Chenlab/Applications/Senior_Design_Relevant_Files/temp/fill_holes_317758.mls is being deleted....\n",
      "xvfb-run -n 3100 -s \"-screen 0 800x600x24\" meshlabserver $@  -i /NEURD_Chenlab/Applications/Senior_Design_Relevant_Files/temp/neuron_25123.off -o /NEURD_Chenlab/Applications/Senior_Design_Relevant_Files/temp/neuron_25123_remove_interior.off -s /NEURD_Chenlab/Applications/Senior_Design_Relevant_Files/temp/remove_interior_920877.mls\n",
      "removed temporary input file: /NEURD_Chenlab/Applications/Senior_Design_Relevant_Files/temp/neuron_25123.off\n",
      "removed temporary output file: /NEURD_Chenlab/Applications/Senior_Design_Relevant_Files/temp/neuron_25123_remove_interior.off\n",
      "/NEURD_Chenlab/Applications/Senior_Design_Relevant_Files/temp/remove_interior_920877.mls is being deleted....\n",
      "No significant (300) interior meshes present\n",
      "largest is 3\n",
      "split_meshes_after_backtrack = [<trimesh.Trimesh(vertices.shape=(820, 3), faces.shape=(1611, 3))>]\n",
      "soma_size_threshold = 8000\n",
      "After backtrack the found 0 possible somas: [] \n",
      "\n",
      "---Performing Soma Mesh Backtracking to original mesh for poisson soma 3\n",
      "backtrack_soma_size_threshold = 8000\n",
      "xvfb-run -n 6489 -s \"-screen 0 800x600x24\" meshlabserver $@  -i /NEURD_Chenlab/Applications/Senior_Design_Relevant_Files/temp/neuron_44530.off -o /NEURD_Chenlab/Applications/Senior_Design_Relevant_Files/temp/neuron_44530_fill_holes.off -s /NEURD_Chenlab/Applications/Senior_Design_Relevant_Files/temp/fill_holes_32767.mls\n",
      "\n",
      "---- meshlab output -----\n",
      "QStandardPaths: XDG_RUNTIME_DIR not set, defaulting to '/tmp/runtime-root'\n",
      "Current Plugins Dir is: /meshlab/src/distrib/plugins \n",
      "Error While parsing the XML filter plugin descriptors: We are trying to load a xml file that does not correspond to any dll or javascript code; please delete all the spurious xml files\n",
      "Error While parsing the XML filter plugin descriptors: We are trying to load a xml file that does not correspond to any dll or javascript code; please delete all the spurious xml files\n",
      "Opening a file with extention off\n",
      "FilterScript\n",
      "Reading filter with name Remove Duplicate Vertices\n",
      "Reading filter with name Remove Faces from Non Manifold Edges\n",
      "Reading filter with name Close Holes\n",
      "    Reading Param with name MaxHoleSize : RichInt\n",
      "    Reading Param with name Selected : RichBool\n",
      "    Reading Param with name NewFaceSelected : RichBool\n",
      "    Reading Param with name SelfIntersection : RichBool\n",
      "Loading Plugins:\n",
      "Total 105 filtering actions\n",
      "Total 1 io plugins\n",
      "Mesh /NEURD_Chenlab/Applications/Senior_Design_Relevant_Files/temp/neuron_44530.off loaded has 17259 vn 38263 fn\n",
      "output mesh  /NEURD_Chenlab/Applications/Senior_Design_Relevant_Files/temp/neuron_44530_fill_holes.off\n",
      "Apply FilterScript: '/NEURD_Chenlab/Applications/Senior_Design_Relevant_Files/temp/fill_holes_32767.mls'\n",
      "Starting Script of 3 actionsfilter: Remove Duplicate Vertices\n",
      "no additional memory available!!! memory required: 873372\n",
      "LOG: 2 Removed 0 duplicated vertices\n",
      "Removed 0 duplicated vertices\n",
      "filter: Remove Faces from Non Manifold Edges\n",
      "no additional memory available!!! memory required: 873372\n",
      "LOG: 2 Successfully removed 10728 non-manifold faces\n",
      "Removed 0 duplicated vertices\n",
      "Successfully removed 10728 non-manifold faces\n",
      "filter: Close Holes\n",
      "no additional memory available!!! memory required: 744636\n",
      "meshlabserver: ../../../../vcglib/vcg/complex/algorithms/hole.h:259: bool vcg::tri::TrivialEar<MESH>::Close(vcg::tri::TrivialEar<MESH>::PosType&, vcg::tri::TrivialEar<MESH>::PosType&, vcg::tri::TrivialEar<MESH>::FaceType*) [with MESH = CMeshO; vcg::tri::TrivialEar<MESH>::PosType = vcg::face::Pos<CFaceO>; typename MeshType::FaceType = CFaceO; vcg::tri::TrivialEar<MESH>::FaceType = CFaceO]: Assertion `e1.v->IsUserBit(NonManifoldBit())' failed.\n",
      "Aborted (core dumped)\n",
      "\n",
      "\n",
      " returncode ====== 134\n",
      "\n",
      " ------ Done with meshlab output------\n",
      "/NEURD_Chenlab/Applications/Senior_Design_Relevant_Files/temp/fill_holes_32767.mls is being deleted....\n",
      "The hole closing did not work so continuing without\n",
      "xvfb-run -n 9860 -s \"-screen 0 800x600x24\" meshlabserver $@  -i /NEURD_Chenlab/Applications/Senior_Design_Relevant_Files/temp/neuron_90515.off -o /NEURD_Chenlab/Applications/Senior_Design_Relevant_Files/temp/neuron_90515_remove_interior.off -s /NEURD_Chenlab/Applications/Senior_Design_Relevant_Files/temp/remove_interior_815663.mls\n",
      "removed temporary input file: /NEURD_Chenlab/Applications/Senior_Design_Relevant_Files/temp/neuron_90515.off\n",
      "removed temporary output file: /NEURD_Chenlab/Applications/Senior_Design_Relevant_Files/temp/neuron_90515_remove_interior.off\n",
      "/NEURD_Chenlab/Applications/Senior_Design_Relevant_Files/temp/remove_interior_815663.mls is being deleted....\n",
      "Removing the following inside neurons: [<trimesh.Trimesh(vertices.shape=(6396, 3), faces.shape=(15797, 3), name=`neuron_90515_remove_interior.off`)>, <trimesh.Trimesh(vertices.shape=(1967, 3), faces.shape=(3887, 3), name=`neuron_90515_remove_interior.off`)>, <trimesh.Trimesh(vertices.shape=(399, 3), faces.shape=(998, 3), name=`neuron_90515_remove_interior.off`)>, <trimesh.Trimesh(vertices.shape=(151, 3), faces.shape=(358, 3), name=`neuron_90515_remove_interior.off`)>, <trimesh.Trimesh(vertices.shape=(142, 3), faces.shape=(325, 3), name=`neuron_90515_remove_interior.off`)>]\n",
      "split_meshes_after_backtrack = [<trimesh.Trimesh(vertices.shape=(4382, 3), faces.shape=(9155, 3))>]\n",
      "soma_size_threshold = 8000\n",
      "After backtrack the found 1 possible somas: [<trimesh.Trimesh(vertices.shape=(4382, 3), faces.shape=(9155, 3))>] \n",
      "\n",
      "--- working on backtrack soma 0: <trimesh.Trimesh(vertices.shape=(4382, 3), faces.shape=(9155, 3))>\n",
      "poisson_backtrack_distance_threshold = None\n",
      "Using Poisson Surface Reconstruction for watertightness in soma_volume_ratio\n",
      "xvfb-run -n 5388 -s \"-screen 0 800x600x24\" meshlabserver $@  -i /NEURD_Chenlab/Applications/Senior_Design_Relevant_Files/Poisson_temp/neuron_922901.off -o /NEURD_Chenlab/Applications/Senior_Design_Relevant_Files/Poisson_temp/neuron_922901_poisson.off -s /NEURD_Chenlab/Applications/Senior_Design_Relevant_Files/Poisson_temp/poisson_899268.mls\n",
      "removed temporary input file: /NEURD_Chenlab/Applications/Senior_Design_Relevant_Files/Poisson_temp/neuron_922901.off\n",
      "removed temporary output file: /NEURD_Chenlab/Applications/Senior_Design_Relevant_Files/Poisson_temp/neuron_922901_poisson.off\n",
      "mesh.is_watertight = True\n",
      "/NEURD_Chenlab/Applications/Senior_Design_Relevant_Files/Poisson_temp/poisson_899268.mls is being deleted....\n",
      "Inside sphere validater: ratio_val = 4.529546907792891\n",
      "About to add the following inside nuclei pieces after soma backtrack: [<trimesh.Trimesh(vertices.shape=(12087, 3), faces.shape=(31666, 3))>, <trimesh.Trimesh(vertices.shape=(471, 3), faces.shape=(1095, 3))>, <trimesh.Trimesh(vertices.shape=(456, 3), faces.shape=(1084, 3))>, <trimesh.Trimesh(vertices.shape=(435, 3), faces.shape=(1028, 3))>]\n",
      "\n",
      "---Performing Soma Mesh Backtracking to original mesh for poisson soma 4\n",
      "backtrack_soma_size_threshold = 8000\n",
      "xvfb-run -n 3150 -s \"-screen 0 800x600x24\" meshlabserver $@  -i /NEURD_Chenlab/Applications/Senior_Design_Relevant_Files/temp/neuron_80817.off -o /NEURD_Chenlab/Applications/Senior_Design_Relevant_Files/temp/neuron_80817_fill_holes.off -s /NEURD_Chenlab/Applications/Senior_Design_Relevant_Files/temp/fill_holes_115765.mls\n",
      "removed temporary input file: /NEURD_Chenlab/Applications/Senior_Design_Relevant_Files/temp/neuron_80817.off\n",
      "removed temporary output file: /NEURD_Chenlab/Applications/Senior_Design_Relevant_Files/temp/neuron_80817_fill_holes.off\n",
      "/NEURD_Chenlab/Applications/Senior_Design_Relevant_Files/temp/fill_holes_115765.mls is being deleted....\n",
      "xvfb-run -n 2075 -s \"-screen 0 800x600x24\" meshlabserver $@  -i /NEURD_Chenlab/Applications/Senior_Design_Relevant_Files/temp/neuron_56906.off -o /NEURD_Chenlab/Applications/Senior_Design_Relevant_Files/temp/neuron_56906_remove_interior.off -s /NEURD_Chenlab/Applications/Senior_Design_Relevant_Files/temp/remove_interior_331577.mls\n",
      "removed temporary input file: /NEURD_Chenlab/Applications/Senior_Design_Relevant_Files/temp/neuron_56906.off\n",
      "removed temporary output file: /NEURD_Chenlab/Applications/Senior_Design_Relevant_Files/temp/neuron_56906_remove_interior.off\n",
      "/NEURD_Chenlab/Applications/Senior_Design_Relevant_Files/temp/remove_interior_331577.mls is being deleted....\n",
      "No significant (300) interior meshes present\n",
      "largest is 8\n",
      "split_meshes_after_backtrack = [<trimesh.Trimesh(vertices.shape=(798, 3), faces.shape=(1555, 3))>]\n",
      "soma_size_threshold = 8000\n",
      "After backtrack the found 0 possible somas: [] \n",
      "\n",
      "---Performing Soma Mesh Backtracking to original mesh for poisson soma 5\n",
      "backtrack_soma_size_threshold = 8000\n",
      "xvfb-run -n 7704 -s \"-screen 0 800x600x24\" meshlabserver $@  -i /NEURD_Chenlab/Applications/Senior_Design_Relevant_Files/temp/neuron_61052.off -o /NEURD_Chenlab/Applications/Senior_Design_Relevant_Files/temp/neuron_61052_fill_holes.off -s /NEURD_Chenlab/Applications/Senior_Design_Relevant_Files/temp/fill_holes_98123.mls\n",
      "removed temporary input file: /NEURD_Chenlab/Applications/Senior_Design_Relevant_Files/temp/neuron_61052.off\n",
      "removed temporary output file: /NEURD_Chenlab/Applications/Senior_Design_Relevant_Files/temp/neuron_61052_fill_holes.off\n",
      "/NEURD_Chenlab/Applications/Senior_Design_Relevant_Files/temp/fill_holes_98123.mls is being deleted....\n",
      "xvfb-run -n 6840 -s \"-screen 0 800x600x24\" meshlabserver $@  -i /NEURD_Chenlab/Applications/Senior_Design_Relevant_Files/temp/neuron_3049.off -o /NEURD_Chenlab/Applications/Senior_Design_Relevant_Files/temp/neuron_3049_remove_interior.off -s /NEURD_Chenlab/Applications/Senior_Design_Relevant_Files/temp/remove_interior_170668.mls\n",
      "removed temporary input file: /NEURD_Chenlab/Applications/Senior_Design_Relevant_Files/temp/neuron_3049.off\n",
      "removed temporary output file: /NEURD_Chenlab/Applications/Senior_Design_Relevant_Files/temp/neuron_3049_remove_interior.off\n",
      "/NEURD_Chenlab/Applications/Senior_Design_Relevant_Files/temp/remove_interior_170668.mls is being deleted....\n",
      "No significant (300) interior meshes present\n",
      "largest is 18\n",
      "split_meshes_after_backtrack = []\n",
      "soma_size_threshold = 8000\n",
      "--->This soma mesh was not added because Was not able to backtrack soma to mesh\n",
      "\n",
      "---Performing Soma Mesh Backtracking to original mesh for poisson soma 6\n",
      "backtrack_soma_size_threshold = 8000\n",
      "xvfb-run -n 9944 -s \"-screen 0 800x600x24\" meshlabserver $@  -i /NEURD_Chenlab/Applications/Senior_Design_Relevant_Files/temp/neuron_47975.off -o /NEURD_Chenlab/Applications/Senior_Design_Relevant_Files/temp/neuron_47975_fill_holes.off -s /NEURD_Chenlab/Applications/Senior_Design_Relevant_Files/temp/fill_holes_56640.mls\n",
      "removed temporary input file: /NEURD_Chenlab/Applications/Senior_Design_Relevant_Files/temp/neuron_47975.off\n",
      "removed temporary output file: /NEURD_Chenlab/Applications/Senior_Design_Relevant_Files/temp/neuron_47975_fill_holes.off\n",
      "/NEURD_Chenlab/Applications/Senior_Design_Relevant_Files/temp/fill_holes_56640.mls is being deleted....\n",
      "xvfb-run -n 7887 -s \"-screen 0 800x600x24\" meshlabserver $@  -i /NEURD_Chenlab/Applications/Senior_Design_Relevant_Files/temp/neuron_69853.off -o /NEURD_Chenlab/Applications/Senior_Design_Relevant_Files/temp/neuron_69853_remove_interior.off -s /NEURD_Chenlab/Applications/Senior_Design_Relevant_Files/temp/remove_interior_212627.mls\n",
      "removed temporary input file: /NEURD_Chenlab/Applications/Senior_Design_Relevant_Files/temp/neuron_69853.off\n",
      "removed temporary output file: /NEURD_Chenlab/Applications/Senior_Design_Relevant_Files/temp/neuron_69853_remove_interior.off\n",
      "/NEURD_Chenlab/Applications/Senior_Design_Relevant_Files/temp/remove_interior_212627.mls is being deleted....\n",
      "No significant (300) interior meshes present\n",
      "largest is 4\n",
      "split_meshes_after_backtrack = [<trimesh.Trimesh(vertices.shape=(1185, 3), faces.shape=(2280, 3))>]\n",
      "soma_size_threshold = 8000\n",
      "After backtrack the found 0 possible somas: [] \n",
      "\n",
      "---Performing Soma Mesh Backtracking to original mesh for poisson soma 7\n",
      "backtrack_soma_size_threshold = 8000\n",
      "xvfb-run -n 3972 -s \"-screen 0 800x600x24\" meshlabserver $@  -i /NEURD_Chenlab/Applications/Senior_Design_Relevant_Files/temp/neuron_28626.off -o /NEURD_Chenlab/Applications/Senior_Design_Relevant_Files/temp/neuron_28626_fill_holes.off -s /NEURD_Chenlab/Applications/Senior_Design_Relevant_Files/temp/fill_holes_841983.mls\n",
      "removed temporary input file: /NEURD_Chenlab/Applications/Senior_Design_Relevant_Files/temp/neuron_28626.off\n",
      "removed temporary output file: /NEURD_Chenlab/Applications/Senior_Design_Relevant_Files/temp/neuron_28626_fill_holes.off\n",
      "/NEURD_Chenlab/Applications/Senior_Design_Relevant_Files/temp/fill_holes_841983.mls is being deleted....\n",
      "xvfb-run -n 3862 -s \"-screen 0 800x600x24\" meshlabserver $@  -i /NEURD_Chenlab/Applications/Senior_Design_Relevant_Files/temp/neuron_41873.off -o /NEURD_Chenlab/Applications/Senior_Design_Relevant_Files/temp/neuron_41873_remove_interior.off -s /NEURD_Chenlab/Applications/Senior_Design_Relevant_Files/temp/remove_interior_310946.mls\n",
      "removed temporary input file: /NEURD_Chenlab/Applications/Senior_Design_Relevant_Files/temp/neuron_41873.off\n",
      "removed temporary output file: /NEURD_Chenlab/Applications/Senior_Design_Relevant_Files/temp/neuron_41873_remove_interior.off\n",
      "/NEURD_Chenlab/Applications/Senior_Design_Relevant_Files/temp/remove_interior_310946.mls is being deleted....\n",
      "No significant (300) interior meshes present\n",
      "largest is 18\n",
      "split_meshes_after_backtrack = []\n",
      "soma_size_threshold = 8000\n",
      "--->This soma mesh was not added because Was not able to backtrack soma to mesh\n",
      "\n",
      "---Performing Soma Mesh Backtracking to original mesh for poisson soma 8\n",
      "backtrack_soma_size_threshold = 8000\n",
      "xvfb-run -n 6268 -s \"-screen 0 800x600x24\" meshlabserver $@  -i /NEURD_Chenlab/Applications/Senior_Design_Relevant_Files/temp/neuron_54501.off -o /NEURD_Chenlab/Applications/Senior_Design_Relevant_Files/temp/neuron_54501_fill_holes.off -s /NEURD_Chenlab/Applications/Senior_Design_Relevant_Files/temp/fill_holes_749267.mls\n",
      "removed temporary input file: /NEURD_Chenlab/Applications/Senior_Design_Relevant_Files/temp/neuron_54501.off\n",
      "removed temporary output file: /NEURD_Chenlab/Applications/Senior_Design_Relevant_Files/temp/neuron_54501_fill_holes.off\n",
      "/NEURD_Chenlab/Applications/Senior_Design_Relevant_Files/temp/fill_holes_749267.mls is being deleted....\n",
      "xvfb-run -n 5822 -s \"-screen 0 800x600x24\" meshlabserver $@  -i /NEURD_Chenlab/Applications/Senior_Design_Relevant_Files/temp/neuron_21531.off -o /NEURD_Chenlab/Applications/Senior_Design_Relevant_Files/temp/neuron_21531_remove_interior.off -s /NEURD_Chenlab/Applications/Senior_Design_Relevant_Files/temp/remove_interior_847201.mls\n",
      "removed temporary input file: /NEURD_Chenlab/Applications/Senior_Design_Relevant_Files/temp/neuron_21531.off\n",
      "removed temporary output file: /NEURD_Chenlab/Applications/Senior_Design_Relevant_Files/temp/neuron_21531_remove_interior.off\n",
      "/NEURD_Chenlab/Applications/Senior_Design_Relevant_Files/temp/remove_interior_847201.mls is being deleted....\n",
      "No significant (300) interior meshes present\n",
      "largest is 6\n",
      "split_meshes_after_backtrack = []\n",
      "soma_size_threshold = 8000\n",
      "--->This soma mesh was not added because Was not able to backtrack soma to mesh\n",
      "Skipping the segmentatio filter at end\n",
      "removing mesh interior before segmentation\n",
      "xvfb-run -n 2139 -s \"-screen 0 800x600x24\" meshlabserver $@  -i /NEURD_Chenlab/Applications/Senior_Design_Relevant_Files/temp/neuron_42227.off -o /NEURD_Chenlab/Applications/Senior_Design_Relevant_Files/temp/neuron_42227_fill_holes.off -s /NEURD_Chenlab/Applications/Senior_Design_Relevant_Files/temp/fill_holes_33667.mls\n",
      "removed temporary input file: /NEURD_Chenlab/Applications/Senior_Design_Relevant_Files/temp/neuron_42227.off\n",
      "removed temporary output file: /NEURD_Chenlab/Applications/Senior_Design_Relevant_Files/temp/neuron_42227_fill_holes.off\n",
      "/NEURD_Chenlab/Applications/Senior_Design_Relevant_Files/temp/fill_holes_33667.mls is being deleted....\n",
      "xvfb-run -n 7372 -s \"-screen 0 800x600x24\" meshlabserver $@  -i /NEURD_Chenlab/Applications/Senior_Design_Relevant_Files/temp/neuron_17273.off -o /NEURD_Chenlab/Applications/Senior_Design_Relevant_Files/temp/neuron_17273_remove_interior.off -s /NEURD_Chenlab/Applications/Senior_Design_Relevant_Files/temp/remove_interior_577657.mls\n",
      "removed temporary input file: /NEURD_Chenlab/Applications/Senior_Design_Relevant_Files/temp/neuron_17273.off\n",
      "removed temporary output file: /NEURD_Chenlab/Applications/Senior_Design_Relevant_Files/temp/neuron_17273_remove_interior.off\n",
      "/NEURD_Chenlab/Applications/Senior_Design_Relevant_Files/temp/remove_interior_577657.mls is being deleted....\n",
      "No significant (1000) interior meshes present\n",
      "largest is 106\n",
      "Doing the soma segmentation filter at end\n",
      "\n",
      "Number of segments: 16\n",
      "\n",
      "Timed out when trying to find the cycles!\n",
      "Finding the cycles did not work when doing the border vertex edge so using connected components\n",
      "Largest hole before segmentation = 119931.35226319458, after = 518390.9792143521,\n",
      "\n",
      "ratio = 4.3223975168454745, difference = 398459.6269511575\n",
      "filtered_soma_list_components = [<trimesh.Trimesh(vertices.shape=(4382, 3), faces.shape=(9155, 3))>]\n",
      "Not need to do a second pass because already found a soma\n",
      "# of somas = 1\n",
      "# of glia = 0\n",
      "# of nuclei = 9\n"
     ]
    },
    {
     "data": {
      "application/vnd.jupyter.widget-view+json": {
       "model_id": "727cad82fdda4fe2bb8694c32d51b8dd",
       "version_major": 2,
       "version_minor": 0
      },
      "text/plain": [
       "Container(figure=Figure(box_center=[0.5, 0.5, 0.5], box_size=[1.0, 1.0, 1.0], camera=PerspectiveCamera(fov=45.…"
      ]
     },
     "metadata": {},
     "output_type": "display_data"
    },
    {
     "name": "stdout",
     "output_type": "stream",
     "text": [
      "{\n",
      "  'decimation':\n",
      "  {\n",
      "    'decimation_parameters':\n",
      "    {\n",
      "      'decimation_ratio':0.25,\n",
      "    },\n",
      "    'segment_id':864691134917511946,\n",
      "  },\n",
      "  'soma_identification':\n",
      "  {\n",
      "    'glia_meshes':[],\n",
      "    'nuclei_meshes':[<trimesh.Trimesh(vertices.shape=(12087, 3), faces.shape=(31666, 3))>, <trimesh.Trimesh(vertices.shape=(471, 3), faces.shape=(1095, 3))>, <trimesh.Trimesh(vertices.shape=(456, 3), faces.shape=(1084, 3))>, <trimesh.Trimesh(vertices.shape=(435, 3), faces.shape=(1028, 3))>, <trimesh.Trimesh(vertices.shape=(6396, 3), faces.shape=(15797, 3))>, <trimesh.Trimesh(vertices.shape=(1967, 3), faces.shape=(3887, 3))>, <trimesh.Trimesh(vertices.shape=(399, 3), faces.shape=(998, 3))>, <trimesh.Trimesh(vertices.shape=(151, 3), faces.shape=(358, 3))>, <trimesh.Trimesh(vertices.shape=(142, 3), faces.shape=(325, 3))>],\n",
      "    'soma_extraction_parameters':\n",
      "    {\n",
      "    },\n",
      "    'soma_meshes':[<trimesh.Trimesh(vertices.shape=(4382, 3), faces.shape=(9155, 3))>],\n",
      "    'soma_run_time':136.0718536376953,\n",
      "    'soma_sdfs':array([0.750514]),\n",
      "  },\n",
      "}\n",
      "\n",
      "Saved object at /NEURD_Chenlab/Applications/Senior_Design_Relevant_Files/products_up_to_soma_stage.pkl\n",
      "File size is 8.302613 MB\n",
      "Cleared mesh: <trimesh.Trimesh(vertices.shape=(12087, 3), faces.shape=(31666, 3))>:140077556607728\n",
      "Cleared mesh: <trimesh.Trimesh(vertices.shape=(471, 3), faces.shape=(1095, 3))>:140077556794944\n",
      "Cleared mesh: <trimesh.Trimesh(vertices.shape=(456, 3), faces.shape=(1084, 3))>:140077556732304\n",
      "Cleared mesh: <trimesh.Trimesh(vertices.shape=(435, 3), faces.shape=(1028, 3))>:140077556735136\n",
      "Cleared mesh: <trimesh.Trimesh(vertices.shape=(6396, 3), faces.shape=(15797, 3))>:140077547699984\n",
      "Cleared mesh: <trimesh.Trimesh(vertices.shape=(1967, 3), faces.shape=(3887, 3))>:140077566786144\n",
      "Cleared mesh: <trimesh.Trimesh(vertices.shape=(399, 3), faces.shape=(998, 3))>:140077566854576\n",
      "Cleared mesh: <trimesh.Trimesh(vertices.shape=(151, 3), faces.shape=(358, 3))>:140077566785088\n",
      "Cleared mesh: <trimesh.Trimesh(vertices.shape=(142, 3), faces.shape=(325, 3))>:140077547698160\n",
      "Cleared mesh: <trimesh.Trimesh(vertices.shape=(4382, 3), faces.shape=(9155, 3))>:140077542397792\n"
     ]
    }
   ],
   "source": [
    "## soma identification\n",
    "\n",
    "from neurd import soma_extraction_utils as sm\n",
    "soma_extraction_parameters = dict()\n",
    "\n",
    "# could inspect the parameters of a certain category\n",
    "from neurd import parameter_utils as paru\n",
    "paru.category_param_from_module(\n",
    "        module = sm,\n",
    "        category = \"glia\",\n",
    ")\n",
    "\n",
    "# get soma products\n",
    "from neurd import neuron_visualizations as nviz\n",
    "verbose = True\n",
    "soma_products = sm.soma_indentification(\n",
    "    mesh_decimated,\n",
    "    verbose=verbose,\n",
    "    **soma_extraction_parameters\n",
    ")\n",
    "\n",
    "# plot\n",
    "sm.plot_soma_products(\n",
    "    mesh_decimated,\n",
    "    soma_products = soma_products,\n",
    "    verbose = True\n",
    ")\n",
    "\n",
    "# set extraction parameters\n",
    "soma_products.soma_extraction_parameters = soma_extraction_parameters\n",
    "soma_products\n",
    "\n",
    "# set stage attributes\n",
    "products.set_stage_attrs(\n",
    "    stage = \"soma_identification\",\n",
    "    attr_dict = soma_products,\n",
    ")\n",
    "print(products)\n",
    "\n",
    "# save soma objects\n",
    "from datasci_tools import system_utils as su\n",
    "su.save_object(\n",
    "    products,\"products_up_to_soma_stage\"\n",
    ")"
   ]
  },
  {
   "cell_type": "code",
   "execution_count": 15,
   "id": "456a39a1-a812-44dd-89ed-e41789119e82",
   "metadata": {
    "scrolled": true
   },
   "outputs": [
    {
     "name": "stdout",
     "output_type": "stream",
     "text": [
      "--- 0) Having to preprocess the Neuron becuase no preprocessed data\n",
      "Please wait this could take a while.....\n",
      "Skipping the hole filling\n",
      "limb_remove_mesh_interior_face_threshold = 0\n",
      "use_meshafterparty = True\n",
      "Using pre-computed somas: soma_mesh_list = [<trimesh.Trimesh(vertices.shape=(8836, 3), faces.shape=(17487, 3))>]\n",
      "Soma List = [<trimesh.Trimesh(vertices.shape=(8836, 3), faces.shape=(17487, 3))>]\n",
      "soma_mesh_list_centers = [array([1493644.32163875,  906203.41836804,   80231.07457673])]\n",
      "Getting Glia and Nuclei Pieces Subtracted Away 0.3662395477294922\n",
      " Splitting mesh after soma cancellation 0.8292391300201416\n",
      "# of split_meshes = 58\n",
      " Containing Mesh Indices 0.10739398002624512\n",
      "containing_mesh_indices = {0: 0}\n",
      " non_soma_touching_meshes 7.772445678710938e-05\n",
      "There were 57 pieces found after size threshold\n",
      " Finding inside pieces and non_soma_touching meshes 2.1564385890960693\n",
      "soma_containing_meshes = {0: [0]}\n",
      "\n",
      "-----Before combining multiple mesh pieces-----\n",
      "soma_containing_meshes = {0: [0]}\n",
      "\n",
      "-----After combining multiple mesh pieces-----\n",
      "soma_containing_meshes = {0: [0]}\n",
      "\n",
      "\n",
      "----Working on soma-containing mesh piece 0----\n",
      "Total time for Subtract Soma and Original_mesh_faces_map for somas= 0.5444419384002686\n",
      "new_floating_pieces = []\n",
      "Total time for sig_non_soma_pieces= 1.5324013233184814\n",
      "Not applying expansions\n",
      "Total time for split= 5.0067901611328125e-06\n",
      "Total time for mesh_pieces_connectivity= 0.3834707736968994\n",
      "# of insignificant_limbs = 0 with trimesh : []\n",
      "# of not_processed_soma_containing_meshes = 0 with trimesh : []\n",
      "\n",
      "\n",
      "----- Working on Proper Limb # 0 ---------\n",
      "meshparty_segment_size = 100\n",
      "invalidation_d = 12000\n",
      "use_adaptive_invalidation_d= False\n",
      "axon_width_preprocess_limb_max = 200\n",
      "filter_end_node_length= 4000\n",
      "filter_end_node_length_meshparty = 4000\n",
      "invalidation_d = 12000\n",
      "root_curr = [1497899.875      904530.3125      75624.9296875]\n",
      "Time for preparing soma vertices and root: 0.0003731250762939453\n",
      "invalidation_d = 12000\n",
      "smooth_neighborhood = 1\n",
      "cc_vertex_thresh = 10\n"
     ]
    },
    {
     "name": "stderr",
     "output_type": "stream",
     "text": [
      "  0%|                                                                                             | 0/1 [00:00<?, ?it/s]"
     ]
    },
    {
     "data": {
      "application/vnd.jupyter.widget-view+json": {
       "model_id": "956d4dea0cf84d46805777ad1df1ca09",
       "version_major": 2,
       "version_minor": 0
      },
      "text/plain": [
       "  0%|          | 0/341429 [00:00<?, ?it/s]"
      ]
     },
     "metadata": {},
     "output_type": "display_data"
    },
    {
     "name": "stderr",
     "output_type": "stream",
     "text": [
      "100%|█████████████████████████████████████████████████████████████████████████████████████| 1/1 [00:04<00:00,  4.48s/it]\n"
     ]
    },
    {
     "name": "stdout",
     "output_type": "stream",
     "text": [
      "meshparty_segment_size = 100\n",
      "Time for 1st pass MP skeletonization: 6.873521327972412\n",
      "connecting at the root\n",
      "branches_touching_root = [40]\n",
      "combining close nodes\n",
      "combine_threshold = 700\n",
      "length of Graph = 14077\n",
      "After combining close endpoints max(kept_branches_idx) = 40, len(kept_branches_idx) = 41\n",
      "empty_indices % = 0.0\n",
      " conflict_indices % = 0.00812614326479842\n"
     ]
    },
    {
     "data": {
      "application/vnd.jupyter.widget-view+json": {
       "model_id": "fb55b179f3204bb198639a5bae8778e4",
       "version_major": 2,
       "version_minor": 0
      },
      "text/plain": [
       "  0%|          | 0/16 [00:00<?, ?it/s]"
      ]
     },
     "metadata": {},
     "output_type": "display_data"
    },
    {
     "data": {
      "application/vnd.jupyter.widget-view+json": {
       "model_id": "bce9757772884df2925f9db1cb645fec",
       "version_major": 2,
       "version_minor": 0
      },
      "text/plain": [
       "  0%|          | 0/41 [00:00<?, ?it/s]"
      ]
     },
     "metadata": {},
     "output_type": "display_data"
    },
    {
     "name": "stdout",
     "output_type": "stream",
     "text": [
      "Decomposing first pass: 31.312687635421753\n",
      "Attempting to use MeshAfterParty Skeletonization and Mesh Correspondence\n",
      "Another print\n",
      "Found len(mesh_large_idx) MAP candidates: [15983, 8468, 7679, 52610, 64787, 7795, 19098, 16059, 9441, 1372, 11805, 4300, 8562, 65310, 6768, 9161, 17341, 10459, 13753, 4977, 18966, 27287, 17533, 6025, 1085, 18531, 46876, 9532, 29576, 2198, 3853, 646, 7768, 19266, 17339, 11770, 8668, 23117, 12776, 23975, 20835]\n",
      "mesh_large_connectivity: 5.011122465133667\n",
      "Finding MAP candidates connected components: 0.00045752525329589844\n",
      "len(filtered_pieces) = 1\n",
      "skeleton_connectivity_MP : 0.26616764068603516\n",
      "Grouping MP Sublimbs by Graph: 6.937980651855469e-05\n",
      "Divinding into MP and MAP pieces: 4.76837158203125e-07\n",
      "--- Working on MAP piece 0---\n",
      "MAP Filtering Soma Pieces: 0.05198192596435547\n",
      "inside skeletonize_connected_branch and use_surface_after_CGAL=True, surface_reconstruction_size=1000\n",
      "keep_idx = [0]\n",
      "     Starting Screened Poisson\n",
      "xvfb-run -n 7748 -s \"-screen 0 800x600x24\" meshlabserver $@  -i /NEURD_Chenlab/Applications/Senior_Design_Relevant_Files/temp/None.off -o /NEURD_Chenlab/Applications/Senior_Design_Relevant_Files/temp/None_poisson.off -s /NEURD_Chenlab/Applications/Senior_Design_Relevant_Files/temp/poisson_65498.mls\n",
      "removed temporary input file: /NEURD_Chenlab/Applications/Senior_Design_Relevant_Files/temp/None.off\n",
      "removed temporary output file: /NEURD_Chenlab/Applications/Senior_Design_Relevant_Files/temp/None_poisson.off\n",
      "Using the close holes feature\n",
      "xvfb-run -n 8950 -s \"-screen 0 800x600x24\" meshlabserver $@  -i /NEURD_Chenlab/Applications/Senior_Design_Relevant_Files/temp/neuron_55195.off -o /NEURD_Chenlab/Applications/Senior_Design_Relevant_Files/temp/neuron_55195_fill_holes.off -s /NEURD_Chenlab/Applications/Senior_Design_Relevant_Files/temp/fill_holes_901192.mls\n",
      "removed temporary input file: /NEURD_Chenlab/Applications/Senior_Design_Relevant_Files/temp/neuron_55195.off\n",
      "removed temporary output file: /NEURD_Chenlab/Applications/Senior_Design_Relevant_Files/temp/neuron_55195_fill_holes.off\n",
      "/NEURD_Chenlab/Applications/Senior_Design_Relevant_Files/temp/fill_holes_901192.mls is being deleted....\n",
      "-----Time for Screened Poisson= 72.42820954322815\n",
      "mesh_pieces = [<trimesh.Trimesh(vertices.shape=(291058, 3), faces.shape=(582164, 3), name=`neuron_55195_fill_holes.off`)>]\n",
      "     Starting Calcification (Changed back where stitches large poissons)\n",
      "Manifold status before skeletonization = True\n",
      "Watertight status before skeletonization = True\n",
      "min_edge_length = 75\n",
      "node_degrees = [3 2 3 2 3 2 2 2 2 2 3 2 2]\n",
      "node_degrees = [3 2 3 2 2 2]\n",
      "node_degrees = [2 4 4 2 2 2]\n",
      "node_degrees = [3 2 4 2]\n",
      "node_degrees = [3 2 3 2]\n",
      "node_degrees = [4 2 2]\n",
      "Before mesh subtraction number of skeleton edges = 10620\n"
     ]
    },
    {
     "data": {
      "application/vnd.jupyter.widget-view+json": {
       "model_id": "22a2b8a0309d4f0f89797308029558de",
       "version_major": 2,
       "version_minor": 0
      },
      "text/plain": [
       "0it [00:00, ?it/s]"
      ]
     },
     "metadata": {},
     "output_type": "display_data"
    },
    {
     "name": "stdout",
     "output_type": "stream",
     "text": [
      "len(leftover_meshes_sig) = []\n"
     ]
    },
    {
     "data": {
      "application/vnd.jupyter.widget-view+json": {
       "model_id": "4bb7b7822caf4174822209517aa92c71",
       "version_major": 2,
       "version_minor": 0
      },
      "text/plain": [
       "0it [00:00, ?it/s]"
      ]
     },
     "metadata": {},
     "output_type": "display_data"
    },
    {
     "name": "stdout",
     "output_type": "stream",
     "text": [
      "No skeletons to stack so returning empty list\n",
      "STacking the leftover and significant poisson skeleton\n",
      "max_stitch_distance = 5000\n",
      "len_subgraphs AT BEGINNING of the loop\n"
     ]
    },
    {
     "data": {
      "application/vnd.jupyter.widget-view+json": {
       "model_id": "0da9d4ed70d84bfd94b6a3520ed1a9f2",
       "version_major": 2,
       "version_minor": 0
      },
      "text/plain": [
       "  0%|          | 0/1 [00:00<?, ?it/s]"
      ]
     },
     "metadata": {},
     "output_type": "display_data"
    },
    {
     "name": "stdout",
     "output_type": "stream",
     "text": [
      "all graph is one component!\n",
      "Total time for skeleton stitching = 0.28041601181030273\n",
      "The process was using a temp folder\n",
      "Checking connected components after skeletonize_connected_branch\n",
      "    Total time for skeletonizing branch: 326.36906361579895\n",
      "Checking connected components after removing cycles\n",
      "Total time for mesh KDTree = 5.903343200683594\n",
      "sbv[0].reshape(-1,3) = [[1497899.875      904530.3125      75624.9296875]]\n",
      "closest_sk_pt_coord BEFORE = [1495390.   902424.    77376.1]\n",
      "current_skeleton.shape = (10619, 2, 3)\n",
      "node_for_stitch = 3861: [1495390.   902424.    77376.1]\n",
      "node_for_stitch AFTER = 3861: [1495390.   902424.    77376.1]\n",
      "possible_node_loc = [    0    11    54    55    84    93   109   173   219   242   251   269\n",
      "   291   292   315   337   351   367   391   414   427   492   500   563\n",
      "   573   578   614   651   657   675   683   700   709   780   789   835\n",
      "   856   876   887   934   992  1060  1135  1141  1152  1161  1166  1171\n",
      "  1212  1235  1253  1331  1443  1444  1542  1595  1605  1621  1672  1694\n",
      "  1729  1730  1755  1791  1805  1902  1910  1936  1987  2010  2018  2050\n",
      "  2061  2133  2196  2219  2238  2282  2379  2453  2475  2481  2483  2488\n",
      "  2748  2883  2900  3001  3027  3028  3048  3081  3209  3287  3321  3336\n",
      "  3340  3421  3444  3495  3523  3575  3647  3746  3756  3827  3891  3908\n",
      "  3947  3969  3979  3983  3997  4000  4004  4060  4072  4079  4107  4130\n",
      "  4193  4403  4414  4418  4475  4535  4546  4556  4610  4626  4641  4682\n",
      "  4697  4728  4751  4753  4759  4761  4780  4803  4819  4833  4844  4870\n",
      "  4968  5000  5018  5054  5125  5155  5167  5186  5204  5221  5236  5238\n",
      "  5259  5264  5301  5360  5372  5416  5440  5484  5486  5546  5558  5579\n",
      "  5583  5596  5633  5643  5672  5696  5730  5781  5807  5808  5902  5908\n",
      "  5950  5958  5968  5971  6026  6029  6049  6069  6094  6125  6182  6220\n",
      "  6226  6242  6248  6289  6346  6363  6412  6432  6448  6470  6545  6557\n",
      "  6560  6591  6656  6681  6699  6702  6736  6744  6748  6804  6807  6810\n",
      "  6839  6919  6948  6970  7014  7021  7034  7053  7076  7130  7149  7154\n",
      "  7233  7239  7294  7356  7369  7425  7460  7467  7478  7495  7587  7589\n",
      "  7716  7720  7738  7981  8129  8143  8186  8203  8388  8430  8724  8801\n",
      "  8844  8946  9056  9065  9131  9446  9461  9489  9682  9939  9985 10071\n",
      " 10129 10154 10275 10435 10540 10579 10618]\n",
      "possible_node_loc AFTER = [    0    11    54    55    84    93   109   173   219   242   251   269\n",
      "   291   292   315   337   351   367   391   414   427   492   500   563\n",
      "   573   578   614   651   657   675   683   700   709   780   789   835\n",
      "   856   876   887   934   992  1060  1135  1141  1152  1161  1166  1171\n",
      "  1212  1235  1253  1331  1443  1444  1542  1595  1605  1621  1672  1694\n",
      "  1729  1730  1755  1791  1805  1902  1910  1936  1987  2010  2018  2050\n",
      "  2061  2133  2196  2219  2238  2282  2379  2453  2475  2481  2483  2488\n",
      "  2748  2883  2900  3001  3027  3028  3048  3081  3209  3287  3321  3336\n",
      "  3340  3421  3444  3495  3523  3575  3647  3746  3756  3827  3891  3908\n",
      "  3947  3969  3979  3983  3997  4000  4004  4060  4072  4079  4107  4130\n",
      "  4193  4403  4414  4418  4475  4535  4546  4556  4610  4626  4641  4682\n",
      "  4697  4728  4751  4753  4759  4761  4780  4803  4819  4833  4844  4870\n",
      "  4968  5000  5018  5054  5125  5155  5167  5186  5204  5221  5236  5238\n",
      "  5259  5264  5301  5360  5372  5416  5440  5484  5486  5546  5558  5579\n",
      "  5583  5596  5633  5643  5672  5696  5730  5781  5807  5808  5902  5908\n",
      "  5950  5958  5968  5971  6026  6029  6049  6069  6094  6125  6182  6220\n",
      "  6226  6242  6248  6289  6346  6363  6412  6432  6448  6470  6545  6557\n",
      "  6560  6591  6656  6681  6699  6702  6736  6744  6748  6804  6807  6810\n",
      "  6839  6919  6948  6970  7014  7021  7034  7053  7076  7130  7149  7154\n",
      "  7233  7239  7294  7356  7369  7425  7460  7467  7478  7495  7587  7589\n",
      "  7716  7720  7738  7981  8129  8143  8186  8203  8388  8430  8724  8801\n",
      "  8844  8946  9056  9065  9131  9446  9461  9489  9682  9939  9985 10071\n",
      " 10129 10154 10275 10435 10540 10579 10618]\n",
      "curr_shortest_path = [3861, 3880.0, 3884.0, 3887.0, 3892.0, 3898.0, 3900.0, 3906.0, 3914.0, 3921.0, 3929.0, 3936.0, 3947.0]\n",
      "Current stitch point was not a branch or endpoint, shortest_path_length to one = 2898.035422517991\n",
      "change_status for create soma extending pieces = False\n",
      "closest_sk_pt_coord AFTER = [1495390.   902424.    77376.1]\n",
      "Adding new branch to skeleton\n",
      "border_average_coordinate = [1498049.33333333  904424.83333333   75730.26302083]\n",
      "sbv[0].reshape(-1,3) = [[1498324.25       907750.625       84367.4765625]]\n",
      "closest_sk_pt_coord BEFORE = [1497610.  909005.   82131.]\n",
      "current_skeleton.shape = (10620, 2, 3)\n",
      "node_for_stitch = 4037: [1497610.  909005.   82131.]\n",
      "node_for_stitch AFTER = 4037: [1497610.  909005.   82131.]\n",
      "possible_node_loc = [    0    11    54    55    84    93   109   173   219   242   251   269\n",
      "   291   292   315   337   351   367   391   414   427   492   500   563\n",
      "   573   578   614   651   657   675   683   700   709   780   789   835\n",
      "   856   876   887   934   992  1060  1135  1141  1152  1161  1166  1171\n",
      "  1212  1235  1253  1331  1443  1444  1542  1595  1605  1621  1672  1694\n",
      "  1729  1730  1755  1791  1805  1902  1910  1936  1987  2010  2018  2050\n",
      "  2061  2133  2196  2219  2238  2282  2379  2453  2475  2481  2483  2488\n",
      "  2748  2883  2900  3001  3027  3028  3048  3081  3209  3287  3321  3336\n",
      "  3340  3421  3444  3495  3523  3575  3647  3746  3756  3827  3891  3908\n",
      "  3947  3969  3979  3983  3997  4000  4004  4060  4072  4075  4080  4108\n",
      "  4131  4194  4404  4415  4419  4476  4536  4547  4557  4611  4627  4642\n",
      "  4683  4698  4729  4752  4754  4760  4762  4781  4804  4820  4834  4845\n",
      "  4871  4969  5001  5019  5055  5126  5156  5168  5187  5205  5222  5237\n",
      "  5239  5260  5265  5302  5361  5373  5417  5441  5485  5487  5547  5559\n",
      "  5580  5584  5597  5634  5644  5673  5697  5731  5782  5808  5809  5903\n",
      "  5909  5951  5959  5969  5972  6027  6030  6050  6070  6095  6126  6183\n",
      "  6221  6227  6243  6249  6290  6347  6364  6413  6433  6449  6471  6546\n",
      "  6558  6561  6592  6657  6682  6700  6703  6737  6745  6749  6805  6808\n",
      "  6811  6840  6920  6949  6971  7015  7022  7035  7054  7077  7131  7150\n",
      "  7155  7234  7240  7295  7357  7370  7426  7461  7468  7479  7496  7588\n",
      "  7590  7717  7721  7739  7982  8130  8144  8187  8204  8389  8431  8725\n",
      "  8802  8845  8947  9057  9066  9132  9447  9462  9490  9683  9940  9986\n",
      " 10072 10130 10155 10276 10436 10541 10580 10619]\n",
      "possible_node_loc AFTER = [    0    11    54    55    84    93   109   173   219   242   251   269\n",
      "   291   292   315   337   351   367   391   414   427   492   500   563\n",
      "   573   578   614   651   657   675   683   700   709   780   789   835\n",
      "   856   876   887   934   992  1060  1135  1141  1152  1161  1166  1171\n",
      "  1212  1235  1253  1331  1443  1444  1542  1595  1605  1621  1672  1694\n",
      "  1729  1730  1755  1791  1805  1902  1910  1936  1987  2010  2018  2050\n",
      "  2061  2133  2196  2219  2238  2282  2379  2453  2475  2481  2483  2488\n",
      "  2748  2883  2900  3001  3027  3028  3048  3081  3209  3287  3321  3336\n",
      "  3340  3421  3444  3495  3523  3575  3647  3746  3756  3827  3891  3908\n",
      "  3947  3969  3979  3983  3997  4000  4004  4060  4072  4075  4080  4108\n",
      "  4131  4194  4404  4415  4419  4476  4536  4547  4557  4611  4627  4642\n",
      "  4683  4698  4729  4752  4754  4760  4762  4781  4804  4820  4834  4845\n",
      "  4871  4969  5001  5019  5055  5126  5156  5168  5187  5205  5222  5237\n",
      "  5239  5260  5265  5302  5361  5373  5417  5441  5485  5487  5547  5559\n",
      "  5580  5584  5597  5634  5644  5673  5697  5731  5782  5808  5809  5903\n",
      "  5909  5951  5959  5969  5972  6027  6030  6050  6070  6095  6126  6183\n",
      "  6221  6227  6243  6249  6290  6347  6364  6413  6433  6449  6471  6546\n",
      "  6558  6561  6592  6657  6682  6700  6703  6737  6745  6749  6805  6808\n",
      "  6811  6840  6920  6949  6971  7015  7022  7035  7054  7077  7131  7150\n",
      "  7155  7234  7240  7295  7357  7370  7426  7461  7468  7479  7496  7588\n",
      "  7590  7717  7721  7739  7982  8130  8144  8187  8204  8389  8431  8725\n",
      "  8802  8845  8947  9057  9066  9132  9447  9462  9490  9683  9940  9986\n",
      " 10072 10130 10155 10276 10436 10541 10580 10619]\n",
      "curr_shortest_path = [4037, 4047.0, 4065.0, 4078.0, 4086.0, 4100.0, 4112.0, 4126.0, 4136.0, 4157.0, 4166.0, 4167.0, 4168.0, 4169.0, 4170.0, 4171.0, 4172.0, 4173.0, 4174.0, 4175.0, 4176.0, 4177.0, 4178.0, 4179.0, 4180.0, 4181.0, 4182.0, 4183.0, 4184.0, 4185.0, 4186.0, 4187.0, 4188.0, 4189.0, 4190.0, 4191.0, 4192.0, 4193.0, 4195.0, 4197.0, 4200.0, 4199.0, 4198.0, 4196.0, 4194.0]\n",
      "Current stitch point was not a branch or endpoint, shortest_path_length to one = 7813.758792471425\n",
      "change_status for create soma extending pieces = False\n",
      "closest_sk_pt_coord AFTER = [1497610.  909005.   82131.]\n",
      "Adding new branch to skeleton\n",
      "border_average_coordinate = [1498321.33333333  908023.5          84405.89322917]\n",
      "endpoints_must_keep = {0: array([[1498049.33333333,  904424.83333333,   75730.26302083],\n",
      "       [1498321.33333333,  908023.5       ,   84405.89322917]])}\n",
      "    Total time for Fixing Skeleton Soma Endpoint Extension : 9.606706380844116\n",
      "filter_end_node_length = 4000\n"
     ]
    },
    {
     "data": {
      "application/vnd.jupyter.widget-view+json": {
       "model_id": "a19cc131c328433cb06274bcea93f1f3",
       "version_major": 2,
       "version_minor": 0
      },
      "text/plain": [
       "  0%|          | 0/252 [00:00<?, ?it/s]"
      ]
     },
     "metadata": {},
     "output_type": "display_data"
    },
    {
     "name": "stdout",
     "output_type": "stream",
     "text": [
      "Checking connected components after clean_skeleton\n",
      "after DISTANCE cleaning limb size of skeleton = (9264, 2, 3)\n",
      "********COMBINING CLOSE SKELETON NODES WITHIN 700 DISTANCE**********\n",
      "combine_threshold = 700\n",
      "Found 3 valid paths to replace\n",
      "valid_paths = [array([1981., 1986., 2014.]), array([3122., 3139.]), array([4606., 4609., 4612., 4618.])]\n",
      "valid_path_lengths = [383.9660016986403, 404.9906295212352, 631.7494041242181]\n",
      "length of Graph = 9264\n",
      "Working on path [1981. 1986. 2014.]\n",
      "path_degrees = [3, 2, 3]\n",
      "Working on path [3122. 3139.]\n",
      "path_degrees = [3, 4]\n",
      "Working on path [4606. 4609. 4612. 4618.]\n",
      "path_degrees = [3, 2, 2, 3]\n",
      "node_degrees = [2 4 2 2 2 2 2 3 2 2]\n",
      "skeletonize_and_clean_connected_branch_CGAL: 397.43633699417114\n",
      "Working on limb correspondence for #0 MAP piece\n",
      "xvfb-run -n 8931 -s \"-screen 0 800x600x24\" meshlabserver $@  -i /NEURD_Chenlab/Applications/Senior_Design_Relevant_Files/temp/neuron_7242.off -o /NEURD_Chenlab/Applications/Senior_Design_Relevant_Files/temp/neuron_7242_remove_interior.off -s /NEURD_Chenlab/Applications/Senior_Design_Relevant_Files/temp/remove_interior_181325.mls\n",
      "removed temporary input file: /NEURD_Chenlab/Applications/Senior_Design_Relevant_Files/temp/neuron_7242.off\n",
      "removed temporary output file: /NEURD_Chenlab/Applications/Senior_Design_Relevant_Files/temp/neuron_7242_remove_interior.off\n",
      "/NEURD_Chenlab/Applications/Senior_Design_Relevant_Files/temp/remove_interior_181325.mls is being deleted....\n",
      "Removing the following inside neurons: [<trimesh.Trimesh(vertices.shape=(315, 3), faces.shape=(592, 3), name=`neuron_7242_remove_interior.off`)>, <trimesh.Trimesh(vertices.shape=(220, 3), faces.shape=(377, 3), name=`neuron_7242_remove_interior.off`)>, <trimesh.Trimesh(vertices.shape=(215, 3), faces.shape=(423, 3), name=`neuron_7242_remove_interior.off`)>, <trimesh.Trimesh(vertices.shape=(143, 3), faces.shape=(277, 3), name=`neuron_7242_remove_interior.off`)>, <trimesh.Trimesh(vertices.shape=(137, 3), faces.shape=(232, 3), name=`neuron_7242_remove_interior.off`)>, <trimesh.Trimesh(vertices.shape=(135, 3), faces.shape=(257, 3), name=`neuron_7242_remove_interior.off`)>, <trimesh.Trimesh(vertices.shape=(134, 3), faces.shape=(251, 3), name=`neuron_7242_remove_interior.off`)>, <trimesh.Trimesh(vertices.shape=(132, 3), faces.shape=(242, 3), name=`neuron_7242_remove_interior.off`)>, <trimesh.Trimesh(vertices.shape=(124, 3), faces.shape=(191, 3), name=`neuron_7242_remove_interior.off`)>, <trimesh.Trimesh(vertices.shape=(124, 3), faces.shape=(209, 3), name=`neuron_7242_remove_interior.off`)>, <trimesh.Trimesh(vertices.shape=(116, 3), faces.shape=(227, 3), name=`neuron_7242_remove_interior.off`)>, <trimesh.Trimesh(vertices.shape=(112, 3), faces.shape=(194, 3), name=`neuron_7242_remove_interior.off`)>, <trimesh.Trimesh(vertices.shape=(110, 3), faces.shape=(172, 3), name=`neuron_7242_remove_interior.off`)>, <trimesh.Trimesh(vertices.shape=(109, 3), faces.shape=(199, 3), name=`neuron_7242_remove_interior.off`)>, <trimesh.Trimesh(vertices.shape=(105, 3), faces.shape=(205, 3), name=`neuron_7242_remove_interior.off`)>, <trimesh.Trimesh(vertices.shape=(103, 3), faces.shape=(144, 3), name=`neuron_7242_remove_interior.off`)>, <trimesh.Trimesh(vertices.shape=(100, 3), faces.shape=(180, 3), name=`neuron_7242_remove_interior.off`)>, <trimesh.Trimesh(vertices.shape=(92, 3), faces.shape=(137, 3), name=`neuron_7242_remove_interior.off`)>, <trimesh.Trimesh(vertices.shape=(87, 3), faces.shape=(116, 3), name=`neuron_7242_remove_interior.off`)>, <trimesh.Trimesh(vertices.shape=(87, 3), faces.shape=(154, 3), name=`neuron_7242_remove_interior.off`)>, <trimesh.Trimesh(vertices.shape=(84, 3), faces.shape=(131, 3), name=`neuron_7242_remove_interior.off`)>, <trimesh.Trimesh(vertices.shape=(83, 3), faces.shape=(126, 3), name=`neuron_7242_remove_interior.off`)>, <trimesh.Trimesh(vertices.shape=(81, 3), faces.shape=(143, 3), name=`neuron_7242_remove_interior.off`)>, <trimesh.Trimesh(vertices.shape=(77, 3), faces.shape=(116, 3), name=`neuron_7242_remove_interior.off`)>, <trimesh.Trimesh(vertices.shape=(75, 3), faces.shape=(143, 3), name=`neuron_7242_remove_interior.off`)>, <trimesh.Trimesh(vertices.shape=(74, 3), faces.shape=(123, 3), name=`neuron_7242_remove_interior.off`)>, <trimesh.Trimesh(vertices.shape=(70, 3), faces.shape=(131, 3), name=`neuron_7242_remove_interior.off`)>, <trimesh.Trimesh(vertices.shape=(64, 3), faces.shape=(113, 3), name=`neuron_7242_remove_interior.off`)>]\n"
     ]
    },
    {
     "data": {
      "application/vnd.jupyter.widget-view+json": {
       "model_id": "074eeea27cfc463cbdabd19c8149ae2a",
       "version_major": 2,
       "version_minor": 0
      },
      "text/plain": [
       "0it [00:00, ?it/s]"
      ]
     },
     "metadata": {},
     "output_type": "display_data"
    },
    {
     "name": "stdout",
     "output_type": "stream",
     "text": [
      "empty mesh_correspondence_indices_2 returned so returning original mesh correspondence\n",
      "Got nothing from first pass so expanding the mesh correspondnece parameters \n",
      "empty mesh_correspondence_indices_2 returned so returning original mesh correspondence\n",
      "empty mesh_correspondence_indices_2 returned so returning original mesh correspondence\n",
      "Total time for decomposition = 99.71385335922241\n",
      "mesh_correspondence_first_pass: 99.71391582489014\n",
      "Limb decomposed into 62 branches\n",
      "divided_skeleton_graph_recovered = (9252, 2, 3) and \n",
      "current_mesh_data[0]['branch_skeletons_cleaned'].shape = (9252, 2, 3)\n",
      "\n",
      "Number of connected components in deocmposed recovered graph = 1\n",
      "Number of connected components in cleaned skeleton graph= 1\n",
      "The downsampled branches number of connected components = 1\n",
      "Empty submeshes = []\n",
      "\n",
      "\n",
      "--- Working on 1-to-1 correspondence-----\n",
      "max(original_labels),len(original_labels) = (61, 62)\n",
      "empty_indices % = 0.10030877295675715\n",
      " conflict_indices % = 0.03089924635984488\n"
     ]
    },
    {
     "data": {
      "application/vnd.jupyter.widget-view+json": {
       "model_id": "c6cee37b0c2241d884d566e0000be931",
       "version_major": 2,
       "version_minor": 0
      },
      "text/plain": [
       "  0%|          | 0/563 [00:00<?, ?it/s]"
      ]
     },
     "metadata": {},
     "output_type": "display_data"
    },
    {
     "name": "stdout",
     "output_type": "stream",
     "text": [
      "Took 0 iterations to expand the label back\n",
      "empty_indices % = 0.0\n",
      " conflict_indices % = 0.0\n"
     ]
    },
    {
     "data": {
      "application/vnd.jupyter.widget-view+json": {
       "model_id": "dc2bb6c2d5fe4f97acff0f8b69ae7b96",
       "version_major": 2,
       "version_minor": 0
      },
      "text/plain": [
       "0it [00:00, ?it/s]"
      ]
     },
     "metadata": {},
     "output_type": "display_data"
    },
    {
     "name": "stdout",
     "output_type": "stream",
     "text": [
      "Took 2 iterations to expand the label back\n",
      "empty_indices % = 0.0\n",
      " conflict_indices % = 0.001172166532523597\n"
     ]
    },
    {
     "data": {
      "application/vnd.jupyter.widget-view+json": {
       "model_id": "699daa8a0fb14008ad6ae7d47ecb0b49",
       "version_major": 2,
       "version_minor": 0
      },
      "text/plain": [
       "  0%|          | 0/1 [00:00<?, ?it/s]"
      ]
     },
     "metadata": {},
     "output_type": "display_data"
    },
    {
     "data": {
      "application/vnd.jupyter.widget-view+json": {
       "model_id": "07994da1f80142e0b3b02d7173fd48d6",
       "version_major": 2,
       "version_minor": 0
      },
      "text/plain": [
       "  0%|          | 0/62 [00:00<?, ?it/s]"
      ]
     },
     "metadata": {},
     "output_type": "display_data"
    },
    {
     "name": "stdout",
     "output_type": "stream",
     "text": [
      "Total time for MAP sublimb #0 mesh processing = 599.3667731285095\n",
      "correspondence_1_to_1: 102.16464614868164\n",
      "Total time for MAP sublimb processing 599.3670880794525\n",
      "There were not both MAP and MP pieces so skipping the stitch resolving phase\n",
      "Time for decomp of Limb = 643.1311068534851\n",
      "Number of matching vertices = 3\n",
      "Number of matching vertices = 0\n",
      "Number of matching vertices = 0\n",
      "Number of matching vertices = 3\n",
      "Only one endpoint after filtering away the endpoints that are not on the skeleton\n",
      "Only one endpoint after filtering away the endpoints that are not on the skeleton\n",
      "Removed 0 skeletal branches\n"
     ]
    },
    {
     "data": {
      "application/vnd.jupyter.widget-view+json": {
       "model_id": "e962c7bf525246bfa5012461e4447686",
       "version_major": 2,
       "version_minor": 0
      },
      "text/plain": [
       "  0%|          | 0/62 [00:00<?, ?it/s]"
      ]
     },
     "metadata": {},
     "output_type": "display_data"
    },
    {
     "name": "stdout",
     "output_type": "stream",
     "text": [
      "683349 683350\n",
      "For marked faces: None\n",
      "empty_indices % = 0.0\n",
      " conflict_indices % = 0.0\n"
     ]
    },
    {
     "data": {
      "application/vnd.jupyter.widget-view+json": {
       "model_id": "0ade388bcc65486f911fbb0f963c5958",
       "version_major": 2,
       "version_minor": 0
      },
      "text/plain": [
       "0it [00:00, ?it/s]"
      ]
     },
     "metadata": {},
     "output_type": "display_data"
    },
    {
     "data": {
      "application/vnd.jupyter.widget-view+json": {
       "model_id": "989c1e723ab54ea9846a5fbda32acb3d",
       "version_major": 2,
       "version_minor": 0
      },
      "text/plain": [
       "  0%|          | 0/62 [00:00<?, ?it/s]"
      ]
     },
     "metadata": {},
     "output_type": "display_data"
    },
    {
     "name": "stdout",
     "output_type": "stream",
     "text": [
      "Successful Limb Decomposition\n",
      "Total time for Skeletonization and Mesh Correspondence = 673.7450759410858\n",
      "\n",
      "\n",
      " ----- Working on Stitching ----------\n",
      "Starting the floating pieces preprocessing\n",
      "Floating 0: <trimesh.Trimesh(vertices.shape=(327, 3), faces.shape=(658, 3))>\n",
      "invalidation_d = 12000\n",
      "use_adaptive_invalidation_d= True\n",
      "axon_width_preprocess_limb_max = 200\n",
      "filter_end_node_length= 4000\n",
      "filter_end_node_length_meshparty = 1000\n",
      "invalidation_d = 12000\n",
      "root_curr = None\n",
      "Time for preparing soma vertices and root: 5.4836273193359375e-06\n",
      "invalidation_d = 12000\n",
      "smooth_neighborhood = 1\n",
      "cc_vertex_thresh = 10\n"
     ]
    },
    {
     "name": "stderr",
     "output_type": "stream",
     "text": [
      "  0%|                                                                                             | 0/1 [00:00<?, ?it/s]"
     ]
    },
    {
     "data": {
      "application/vnd.jupyter.widget-view+json": {
       "model_id": "25bf84824803469191bfffb3b320646d",
       "version_major": 2,
       "version_minor": 0
      },
      "text/plain": [
       "  0%|          | 0/326 [00:00<?, ?it/s]"
      ]
     },
     "metadata": {},
     "output_type": "display_data"
    },
    {
     "name": "stderr",
     "output_type": "stream",
     "text": [
      "100%|█████████████████████████████████████████████████████████████████████████████████████| 1/1 [00:00<00:00, 67.95it/s]"
     ]
    },
    {
     "name": "stdout",
     "output_type": "stream",
     "text": [
      "meshparty_segment_size = 100\n",
      "Time for 1st pass MP skeletonization: 0.05116534233093262\n",
      "branches_touching_root = [0]\n",
      "combining close nodes\n",
      "combine_threshold = 700\n",
      "length of Graph = 16\n",
      "After combining close endpoints max(kept_branches_idx) = 0, len(kept_branches_idx) = 1\n",
      "empty_indices % = 0.0\n",
      " conflict_indices % = 0.0\n"
     ]
    },
    {
     "name": "stderr",
     "output_type": "stream",
     "text": [
      "\n"
     ]
    },
    {
     "data": {
      "application/vnd.jupyter.widget-view+json": {
       "model_id": "815fa2efa5fe41018ec14c44d6633c5f",
       "version_major": 2,
       "version_minor": 0
      },
      "text/plain": [
       "0it [00:00, ?it/s]"
      ]
     },
     "metadata": {},
     "output_type": "display_data"
    },
    {
     "data": {
      "application/vnd.jupyter.widget-view+json": {
       "model_id": "07b61ae31ced4f89a68a975cc8e13a54",
       "version_major": 2,
       "version_minor": 0
      },
      "text/plain": [
       "  0%|          | 0/1 [00:00<?, ?it/s]"
      ]
     },
     "metadata": {},
     "output_type": "display_data"
    },
    {
     "name": "stdout",
     "output_type": "stream",
     "text": [
      "widths = [883.03922919]\n",
      "width_median= 883.0392291948822\n",
      "segment_widths_median = [883.03922919]\n",
      "Decomposing first pass: 0.0603632926940918\n",
      "Attempting to use MeshAfterParty Skeletonization and Mesh Correspondence\n",
      "Another print\n",
      "Found len(mesh_large_idx) MAP candidates: [658]\n",
      "mesh_large_connectivity: 0.00014209747314453125\n",
      "Finding MAP candidates connected components: 8.034706115722656e-05\n",
      "Divinding into MP and MAP pieces: 1.430511474609375e-06\n",
      "Total time for MAP sublimb processing 2.1457672119140625e-06\n",
      "---- Working on MP Decomposition #0 ----\n",
      "Using Quicker soma_to_piece_touching_vertices because no MAP and only one sublimb_mesh piece \n",
      "MP filtering soma verts: 2.8848648071289062e-05\n",
      "Do Not Need to Fix MP Decomposition 0 so just continuing\n",
      "There were not both MAP and MP pieces so skipping the stitch resolving phase\n",
      "Time for decomp of Limb = 0.11359572410583496\n"
     ]
    },
    {
     "data": {
      "application/vnd.jupyter.widget-view+json": {
       "model_id": "a66ca81709ae4064a0f2b02e7900304f",
       "version_major": 2,
       "version_minor": 0
      },
      "text/plain": [
       "  0%|          | 0/2 [00:00<?, ?it/s]"
      ]
     },
     "metadata": {},
     "output_type": "display_data"
    },
    {
     "name": "stdout",
     "output_type": "stream",
     "text": [
      "Removed 2 skeletal branches\n",
      "There were no branches after cleaning limb correspondence\n"
     ]
    },
    {
     "data": {
      "application/vnd.jupyter.widget-view+json": {
       "model_id": "0cac3860ef2448228d4d37e39fb53a81",
       "version_major": 2,
       "version_minor": 0
      },
      "text/plain": [
       "Container(figure=Figure(box_center=[0.5, 0.5, 0.5], box_size=[1.0, 1.0, 1.0], camera=PerspectiveCamera(fov=45.…"
      ]
     },
     "metadata": {},
     "output_type": "display_data"
    },
    {
     "name": "stdout",
     "output_type": "stream",
     "text": [
      "--> time = 0.1802504062652588\n",
      "Floating 1: <trimesh.Trimesh(vertices.shape=(192, 3), faces.shape=(380, 3))>\n",
      "invalidation_d = 12000\n",
      "use_adaptive_invalidation_d= True\n",
      "axon_width_preprocess_limb_max = 200\n",
      "filter_end_node_length= 4000\n",
      "filter_end_node_length_meshparty = 1000\n",
      "invalidation_d = 12000\n",
      "root_curr = None\n",
      "Time for preparing soma vertices and root: 5.245208740234375e-06\n",
      "invalidation_d = 12000\n",
      "smooth_neighborhood = 1\n",
      "cc_vertex_thresh = 10\n"
     ]
    },
    {
     "name": "stderr",
     "output_type": "stream",
     "text": [
      "  0%|                                                                                             | 0/1 [00:00<?, ?it/s]"
     ]
    },
    {
     "data": {
      "application/vnd.jupyter.widget-view+json": {
       "model_id": "00333a9a932140c49a51664d9c7d8dfd",
       "version_major": 2,
       "version_minor": 0
      },
      "text/plain": [
       "  0%|          | 0/191 [00:00<?, ?it/s]"
      ]
     },
     "metadata": {},
     "output_type": "display_data"
    },
    {
     "name": "stderr",
     "output_type": "stream",
     "text": [
      "100%|█████████████████████████████████████████████████████████████████████████████████████| 1/1 [00:00<00:00, 69.19it/s]\n"
     ]
    },
    {
     "name": "stdout",
     "output_type": "stream",
     "text": [
      "meshparty_segment_size = 100\n",
      "Time for 1st pass MP skeletonization: 0.041651010513305664\n",
      "branches_touching_root = [0]\n",
      "combining close nodes\n",
      "combine_threshold = 700\n",
      "length of Graph = 9\n",
      "After combining close endpoints max(kept_branches_idx) = 0, len(kept_branches_idx) = 1\n",
      "empty_indices % = 0.0\n",
      " conflict_indices % = 0.0\n"
     ]
    },
    {
     "data": {
      "application/vnd.jupyter.widget-view+json": {
       "model_id": "a183664cf1314b79bc2ac06d86befb66",
       "version_major": 2,
       "version_minor": 0
      },
      "text/plain": [
       "0it [00:00, ?it/s]"
      ]
     },
     "metadata": {},
     "output_type": "display_data"
    },
    {
     "data": {
      "application/vnd.jupyter.widget-view+json": {
       "model_id": "9dd95c68428249afb21eec231876bdf8",
       "version_major": 2,
       "version_minor": 0
      },
      "text/plain": [
       "  0%|          | 0/1 [00:00<?, ?it/s]"
      ]
     },
     "metadata": {},
     "output_type": "display_data"
    },
    {
     "name": "stdout",
     "output_type": "stream",
     "text": [
      "widths = [inf]\n",
      "width_median= inf\n",
      "segment_widths_median = [inf]\n",
      "Decomposing first pass: 0.05243825912475586\n",
      "Attempting to use MeshAfterParty Skeletonization and Mesh Correspondence\n",
      "Another print\n",
      "Found len(mesh_large_idx) MAP candidates: [380]\n",
      "mesh_large_connectivity: 0.00012540817260742188\n",
      "Finding MAP candidates connected components: 6.604194641113281e-05\n",
      "Divinding into MP and MAP pieces: 1.430511474609375e-06\n",
      "Total time for MAP sublimb processing 2.1457672119140625e-06\n",
      "---- Working on MP Decomposition #0 ----\n",
      "Using Quicker soma_to_piece_touching_vertices because no MAP and only one sublimb_mesh piece \n",
      "MP filtering soma verts: 1.9311904907226562e-05\n",
      "Do Not Need to Fix MP Decomposition 0 so just continuing\n",
      "There were not both MAP and MP pieces so skipping the stitch resolving phase\n",
      "Time for decomp of Limb = 0.09555721282958984\n"
     ]
    },
    {
     "data": {
      "application/vnd.jupyter.widget-view+json": {
       "model_id": "eec9e4adcfba419bbe0543ba245133e9",
       "version_major": 2,
       "version_minor": 0
      },
      "text/plain": [
       "  0%|          | 0/2 [00:00<?, ?it/s]"
      ]
     },
     "metadata": {},
     "output_type": "display_data"
    },
    {
     "name": "stdout",
     "output_type": "stream",
     "text": [
      "Removed 2 skeletal branches\n",
      "There were no branches after cleaning limb correspondence\n"
     ]
    },
    {
     "data": {
      "application/vnd.jupyter.widget-view+json": {
       "model_id": "57d1a3bb5eb74e37aba38d6033e3297d",
       "version_major": 2,
       "version_minor": 0
      },
      "text/plain": [
       "Container(figure=Figure(box_center=[0.5, 0.5, 0.5], box_size=[1.0, 1.0, 1.0], camera=PerspectiveCamera(fov=45.…"
      ]
     },
     "metadata": {},
     "output_type": "display_data"
    },
    {
     "name": "stdout",
     "output_type": "stream",
     "text": [
      "--> time = 0.18229079246520996\n",
      "Floating 2: <trimesh.Trimesh(vertices.shape=(178, 3), faces.shape=(352, 3))>\n",
      "invalidation_d = 12000\n",
      "use_adaptive_invalidation_d= True\n",
      "axon_width_preprocess_limb_max = 200\n",
      "filter_end_node_length= 4000\n",
      "filter_end_node_length_meshparty = 1000\n",
      "invalidation_d = 12000\n",
      "root_curr = None\n",
      "Time for preparing soma vertices and root: 5.9604644775390625e-06\n",
      "invalidation_d = 12000\n",
      "smooth_neighborhood = 1\n",
      "cc_vertex_thresh = 10\n"
     ]
    },
    {
     "name": "stderr",
     "output_type": "stream",
     "text": [
      "  0%|                                                                                             | 0/1 [00:00<?, ?it/s]"
     ]
    },
    {
     "data": {
      "application/vnd.jupyter.widget-view+json": {
       "model_id": "4c44ef4c7687479c9f7861ced455ee61",
       "version_major": 2,
       "version_minor": 0
      },
      "text/plain": [
       "  0%|          | 0/177 [00:00<?, ?it/s]"
      ]
     },
     "metadata": {},
     "output_type": "display_data"
    },
    {
     "name": "stderr",
     "output_type": "stream",
     "text": [
      "100%|█████████████████████████████████████████████████████████████████████████████████████| 1/1 [00:00<00:00, 62.97it/s]\n"
     ]
    },
    {
     "name": "stdout",
     "output_type": "stream",
     "text": [
      "meshparty_segment_size = 100\n",
      "Time for 1st pass MP skeletonization: 0.035223960876464844\n",
      "branches_touching_root = [0]\n",
      "combining close nodes\n",
      "combine_threshold = 700\n",
      "length of Graph = 7\n",
      "After combining close endpoints max(kept_branches_idx) = 0, len(kept_branches_idx) = 1\n",
      "empty_indices % = 0.0\n",
      " conflict_indices % = 0.0\n"
     ]
    },
    {
     "data": {
      "application/vnd.jupyter.widget-view+json": {
       "model_id": "4c42d73201f74aa8b51d8a0da77edbf0",
       "version_major": 2,
       "version_minor": 0
      },
      "text/plain": [
       "0it [00:00, ?it/s]"
      ]
     },
     "metadata": {},
     "output_type": "display_data"
    },
    {
     "data": {
      "application/vnd.jupyter.widget-view+json": {
       "model_id": "f8b52df187494b9cbfc9244b595dc3db",
       "version_major": 2,
       "version_minor": 0
      },
      "text/plain": [
       "  0%|          | 0/1 [00:00<?, ?it/s]"
      ]
     },
     "metadata": {},
     "output_type": "display_data"
    },
    {
     "name": "stdout",
     "output_type": "stream",
     "text": [
      "widths = [inf]\n",
      "width_median= inf\n",
      "segment_widths_median = [inf]\n",
      "Decomposing first pass: 0.04543447494506836\n",
      "Attempting to use MeshAfterParty Skeletonization and Mesh Correspondence\n",
      "Another print\n",
      "Found len(mesh_large_idx) MAP candidates: [352]\n",
      "mesh_large_connectivity: 0.00013256072998046875\n",
      "Finding MAP candidates connected components: 7.224082946777344e-05\n",
      "Divinding into MP and MAP pieces: 1.430511474609375e-06\n",
      "Total time for MAP sublimb processing 2.384185791015625e-06\n",
      "---- Working on MP Decomposition #0 ----\n",
      "Using Quicker soma_to_piece_touching_vertices because no MAP and only one sublimb_mesh piece \n",
      "MP filtering soma verts: 2.1457672119140625e-05\n",
      "Do Not Need to Fix MP Decomposition 0 so just continuing\n",
      "There were not both MAP and MP pieces so skipping the stitch resolving phase\n",
      "Time for decomp of Limb = 0.08232808113098145\n"
     ]
    },
    {
     "data": {
      "application/vnd.jupyter.widget-view+json": {
       "model_id": "e8ec448c9b64408da8c9b3af8961d939",
       "version_major": 2,
       "version_minor": 0
      },
      "text/plain": [
       "  0%|          | 0/2 [00:00<?, ?it/s]"
      ]
     },
     "metadata": {},
     "output_type": "display_data"
    },
    {
     "name": "stdout",
     "output_type": "stream",
     "text": [
      "Removed 2 skeletal branches\n",
      "There were no branches after cleaning limb correspondence\n"
     ]
    },
    {
     "data": {
      "application/vnd.jupyter.widget-view+json": {
       "model_id": "09f1e2eaa6af46c1a51108bfe57b471b",
       "version_major": 2,
       "version_minor": 0
      },
      "text/plain": [
       "Container(figure=Figure(box_center=[0.5, 0.5, 0.5], box_size=[1.0, 1.0, 1.0], camera=PerspectiveCamera(fov=45.…"
      ]
     },
     "metadata": {},
     "output_type": "display_data"
    },
    {
     "name": "stdout",
     "output_type": "stream",
     "text": [
      "--> time = 0.13489794731140137\n",
      "Floating 3: <trimesh.Trimesh(vertices.shape=(145, 3), faces.shape=(286, 3))>\n",
      "invalidation_d = 12000\n",
      "use_adaptive_invalidation_d= True\n",
      "axon_width_preprocess_limb_max = 200\n",
      "filter_end_node_length= 4000\n",
      "filter_end_node_length_meshparty = 1000\n",
      "invalidation_d = 12000\n",
      "root_curr = None\n",
      "Time for preparing soma vertices and root: 5.4836273193359375e-06\n",
      "invalidation_d = 12000\n",
      "smooth_neighborhood = 1\n",
      "cc_vertex_thresh = 10\n"
     ]
    },
    {
     "name": "stderr",
     "output_type": "stream",
     "text": [
      "  0%|                                                                                             | 0/1 [00:00<?, ?it/s]"
     ]
    },
    {
     "data": {
      "application/vnd.jupyter.widget-view+json": {
       "model_id": "bdae023e920e49aeae8d4f83a2a08898",
       "version_major": 2,
       "version_minor": 0
      },
      "text/plain": [
       "  0%|          | 0/144 [00:00<?, ?it/s]"
      ]
     },
     "metadata": {},
     "output_type": "display_data"
    },
    {
     "name": "stderr",
     "output_type": "stream",
     "text": [
      "100%|█████████████████████████████████████████████████████████████████████████████████████| 1/1 [00:00<00:00, 61.16it/s]"
     ]
    },
    {
     "name": "stdout",
     "output_type": "stream",
     "text": [
      "meshparty_segment_size = 100\n",
      "Time for 1st pass MP skeletonization: 0.044446468353271484\n",
      "branches_touching_root = [0]\n",
      "combining close nodes\n",
      "combine_threshold = 700\n",
      "length of Graph = 7\n",
      "After combining close endpoints max(kept_branches_idx) = 0, len(kept_branches_idx) = 1\n",
      "empty_indices % = 0.0\n",
      " conflict_indices % = 0.0\n"
     ]
    },
    {
     "name": "stderr",
     "output_type": "stream",
     "text": [
      "\n"
     ]
    },
    {
     "data": {
      "application/vnd.jupyter.widget-view+json": {
       "model_id": "9114a76de2774c4fbf440caae22ba34b",
       "version_major": 2,
       "version_minor": 0
      },
      "text/plain": [
       "0it [00:00, ?it/s]"
      ]
     },
     "metadata": {},
     "output_type": "display_data"
    },
    {
     "data": {
      "application/vnd.jupyter.widget-view+json": {
       "model_id": "94668c8544534fb9aaeead36d5b6de8c",
       "version_major": 2,
       "version_minor": 0
      },
      "text/plain": [
       "  0%|          | 0/1 [00:00<?, ?it/s]"
      ]
     },
     "metadata": {},
     "output_type": "display_data"
    },
    {
     "name": "stdout",
     "output_type": "stream",
     "text": [
      "widths = [inf]\n",
      "width_median= inf\n",
      "segment_widths_median = [inf]\n",
      "Decomposing first pass: 0.053197383880615234\n",
      "Attempting to use MeshAfterParty Skeletonization and Mesh Correspondence\n",
      "Another print\n",
      "Found len(mesh_large_idx) MAP candidates: [286]\n",
      "mesh_large_connectivity: 0.00010561943054199219\n",
      "Finding MAP candidates connected components: 6.103515625e-05\n",
      "Divinding into MP and MAP pieces: 1.430511474609375e-06\n",
      "Total time for MAP sublimb processing 1.6689300537109375e-06\n",
      "---- Working on MP Decomposition #0 ----\n",
      "Using Quicker soma_to_piece_touching_vertices because no MAP and only one sublimb_mesh piece \n",
      "MP filtering soma verts: 1.8358230590820312e-05\n",
      "Do Not Need to Fix MP Decomposition 0 so just continuing\n",
      "There were not both MAP and MP pieces so skipping the stitch resolving phase\n",
      "Time for decomp of Limb = 0.09904646873474121\n"
     ]
    },
    {
     "data": {
      "application/vnd.jupyter.widget-view+json": {
       "model_id": "3fbf7b40c33b41ceb71f39e2ebbb2d90",
       "version_major": 2,
       "version_minor": 0
      },
      "text/plain": [
       "  0%|          | 0/2 [00:00<?, ?it/s]"
      ]
     },
     "metadata": {},
     "output_type": "display_data"
    },
    {
     "name": "stdout",
     "output_type": "stream",
     "text": [
      "Removed 2 skeletal branches\n",
      "There were no branches after cleaning limb correspondence\n"
     ]
    },
    {
     "data": {
      "application/vnd.jupyter.widget-view+json": {
       "model_id": "18438c5ea9ca4176910f15ddc200ba70",
       "version_major": 2,
       "version_minor": 0
      },
      "text/plain": [
       "Container(figure=Figure(box_center=[0.5, 0.5, 0.5], box_size=[1.0, 1.0, 1.0], camera=PerspectiveCamera(fov=45.…"
      ]
     },
     "metadata": {},
     "output_type": "display_data"
    },
    {
     "name": "stdout",
     "output_type": "stream",
     "text": [
      "--> time = 0.15956377983093262\n",
      "Floating 4: <trimesh.Trimesh(vertices.shape=(131, 3), faces.shape=(258, 3))>\n",
      "invalidation_d = 12000\n",
      "use_adaptive_invalidation_d= True\n",
      "axon_width_preprocess_limb_max = 200\n",
      "filter_end_node_length= 4000\n",
      "filter_end_node_length_meshparty = 1000\n",
      "invalidation_d = 12000\n",
      "root_curr = None\n",
      "Time for preparing soma vertices and root: 7.3909759521484375e-06\n",
      "invalidation_d = 12000\n",
      "smooth_neighborhood = 1\n",
      "cc_vertex_thresh = 10\n"
     ]
    },
    {
     "name": "stderr",
     "output_type": "stream",
     "text": [
      "  0%|                                                                                             | 0/1 [00:00<?, ?it/s]"
     ]
    },
    {
     "data": {
      "application/vnd.jupyter.widget-view+json": {
       "model_id": "901e8f99a70942a49361c58bd1888fe5",
       "version_major": 2,
       "version_minor": 0
      },
      "text/plain": [
       "  0%|          | 0/130 [00:00<?, ?it/s]"
      ]
     },
     "metadata": {},
     "output_type": "display_data"
    },
    {
     "name": "stderr",
     "output_type": "stream",
     "text": [
      "100%|█████████████████████████████████████████████████████████████████████████████████████| 1/1 [00:00<00:00, 65.40it/s]"
     ]
    },
    {
     "name": "stdout",
     "output_type": "stream",
     "text": [
      "meshparty_segment_size = 100\n",
      "Time for 1st pass MP skeletonization: 0.0379483699798584\n",
      "branches_touching_root = [0]\n"
     ]
    },
    {
     "name": "stderr",
     "output_type": "stream",
     "text": [
      "\n"
     ]
    },
    {
     "name": "stdout",
     "output_type": "stream",
     "text": [
      "combining close nodes\n",
      "combine_threshold = 700\n",
      "length of Graph = 9\n",
      "After combining close endpoints max(kept_branches_idx) = 0, len(kept_branches_idx) = 1\n",
      "empty_indices % = 0.0\n",
      " conflict_indices % = 0.0\n"
     ]
    },
    {
     "data": {
      "application/vnd.jupyter.widget-view+json": {
       "model_id": "b9dc4132f34b417f8255d52ae4cbd16e",
       "version_major": 2,
       "version_minor": 0
      },
      "text/plain": [
       "0it [00:00, ?it/s]"
      ]
     },
     "metadata": {},
     "output_type": "display_data"
    },
    {
     "data": {
      "application/vnd.jupyter.widget-view+json": {
       "model_id": "5e1a6991c6b54756bed610c6eeae52da",
       "version_major": 2,
       "version_minor": 0
      },
      "text/plain": [
       "  0%|          | 0/1 [00:00<?, ?it/s]"
      ]
     },
     "metadata": {},
     "output_type": "display_data"
    },
    {
     "name": "stdout",
     "output_type": "stream",
     "text": [
      "widths = [inf]\n",
      "width_median= inf\n",
      "segment_widths_median = [inf]\n",
      "Decomposing first pass: 0.05686306953430176\n",
      "Attempting to use MeshAfterParty Skeletonization and Mesh Correspondence\n",
      "Another print\n",
      "Found len(mesh_large_idx) MAP candidates: [258]\n",
      "mesh_large_connectivity: 0.00011420249938964844\n",
      "Finding MAP candidates connected components: 6.222724914550781e-05\n",
      "Divinding into MP and MAP pieces: 9.5367431640625e-07\n",
      "Total time for MAP sublimb processing 2.1457672119140625e-06\n",
      "---- Working on MP Decomposition #0 ----\n",
      "Using Quicker soma_to_piece_touching_vertices because no MAP and only one sublimb_mesh piece \n",
      "MP filtering soma verts: 1.8835067749023438e-05\n",
      "Do Not Need to Fix MP Decomposition 0 so just continuing\n",
      "There were not both MAP and MP pieces so skipping the stitch resolving phase\n",
      "Time for decomp of Limb = 0.09665083885192871\n"
     ]
    },
    {
     "data": {
      "application/vnd.jupyter.widget-view+json": {
       "model_id": "417be659593d4ae6acb15c42b79af933",
       "version_major": 2,
       "version_minor": 0
      },
      "text/plain": [
       "  0%|          | 0/2 [00:00<?, ?it/s]"
      ]
     },
     "metadata": {},
     "output_type": "display_data"
    },
    {
     "name": "stdout",
     "output_type": "stream",
     "text": [
      "Removed 2 skeletal branches\n",
      "There were no branches after cleaning limb correspondence\n"
     ]
    },
    {
     "data": {
      "application/vnd.jupyter.widget-view+json": {
       "model_id": "3960c51c5ee949968ffa3b5d1f2f2d1a",
       "version_major": 2,
       "version_minor": 0
      },
      "text/plain": [
       "Container(figure=Figure(box_center=[0.5, 0.5, 0.5], box_size=[1.0, 1.0, 1.0], camera=PerspectiveCamera(fov=45.…"
      ]
     },
     "metadata": {},
     "output_type": "display_data"
    },
    {
     "name": "stdout",
     "output_type": "stream",
     "text": [
      "--> time = 0.15491437911987305\n",
      "Floating 5: <trimesh.Trimesh(vertices.shape=(85, 3), faces.shape=(166, 3))>\n",
      "invalidation_d = 12000\n",
      "use_adaptive_invalidation_d= True\n",
      "axon_width_preprocess_limb_max = 200\n",
      "filter_end_node_length= 4000\n",
      "filter_end_node_length_meshparty = 1000\n",
      "invalidation_d = 12000\n",
      "root_curr = None\n",
      "Time for preparing soma vertices and root: 5.4836273193359375e-06\n",
      "invalidation_d = 12000\n",
      "smooth_neighborhood = 1\n",
      "cc_vertex_thresh = 10\n"
     ]
    },
    {
     "name": "stderr",
     "output_type": "stream",
     "text": [
      "  0%|                                                                                             | 0/1 [00:00<?, ?it/s]"
     ]
    },
    {
     "data": {
      "application/vnd.jupyter.widget-view+json": {
       "model_id": "fe4156dd10cb4ef4a4b64817d679a432",
       "version_major": 2,
       "version_minor": 0
      },
      "text/plain": [
       "  0%|          | 0/84 [00:00<?, ?it/s]"
      ]
     },
     "metadata": {},
     "output_type": "display_data"
    },
    {
     "name": "stderr",
     "output_type": "stream",
     "text": [
      "100%|█████████████████████████████████████████████████████████████████████████████████████| 1/1 [00:00<00:00, 75.08it/s]"
     ]
    },
    {
     "name": "stdout",
     "output_type": "stream",
     "text": [
      "meshparty_segment_size = 100\n",
      "Time for 1st pass MP skeletonization: 0.03535866737365723\n",
      "branches_touching_root = [0]\n",
      "combining close nodes\n",
      "combine_threshold = 700\n",
      "length of Graph = 7\n",
      "After combining close endpoints max(kept_branches_idx) = 0, len(kept_branches_idx) = 1\n"
     ]
    },
    {
     "name": "stderr",
     "output_type": "stream",
     "text": [
      "\n"
     ]
    },
    {
     "name": "stdout",
     "output_type": "stream",
     "text": [
      "empty_indices % = 0.0\n",
      " conflict_indices % = 0.0\n"
     ]
    },
    {
     "data": {
      "application/vnd.jupyter.widget-view+json": {
       "model_id": "03313dcacd1d4c3bae0625648b87fb34",
       "version_major": 2,
       "version_minor": 0
      },
      "text/plain": [
       "0it [00:00, ?it/s]"
      ]
     },
     "metadata": {},
     "output_type": "display_data"
    },
    {
     "data": {
      "application/vnd.jupyter.widget-view+json": {
       "model_id": "f8b17e1562cb441b847e8cbd409499ea",
       "version_major": 2,
       "version_minor": 0
      },
      "text/plain": [
       "  0%|          | 0/1 [00:00<?, ?it/s]"
      ]
     },
     "metadata": {},
     "output_type": "display_data"
    },
    {
     "name": "stdout",
     "output_type": "stream",
     "text": [
      "widths = [inf]\n",
      "width_median= inf\n",
      "segment_widths_median = [inf]\n",
      "Decomposing first pass: 0.0478363037109375\n",
      "Attempting to use MeshAfterParty Skeletonization and Mesh Correspondence\n",
      "Another print\n",
      "Found len(mesh_large_idx) MAP candidates: [166]\n",
      "mesh_large_connectivity: 0.00011897087097167969\n",
      "Finding MAP candidates connected components: 6.794929504394531e-05\n",
      "Divinding into MP and MAP pieces: 1.430511474609375e-06\n",
      "Total time for MAP sublimb processing 2.384185791015625e-06\n",
      "---- Working on MP Decomposition #0 ----\n",
      "Using Quicker soma_to_piece_touching_vertices because no MAP and only one sublimb_mesh piece \n",
      "MP filtering soma verts: 2.09808349609375e-05\n",
      "Do Not Need to Fix MP Decomposition 0 so just continuing\n",
      "There were not both MAP and MP pieces so skipping the stitch resolving phase\n",
      "Time for decomp of Limb = 0.0847010612487793\n"
     ]
    },
    {
     "data": {
      "application/vnd.jupyter.widget-view+json": {
       "model_id": "d53b039593d246b7ba35a23db1c4b420",
       "version_major": 2,
       "version_minor": 0
      },
      "text/plain": [
       "  0%|          | 0/2 [00:00<?, ?it/s]"
      ]
     },
     "metadata": {},
     "output_type": "display_data"
    },
    {
     "name": "stdout",
     "output_type": "stream",
     "text": [
      "Removed 2 skeletal branches\n",
      "There were no branches after cleaning limb correspondence\n"
     ]
    },
    {
     "data": {
      "application/vnd.jupyter.widget-view+json": {
       "model_id": "c63eb9955d964531adab8eb07bcdbc07",
       "version_major": 2,
       "version_minor": 0
      },
      "text/plain": [
       "Container(figure=Figure(box_center=[0.5, 0.5, 0.5], box_size=[1.0, 1.0, 1.0], camera=PerspectiveCamera(fov=45.…"
      ]
     },
     "metadata": {},
     "output_type": "display_data"
    },
    {
     "name": "stdout",
     "output_type": "stream",
     "text": [
      "--> time = 0.13653159141540527\n",
      "Floating 6: <trimesh.Trimesh(vertices.shape=(84, 3), faces.shape=(164, 3))>\n",
      "invalidation_d = 12000\n",
      "use_adaptive_invalidation_d= True\n",
      "axon_width_preprocess_limb_max = 200\n",
      "filter_end_node_length= 4000\n",
      "filter_end_node_length_meshparty = 1000\n",
      "invalidation_d = 12000\n",
      "root_curr = None\n",
      "Time for preparing soma vertices and root: 5.7220458984375e-06\n",
      "invalidation_d = 12000\n",
      "smooth_neighborhood = 1\n",
      "cc_vertex_thresh = 10\n"
     ]
    },
    {
     "name": "stderr",
     "output_type": "stream",
     "text": [
      "  0%|                                                                                             | 0/1 [00:00<?, ?it/s]"
     ]
    },
    {
     "data": {
      "application/vnd.jupyter.widget-view+json": {
       "model_id": "b0b71d72cf3c43f796d30b06ff544545",
       "version_major": 2,
       "version_minor": 0
      },
      "text/plain": [
       "  0%|          | 0/83 [00:00<?, ?it/s]"
      ]
     },
     "metadata": {},
     "output_type": "display_data"
    },
    {
     "name": "stderr",
     "output_type": "stream",
     "text": [
      "100%|█████████████████████████████████████████████████████████████████████████████████████| 1/1 [00:00<00:00, 51.33it/s]"
     ]
    },
    {
     "name": "stdout",
     "output_type": "stream",
     "text": [
      "meshparty_segment_size = 100\n",
      "Time for 1st pass MP skeletonization: 0.04212784767150879\n",
      "branches_touching_root = [0]\n",
      "combining close nodes\n",
      "combine_threshold = 700\n",
      "length of Graph = 10\n",
      "After combining close endpoints max(kept_branches_idx) = 0, len(kept_branches_idx) = 1\n",
      "empty_indices % = 0.0\n",
      " conflict_indices % = 0.0\n"
     ]
    },
    {
     "name": "stderr",
     "output_type": "stream",
     "text": [
      "\n"
     ]
    },
    {
     "data": {
      "application/vnd.jupyter.widget-view+json": {
       "model_id": "26410b18ebbe473683de67a0615d314e",
       "version_major": 2,
       "version_minor": 0
      },
      "text/plain": [
       "0it [00:00, ?it/s]"
      ]
     },
     "metadata": {},
     "output_type": "display_data"
    },
    {
     "data": {
      "application/vnd.jupyter.widget-view+json": {
       "model_id": "ea50024abdb647cca64d0269d7a36d68",
       "version_major": 2,
       "version_minor": 0
      },
      "text/plain": [
       "  0%|          | 0/1 [00:00<?, ?it/s]"
      ]
     },
     "metadata": {},
     "output_type": "display_data"
    },
    {
     "name": "stdout",
     "output_type": "stream",
     "text": [
      "widths = [inf]\n",
      "width_median= inf\n",
      "segment_widths_median = [inf]\n",
      "Decomposing first pass: 0.04099416732788086\n",
      "Attempting to use MeshAfterParty Skeletonization and Mesh Correspondence\n",
      "Another print\n",
      "Found len(mesh_large_idx) MAP candidates: [164]\n",
      "mesh_large_connectivity: 0.00011539459228515625\n",
      "Finding MAP candidates connected components: 8.249282836914062e-05\n",
      "Divinding into MP and MAP pieces: 1.9073486328125e-06\n",
      "Total time for MAP sublimb processing 2.384185791015625e-06\n",
      "---- Working on MP Decomposition #0 ----\n",
      "Using Quicker soma_to_piece_touching_vertices because no MAP and only one sublimb_mesh piece \n",
      "MP filtering soma verts: 1.9788742065429688e-05\n",
      "Do Not Need to Fix MP Decomposition 0 so just continuing\n",
      "There were not both MAP and MP pieces so skipping the stitch resolving phase\n",
      "Time for decomp of Limb = 0.0848231315612793\n"
     ]
    },
    {
     "data": {
      "application/vnd.jupyter.widget-view+json": {
       "model_id": "a5b439dafc7f4035bf3e15ee685fdf9c",
       "version_major": 2,
       "version_minor": 0
      },
      "text/plain": [
       "  0%|          | 0/2 [00:00<?, ?it/s]"
      ]
     },
     "metadata": {},
     "output_type": "display_data"
    },
    {
     "name": "stdout",
     "output_type": "stream",
     "text": [
      "Removed 2 skeletal branches\n",
      "There were no branches after cleaning limb correspondence\n"
     ]
    },
    {
     "data": {
      "application/vnd.jupyter.widget-view+json": {
       "model_id": "211df6bd9580459eab042884da70d808",
       "version_major": 2,
       "version_minor": 0
      },
      "text/plain": [
       "Container(figure=Figure(box_center=[0.5, 0.5, 0.5], box_size=[1.0, 1.0, 1.0], camera=PerspectiveCamera(fov=45.…"
      ]
     },
     "metadata": {},
     "output_type": "display_data"
    },
    {
     "name": "stdout",
     "output_type": "stream",
     "text": [
      "--> time = 0.14786458015441895\n",
      "Floating 7: <trimesh.Trimesh(vertices.shape=(83, 3), faces.shape=(162, 3))>\n",
      "invalidation_d = 12000\n",
      "use_adaptive_invalidation_d= True\n",
      "axon_width_preprocess_limb_max = 200\n",
      "filter_end_node_length= 4000\n",
      "filter_end_node_length_meshparty = 1000\n",
      "invalidation_d = 12000\n",
      "root_curr = None\n",
      "Time for preparing soma vertices and root: 5.4836273193359375e-06\n",
      "invalidation_d = 12000\n",
      "smooth_neighborhood = 1\n",
      "cc_vertex_thresh = 10\n"
     ]
    },
    {
     "name": "stderr",
     "output_type": "stream",
     "text": [
      "  0%|                                                                                             | 0/1 [00:00<?, ?it/s]"
     ]
    },
    {
     "data": {
      "application/vnd.jupyter.widget-view+json": {
       "model_id": "02928c8b84e34c73858a9eb1a0501142",
       "version_major": 2,
       "version_minor": 0
      },
      "text/plain": [
       "  0%|          | 0/82 [00:00<?, ?it/s]"
      ]
     },
     "metadata": {},
     "output_type": "display_data"
    },
    {
     "name": "stderr",
     "output_type": "stream",
     "text": [
      "100%|█████████████████████████████████████████████████████████████████████████████████████| 1/1 [00:00<00:00, 62.41it/s]"
     ]
    },
    {
     "name": "stdout",
     "output_type": "stream",
     "text": [
      "meshparty_segment_size = 100\n",
      "Time for 1st pass MP skeletonization: 0.05029416084289551\n",
      "branches_touching_root = [0]\n"
     ]
    },
    {
     "name": "stderr",
     "output_type": "stream",
     "text": [
      "\n"
     ]
    },
    {
     "name": "stdout",
     "output_type": "stream",
     "text": [
      "combining close nodes\n",
      "combine_threshold = 700\n",
      "length of Graph = 4\n",
      "After combining close endpoints max(kept_branches_idx) = 0, len(kept_branches_idx) = 1\n",
      "empty_indices % = 0.0\n",
      " conflict_indices % = 0.0\n"
     ]
    },
    {
     "data": {
      "application/vnd.jupyter.widget-view+json": {
       "model_id": "cbc7be0a0fed43eb99564158cbd9b16c",
       "version_major": 2,
       "version_minor": 0
      },
      "text/plain": [
       "0it [00:00, ?it/s]"
      ]
     },
     "metadata": {},
     "output_type": "display_data"
    },
    {
     "data": {
      "application/vnd.jupyter.widget-view+json": {
       "model_id": "30c8a9e498a249fa9ef6955d6c4eb1c2",
       "version_major": 2,
       "version_minor": 0
      },
      "text/plain": [
       "  0%|          | 0/1 [00:00<?, ?it/s]"
      ]
     },
     "metadata": {},
     "output_type": "display_data"
    },
    {
     "name": "stdout",
     "output_type": "stream",
     "text": [
      "widths = [inf]\n",
      "width_median= inf\n",
      "segment_widths_median = [inf]\n",
      "Decomposing first pass: 0.05594921112060547\n",
      "Attempting to use MeshAfterParty Skeletonization and Mesh Correspondence\n",
      "Another print\n",
      "Found len(mesh_large_idx) MAP candidates: [162]\n",
      "mesh_large_connectivity: 0.00012135505676269531\n",
      "Finding MAP candidates connected components: 6.389617919921875e-05\n",
      "Divinding into MP and MAP pieces: 9.5367431640625e-07\n",
      "Total time for MAP sublimb processing 2.384185791015625e-06\n",
      "---- Working on MP Decomposition #0 ----\n",
      "Using Quicker soma_to_piece_touching_vertices because no MAP and only one sublimb_mesh piece \n",
      "MP filtering soma verts: 1.9550323486328125e-05\n",
      "Do Not Need to Fix MP Decomposition 0 so just continuing\n",
      "There were not both MAP and MP pieces so skipping the stitch resolving phase\n",
      "Time for decomp of Limb = 0.10786843299865723\n"
     ]
    },
    {
     "data": {
      "application/vnd.jupyter.widget-view+json": {
       "model_id": "46b0c12bdede46c4bd9283e0a6cc682a",
       "version_major": 2,
       "version_minor": 0
      },
      "text/plain": [
       "  0%|          | 0/2 [00:00<?, ?it/s]"
      ]
     },
     "metadata": {},
     "output_type": "display_data"
    },
    {
     "name": "stdout",
     "output_type": "stream",
     "text": [
      "Removed 2 skeletal branches\n",
      "There were no branches after cleaning limb correspondence\n"
     ]
    },
    {
     "data": {
      "application/vnd.jupyter.widget-view+json": {
       "model_id": "13fba99c75b34f8e899e6df5936688c4",
       "version_major": 2,
       "version_minor": 0
      },
      "text/plain": [
       "Container(figure=Figure(box_center=[0.5, 0.5, 0.5], box_size=[1.0, 1.0, 1.0], camera=PerspectiveCamera(fov=45.…"
      ]
     },
     "metadata": {},
     "output_type": "display_data"
    },
    {
     "name": "stdout",
     "output_type": "stream",
     "text": [
      "--> time = 0.16194987297058105\n",
      "Floating 8: <trimesh.Trimesh(vertices.shape=(80, 3), faces.shape=(156, 3))>\n",
      "invalidation_d = 12000\n",
      "use_adaptive_invalidation_d= True\n",
      "axon_width_preprocess_limb_max = 200\n",
      "filter_end_node_length= 4000\n",
      "filter_end_node_length_meshparty = 1000\n",
      "invalidation_d = 12000\n",
      "root_curr = None\n",
      "Time for preparing soma vertices and root: 5.7220458984375e-06\n",
      "invalidation_d = 12000\n",
      "smooth_neighborhood = 1\n",
      "cc_vertex_thresh = 10\n"
     ]
    },
    {
     "name": "stderr",
     "output_type": "stream",
     "text": [
      "  0%|                                                                                             | 0/1 [00:00<?, ?it/s]"
     ]
    },
    {
     "data": {
      "application/vnd.jupyter.widget-view+json": {
       "model_id": "9dc86f6fda89455f9f1f0a3c87ce841a",
       "version_major": 2,
       "version_minor": 0
      },
      "text/plain": [
       "  0%|          | 0/79 [00:00<?, ?it/s]"
      ]
     },
     "metadata": {},
     "output_type": "display_data"
    },
    {
     "name": "stderr",
     "output_type": "stream",
     "text": [
      "100%|█████████████████████████████████████████████████████████████████████████████████████| 1/1 [00:00<00:00, 66.26it/s]"
     ]
    },
    {
     "name": "stdout",
     "output_type": "stream",
     "text": [
      "meshparty_segment_size = 100\n",
      "Time for 1st pass MP skeletonization: 0.03320026397705078\n",
      "branches_touching_root = [0]\n",
      "combining close nodes\n",
      "combine_threshold = 700\n",
      "length of Graph = 4\n"
     ]
    },
    {
     "name": "stderr",
     "output_type": "stream",
     "text": [
      "\n"
     ]
    },
    {
     "name": "stdout",
     "output_type": "stream",
     "text": [
      "After combining close endpoints max(kept_branches_idx) = 0, len(kept_branches_idx) = 1\n",
      "empty_indices % = 0.0\n",
      " conflict_indices % = 0.0\n"
     ]
    },
    {
     "data": {
      "application/vnd.jupyter.widget-view+json": {
       "model_id": "40152e5354384e49af2f39de01eb406c",
       "version_major": 2,
       "version_minor": 0
      },
      "text/plain": [
       "0it [00:00, ?it/s]"
      ]
     },
     "metadata": {},
     "output_type": "display_data"
    },
    {
     "data": {
      "application/vnd.jupyter.widget-view+json": {
       "model_id": "55b1eef822ab4a0289b9cf8c5112baff",
       "version_major": 2,
       "version_minor": 0
      },
      "text/plain": [
       "  0%|          | 0/1 [00:00<?, ?it/s]"
      ]
     },
     "metadata": {},
     "output_type": "display_data"
    },
    {
     "name": "stdout",
     "output_type": "stream",
     "text": [
      "widths = [inf]\n",
      "width_median= inf\n",
      "segment_widths_median = [inf]\n",
      "Decomposing first pass: 0.043923377990722656\n",
      "Attempting to use MeshAfterParty Skeletonization and Mesh Correspondence\n",
      "Another print\n",
      "Found len(mesh_large_idx) MAP candidates: [156]\n",
      "mesh_large_connectivity: 0.00013756752014160156\n",
      "Finding MAP candidates connected components: 7.390975952148438e-05\n",
      "Divinding into MP and MAP pieces: 1.430511474609375e-06\n",
      "Total time for MAP sublimb processing 2.86102294921875e-06\n",
      "---- Working on MP Decomposition #0 ----\n",
      "Using Quicker soma_to_piece_touching_vertices because no MAP and only one sublimb_mesh piece \n",
      "MP filtering soma verts: 2.5033950805664062e-05\n",
      "Do Not Need to Fix MP Decomposition 0 so just continuing\n",
      "There were not both MAP and MP pieces so skipping the stitch resolving phase\n",
      "Time for decomp of Limb = 0.07901620864868164\n"
     ]
    },
    {
     "data": {
      "application/vnd.jupyter.widget-view+json": {
       "model_id": "42709ee518684c888af822084a87fcbf",
       "version_major": 2,
       "version_minor": 0
      },
      "text/plain": [
       "  0%|          | 0/2 [00:00<?, ?it/s]"
      ]
     },
     "metadata": {},
     "output_type": "display_data"
    },
    {
     "name": "stdout",
     "output_type": "stream",
     "text": [
      "Removed 2 skeletal branches\n",
      "There were no branches after cleaning limb correspondence\n"
     ]
    },
    {
     "data": {
      "application/vnd.jupyter.widget-view+json": {
       "model_id": "48373ec6ac36490dbf77d9e9f7e93f1c",
       "version_major": 2,
       "version_minor": 0
      },
      "text/plain": [
       "Container(figure=Figure(box_center=[0.5, 0.5, 0.5], box_size=[1.0, 1.0, 1.0], camera=PerspectiveCamera(fov=45.…"
      ]
     },
     "metadata": {},
     "output_type": "display_data"
    },
    {
     "name": "stdout",
     "output_type": "stream",
     "text": [
      "--> time = 0.13918781280517578\n",
      "Floating 9: <trimesh.Trimesh(vertices.shape=(79, 3), faces.shape=(154, 3))>\n",
      "invalidation_d = 12000\n",
      "use_adaptive_invalidation_d= True\n",
      "axon_width_preprocess_limb_max = 200\n",
      "filter_end_node_length= 4000\n",
      "filter_end_node_length_meshparty = 1000\n",
      "invalidation_d = 12000\n",
      "root_curr = None\n",
      "Time for preparing soma vertices and root: 5.9604644775390625e-06\n",
      "invalidation_d = 12000\n",
      "smooth_neighborhood = 1\n",
      "cc_vertex_thresh = 10\n"
     ]
    },
    {
     "name": "stderr",
     "output_type": "stream",
     "text": [
      "  0%|                                                                                             | 0/1 [00:00<?, ?it/s]"
     ]
    },
    {
     "data": {
      "application/vnd.jupyter.widget-view+json": {
       "model_id": "bcc07413a78f4370839470045a18b2ba",
       "version_major": 2,
       "version_minor": 0
      },
      "text/plain": [
       "  0%|          | 0/78 [00:00<?, ?it/s]"
      ]
     },
     "metadata": {},
     "output_type": "display_data"
    },
    {
     "name": "stderr",
     "output_type": "stream",
     "text": [
      "100%|█████████████████████████████████████████████████████████████████████████████████████| 1/1 [00:00<00:00, 52.25it/s]"
     ]
    },
    {
     "name": "stdout",
     "output_type": "stream",
     "text": [
      "meshparty_segment_size = 100\n",
      "Time for 1st pass MP skeletonization: 0.0378413200378418\n",
      "branches_touching_root = [0]\n",
      "combining close nodes\n",
      "combine_threshold = 700\n",
      "length of Graph = 4\n",
      "After combining close endpoints max(kept_branches_idx) = 0, len(kept_branches_idx) = 1\n",
      "empty_indices % = 0.0\n",
      " conflict_indices % = 0.0\n"
     ]
    },
    {
     "name": "stderr",
     "output_type": "stream",
     "text": [
      "\n"
     ]
    },
    {
     "data": {
      "application/vnd.jupyter.widget-view+json": {
       "model_id": "c501e6ed0151488b9353e05d1df586a7",
       "version_major": 2,
       "version_minor": 0
      },
      "text/plain": [
       "0it [00:00, ?it/s]"
      ]
     },
     "metadata": {},
     "output_type": "display_data"
    },
    {
     "data": {
      "application/vnd.jupyter.widget-view+json": {
       "model_id": "28f522dac40146b0bca3d2f2ee8350c0",
       "version_major": 2,
       "version_minor": 0
      },
      "text/plain": [
       "  0%|          | 0/1 [00:00<?, ?it/s]"
      ]
     },
     "metadata": {},
     "output_type": "display_data"
    },
    {
     "name": "stdout",
     "output_type": "stream",
     "text": [
      "widths = [inf]\n",
      "width_median= inf\n",
      "segment_widths_median = [inf]\n",
      "Decomposing first pass: 0.04130220413208008\n",
      "Attempting to use MeshAfterParty Skeletonization and Mesh Correspondence\n",
      "Another print\n",
      "Found len(mesh_large_idx) MAP candidates: [154]\n",
      "mesh_large_connectivity: 0.00010418891906738281\n",
      "Finding MAP candidates connected components: 8.106231689453125e-05\n",
      "Divinding into MP and MAP pieces: 1.430511474609375e-06\n",
      "Total time for MAP sublimb processing 1.9073486328125e-06\n",
      "---- Working on MP Decomposition #0 ----\n",
      "Using Quicker soma_to_piece_touching_vertices because no MAP and only one sublimb_mesh piece \n",
      "MP filtering soma verts: 1.8835067749023438e-05\n",
      "Do Not Need to Fix MP Decomposition 0 so just continuing\n",
      "There were not both MAP and MP pieces so skipping the stitch resolving phase\n",
      "Time for decomp of Limb = 0.08070039749145508\n"
     ]
    },
    {
     "data": {
      "application/vnd.jupyter.widget-view+json": {
       "model_id": "f91a54a7aa7c40e1baf5878ab55ea02b",
       "version_major": 2,
       "version_minor": 0
      },
      "text/plain": [
       "  0%|          | 0/2 [00:00<?, ?it/s]"
      ]
     },
     "metadata": {},
     "output_type": "display_data"
    },
    {
     "name": "stdout",
     "output_type": "stream",
     "text": [
      "Removed 2 skeletal branches\n",
      "There were no branches after cleaning limb correspondence\n"
     ]
    },
    {
     "data": {
      "application/vnd.jupyter.widget-view+json": {
       "model_id": "0dd5c3820a5e467998b47535f6bc35ad",
       "version_major": 2,
       "version_minor": 0
      },
      "text/plain": [
       "Container(figure=Figure(box_center=[0.5, 0.5, 0.5], box_size=[1.0, 1.0, 1.0], camera=PerspectiveCamera(fov=45.…"
      ]
     },
     "metadata": {},
     "output_type": "display_data"
    },
    {
     "name": "stdout",
     "output_type": "stream",
     "text": [
      "--> time = 0.14169692993164062\n",
      "Floating 10: <trimesh.Trimesh(vertices.shape=(79, 3), faces.shape=(154, 3))>\n",
      "invalidation_d = 12000\n",
      "use_adaptive_invalidation_d= True\n",
      "axon_width_preprocess_limb_max = 200\n",
      "filter_end_node_length= 4000\n",
      "filter_end_node_length_meshparty = 1000\n",
      "invalidation_d = 12000\n",
      "root_curr = None\n",
      "Time for preparing soma vertices and root: 5.0067901611328125e-06\n",
      "invalidation_d = 12000\n",
      "smooth_neighborhood = 1\n",
      "cc_vertex_thresh = 10\n"
     ]
    },
    {
     "name": "stderr",
     "output_type": "stream",
     "text": [
      "  0%|                                                                                             | 0/1 [00:00<?, ?it/s]"
     ]
    },
    {
     "data": {
      "application/vnd.jupyter.widget-view+json": {
       "model_id": "5270969e59e64b7486bb2333b539561b",
       "version_major": 2,
       "version_minor": 0
      },
      "text/plain": [
       "  0%|          | 0/78 [00:00<?, ?it/s]"
      ]
     },
     "metadata": {},
     "output_type": "display_data"
    },
    {
     "name": "stderr",
     "output_type": "stream",
     "text": [
      "100%|█████████████████████████████████████████████████████████████████████████████████████| 1/1 [00:00<00:00, 69.43it/s]"
     ]
    },
    {
     "name": "stdout",
     "output_type": "stream",
     "text": [
      "meshparty_segment_size = 100\n",
      "Time for 1st pass MP skeletonization: 0.04438185691833496\n",
      "branches_touching_root = [0]\n",
      "combining close nodes\n",
      "combine_threshold = 700\n",
      "length of Graph = 6\n",
      "After combining close endpoints max(kept_branches_idx) = 0, len(kept_branches_idx) = 1\n",
      "empty_indices % = 0.0\n",
      " conflict_indices % = 0.0\n"
     ]
    },
    {
     "name": "stderr",
     "output_type": "stream",
     "text": [
      "\n"
     ]
    },
    {
     "data": {
      "application/vnd.jupyter.widget-view+json": {
       "model_id": "eb2795649497410289579801cb4afc3a",
       "version_major": 2,
       "version_minor": 0
      },
      "text/plain": [
       "0it [00:00, ?it/s]"
      ]
     },
     "metadata": {},
     "output_type": "display_data"
    },
    {
     "data": {
      "application/vnd.jupyter.widget-view+json": {
       "model_id": "048270fe07784ebb9b3e588dde15c179",
       "version_major": 2,
       "version_minor": 0
      },
      "text/plain": [
       "  0%|          | 0/1 [00:00<?, ?it/s]"
      ]
     },
     "metadata": {},
     "output_type": "display_data"
    },
    {
     "name": "stdout",
     "output_type": "stream",
     "text": [
      "widths = [inf]\n",
      "width_median= inf\n",
      "segment_widths_median = [inf]\n",
      "Decomposing first pass: 0.04659080505371094\n",
      "Attempting to use MeshAfterParty Skeletonization and Mesh Correspondence\n",
      "Another print\n",
      "Found len(mesh_large_idx) MAP candidates: [154]\n",
      "mesh_large_connectivity: 0.00012230873107910156\n",
      "Finding MAP candidates connected components: 0.00014066696166992188\n",
      "Divinding into MP and MAP pieces: 1.6689300537109375e-06\n",
      "Total time for MAP sublimb processing 2.86102294921875e-06\n",
      "---- Working on MP Decomposition #0 ----\n",
      "Using Quicker soma_to_piece_touching_vertices because no MAP and only one sublimb_mesh piece \n",
      "MP filtering soma verts: 2.4080276489257812e-05\n",
      "Do Not Need to Fix MP Decomposition 0 so just continuing\n",
      "There were not both MAP and MP pieces so skipping the stitch resolving phase\n",
      "Time for decomp of Limb = 0.09256577491760254\n"
     ]
    },
    {
     "data": {
      "application/vnd.jupyter.widget-view+json": {
       "model_id": "7efe07e70f1f4982840d047f92f29001",
       "version_major": 2,
       "version_minor": 0
      },
      "text/plain": [
       "  0%|          | 0/2 [00:00<?, ?it/s]"
      ]
     },
     "metadata": {},
     "output_type": "display_data"
    },
    {
     "name": "stdout",
     "output_type": "stream",
     "text": [
      "Removed 2 skeletal branches\n",
      "There were no branches after cleaning limb correspondence\n"
     ]
    },
    {
     "data": {
      "application/vnd.jupyter.widget-view+json": {
       "model_id": "744cd8f9ed824188b85520e71fcbed42",
       "version_major": 2,
       "version_minor": 0
      },
      "text/plain": [
       "Container(figure=Figure(box_center=[0.5, 0.5, 0.5], box_size=[1.0, 1.0, 1.0], camera=PerspectiveCamera(fov=45.…"
      ]
     },
     "metadata": {},
     "output_type": "display_data"
    },
    {
     "name": "stdout",
     "output_type": "stream",
     "text": [
      "--> time = 0.14613914489746094\n",
      "Floating 11: <trimesh.Trimesh(vertices.shape=(69, 3), faces.shape=(134, 3))>\n",
      "invalidation_d = 12000\n",
      "use_adaptive_invalidation_d= True\n",
      "axon_width_preprocess_limb_max = 200\n",
      "filter_end_node_length= 4000\n",
      "filter_end_node_length_meshparty = 1000\n",
      "invalidation_d = 12000\n",
      "root_curr = None\n",
      "Time for preparing soma vertices and root: 5.245208740234375e-06\n",
      "invalidation_d = 12000\n",
      "smooth_neighborhood = 1\n",
      "cc_vertex_thresh = 10\n"
     ]
    },
    {
     "name": "stderr",
     "output_type": "stream",
     "text": [
      "  0%|                                                                                             | 0/1 [00:00<?, ?it/s]"
     ]
    },
    {
     "data": {
      "application/vnd.jupyter.widget-view+json": {
       "model_id": "eaaffeedc09c4bd2b8f6ec5cc95f6732",
       "version_major": 2,
       "version_minor": 0
      },
      "text/plain": [
       "  0%|          | 0/68 [00:00<?, ?it/s]"
      ]
     },
     "metadata": {},
     "output_type": "display_data"
    },
    {
     "name": "stderr",
     "output_type": "stream",
     "text": [
      "100%|█████████████████████████████████████████████████████████████████████████████████████| 1/1 [00:00<00:00, 56.32it/s]"
     ]
    },
    {
     "name": "stdout",
     "output_type": "stream",
     "text": [
      "meshparty_segment_size = 100\n",
      "Time for 1st pass MP skeletonization: 0.04424405097961426\n",
      "branches_touching_root = [0]\n",
      "combining close nodes\n",
      "combine_threshold = 700\n",
      "length of Graph = 3\n",
      "After combining close endpoints max(kept_branches_idx) = 0, len(kept_branches_idx) = 1\n"
     ]
    },
    {
     "name": "stderr",
     "output_type": "stream",
     "text": [
      "\n"
     ]
    },
    {
     "name": "stdout",
     "output_type": "stream",
     "text": [
      "empty_indices % = 0.0\n",
      " conflict_indices % = 0.0\n"
     ]
    },
    {
     "data": {
      "application/vnd.jupyter.widget-view+json": {
       "model_id": "8bea27b48aa84ae4bf2608b9286e477f",
       "version_major": 2,
       "version_minor": 0
      },
      "text/plain": [
       "0it [00:00, ?it/s]"
      ]
     },
     "metadata": {},
     "output_type": "display_data"
    },
    {
     "data": {
      "application/vnd.jupyter.widget-view+json": {
       "model_id": "f7cbc2bd42da4032bb7020fe2d04caf0",
       "version_major": 2,
       "version_minor": 0
      },
      "text/plain": [
       "  0%|          | 0/1 [00:00<?, ?it/s]"
      ]
     },
     "metadata": {},
     "output_type": "display_data"
    },
    {
     "name": "stdout",
     "output_type": "stream",
     "text": [
      "widths = [inf]\n",
      "width_median= inf\n",
      "segment_widths_median = [inf]\n",
      "Decomposing first pass: 0.05666971206665039\n",
      "Attempting to use MeshAfterParty Skeletonization and Mesh Correspondence\n",
      "Another print\n",
      "Found len(mesh_large_idx) MAP candidates: [134]\n",
      "mesh_large_connectivity: 0.00010800361633300781\n",
      "Finding MAP candidates connected components: 6.341934204101562e-05\n",
      "Divinding into MP and MAP pieces: 9.5367431640625e-07\n",
      "Total time for MAP sublimb processing 2.1457672119140625e-06\n",
      "---- Working on MP Decomposition #0 ----\n",
      "Using Quicker soma_to_piece_touching_vertices because no MAP and only one sublimb_mesh piece \n",
      "MP filtering soma verts: 1.9073486328125e-05\n",
      "Do Not Need to Fix MP Decomposition 0 so just continuing\n",
      "There were not both MAP and MP pieces so skipping the stitch resolving phase\n",
      "Time for decomp of Limb = 0.10246872901916504\n"
     ]
    },
    {
     "data": {
      "application/vnd.jupyter.widget-view+json": {
       "model_id": "46846f90630948ce81c7a715ebc65549",
       "version_major": 2,
       "version_minor": 0
      },
      "text/plain": [
       "  0%|          | 0/2 [00:00<?, ?it/s]"
      ]
     },
     "metadata": {},
     "output_type": "display_data"
    },
    {
     "name": "stdout",
     "output_type": "stream",
     "text": [
      "Removed 2 skeletal branches\n",
      "There were no branches after cleaning limb correspondence\n"
     ]
    },
    {
     "data": {
      "application/vnd.jupyter.widget-view+json": {
       "model_id": "1306805056fb4bedada82419db5c5ddf",
       "version_major": 2,
       "version_minor": 0
      },
      "text/plain": [
       "Container(figure=Figure(box_center=[0.5, 0.5, 0.5], box_size=[1.0, 1.0, 1.0], camera=PerspectiveCamera(fov=45.…"
      ]
     },
     "metadata": {},
     "output_type": "display_data"
    },
    {
     "name": "stdout",
     "output_type": "stream",
     "text": [
      "--> time = 0.1531829833984375\n",
      "Floating 12: <trimesh.Trimesh(vertices.shape=(69, 3), faces.shape=(134, 3))>\n",
      "invalidation_d = 12000\n",
      "use_adaptive_invalidation_d= True\n",
      "axon_width_preprocess_limb_max = 200\n",
      "filter_end_node_length= 4000\n",
      "filter_end_node_length_meshparty = 1000\n",
      "invalidation_d = 12000\n",
      "root_curr = None\n",
      "Time for preparing soma vertices and root: 1.8358230590820312e-05\n",
      "invalidation_d = 12000\n",
      "smooth_neighborhood = 1\n",
      "cc_vertex_thresh = 10\n"
     ]
    },
    {
     "name": "stderr",
     "output_type": "stream",
     "text": [
      "  0%|                                                                                             | 0/1 [00:00<?, ?it/s]"
     ]
    },
    {
     "data": {
      "application/vnd.jupyter.widget-view+json": {
       "model_id": "95ed0449a5744ee18d07503cacbbabc3",
       "version_major": 2,
       "version_minor": 0
      },
      "text/plain": [
       "  0%|          | 0/68 [00:00<?, ?it/s]"
      ]
     },
     "metadata": {},
     "output_type": "display_data"
    },
    {
     "name": "stderr",
     "output_type": "stream",
     "text": [
      "100%|█████████████████████████████████████████████████████████████████████████████████████| 1/1 [00:00<00:00, 49.02it/s]"
     ]
    },
    {
     "name": "stdout",
     "output_type": "stream",
     "text": [
      "meshparty_segment_size = 100\n",
      "Time for 1st pass MP skeletonization: 0.04110360145568848\n",
      "branches_touching_root = [0]\n",
      "combining close nodes\n",
      "combine_threshold = 700\n",
      "length of Graph = 4\n",
      "After combining close endpoints max(kept_branches_idx) = 0, len(kept_branches_idx) = 1\n",
      "empty_indices % = 0.0\n",
      " conflict_indices % = 0.0\n"
     ]
    },
    {
     "name": "stderr",
     "output_type": "stream",
     "text": [
      "\n"
     ]
    },
    {
     "data": {
      "application/vnd.jupyter.widget-view+json": {
       "model_id": "e17e46636aef4b489e6e6a43c028f747",
       "version_major": 2,
       "version_minor": 0
      },
      "text/plain": [
       "0it [00:00, ?it/s]"
      ]
     },
     "metadata": {},
     "output_type": "display_data"
    },
    {
     "data": {
      "application/vnd.jupyter.widget-view+json": {
       "model_id": "8730c9a3527b4e3e85aa811ad11f8407",
       "version_major": 2,
       "version_minor": 0
      },
      "text/plain": [
       "  0%|          | 0/1 [00:00<?, ?it/s]"
      ]
     },
     "metadata": {},
     "output_type": "display_data"
    },
    {
     "name": "stdout",
     "output_type": "stream",
     "text": [
      "widths = [inf]\n",
      "width_median= inf\n",
      "segment_widths_median = [inf]\n",
      "Decomposing first pass: 0.04262542724609375\n",
      "Attempting to use MeshAfterParty Skeletonization and Mesh Correspondence\n",
      "Another print\n",
      "Found len(mesh_large_idx) MAP candidates: [134]\n",
      "mesh_large_connectivity: 0.00011444091796875\n",
      "Finding MAP candidates connected components: 6.461143493652344e-05\n",
      "Divinding into MP and MAP pieces: 1.1920928955078125e-06\n",
      "Total time for MAP sublimb processing 2.86102294921875e-06\n",
      "---- Working on MP Decomposition #0 ----\n",
      "Using Quicker soma_to_piece_touching_vertices because no MAP and only one sublimb_mesh piece \n",
      "MP filtering soma verts: 1.8835067749023438e-05\n",
      "Do Not Need to Fix MP Decomposition 0 so just continuing\n",
      "There were not both MAP and MP pieces so skipping the stitch resolving phase\n",
      "Time for decomp of Limb = 0.08518314361572266\n"
     ]
    },
    {
     "data": {
      "application/vnd.jupyter.widget-view+json": {
       "model_id": "1dafe7f437194c69b44235ef92aa9d7e",
       "version_major": 2,
       "version_minor": 0
      },
      "text/plain": [
       "  0%|          | 0/2 [00:00<?, ?it/s]"
      ]
     },
     "metadata": {},
     "output_type": "display_data"
    },
    {
     "name": "stdout",
     "output_type": "stream",
     "text": [
      "Removed 2 skeletal branches\n",
      "There were no branches after cleaning limb correspondence\n"
     ]
    },
    {
     "data": {
      "application/vnd.jupyter.widget-view+json": {
       "model_id": "a63f2994b3bd4d8d8157367216edb760",
       "version_major": 2,
       "version_minor": 0
      },
      "text/plain": [
       "Container(figure=Figure(box_center=[0.5, 0.5, 0.5], box_size=[1.0, 1.0, 1.0], camera=PerspectiveCamera(fov=45.…"
      ]
     },
     "metadata": {},
     "output_type": "display_data"
    },
    {
     "name": "stdout",
     "output_type": "stream",
     "text": [
      "--> time = 0.13525700569152832\n",
      "Floating 13: <trimesh.Trimesh(vertices.shape=(66, 3), faces.shape=(128, 3))>\n",
      "invalidation_d = 12000\n",
      "use_adaptive_invalidation_d= True\n",
      "axon_width_preprocess_limb_max = 200\n",
      "filter_end_node_length= 4000\n",
      "filter_end_node_length_meshparty = 1000\n",
      "invalidation_d = 12000\n",
      "root_curr = None\n",
      "Time for preparing soma vertices and root: 1.7642974853515625e-05\n",
      "invalidation_d = 12000\n",
      "smooth_neighborhood = 1\n",
      "cc_vertex_thresh = 10\n"
     ]
    },
    {
     "name": "stderr",
     "output_type": "stream",
     "text": [
      "  0%|                                                                                             | 0/1 [00:00<?, ?it/s]"
     ]
    },
    {
     "data": {
      "application/vnd.jupyter.widget-view+json": {
       "model_id": "3f38b07bb87e4c8c96f5a7fd2a9ed011",
       "version_major": 2,
       "version_minor": 0
      },
      "text/plain": [
       "  0%|          | 0/65 [00:00<?, ?it/s]"
      ]
     },
     "metadata": {},
     "output_type": "display_data"
    },
    {
     "name": "stderr",
     "output_type": "stream",
     "text": [
      "100%|█████████████████████████████████████████████████████████████████████████████████████| 1/1 [00:00<00:00, 70.36it/s]"
     ]
    },
    {
     "name": "stdout",
     "output_type": "stream",
     "text": [
      "meshparty_segment_size = 100\n",
      "Time for 1st pass MP skeletonization: 0.04186725616455078\n",
      "branches_touching_root = [0]\n",
      "combining close nodes\n",
      "combine_threshold = 700\n",
      "length of Graph = 9\n",
      "After combining close endpoints max(kept_branches_idx) = 0, len(kept_branches_idx) = 1\n",
      "empty_indices % = 0.0\n",
      " conflict_indices % = 0.0\n"
     ]
    },
    {
     "name": "stderr",
     "output_type": "stream",
     "text": [
      "\n"
     ]
    },
    {
     "data": {
      "application/vnd.jupyter.widget-view+json": {
       "model_id": "1bbbac182b94455d9480ff1fdd452762",
       "version_major": 2,
       "version_minor": 0
      },
      "text/plain": [
       "0it [00:00, ?it/s]"
      ]
     },
     "metadata": {},
     "output_type": "display_data"
    },
    {
     "data": {
      "application/vnd.jupyter.widget-view+json": {
       "model_id": "08a407080a4948bdb99a98481c19580c",
       "version_major": 2,
       "version_minor": 0
      },
      "text/plain": [
       "  0%|          | 0/1 [00:00<?, ?it/s]"
      ]
     },
     "metadata": {},
     "output_type": "display_data"
    },
    {
     "name": "stdout",
     "output_type": "stream",
     "text": [
      "widths = [inf]\n",
      "width_median= inf\n",
      "segment_widths_median = [inf]\n",
      "Decomposing first pass: 0.049187421798706055\n",
      "Attempting to use MeshAfterParty Skeletonization and Mesh Correspondence\n",
      "Another print\n",
      "Found len(mesh_large_idx) MAP candidates: [128]\n",
      "mesh_large_connectivity: 0.00011229515075683594\n",
      "Finding MAP candidates connected components: 6.556510925292969e-05\n",
      "Divinding into MP and MAP pieces: 9.5367431640625e-07\n",
      "Total time for MAP sublimb processing 2.1457672119140625e-06\n",
      "---- Working on MP Decomposition #0 ----\n",
      "Using Quicker soma_to_piece_touching_vertices because no MAP and only one sublimb_mesh piece \n",
      "MP filtering soma verts: 1.9073486328125e-05\n",
      "Do Not Need to Fix MP Decomposition 0 so just continuing\n",
      "There were not both MAP and MP pieces so skipping the stitch resolving phase\n",
      "Time for decomp of Limb = 0.09325289726257324\n"
     ]
    },
    {
     "data": {
      "application/vnd.jupyter.widget-view+json": {
       "model_id": "087d5a88073845cf9b0dcbf7ea0d876e",
       "version_major": 2,
       "version_minor": 0
      },
      "text/plain": [
       "  0%|          | 0/2 [00:00<?, ?it/s]"
      ]
     },
     "metadata": {},
     "output_type": "display_data"
    },
    {
     "name": "stdout",
     "output_type": "stream",
     "text": [
      "Removed 2 skeletal branches\n",
      "There were no branches after cleaning limb correspondence\n"
     ]
    },
    {
     "data": {
      "application/vnd.jupyter.widget-view+json": {
       "model_id": "cf13875789a74d8c8c1969797478c546",
       "version_major": 2,
       "version_minor": 0
      },
      "text/plain": [
       "Container(figure=Figure(box_center=[0.5, 0.5, 0.5], box_size=[1.0, 1.0, 1.0], camera=PerspectiveCamera(fov=45.…"
      ]
     },
     "metadata": {},
     "output_type": "display_data"
    },
    {
     "name": "stdout",
     "output_type": "stream",
     "text": [
      "--> time = 0.14149951934814453\n",
      "Floating 14: <trimesh.Trimesh(vertices.shape=(63, 3), faces.shape=(122, 3))>\n",
      "invalidation_d = 12000\n",
      "use_adaptive_invalidation_d= True\n",
      "axon_width_preprocess_limb_max = 200\n",
      "filter_end_node_length= 4000\n",
      "filter_end_node_length_meshparty = 1000\n",
      "invalidation_d = 12000\n",
      "root_curr = None\n",
      "Time for preparing soma vertices and root: 5.4836273193359375e-06\n",
      "invalidation_d = 12000\n",
      "smooth_neighborhood = 1\n",
      "cc_vertex_thresh = 10\n"
     ]
    },
    {
     "name": "stderr",
     "output_type": "stream",
     "text": [
      "  0%|                                                                                             | 0/1 [00:00<?, ?it/s]"
     ]
    },
    {
     "data": {
      "application/vnd.jupyter.widget-view+json": {
       "model_id": "6732fad0fcee480a8bd9159bb7737a7f",
       "version_major": 2,
       "version_minor": 0
      },
      "text/plain": [
       "  0%|          | 0/62 [00:00<?, ?it/s]"
      ]
     },
     "metadata": {},
     "output_type": "display_data"
    },
    {
     "name": "stderr",
     "output_type": "stream",
     "text": [
      "100%|█████████████████████████████████████████████████████████████████████████████████████| 1/1 [00:00<00:00, 57.41it/s]"
     ]
    },
    {
     "name": "stdout",
     "output_type": "stream",
     "text": [
      "meshparty_segment_size = 100\n",
      "Time for 1st pass MP skeletonization: 0.04632425308227539\n",
      "branches_touching_root = [0]\n",
      "combining close nodes\n",
      "combine_threshold = 700\n",
      "length of Graph = 4\n",
      "After combining close endpoints max(kept_branches_idx) = 0, len(kept_branches_idx) = 1\n",
      "empty_indices % = 0.0\n",
      " conflict_indices % = 0.0\n"
     ]
    },
    {
     "name": "stderr",
     "output_type": "stream",
     "text": [
      "\n"
     ]
    },
    {
     "data": {
      "application/vnd.jupyter.widget-view+json": {
       "model_id": "3d5a606cd54540a58da7cc46d98c2924",
       "version_major": 2,
       "version_minor": 0
      },
      "text/plain": [
       "0it [00:00, ?it/s]"
      ]
     },
     "metadata": {},
     "output_type": "display_data"
    },
    {
     "data": {
      "application/vnd.jupyter.widget-view+json": {
       "model_id": "aa5bcb9813f54800b76c02b7e2bd838f",
       "version_major": 2,
       "version_minor": 0
      },
      "text/plain": [
       "  0%|          | 0/1 [00:00<?, ?it/s]"
      ]
     },
     "metadata": {},
     "output_type": "display_data"
    },
    {
     "name": "stdout",
     "output_type": "stream",
     "text": [
      "widths = [inf]\n",
      "width_median= inf\n",
      "segment_widths_median = [inf]\n",
      "Decomposing first pass: 0.04078102111816406\n",
      "Attempting to use MeshAfterParty Skeletonization and Mesh Correspondence\n",
      "Another print\n",
      "Found len(mesh_large_idx) MAP candidates: [122]\n",
      "mesh_large_connectivity: 0.0001380443572998047\n",
      "Finding MAP candidates connected components: 7.009506225585938e-05\n",
      "Divinding into MP and MAP pieces: 1.1920928955078125e-06\n",
      "Total time for MAP sublimb processing 2.1457672119140625e-06\n",
      "---- Working on MP Decomposition #0 ----\n",
      "Using Quicker soma_to_piece_touching_vertices because no MAP and only one sublimb_mesh piece \n",
      "MP filtering soma verts: 1.8596649169921875e-05\n",
      "Do Not Need to Fix MP Decomposition 0 so just continuing\n",
      "There were not both MAP and MP pieces so skipping the stitch resolving phase\n",
      "Time for decomp of Limb = 0.08866381645202637\n"
     ]
    },
    {
     "data": {
      "application/vnd.jupyter.widget-view+json": {
       "model_id": "796125874cb7476f805a2b9c9f5dcd78",
       "version_major": 2,
       "version_minor": 0
      },
      "text/plain": [
       "  0%|          | 0/2 [00:00<?, ?it/s]"
      ]
     },
     "metadata": {},
     "output_type": "display_data"
    },
    {
     "name": "stdout",
     "output_type": "stream",
     "text": [
      "Removed 2 skeletal branches\n",
      "There were no branches after cleaning limb correspondence\n"
     ]
    },
    {
     "data": {
      "application/vnd.jupyter.widget-view+json": {
       "model_id": "55653dd956b74c6fa98ff54c636cda52",
       "version_major": 2,
       "version_minor": 0
      },
      "text/plain": [
       "Container(figure=Figure(box_center=[0.5, 0.5, 0.5], box_size=[1.0, 1.0, 1.0], camera=PerspectiveCamera(fov=45.…"
      ]
     },
     "metadata": {},
     "output_type": "display_data"
    },
    {
     "name": "stdout",
     "output_type": "stream",
     "text": [
      "--> time = 0.14649009704589844\n",
      "Floating 15: <trimesh.Trimesh(vertices.shape=(62, 3), faces.shape=(120, 3))>\n",
      "invalidation_d = 12000\n",
      "use_adaptive_invalidation_d= True\n",
      "axon_width_preprocess_limb_max = 200\n",
      "filter_end_node_length= 4000\n",
      "filter_end_node_length_meshparty = 1000\n",
      "invalidation_d = 12000\n",
      "root_curr = None\n",
      "Time for preparing soma vertices and root: 5.9604644775390625e-06\n",
      "invalidation_d = 12000\n",
      "smooth_neighborhood = 1\n",
      "cc_vertex_thresh = 10\n"
     ]
    },
    {
     "name": "stderr",
     "output_type": "stream",
     "text": [
      "  0%|                                                                                             | 0/1 [00:00<?, ?it/s]"
     ]
    },
    {
     "data": {
      "application/vnd.jupyter.widget-view+json": {
       "model_id": "48ed458fc01e410d806143a7555a46ff",
       "version_major": 2,
       "version_minor": 0
      },
      "text/plain": [
       "  0%|          | 0/61 [00:00<?, ?it/s]"
      ]
     },
     "metadata": {},
     "output_type": "display_data"
    },
    {
     "name": "stderr",
     "output_type": "stream",
     "text": [
      "100%|█████████████████████████████████████████████████████████████████████████████████████| 1/1 [00:00<00:00, 75.01it/s]"
     ]
    },
    {
     "name": "stdout",
     "output_type": "stream",
     "text": [
      "meshparty_segment_size = 100\n",
      "Time for 1st pass MP skeletonization: 0.032991647720336914\n",
      "branches_touching_root = [0]\n",
      "combining close nodes\n",
      "combine_threshold = 700\n",
      "length of Graph = 4\n",
      "After combining close endpoints max(kept_branches_idx) = 0, len(kept_branches_idx) = 1\n",
      "empty_indices % = 0.0\n",
      " conflict_indices % = 0.0\n"
     ]
    },
    {
     "name": "stderr",
     "output_type": "stream",
     "text": [
      "\n"
     ]
    },
    {
     "data": {
      "application/vnd.jupyter.widget-view+json": {
       "model_id": "299d111400f84063bdc08f29649f967b",
       "version_major": 2,
       "version_minor": 0
      },
      "text/plain": [
       "0it [00:00, ?it/s]"
      ]
     },
     "metadata": {},
     "output_type": "display_data"
    },
    {
     "data": {
      "application/vnd.jupyter.widget-view+json": {
       "model_id": "48c9c69f20b449839cd51042c688466c",
       "version_major": 2,
       "version_minor": 0
      },
      "text/plain": [
       "  0%|          | 0/1 [00:00<?, ?it/s]"
      ]
     },
     "metadata": {},
     "output_type": "display_data"
    },
    {
     "name": "stdout",
     "output_type": "stream",
     "text": [
      "widths = [inf]\n",
      "width_median= inf\n",
      "segment_widths_median = [inf]\n",
      "Decomposing first pass: 0.04222679138183594\n",
      "Attempting to use MeshAfterParty Skeletonization and Mesh Correspondence\n",
      "Another print\n",
      "Found len(mesh_large_idx) MAP candidates: [120]\n",
      "mesh_large_connectivity: 0.00012612342834472656\n",
      "Finding MAP candidates connected components: 6.818771362304688e-05\n",
      "Divinding into MP and MAP pieces: 1.1920928955078125e-06\n",
      "Total time for MAP sublimb processing 2.6226043701171875e-06\n",
      "---- Working on MP Decomposition #0 ----\n",
      "Using Quicker soma_to_piece_touching_vertices because no MAP and only one sublimb_mesh piece \n",
      "MP filtering soma verts: 2.002716064453125e-05\n",
      "Do Not Need to Fix MP Decomposition 0 so just continuing\n",
      "There were not both MAP and MP pieces so skipping the stitch resolving phase\n",
      "Time for decomp of Limb = 0.07670974731445312\n"
     ]
    },
    {
     "data": {
      "application/vnd.jupyter.widget-view+json": {
       "model_id": "d294290ad6484dd2b5bbdbb63b292e09",
       "version_major": 2,
       "version_minor": 0
      },
      "text/plain": [
       "  0%|          | 0/2 [00:00<?, ?it/s]"
      ]
     },
     "metadata": {},
     "output_type": "display_data"
    },
    {
     "name": "stdout",
     "output_type": "stream",
     "text": [
      "Removed 2 skeletal branches\n",
      "There were no branches after cleaning limb correspondence\n"
     ]
    },
    {
     "data": {
      "application/vnd.jupyter.widget-view+json": {
       "model_id": "90a9e3124b434151bd91744a06deb3a5",
       "version_major": 2,
       "version_minor": 0
      },
      "text/plain": [
       "Container(figure=Figure(box_center=[0.5, 0.5, 0.5], box_size=[1.0, 1.0, 1.0], camera=PerspectiveCamera(fov=45.…"
      ]
     },
     "metadata": {},
     "output_type": "display_data"
    },
    {
     "name": "stdout",
     "output_type": "stream",
     "text": [
      "--> time = 0.12338781356811523\n",
      "Floating 16: <trimesh.Trimesh(vertices.shape=(62, 3), faces.shape=(120, 3))>\n",
      "invalidation_d = 12000\n",
      "use_adaptive_invalidation_d= True\n",
      "axon_width_preprocess_limb_max = 200\n",
      "filter_end_node_length= 4000\n",
      "filter_end_node_length_meshparty = 1000\n",
      "invalidation_d = 12000\n",
      "root_curr = None\n",
      "Time for preparing soma vertices and root: 5.4836273193359375e-06\n",
      "invalidation_d = 12000\n",
      "smooth_neighborhood = 1\n",
      "cc_vertex_thresh = 10\n"
     ]
    },
    {
     "name": "stderr",
     "output_type": "stream",
     "text": [
      "  0%|                                                                                             | 0/1 [00:00<?, ?it/s]"
     ]
    },
    {
     "data": {
      "application/vnd.jupyter.widget-view+json": {
       "model_id": "70e233bbecfa4b409c6694e167aa590b",
       "version_major": 2,
       "version_minor": 0
      },
      "text/plain": [
       "  0%|          | 0/61 [00:00<?, ?it/s]"
      ]
     },
     "metadata": {},
     "output_type": "display_data"
    },
    {
     "name": "stderr",
     "output_type": "stream",
     "text": [
      "100%|█████████████████████████████████████████████████████████████████████████████████████| 1/1 [00:00<00:00, 75.94it/s]"
     ]
    },
    {
     "name": "stdout",
     "output_type": "stream",
     "text": [
      "meshparty_segment_size = 100\n",
      "Time for 1st pass MP skeletonization: 0.033922433853149414\n",
      "branches_touching_root = [0]\n",
      "combining close nodes\n",
      "combine_threshold = 700\n",
      "length of Graph = 3\n",
      "After combining close endpoints max(kept_branches_idx) = 0, len(kept_branches_idx) = 1\n",
      "empty_indices % = 0.0\n",
      " conflict_indices % = 0.0\n"
     ]
    },
    {
     "name": "stderr",
     "output_type": "stream",
     "text": [
      "\n"
     ]
    },
    {
     "data": {
      "application/vnd.jupyter.widget-view+json": {
       "model_id": "a9ede64286d24ea486cfaa834585fcab",
       "version_major": 2,
       "version_minor": 0
      },
      "text/plain": [
       "0it [00:00, ?it/s]"
      ]
     },
     "metadata": {},
     "output_type": "display_data"
    },
    {
     "data": {
      "application/vnd.jupyter.widget-view+json": {
       "model_id": "44b2b879fd72408680829683652662cf",
       "version_major": 2,
       "version_minor": 0
      },
      "text/plain": [
       "  0%|          | 0/1 [00:00<?, ?it/s]"
      ]
     },
     "metadata": {},
     "output_type": "display_data"
    },
    {
     "name": "stdout",
     "output_type": "stream",
     "text": [
      "widths = [inf]\n",
      "width_median= inf\n",
      "segment_widths_median = [inf]\n",
      "Decomposing first pass: 0.05254364013671875\n",
      "Attempting to use MeshAfterParty Skeletonization and Mesh Correspondence\n",
      "Another print\n",
      "Found len(mesh_large_idx) MAP candidates: [120]\n",
      "mesh_large_connectivity: 0.00012254714965820312\n",
      "Finding MAP candidates connected components: 6.866455078125e-05\n",
      "Divinding into MP and MAP pieces: 1.1920928955078125e-06\n",
      "Total time for MAP sublimb processing 2.384185791015625e-06\n",
      "---- Working on MP Decomposition #0 ----\n",
      "Using Quicker soma_to_piece_touching_vertices because no MAP and only one sublimb_mesh piece \n",
      "MP filtering soma verts: 2.0503997802734375e-05\n",
      "Do Not Need to Fix MP Decomposition 0 so just continuing\n",
      "There were not both MAP and MP pieces so skipping the stitch resolving phase\n",
      "Time for decomp of Limb = 0.08805513381958008\n"
     ]
    },
    {
     "data": {
      "application/vnd.jupyter.widget-view+json": {
       "model_id": "3488cd2c15cb4881816b147e4e9a2f78",
       "version_major": 2,
       "version_minor": 0
      },
      "text/plain": [
       "  0%|          | 0/2 [00:00<?, ?it/s]"
      ]
     },
     "metadata": {},
     "output_type": "display_data"
    },
    {
     "name": "stdout",
     "output_type": "stream",
     "text": [
      "Removed 2 skeletal branches\n",
      "There were no branches after cleaning limb correspondence\n"
     ]
    },
    {
     "data": {
      "application/vnd.jupyter.widget-view+json": {
       "model_id": "35dd5dafaa22478db64cf16a98ce53cb",
       "version_major": 2,
       "version_minor": 0
      },
      "text/plain": [
       "Container(figure=Figure(box_center=[0.5, 0.5, 0.5], box_size=[1.0, 1.0, 1.0], camera=PerspectiveCamera(fov=45.…"
      ]
     },
     "metadata": {},
     "output_type": "display_data"
    },
    {
     "name": "stdout",
     "output_type": "stream",
     "text": [
      "--> time = 0.1374950408935547\n",
      "Floating 17: <trimesh.Trimesh(vertices.shape=(61, 3), faces.shape=(118, 3))>\n",
      "invalidation_d = 12000\n",
      "use_adaptive_invalidation_d= True\n",
      "axon_width_preprocess_limb_max = 200\n",
      "filter_end_node_length= 4000\n",
      "filter_end_node_length_meshparty = 1000\n",
      "invalidation_d = 12000\n",
      "root_curr = None\n",
      "Time for preparing soma vertices and root: 6.198883056640625e-06\n",
      "invalidation_d = 12000\n",
      "smooth_neighborhood = 1\n",
      "cc_vertex_thresh = 10\n"
     ]
    },
    {
     "name": "stderr",
     "output_type": "stream",
     "text": [
      "  0%|                                                                                             | 0/1 [00:00<?, ?it/s]"
     ]
    },
    {
     "data": {
      "application/vnd.jupyter.widget-view+json": {
       "model_id": "cb602eaafc5f44fe95fe3abfe1e12a46",
       "version_major": 2,
       "version_minor": 0
      },
      "text/plain": [
       "  0%|          | 0/60 [00:00<?, ?it/s]"
      ]
     },
     "metadata": {},
     "output_type": "display_data"
    },
    {
     "name": "stderr",
     "output_type": "stream",
     "text": [
      "100%|█████████████████████████████████████████████████████████████████████████████████████| 1/1 [00:00<00:00, 74.57it/s]"
     ]
    },
    {
     "name": "stdout",
     "output_type": "stream",
     "text": [
      "meshparty_segment_size = 100\n",
      "Time for 1st pass MP skeletonization: 0.036231279373168945\n",
      "branches_touching_root = [0]\n",
      "combining close nodes\n",
      "combine_threshold = 700\n",
      "length of Graph = 3\n",
      "After combining close endpoints max(kept_branches_idx) = 0, len(kept_branches_idx) = 1\n",
      "empty_indices % = 0.0\n",
      " conflict_indices % = 0.0\n"
     ]
    },
    {
     "name": "stderr",
     "output_type": "stream",
     "text": [
      "\n"
     ]
    },
    {
     "data": {
      "application/vnd.jupyter.widget-view+json": {
       "model_id": "976261d3a70f4c02b776ab76c30f1611",
       "version_major": 2,
       "version_minor": 0
      },
      "text/plain": [
       "0it [00:00, ?it/s]"
      ]
     },
     "metadata": {},
     "output_type": "display_data"
    },
    {
     "data": {
      "application/vnd.jupyter.widget-view+json": {
       "model_id": "8af6f53b365d430fa91486de0fdb0ec3",
       "version_major": 2,
       "version_minor": 0
      },
      "text/plain": [
       "  0%|          | 0/1 [00:00<?, ?it/s]"
      ]
     },
     "metadata": {},
     "output_type": "display_data"
    },
    {
     "name": "stdout",
     "output_type": "stream",
     "text": [
      "widths = [inf]\n",
      "width_median= inf\n",
      "segment_widths_median = [inf]\n",
      "Decomposing first pass: 0.03947114944458008\n",
      "Attempting to use MeshAfterParty Skeletonization and Mesh Correspondence\n",
      "Another print\n",
      "Found len(mesh_large_idx) MAP candidates: [118]\n",
      "mesh_large_connectivity: 0.00011157989501953125\n",
      "Finding MAP candidates connected components: 6.29425048828125e-05\n",
      "Divinding into MP and MAP pieces: 1.1920928955078125e-06\n",
      "Total time for MAP sublimb processing 2.1457672119140625e-06\n",
      "---- Working on MP Decomposition #0 ----\n",
      "Using Quicker soma_to_piece_touching_vertices because no MAP and only one sublimb_mesh piece \n",
      "MP filtering soma verts: 1.8596649169921875e-05\n",
      "Do Not Need to Fix MP Decomposition 0 so just continuing\n",
      "There were not both MAP and MP pieces so skipping the stitch resolving phase\n",
      "Time for decomp of Limb = 0.07845330238342285\n"
     ]
    },
    {
     "data": {
      "application/vnd.jupyter.widget-view+json": {
       "model_id": "8b066c0d3a58457f9e888a9efa76de0e",
       "version_major": 2,
       "version_minor": 0
      },
      "text/plain": [
       "  0%|          | 0/2 [00:00<?, ?it/s]"
      ]
     },
     "metadata": {},
     "output_type": "display_data"
    },
    {
     "name": "stdout",
     "output_type": "stream",
     "text": [
      "Removed 2 skeletal branches\n",
      "There were no branches after cleaning limb correspondence\n"
     ]
    },
    {
     "data": {
      "application/vnd.jupyter.widget-view+json": {
       "model_id": "22d4789aafae4c689619b87ca82c34c8",
       "version_major": 2,
       "version_minor": 0
      },
      "text/plain": [
       "Container(figure=Figure(box_center=[0.5, 0.5, 0.5], box_size=[1.0, 1.0, 1.0], camera=PerspectiveCamera(fov=45.…"
      ]
     },
     "metadata": {},
     "output_type": "display_data"
    },
    {
     "name": "stdout",
     "output_type": "stream",
     "text": [
      "--> time = 0.13022851943969727\n",
      "Floating 18: <trimesh.Trimesh(vertices.shape=(60, 3), faces.shape=(116, 3))>\n",
      "invalidation_d = 12000\n",
      "use_adaptive_invalidation_d= True\n",
      "axon_width_preprocess_limb_max = 200\n",
      "filter_end_node_length= 4000\n",
      "filter_end_node_length_meshparty = 1000\n",
      "invalidation_d = 12000\n",
      "root_curr = None\n",
      "Time for preparing soma vertices and root: 5.0067901611328125e-06\n",
      "invalidation_d = 12000\n",
      "smooth_neighborhood = 1\n",
      "cc_vertex_thresh = 10\n"
     ]
    },
    {
     "name": "stderr",
     "output_type": "stream",
     "text": [
      "  0%|                                                                                             | 0/1 [00:00<?, ?it/s]"
     ]
    },
    {
     "data": {
      "application/vnd.jupyter.widget-view+json": {
       "model_id": "43f03fc6d751402595d3e4710a8f5ec7",
       "version_major": 2,
       "version_minor": 0
      },
      "text/plain": [
       "  0%|          | 0/59 [00:00<?, ?it/s]"
      ]
     },
     "metadata": {},
     "output_type": "display_data"
    },
    {
     "name": "stderr",
     "output_type": "stream",
     "text": [
      "100%|█████████████████████████████████████████████████████████████████████████████████████| 1/1 [00:00<00:00, 84.50it/s]"
     ]
    },
    {
     "name": "stdout",
     "output_type": "stream",
     "text": [
      "meshparty_segment_size = 100\n",
      "Time for 1st pass MP skeletonization: 0.04877328872680664\n",
      "branches_touching_root = [0]\n",
      "combining close nodes\n",
      "combine_threshold = 700\n",
      "length of Graph = 3\n",
      "After combining close endpoints max(kept_branches_idx) = 0, len(kept_branches_idx) = 1\n",
      "empty_indices % = 0.0\n",
      " conflict_indices % = 0.0\n"
     ]
    },
    {
     "name": "stderr",
     "output_type": "stream",
     "text": [
      "\n"
     ]
    },
    {
     "data": {
      "application/vnd.jupyter.widget-view+json": {
       "model_id": "ec182a162d02434eba0e02bebc02c37f",
       "version_major": 2,
       "version_minor": 0
      },
      "text/plain": [
       "0it [00:00, ?it/s]"
      ]
     },
     "metadata": {},
     "output_type": "display_data"
    },
    {
     "data": {
      "application/vnd.jupyter.widget-view+json": {
       "model_id": "d7d1356a96204c6c8a6d935126f214af",
       "version_major": 2,
       "version_minor": 0
      },
      "text/plain": [
       "  0%|          | 0/1 [00:00<?, ?it/s]"
      ]
     },
     "metadata": {},
     "output_type": "display_data"
    },
    {
     "name": "stdout",
     "output_type": "stream",
     "text": [
      "widths = [inf]\n",
      "width_median= inf\n",
      "segment_widths_median = [inf]\n",
      "Decomposing first pass: 0.05022263526916504\n",
      "Attempting to use MeshAfterParty Skeletonization and Mesh Correspondence\n",
      "Another print\n",
      "Found len(mesh_large_idx) MAP candidates: [116]\n",
      "mesh_large_connectivity: 0.0003376007080078125\n",
      "Finding MAP candidates connected components: 0.0001804828643798828\n",
      "Divinding into MP and MAP pieces: 3.814697265625e-06\n",
      "Total time for MAP sublimb processing 5.4836273193359375e-06\n",
      "---- Working on MP Decomposition #0 ----\n",
      "Using Quicker soma_to_piece_touching_vertices because no MAP and only one sublimb_mesh piece \n",
      "MP filtering soma verts: 5.841255187988281e-05\n",
      "Do Not Need to Fix MP Decomposition 0 so just continuing\n",
      "There were not both MAP and MP pieces so skipping the stitch resolving phase\n",
      "Time for decomp of Limb = 0.10130095481872559\n"
     ]
    },
    {
     "data": {
      "application/vnd.jupyter.widget-view+json": {
       "model_id": "9bb1b48052af492c9811e0090e01bee3",
       "version_major": 2,
       "version_minor": 0
      },
      "text/plain": [
       "  0%|          | 0/2 [00:00<?, ?it/s]"
      ]
     },
     "metadata": {},
     "output_type": "display_data"
    },
    {
     "name": "stdout",
     "output_type": "stream",
     "text": [
      "Removed 2 skeletal branches\n",
      "There were no branches after cleaning limb correspondence\n"
     ]
    },
    {
     "data": {
      "application/vnd.jupyter.widget-view+json": {
       "model_id": "da1fbfb1256e4068a9bd1bbff6c465f2",
       "version_major": 2,
       "version_minor": 0
      },
      "text/plain": [
       "Container(figure=Figure(box_center=[0.5, 0.5, 0.5], box_size=[1.0, 1.0, 1.0], camera=PerspectiveCamera(fov=45.…"
      ]
     },
     "metadata": {},
     "output_type": "display_data"
    },
    {
     "name": "stdout",
     "output_type": "stream",
     "text": [
      "--> time = 0.15246987342834473\n",
      "Floating 19: <trimesh.Trimesh(vertices.shape=(60, 3), faces.shape=(116, 3))>\n",
      "invalidation_d = 12000\n",
      "use_adaptive_invalidation_d= True\n",
      "axon_width_preprocess_limb_max = 200\n",
      "filter_end_node_length= 4000\n",
      "filter_end_node_length_meshparty = 1000\n",
      "invalidation_d = 12000\n",
      "root_curr = None\n",
      "Time for preparing soma vertices and root: 5.4836273193359375e-06\n",
      "invalidation_d = 12000\n",
      "smooth_neighborhood = 1\n",
      "cc_vertex_thresh = 10\n"
     ]
    },
    {
     "name": "stderr",
     "output_type": "stream",
     "text": [
      "  0%|                                                                                             | 0/1 [00:00<?, ?it/s]"
     ]
    },
    {
     "data": {
      "application/vnd.jupyter.widget-view+json": {
       "model_id": "eb3f881a08204c8eaab4c228c5370bce",
       "version_major": 2,
       "version_minor": 0
      },
      "text/plain": [
       "  0%|          | 0/59 [00:00<?, ?it/s]"
      ]
     },
     "metadata": {},
     "output_type": "display_data"
    },
    {
     "name": "stderr",
     "output_type": "stream",
     "text": [
      "100%|█████████████████████████████████████████████████████████████████████████████████████| 1/1 [00:00<00:00, 79.12it/s]"
     ]
    },
    {
     "name": "stdout",
     "output_type": "stream",
     "text": [
      "meshparty_segment_size = 100\n",
      "Time for 1st pass MP skeletonization: 0.0316009521484375\n",
      "branches_touching_root = [0]\n",
      "combining close nodes\n",
      "combine_threshold = 700\n",
      "length of Graph = 3\n",
      "After combining close endpoints max(kept_branches_idx) = 0, len(kept_branches_idx) = 1\n",
      "empty_indices % = 0.0\n",
      " conflict_indices % = 0.0\n"
     ]
    },
    {
     "name": "stderr",
     "output_type": "stream",
     "text": [
      "\n"
     ]
    },
    {
     "data": {
      "application/vnd.jupyter.widget-view+json": {
       "model_id": "2e4341743fe240139fc03588adf51154",
       "version_major": 2,
       "version_minor": 0
      },
      "text/plain": [
       "0it [00:00, ?it/s]"
      ]
     },
     "metadata": {},
     "output_type": "display_data"
    },
    {
     "data": {
      "application/vnd.jupyter.widget-view+json": {
       "model_id": "e8568b5405e64bdf916469892918de8d",
       "version_major": 2,
       "version_minor": 0
      },
      "text/plain": [
       "  0%|          | 0/1 [00:00<?, ?it/s]"
      ]
     },
     "metadata": {},
     "output_type": "display_data"
    },
    {
     "name": "stdout",
     "output_type": "stream",
     "text": [
      "widths = [inf]\n",
      "width_median= inf\n",
      "segment_widths_median = [inf]\n",
      "Decomposing first pass: 0.042090654373168945\n",
      "Attempting to use MeshAfterParty Skeletonization and Mesh Correspondence\n",
      "Another print\n",
      "Found len(mesh_large_idx) MAP candidates: [116]\n",
      "mesh_large_connectivity: 0.0001404285430908203\n",
      "Finding MAP candidates connected components: 8.797645568847656e-05\n",
      "Divinding into MP and MAP pieces: 1.6689300537109375e-06\n",
      "Total time for MAP sublimb processing 3.337860107421875e-06\n",
      "---- Working on MP Decomposition #0 ----\n",
      "Using Quicker soma_to_piece_touching_vertices because no MAP and only one sublimb_mesh piece \n",
      "MP filtering soma verts: 2.6226043701171875e-05\n",
      "Do Not Need to Fix MP Decomposition 0 so just continuing\n",
      "There were not both MAP and MP pieces so skipping the stitch resolving phase\n",
      "Time for decomp of Limb = 0.07533383369445801\n"
     ]
    },
    {
     "data": {
      "application/vnd.jupyter.widget-view+json": {
       "model_id": "90631ae6af644349a04136dc9c53a7aa",
       "version_major": 2,
       "version_minor": 0
      },
      "text/plain": [
       "  0%|          | 0/2 [00:00<?, ?it/s]"
      ]
     },
     "metadata": {},
     "output_type": "display_data"
    },
    {
     "name": "stdout",
     "output_type": "stream",
     "text": [
      "Removed 2 skeletal branches\n",
      "There were no branches after cleaning limb correspondence\n"
     ]
    },
    {
     "data": {
      "application/vnd.jupyter.widget-view+json": {
       "model_id": "5d154802fcc14ffa87eced2dcd930109",
       "version_major": 2,
       "version_minor": 0
      },
      "text/plain": [
       "Container(figure=Figure(box_center=[0.5, 0.5, 0.5], box_size=[1.0, 1.0, 1.0], camera=PerspectiveCamera(fov=45.…"
      ]
     },
     "metadata": {},
     "output_type": "display_data"
    },
    {
     "name": "stdout",
     "output_type": "stream",
     "text": [
      "--> time = 0.1365809440612793\n",
      "Floating 20: <trimesh.Trimesh(vertices.shape=(59, 3), faces.shape=(114, 3))>\n",
      "invalidation_d = 12000\n",
      "use_adaptive_invalidation_d= True\n",
      "axon_width_preprocess_limb_max = 200\n",
      "filter_end_node_length= 4000\n",
      "filter_end_node_length_meshparty = 1000\n",
      "invalidation_d = 12000\n",
      "root_curr = None\n",
      "Time for preparing soma vertices and root: 5.4836273193359375e-06\n",
      "invalidation_d = 12000\n",
      "smooth_neighborhood = 1\n",
      "cc_vertex_thresh = 10\n"
     ]
    },
    {
     "name": "stderr",
     "output_type": "stream",
     "text": [
      "  0%|                                                                                             | 0/1 [00:00<?, ?it/s]"
     ]
    },
    {
     "data": {
      "application/vnd.jupyter.widget-view+json": {
       "model_id": "93ba5a90c49645b9889b9cd5bd7f1f5c",
       "version_major": 2,
       "version_minor": 0
      },
      "text/plain": [
       "  0%|          | 0/58 [00:00<?, ?it/s]"
      ]
     },
     "metadata": {},
     "output_type": "display_data"
    },
    {
     "name": "stderr",
     "output_type": "stream",
     "text": [
      "100%|█████████████████████████████████████████████████████████████████████████████████████| 1/1 [00:00<00:00, 49.26it/s]"
     ]
    },
    {
     "name": "stdout",
     "output_type": "stream",
     "text": [
      "meshparty_segment_size = 100\n",
      "Time for 1st pass MP skeletonization: 0.05654764175415039\n",
      "branches_touching_root = [0]\n",
      "combining close nodes\n",
      "combine_threshold = 700\n",
      "length of Graph = 4\n",
      "After combining close endpoints max(kept_branches_idx) = 0, len(kept_branches_idx) = 1\n",
      "empty_indices % = 0.0\n",
      " conflict_indices % = 0.0\n"
     ]
    },
    {
     "name": "stderr",
     "output_type": "stream",
     "text": [
      "\n"
     ]
    },
    {
     "data": {
      "application/vnd.jupyter.widget-view+json": {
       "model_id": "5fc359443f9c453bb24849fdd961b7a0",
       "version_major": 2,
       "version_minor": 0
      },
      "text/plain": [
       "0it [00:00, ?it/s]"
      ]
     },
     "metadata": {},
     "output_type": "display_data"
    },
    {
     "data": {
      "application/vnd.jupyter.widget-view+json": {
       "model_id": "8640b139492c471bb559639cd8c1722b",
       "version_major": 2,
       "version_minor": 0
      },
      "text/plain": [
       "  0%|          | 0/1 [00:00<?, ?it/s]"
      ]
     },
     "metadata": {},
     "output_type": "display_data"
    },
    {
     "name": "stdout",
     "output_type": "stream",
     "text": [
      "widths = [inf]\n",
      "width_median= inf\n",
      "segment_widths_median = [inf]\n",
      "Decomposing first pass: 0.03900790214538574\n",
      "Attempting to use MeshAfterParty Skeletonization and Mesh Correspondence\n",
      "Another print\n",
      "Found len(mesh_large_idx) MAP candidates: [114]\n",
      "mesh_large_connectivity: 0.00011372566223144531\n",
      "Finding MAP candidates connected components: 6.365776062011719e-05\n",
      "Divinding into MP and MAP pieces: 1.430511474609375e-06\n",
      "Total time for MAP sublimb processing 3.0994415283203125e-06\n",
      "---- Working on MP Decomposition #0 ----\n",
      "Using Quicker soma_to_piece_touching_vertices because no MAP and only one sublimb_mesh piece \n",
      "MP filtering soma verts: 1.9550323486328125e-05\n",
      "Do Not Need to Fix MP Decomposition 0 so just continuing\n",
      "There were not both MAP and MP pieces so skipping the stitch resolving phase\n",
      "Time for decomp of Limb = 0.09722352027893066\n"
     ]
    },
    {
     "data": {
      "application/vnd.jupyter.widget-view+json": {
       "model_id": "98c91dc42f604b2b865b1fbcff372e8f",
       "version_major": 2,
       "version_minor": 0
      },
      "text/plain": [
       "  0%|          | 0/2 [00:00<?, ?it/s]"
      ]
     },
     "metadata": {},
     "output_type": "display_data"
    },
    {
     "name": "stdout",
     "output_type": "stream",
     "text": [
      "Removed 2 skeletal branches\n",
      "There were no branches after cleaning limb correspondence\n"
     ]
    },
    {
     "data": {
      "application/vnd.jupyter.widget-view+json": {
       "model_id": "ad028e00072d4c409ebc4f068c9a2ec8",
       "version_major": 2,
       "version_minor": 0
      },
      "text/plain": [
       "Container(figure=Figure(box_center=[0.5, 0.5, 0.5], box_size=[1.0, 1.0, 1.0], camera=PerspectiveCamera(fov=45.…"
      ]
     },
     "metadata": {},
     "output_type": "display_data"
    },
    {
     "name": "stdout",
     "output_type": "stream",
     "text": [
      "--> time = 0.1460127830505371\n",
      "Floating 21: <trimesh.Trimesh(vertices.shape=(55, 3), faces.shape=(106, 3))>\n",
      "invalidation_d = 12000\n",
      "use_adaptive_invalidation_d= True\n",
      "axon_width_preprocess_limb_max = 200\n",
      "filter_end_node_length= 4000\n",
      "filter_end_node_length_meshparty = 1000\n",
      "invalidation_d = 12000\n",
      "root_curr = None\n",
      "Time for preparing soma vertices and root: 5.245208740234375e-06\n",
      "invalidation_d = 12000\n",
      "smooth_neighborhood = 1\n",
      "cc_vertex_thresh = 10\n"
     ]
    },
    {
     "name": "stderr",
     "output_type": "stream",
     "text": [
      "  0%|                                                                                             | 0/1 [00:00<?, ?it/s]"
     ]
    },
    {
     "data": {
      "application/vnd.jupyter.widget-view+json": {
       "model_id": "17fcdd79652d4d07ace428a4ae3a5b23",
       "version_major": 2,
       "version_minor": 0
      },
      "text/plain": [
       "  0%|          | 0/54 [00:00<?, ?it/s]"
      ]
     },
     "metadata": {},
     "output_type": "display_data"
    },
    {
     "name": "stderr",
     "output_type": "stream",
     "text": [
      "100%|█████████████████████████████████████████████████████████████████████████████████████| 1/1 [00:00<00:00, 33.52it/s]\n"
     ]
    },
    {
     "name": "stdout",
     "output_type": "stream",
     "text": [
      "meshparty_segment_size = 100\n",
      "Time for 1st pass MP skeletonization: 0.05917859077453613\n",
      "branches_touching_root = [0]\n",
      "combining close nodes\n",
      "combine_threshold = 700\n",
      "length of Graph = 4\n",
      "After combining close endpoints max(kept_branches_idx) = 0, len(kept_branches_idx) = 1\n",
      "empty_indices % = 0.0\n",
      " conflict_indices % = 0.0\n"
     ]
    },
    {
     "data": {
      "application/vnd.jupyter.widget-view+json": {
       "model_id": "3a150d021a39424a9d12e1e02e84d520",
       "version_major": 2,
       "version_minor": 0
      },
      "text/plain": [
       "0it [00:00, ?it/s]"
      ]
     },
     "metadata": {},
     "output_type": "display_data"
    },
    {
     "data": {
      "application/vnd.jupyter.widget-view+json": {
       "model_id": "995a1f6427df4298b70ac7bbaee40934",
       "version_major": 2,
       "version_minor": 0
      },
      "text/plain": [
       "  0%|          | 0/1 [00:00<?, ?it/s]"
      ]
     },
     "metadata": {},
     "output_type": "display_data"
    },
    {
     "name": "stdout",
     "output_type": "stream",
     "text": [
      "widths = [inf]\n",
      "width_median= inf\n",
      "segment_widths_median = [inf]\n",
      "Decomposing first pass: 0.04128837585449219\n",
      "Attempting to use MeshAfterParty Skeletonization and Mesh Correspondence\n",
      "Another print\n",
      "Found len(mesh_large_idx) MAP candidates: [106]\n",
      "mesh_large_connectivity: 0.00010323524475097656\n",
      "Finding MAP candidates connected components: 6.008148193359375e-05\n",
      "Divinding into MP and MAP pieces: 1.430511474609375e-06\n",
      "Total time for MAP sublimb processing 2.1457672119140625e-06\n",
      "---- Working on MP Decomposition #0 ----\n",
      "Using Quicker soma_to_piece_touching_vertices because no MAP and only one sublimb_mesh piece \n",
      "MP filtering soma verts: 1.8358230590820312e-05\n",
      "Do Not Need to Fix MP Decomposition 0 so just continuing\n",
      "There were not both MAP and MP pieces so skipping the stitch resolving phase\n",
      "Time for decomp of Limb = 0.10181856155395508\n"
     ]
    },
    {
     "data": {
      "application/vnd.jupyter.widget-view+json": {
       "model_id": "fad844dd95ec4a8bbef9a63c8c78d399",
       "version_major": 2,
       "version_minor": 0
      },
      "text/plain": [
       "  0%|          | 0/2 [00:00<?, ?it/s]"
      ]
     },
     "metadata": {},
     "output_type": "display_data"
    },
    {
     "name": "stdout",
     "output_type": "stream",
     "text": [
      "Removed 2 skeletal branches\n",
      "There were no branches after cleaning limb correspondence\n"
     ]
    },
    {
     "data": {
      "application/vnd.jupyter.widget-view+json": {
       "model_id": "41f935cf824a49f398ad740888068e78",
       "version_major": 2,
       "version_minor": 0
      },
      "text/plain": [
       "Container(figure=Figure(box_center=[0.5, 0.5, 0.5], box_size=[1.0, 1.0, 1.0], camera=PerspectiveCamera(fov=45.…"
      ]
     },
     "metadata": {},
     "output_type": "display_data"
    },
    {
     "name": "stdout",
     "output_type": "stream",
     "text": [
      "--> time = 0.16503596305847168\n",
      "Floating 22: <trimesh.Trimesh(vertices.shape=(52, 3), faces.shape=(100, 3))>\n",
      "invalidation_d = 12000\n",
      "use_adaptive_invalidation_d= True\n",
      "axon_width_preprocess_limb_max = 200\n",
      "filter_end_node_length= 4000\n",
      "filter_end_node_length_meshparty = 1000\n",
      "invalidation_d = 12000\n",
      "root_curr = None\n",
      "Time for preparing soma vertices and root: 5.245208740234375e-06\n",
      "invalidation_d = 12000\n",
      "smooth_neighborhood = 1\n",
      "cc_vertex_thresh = 10\n"
     ]
    },
    {
     "name": "stderr",
     "output_type": "stream",
     "text": [
      "  0%|                                                                                             | 0/1 [00:00<?, ?it/s]"
     ]
    },
    {
     "data": {
      "application/vnd.jupyter.widget-view+json": {
       "model_id": "22eeb2ba721c41f18e86a760e19c56cb",
       "version_major": 2,
       "version_minor": 0
      },
      "text/plain": [
       "  0%|          | 0/51 [00:00<?, ?it/s]"
      ]
     },
     "metadata": {},
     "output_type": "display_data"
    },
    {
     "name": "stderr",
     "output_type": "stream",
     "text": [
      "100%|█████████████████████████████████████████████████████████████████████████████████████| 1/1 [00:00<00:00, 76.40it/s]\n"
     ]
    },
    {
     "name": "stdout",
     "output_type": "stream",
     "text": [
      "meshparty_segment_size = 100\n",
      "Time for 1st pass MP skeletonization: 0.05524182319641113\n",
      "branches_touching_root = [0]\n",
      "combining close nodes\n",
      "combine_threshold = 700\n",
      "length of Graph = 2\n",
      "After combining close endpoints max(kept_branches_idx) = 0, len(kept_branches_idx) = 1\n",
      "empty_indices % = 0.0\n",
      " conflict_indices % = 0.0\n"
     ]
    },
    {
     "data": {
      "application/vnd.jupyter.widget-view+json": {
       "model_id": "dcbe0e3f2a244e8397241055e4797feb",
       "version_major": 2,
       "version_minor": 0
      },
      "text/plain": [
       "0it [00:00, ?it/s]"
      ]
     },
     "metadata": {},
     "output_type": "display_data"
    },
    {
     "data": {
      "application/vnd.jupyter.widget-view+json": {
       "model_id": "fc814c74007b4bd69ba64db4b01d6479",
       "version_major": 2,
       "version_minor": 0
      },
      "text/plain": [
       "  0%|          | 0/1 [00:00<?, ?it/s]"
      ]
     },
     "metadata": {},
     "output_type": "display_data"
    },
    {
     "name": "stdout",
     "output_type": "stream",
     "text": [
      "widths = [inf]\n",
      "width_median= inf\n",
      "segment_widths_median = [inf]\n",
      "Decomposing first pass: 0.04450654983520508\n",
      "Attempting to use MeshAfterParty Skeletonization and Mesh Correspondence\n",
      "Another print\n",
      "Found len(mesh_large_idx) MAP candidates: [100]\n",
      "mesh_large_connectivity: 0.00019550323486328125\n",
      "Finding MAP candidates connected components: 0.00010204315185546875\n",
      "Divinding into MP and MAP pieces: 2.1457672119140625e-06\n",
      "Total time for MAP sublimb processing 4.291534423828125e-06\n",
      "---- Working on MP Decomposition #0 ----\n",
      "Using Quicker soma_to_piece_touching_vertices because no MAP and only one sublimb_mesh piece \n",
      "MP filtering soma verts: 3.981590270996094e-05\n",
      "Do Not Need to Fix MP Decomposition 0 so just continuing\n",
      "There were not both MAP and MP pieces so skipping the stitch resolving phase\n",
      "Time for decomp of Limb = 0.10207271575927734\n"
     ]
    },
    {
     "data": {
      "application/vnd.jupyter.widget-view+json": {
       "model_id": "3ceddcc33fae42cd896323d156cc6963",
       "version_major": 2,
       "version_minor": 0
      },
      "text/plain": [
       "  0%|          | 0/2 [00:00<?, ?it/s]"
      ]
     },
     "metadata": {},
     "output_type": "display_data"
    },
    {
     "name": "stdout",
     "output_type": "stream",
     "text": [
      "Removed 2 skeletal branches\n",
      "There were no branches after cleaning limb correspondence\n"
     ]
    },
    {
     "data": {
      "application/vnd.jupyter.widget-view+json": {
       "model_id": "31d2336b43ad40b0a81fbad07bc0c501",
       "version_major": 2,
       "version_minor": 0
      },
      "text/plain": [
       "Container(figure=Figure(box_center=[0.5, 0.5, 0.5], box_size=[1.0, 1.0, 1.0], camera=PerspectiveCamera(fov=45.…"
      ]
     },
     "metadata": {},
     "output_type": "display_data"
    },
    {
     "name": "stdout",
     "output_type": "stream",
     "text": [
      "--> time = 0.15478944778442383\n"
     ]
    },
    {
     "data": {
      "application/vnd.jupyter.widget-view+json": {
       "model_id": "b927b463a836427b87d5b2d66e2db6ee",
       "version_major": 2,
       "version_minor": 0
      },
      "text/plain": [
       "0it [00:00, ?it/s]"
      ]
     },
     "metadata": {},
     "output_type": "display_data"
    },
    {
     "name": "stdout",
     "output_type": "stream",
     "text": [
      "\n",
      "\n",
      "--- Working on 1-to-1 correspondence-----\n",
      "max(original_labels),len(original_labels) = (1, 2)\n",
      "empty_indices % = 0.035805482538490425\n",
      " conflict_indices % = 0.0036800600826135937\n"
     ]
    },
    {
     "data": {
      "application/vnd.jupyter.widget-view+json": {
       "model_id": "508378fe6aa44ab0b86f808e52fa60e5",
       "version_major": 2,
       "version_minor": 0
      },
      "text/plain": [
       "  0%|          | 0/49 [00:00<?, ?it/s]"
      ]
     },
     "metadata": {},
     "output_type": "display_data"
    },
    {
     "data": {
      "application/vnd.jupyter.widget-view+json": {
       "model_id": "447ca3ec13304b3f9d598dbb9c818eb7",
       "version_major": 2,
       "version_minor": 0
      },
      "text/plain": [
       "  0%|          | 0/2 [00:00<?, ?it/s]"
      ]
     },
     "metadata": {},
     "output_type": "display_data"
    },
    {
     "name": "stdout",
     "output_type": "stream",
     "text": [
      "main_branch = 43\n"
     ]
    },
    {
     "data": {
      "application/vnd.jupyter.widget-view+json": {
       "model_id": "8bd017413e714d82882be6d14cf49019",
       "version_major": 2,
       "version_minor": 0
      },
      "text/plain": [
       "0it [00:00, ?it/s]"
      ]
     },
     "metadata": {},
     "output_type": "display_data"
    },
    {
     "name": "stdout",
     "output_type": "stream",
     "text": [
      "\n",
      "\n",
      "--- Working on 1-to-1 correspondence-----\n",
      "max(original_labels),len(original_labels) = (1, 2)\n",
      "empty_indices % = 0.07071818140153077\n",
      " conflict_indices % = 0.0031929358204622884\n"
     ]
    },
    {
     "data": {
      "application/vnd.jupyter.widget-view+json": {
       "model_id": "792712f428bf40638f89ff49e247a1cc",
       "version_major": 2,
       "version_minor": 0
      },
      "text/plain": [
       "  0%|          | 0/87 [00:00<?, ?it/s]"
      ]
     },
     "metadata": {},
     "output_type": "display_data"
    },
    {
     "data": {
      "application/vnd.jupyter.widget-view+json": {
       "model_id": "7ee8a9bb02b5438ca32d78ce8d503a51",
       "version_major": 2,
       "version_minor": 0
      },
      "text/plain": [
       "  0%|          | 0/2 [00:00<?, ?it/s]"
      ]
     },
     "metadata": {},
     "output_type": "display_data"
    },
    {
     "name": "stdout",
     "output_type": "stream",
     "text": [
      "main_branch = 39\n"
     ]
    },
    {
     "data": {
      "application/vnd.jupyter.widget-view+json": {
       "model_id": "e0a2ac4b7f2f4fe7820234fcdb4b6e6e",
       "version_major": 2,
       "version_minor": 0
      },
      "text/plain": [
       "0it [00:00, ?it/s]"
      ]
     },
     "metadata": {},
     "output_type": "display_data"
    },
    {
     "name": "stdout",
     "output_type": "stream",
     "text": [
      "\n",
      "\n",
      "--- Working on 1-to-1 correspondence-----\n",
      "max(original_labels),len(original_labels) = (1, 2)\n",
      "empty_indices % = 0.041666666666666664\n",
      " conflict_indices % = 0.0030988951765022906\n"
     ]
    },
    {
     "data": {
      "application/vnd.jupyter.widget-view+json": {
       "model_id": "ecc014905adf4e2e9ba90eb7107a1488",
       "version_major": 2,
       "version_minor": 0
      },
      "text/plain": [
       "  0%|          | 0/31 [00:00<?, ?it/s]"
      ]
     },
     "metadata": {},
     "output_type": "display_data"
    },
    {
     "data": {
      "application/vnd.jupyter.widget-view+json": {
       "model_id": "228ad160eb234dde876db121ac7b1b3a",
       "version_major": 2,
       "version_minor": 0
      },
      "text/plain": [
       "  0%|          | 0/2 [00:00<?, ?it/s]"
      ]
     },
     "metadata": {},
     "output_type": "display_data"
    },
    {
     "name": "stdout",
     "output_type": "stream",
     "text": [
      "main_branch = 42\n"
     ]
    },
    {
     "data": {
      "application/vnd.jupyter.widget-view+json": {
       "model_id": "40246b38792a447586f5b31991fa8304",
       "version_major": 2,
       "version_minor": 0
      },
      "text/plain": [
       "0it [00:00, ?it/s]"
      ]
     },
     "metadata": {},
     "output_type": "display_data"
    },
    {
     "name": "stdout",
     "output_type": "stream",
     "text": [
      "\n",
      "\n",
      "--- Working on 1-to-1 correspondence-----\n",
      "max(original_labels),len(original_labels) = (1, 2)\n",
      "empty_indices % = 0.053214720412400655\n",
      " conflict_indices % = 0.003275578148492876\n"
     ]
    },
    {
     "data": {
      "application/vnd.jupyter.widget-view+json": {
       "model_id": "03a8af7bcf904514b12ed92923710228",
       "version_major": 2,
       "version_minor": 0
      },
      "text/plain": [
       "  0%|          | 0/70 [00:00<?, ?it/s]"
      ]
     },
     "metadata": {},
     "output_type": "display_data"
    },
    {
     "data": {
      "application/vnd.jupyter.widget-view+json": {
       "model_id": "be7f47f84f984b6db281df1d2b816f2f",
       "version_major": 2,
       "version_minor": 0
      },
      "text/plain": [
       "  0%|          | 0/2 [00:00<?, ?it/s]"
      ]
     },
     "metadata": {},
     "output_type": "display_data"
    },
    {
     "name": "stdout",
     "output_type": "stream",
     "text": [
      "main_branch = 39\n"
     ]
    },
    {
     "data": {
      "application/vnd.jupyter.widget-view+json": {
       "model_id": "1ba65841162e43cb865f4de96c291c33",
       "version_major": 2,
       "version_minor": 0
      },
      "text/plain": [
       "0it [00:00, ?it/s]"
      ]
     },
     "metadata": {},
     "output_type": "display_data"
    },
    {
     "name": "stdout",
     "output_type": "stream",
     "text": [
      "\n",
      "\n",
      "--- Working on 1-to-1 correspondence-----\n",
      "max(original_labels),len(original_labels) = (1, 2)\n",
      "empty_indices % = 0.012223323422530559\n",
      " conflict_indices % = 0.003874222902964231\n"
     ]
    },
    {
     "data": {
      "application/vnd.jupyter.widget-view+json": {
       "model_id": "350f3750edde4099a4bebd5c544e0e14",
       "version_major": 2,
       "version_minor": 0
      },
      "text/plain": [
       "  0%|          | 0/29 [00:00<?, ?it/s]"
      ]
     },
     "metadata": {},
     "output_type": "display_data"
    },
    {
     "data": {
      "application/vnd.jupyter.widget-view+json": {
       "model_id": "d6cd011cbf984ab1990036824327eb3f",
       "version_major": 2,
       "version_minor": 0
      },
      "text/plain": [
       "  0%|          | 0/2 [00:00<?, ?it/s]"
      ]
     },
     "metadata": {},
     "output_type": "display_data"
    },
    {
     "name": "stdout",
     "output_type": "stream",
     "text": [
      "main_branch = 44\n"
     ]
    },
    {
     "data": {
      "application/vnd.jupyter.widget-view+json": {
       "model_id": "6d3ec4f5c48a499fabf99e9a161029a7",
       "version_major": 2,
       "version_minor": 0
      },
      "text/plain": [
       "0it [00:00, ?it/s]"
      ]
     },
     "metadata": {},
     "output_type": "display_data"
    },
    {
     "name": "stdout",
     "output_type": "stream",
     "text": [
      "\n",
      "\n",
      "--- Working on 1-to-1 correspondence-----\n",
      "max(original_labels),len(original_labels) = (1, 2)\n",
      "empty_indices % = 0.013798404216382402\n",
      " conflict_indices % = 0.003660054168801698\n"
     ]
    },
    {
     "data": {
      "application/vnd.jupyter.widget-view+json": {
       "model_id": "74405994dc184711b810f6dd3a6cb7c9",
       "version_major": 2,
       "version_minor": 0
      },
      "text/plain": [
       "  0%|          | 0/24 [00:00<?, ?it/s]"
      ]
     },
     "metadata": {},
     "output_type": "display_data"
    },
    {
     "data": {
      "application/vnd.jupyter.widget-view+json": {
       "model_id": "db25d6add19a42be96cc13ba8cf9e2f9",
       "version_major": 2,
       "version_minor": 0
      },
      "text/plain": [
       "  0%|          | 0/2 [00:00<?, ?it/s]"
      ]
     },
     "metadata": {},
     "output_type": "display_data"
    },
    {
     "name": "stdout",
     "output_type": "stream",
     "text": [
      "main_branch = 44\n"
     ]
    },
    {
     "data": {
      "application/vnd.jupyter.widget-view+json": {
       "model_id": "2d937e4b36cb45fdaf3ed46f623971e9",
       "version_major": 2,
       "version_minor": 0
      },
      "text/plain": [
       "0it [00:00, ?it/s]"
      ]
     },
     "metadata": {},
     "output_type": "display_data"
    },
    {
     "name": "stdout",
     "output_type": "stream",
     "text": [
      "\n",
      "\n",
      "--- Working on 1-to-1 correspondence-----\n",
      "max(original_labels),len(original_labels) = (1, 2)\n",
      "empty_indices % = 0.021589958158995816\n",
      " conflict_indices % = 0.013891213389121339\n"
     ]
    },
    {
     "data": {
      "application/vnd.jupyter.widget-view+json": {
       "model_id": "489f4844e1fd43709e4091aa1f831914",
       "version_major": 2,
       "version_minor": 0
      },
      "text/plain": [
       "  0%|          | 0/13 [00:00<?, ?it/s]"
      ]
     },
     "metadata": {},
     "output_type": "display_data"
    },
    {
     "data": {
      "application/vnd.jupyter.widget-view+json": {
       "model_id": "022c5d7f93c04b609309179a1028c3de",
       "version_major": 2,
       "version_minor": 0
      },
      "text/plain": [
       "  0%|          | 0/2 [00:00<?, ?it/s]"
      ]
     },
     "metadata": {},
     "output_type": "display_data"
    },
    {
     "name": "stdout",
     "output_type": "stream",
     "text": [
      "main_branch = 71\n"
     ]
    },
    {
     "data": {
      "application/vnd.jupyter.widget-view+json": {
       "model_id": "dab9f2a8624d4aec9546f1d6f4109585",
       "version_major": 2,
       "version_minor": 0
      },
      "text/plain": [
       "0it [00:00, ?it/s]"
      ]
     },
     "metadata": {},
     "output_type": "display_data"
    },
    {
     "name": "stdout",
     "output_type": "stream",
     "text": [
      "\n",
      "\n",
      "--- Working on 1-to-1 correspondence-----\n",
      "max(original_labels),len(original_labels) = (1, 2)\n",
      "empty_indices % = 0.07317228226319135\n",
      " conflict_indices % = 0.008836617927527018\n"
     ]
    },
    {
     "data": {
      "application/vnd.jupyter.widget-view+json": {
       "model_id": "be25bf1dfdaf4ddaaf747f89ccd20ebe",
       "version_major": 2,
       "version_minor": 0
      },
      "text/plain": [
       "  0%|          | 0/35 [00:00<?, ?it/s]"
      ]
     },
     "metadata": {},
     "output_type": "display_data"
    },
    {
     "data": {
      "application/vnd.jupyter.widget-view+json": {
       "model_id": "a76d8ecb44024c3cb7d10acb0e9bda87",
       "version_major": 2,
       "version_minor": 0
      },
      "text/plain": [
       "  0%|          | 0/2 [00:00<?, ?it/s]"
      ]
     },
     "metadata": {},
     "output_type": "display_data"
    },
    {
     "name": "stdout",
     "output_type": "stream",
     "text": [
      "main_branch = 69\n"
     ]
    },
    {
     "data": {
      "application/vnd.jupyter.widget-view+json": {
       "model_id": "0eba87c36b624c4ab7df4d336520b9d9",
       "version_major": 2,
       "version_minor": 0
      },
      "text/plain": [
       "0it [00:00, ?it/s]"
      ]
     },
     "metadata": {},
     "output_type": "display_data"
    },
    {
     "name": "stdout",
     "output_type": "stream",
     "text": [
      "\n",
      "\n",
      "--- Working on 1-to-1 correspondence-----\n",
      "max(original_labels),len(original_labels) = (1, 2)\n",
      "empty_indices % = 0.05050077233544272\n",
      " conflict_indices % = 0.004708754795953959\n"
     ]
    },
    {
     "data": {
      "application/vnd.jupyter.widget-view+json": {
       "model_id": "bac42b2fa2a7473b96a603c72424a2ac",
       "version_major": 2,
       "version_minor": 0
      },
      "text/plain": [
       "  0%|          | 0/47 [00:00<?, ?it/s]"
      ]
     },
     "metadata": {},
     "output_type": "display_data"
    },
    {
     "data": {
      "application/vnd.jupyter.widget-view+json": {
       "model_id": "7e1d66f19f9e47278cb646718c3ace26",
       "version_major": 2,
       "version_minor": 0
      },
      "text/plain": [
       "  0%|          | 0/2 [00:00<?, ?it/s]"
      ]
     },
     "metadata": {},
     "output_type": "display_data"
    },
    {
     "name": "stdout",
     "output_type": "stream",
     "text": [
      "main_branch = 39\n"
     ]
    },
    {
     "data": {
      "application/vnd.jupyter.widget-view+json": {
       "model_id": "8637dffa07ce405aa5dae7d2af46c70f",
       "version_major": 2,
       "version_minor": 0
      },
      "text/plain": [
       "0it [00:00, ?it/s]"
      ]
     },
     "metadata": {},
     "output_type": "display_data"
    },
    {
     "name": "stdout",
     "output_type": "stream",
     "text": [
      "\n",
      "\n",
      "--- Working on 1-to-1 correspondence-----\n",
      "max(original_labels),len(original_labels) = (1, 2)\n",
      "empty_indices % = 0.06987080492673924\n",
      " conflict_indices % = 0.006290255753512373\n"
     ]
    },
    {
     "data": {
      "application/vnd.jupyter.widget-view+json": {
       "model_id": "2640db5a7b2047b79b93b8bf4b9bf850",
       "version_major": 2,
       "version_minor": 0
      },
      "text/plain": [
       "  0%|          | 0/37 [00:00<?, ?it/s]"
      ]
     },
     "metadata": {},
     "output_type": "display_data"
    },
    {
     "data": {
      "application/vnd.jupyter.widget-view+json": {
       "model_id": "ab704081831340ffaa1283ba90fd49d3",
       "version_major": 2,
       "version_minor": 0
      },
      "text/plain": [
       "  0%|          | 0/2 [00:00<?, ?it/s]"
      ]
     },
     "metadata": {},
     "output_type": "display_data"
    },
    {
     "name": "stdout",
     "output_type": "stream",
     "text": [
      "main_branch = 39\n"
     ]
    },
    {
     "data": {
      "application/vnd.jupyter.widget-view+json": {
       "model_id": "1f398c29053644669bc232680f6e045e",
       "version_major": 2,
       "version_minor": 0
      },
      "text/plain": [
       "0it [00:00, ?it/s]"
      ]
     },
     "metadata": {},
     "output_type": "display_data"
    },
    {
     "name": "stdout",
     "output_type": "stream",
     "text": [
      "\n",
      "\n",
      "--- Working on 1-to-1 correspondence-----\n",
      "max(original_labels),len(original_labels) = (1, 2)\n",
      "empty_indices % = 0.06681232750689972\n",
      " conflict_indices % = 0.020584176632934683\n"
     ]
    },
    {
     "data": {
      "application/vnd.jupyter.widget-view+json": {
       "model_id": "bf9e082da41f4350a9fffb8ed9ad4647",
       "version_major": 2,
       "version_minor": 0
      },
      "text/plain": [
       "  0%|          | 0/19 [00:00<?, ?it/s]"
      ]
     },
     "metadata": {},
     "output_type": "display_data"
    },
    {
     "data": {
      "application/vnd.jupyter.widget-view+json": {
       "model_id": "75c9d4fcfbb646f7a0d26313a0da223e",
       "version_major": 2,
       "version_minor": 0
      },
      "text/plain": [
       "  0%|          | 0/2 [00:00<?, ?it/s]"
      ]
     },
     "metadata": {},
     "output_type": "display_data"
    },
    {
     "name": "stdout",
     "output_type": "stream",
     "text": [
      "main_branch = 37\n"
     ]
    },
    {
     "data": {
      "application/vnd.jupyter.widget-view+json": {
       "model_id": "8b4f3b9c743c40599dbca8e806b8feb5",
       "version_major": 2,
       "version_minor": 0
      },
      "text/plain": [
       "0it [00:00, ?it/s]"
      ]
     },
     "metadata": {},
     "output_type": "display_data"
    },
    {
     "name": "stdout",
     "output_type": "stream",
     "text": [
      "\n",
      "\n",
      "--- Working on 1-to-1 correspondence-----\n",
      "max(original_labels),len(original_labels) = (1, 2)\n",
      "empty_indices % = 0.26984241203137366\n",
      " conflict_indices % = 0.0\n"
     ]
    },
    {
     "data": {
      "application/vnd.jupyter.widget-view+json": {
       "model_id": "fd1f178a07a24907a986e6f4bea65669",
       "version_major": 2,
       "version_minor": 0
      },
      "text/plain": [
       "  0%|          | 0/7 [00:00<?, ?it/s]"
      ]
     },
     "metadata": {},
     "output_type": "display_data"
    },
    {
     "data": {
      "application/vnd.jupyter.widget-view+json": {
       "model_id": "a1ab8626b8d24e4b89414709829cc2b1",
       "version_major": 2,
       "version_minor": 0
      },
      "text/plain": [
       "  0%|          | 0/2 [00:00<?, ?it/s]"
      ]
     },
     "metadata": {},
     "output_type": "display_data"
    },
    {
     "name": "stdout",
     "output_type": "stream",
     "text": [
      "main_branch = 18\n",
      "Total time for stitching floating pieces = 91.48741245269775\n",
      "Total time for Concept Networks = 4.366075277328491\n",
      "Total time for all mesh and skeletonization decomp = 769.599410533905\n",
      "No soma volume ratios so computing them now\n",
      "Using Poisson Surface Reconstruction for watertightness in soma_volume_ratio\n",
      "xvfb-run -n 2132 -s \"-screen 0 800x600x24\" meshlabserver $@  -i /NEURD_Chenlab/Applications/Senior_Design_Relevant_Files/Poisson_temp/neuron_631541.off -o /NEURD_Chenlab/Applications/Senior_Design_Relevant_Files/Poisson_temp/neuron_631541_poisson.off -s /NEURD_Chenlab/Applications/Senior_Design_Relevant_Files/Poisson_temp/poisson_485601.mls\n",
      "removed temporary input file: /NEURD_Chenlab/Applications/Senior_Design_Relevant_Files/Poisson_temp/neuron_631541.off\n",
      "removed temporary output file: /NEURD_Chenlab/Applications/Senior_Design_Relevant_Files/Poisson_temp/neuron_631541_poisson.off\n",
      "/NEURD_Chenlab/Applications/Senior_Design_Relevant_Files/Poisson_temp/poisson_485601.mls is being deleted....\n"
     ]
    },
    {
     "ename": "TypeError",
     "evalue": "only integer scalar arrays can be converted to a scalar index",
     "output_type": "error",
     "traceback": [
      "\u001b[0;31m---------------------------------------------------------------------------\u001b[0m",
      "\u001b[0;31mTypeError\u001b[0m                                 Traceback (most recent call last)",
      "Cell \u001b[0;32mIn[15], line 5\u001b[0m\n\u001b[1;32m      2\u001b[0m \u001b[38;5;28;01mimport\u001b[39;00m \u001b[38;5;21;01mnetworkx\u001b[39;00m \u001b[38;5;28;01mas\u001b[39;00m \u001b[38;5;21;01mnx\u001b[39;00m\n\u001b[1;32m      3\u001b[0m \u001b[38;5;28;01mfrom\u001b[39;00m \u001b[38;5;21;01mneurd\u001b[39;00m \u001b[38;5;28;01mimport\u001b[39;00m neuron\n\u001b[0;32m----> 5\u001b[0m neuron_obj \u001b[38;5;241m=\u001b[39m \u001b[43mneuron\u001b[49m\u001b[38;5;241;43m.\u001b[39;49m\u001b[43mNeuron\u001b[49m\u001b[43m(\u001b[49m\n\u001b[1;32m      6\u001b[0m \u001b[43m    \u001b[49m\u001b[43mmesh\u001b[49m\u001b[43m \u001b[49m\u001b[38;5;241;43m=\u001b[39;49m\u001b[43m \u001b[49m\u001b[43mmesh\u001b[49m\u001b[43m,\u001b[49m\n\u001b[1;32m      7\u001b[0m \u001b[43m    \u001b[49m\u001b[43msegment_id\u001b[49m\u001b[43m \u001b[49m\u001b[38;5;241;43m=\u001b[39;49m\u001b[43m \u001b[49m\u001b[43msegment_id\u001b[49m\u001b[43m,\u001b[49m\u001b[43m \u001b[49m\u001b[38;5;66;43;03m# don't need this explicitely if segment_id is already in products\u001b[39;49;00m\n\u001b[1;32m      8\u001b[0m \u001b[43m    \u001b[49m\u001b[43mpipeline_products\u001b[49m\u001b[43m \u001b[49m\u001b[38;5;241;43m=\u001b[39;49m\u001b[43m \u001b[49m\u001b[43mproducts\u001b[49m\u001b[43m,\u001b[49m\n\u001b[1;32m      9\u001b[0m \u001b[43m    \u001b[49m\u001b[43msuppress_preprocessing_print\u001b[49m\u001b[38;5;241;43m=\u001b[39;49m\u001b[38;5;28;43;01mFalse\u001b[39;49;00m\u001b[43m,\u001b[49m\n\u001b[1;32m     10\u001b[0m \u001b[43m    \u001b[49m\u001b[43msuppress_output\u001b[49m\u001b[38;5;241;43m=\u001b[39;49m\u001b[38;5;28;43;01mFalse\u001b[39;49;00m\u001b[43m,\u001b[49m\n\u001b[1;32m     11\u001b[0m \u001b[43m)\u001b[49m\n\u001b[1;32m     13\u001b[0m neuron_obj\n\u001b[1;32m     15\u001b[0m \u001b[38;5;66;03m# calculate statistics\u001b[39;00m\n",
      "File \u001b[0;32m/usr/local/lib/python3.8/dist-packages/neurd/neuron.py:2497\u001b[0m, in \u001b[0;36mNeuron.__init__\u001b[0;34m(self, mesh, segment_id, description, nucleus_id, split_index, preprocessed_data, fill_hole_size, decomposition_type, meshparty_adaptive_correspondence_after_creation, calculate_spines, widths_to_calculate, suppress_preprocessing_print, computed_attribute_dict, somas, branch_skeleton_data, ignore_warnings, suppress_output, suppress_all_output, preprocessing_version, limb_to_branch_objects, glia_faces, nuclei_faces, glia_meshes, nuclei_meshes, original_mesh_idx, labels, preprocess_neuron_kwargs, spines_kwargs, pipeline_products)\u001b[0m\n\u001b[1;32m   2495\u001b[0m \u001b[38;5;28;01melse\u001b[39;00m:\n\u001b[1;32m   2496\u001b[0m     \u001b[38;5;28mprint\u001b[39m(\u001b[38;5;124m\"\u001b[39m\u001b[38;5;124mNo soma volume ratios so computing them now\u001b[39m\u001b[38;5;124m\"\u001b[39m)                                                          \n\u001b[0;32m-> 2497\u001b[0m     preprocessed_data[\u001b[38;5;124m\"\u001b[39m\u001b[38;5;124msoma_volume_ratios\u001b[39m\u001b[38;5;124m\"\u001b[39m] \u001b[38;5;241m=\u001b[39m [sm\u001b[38;5;241m.\u001b[39msoma_volume_ratio(j) \u001b[38;5;28;01mfor\u001b[39;00m j \u001b[38;5;129;01min\u001b[39;00m soma_meshes]\n\u001b[1;32m   2499\u001b[0m \u001b[38;5;66;03m# -------- 6/9 addition: synapses that are saved off--------\u001b[39;00m\n\u001b[1;32m   2500\u001b[0m \u001b[38;5;28;01mif\u001b[39;00m \u001b[38;5;124m\"\u001b[39m\u001b[38;5;124msoma_synapses\u001b[39m\u001b[38;5;124m\"\u001b[39m \u001b[38;5;129;01min\u001b[39;00m preprocessed_data\u001b[38;5;241m.\u001b[39mkeys():\n",
      "File \u001b[0;32m/usr/local/lib/python3.8/dist-packages/neurd/neuron.py:2497\u001b[0m, in \u001b[0;36m<listcomp>\u001b[0;34m(.0)\u001b[0m\n\u001b[1;32m   2495\u001b[0m \u001b[38;5;28;01melse\u001b[39;00m:\n\u001b[1;32m   2496\u001b[0m     \u001b[38;5;28mprint\u001b[39m(\u001b[38;5;124m\"\u001b[39m\u001b[38;5;124mNo soma volume ratios so computing them now\u001b[39m\u001b[38;5;124m\"\u001b[39m)                                                          \n\u001b[0;32m-> 2497\u001b[0m     preprocessed_data[\u001b[38;5;124m\"\u001b[39m\u001b[38;5;124msoma_volume_ratios\u001b[39m\u001b[38;5;124m\"\u001b[39m] \u001b[38;5;241m=\u001b[39m [\u001b[43msm\u001b[49m\u001b[38;5;241;43m.\u001b[39;49m\u001b[43msoma_volume_ratio\u001b[49m\u001b[43m(\u001b[49m\u001b[43mj\u001b[49m\u001b[43m)\u001b[49m \u001b[38;5;28;01mfor\u001b[39;00m j \u001b[38;5;129;01min\u001b[39;00m soma_meshes]\n\u001b[1;32m   2499\u001b[0m \u001b[38;5;66;03m# -------- 6/9 addition: synapses that are saved off--------\u001b[39;00m\n\u001b[1;32m   2500\u001b[0m \u001b[38;5;28;01mif\u001b[39;00m \u001b[38;5;124m\"\u001b[39m\u001b[38;5;124msoma_synapses\u001b[39m\u001b[38;5;124m\"\u001b[39m \u001b[38;5;129;01min\u001b[39;00m preprocessed_data\u001b[38;5;241m.\u001b[39mkeys():\n",
      "File \u001b[0;32m/usr/local/lib/python3.8/dist-packages/neurd/soma_extraction_utils.py:104\u001b[0m, in \u001b[0;36msoma_volume_ratio\u001b[0;34m(current_mesh, watertight_method, max_value)\u001b[0m\n\u001b[1;32m     98\u001b[0m     \u001b[38;5;66;03m#run the Poisson Surface reconstruction and get the largest piece\u001b[39;00m\n\u001b[1;32m     99\u001b[0m     new_mesh_inner,poisson_file_obj \u001b[38;5;241m=\u001b[39m Poisson_obj_temp(vertices\u001b[38;5;241m=\u001b[39mlrg_mesh\u001b[38;5;241m.\u001b[39mvertices,\n\u001b[1;32m    100\u001b[0m            faces\u001b[38;5;241m=\u001b[39mlrg_mesh\u001b[38;5;241m.\u001b[39mfaces,\n\u001b[1;32m    101\u001b[0m            return_mesh\u001b[38;5;241m=\u001b[39m\u001b[38;5;28;01mTrue\u001b[39;00m,\n\u001b[1;32m    102\u001b[0m            delete_temp_files\u001b[38;5;241m=\u001b[39m\u001b[38;5;28;01mTrue\u001b[39;00m,\n\u001b[1;32m    103\u001b[0m            segment_id\u001b[38;5;241m=\u001b[39mrandom\u001b[38;5;241m.\u001b[39mrandint(\u001b[38;5;241m0\u001b[39m,\u001b[38;5;241m999999\u001b[39m))\n\u001b[0;32m--> 104\u001b[0m     lrg_mesh \u001b[38;5;241m=\u001b[39m \u001b[43mlargest_mesh_piece\u001b[49m\u001b[43m(\u001b[49m\u001b[43mnew_mesh_inner\u001b[49m\u001b[43m)\u001b[49m\n\u001b[1;32m    105\u001b[0m \u001b[38;5;28;01melif\u001b[39;00m watertight_method \u001b[38;5;241m==\u001b[39m \u001b[38;5;124m\"\u001b[39m\u001b[38;5;124mfill_holes\u001b[39m\u001b[38;5;124m\"\u001b[39m:\n\u001b[1;32m    106\u001b[0m     \u001b[38;5;28mprint\u001b[39m(\u001b[38;5;124m\"\u001b[39m\u001b[38;5;124mUsing the close holes feature for watertightness in soma_volume_ratio\u001b[39m\u001b[38;5;124m\"\u001b[39m)\n",
      "File \u001b[0;32m/usr/local/lib/python3.8/dist-packages/neurd/soma_extraction_utils.py:74\u001b[0m, in \u001b[0;36mlargest_mesh_piece\u001b[0;34m(msh)\u001b[0m\n\u001b[1;32m     72\u001b[0m mesh_splits_inner \u001b[38;5;241m=\u001b[39m msh\u001b[38;5;241m.\u001b[39msplit(only_watertight\u001b[38;5;241m=\u001b[39m\u001b[38;5;28;01mFalse\u001b[39;00m)\n\u001b[1;32m     73\u001b[0m total_mesh_split_lengths_inner \u001b[38;5;241m=\u001b[39m [\u001b[38;5;28mlen\u001b[39m(k\u001b[38;5;241m.\u001b[39mfaces) \u001b[38;5;28;01mfor\u001b[39;00m k \u001b[38;5;129;01min\u001b[39;00m mesh_splits_inner]\n\u001b[0;32m---> 74\u001b[0m ordered_mesh_splits_inner \u001b[38;5;241m=\u001b[39m \u001b[43mmesh_splits_inner\u001b[49m\u001b[43m[\u001b[49m\u001b[43mnp\u001b[49m\u001b[38;5;241;43m.\u001b[39;49m\u001b[43mflip\u001b[49m\u001b[43m(\u001b[49m\u001b[43mnp\u001b[49m\u001b[38;5;241;43m.\u001b[39;49m\u001b[43margsort\u001b[49m\u001b[43m(\u001b[49m\u001b[43mtotal_mesh_split_lengths_inner\u001b[49m\u001b[43m)\u001b[49m\u001b[43m)\u001b[49m\u001b[43m]\u001b[49m\n\u001b[1;32m     75\u001b[0m \u001b[38;5;28;01mreturn\u001b[39;00m ordered_mesh_splits_inner[\u001b[38;5;241m0\u001b[39m]\n",
      "\u001b[0;31mTypeError\u001b[0m: only integer scalar arrays can be converted to a scalar index"
     ]
    }
   ],
   "source": [
    "# Neuron Decomposition \n",
    "import networkx as nx\n",
    "from neurd import neuron\n",
    "\n",
    "# load neuron object\n",
    "neuron_obj = neuron.Neuron(\n",
    "    mesh = mesh,\n",
    "    segment_id = segment_id, # don't need this explicitely if segment_id is already in products\n",
    "    pipeline_products = products,\n",
    "    suppress_preprocessing_print=False,\n",
    "    suppress_output=False,\n",
    ")\n",
    "neuron_obj\n",
    "\n",
    "# calculate statistics\n",
    "decomp_start = time.time()\n",
    "decomp_products = neuron_obj.calculate_decomposition_products(\n",
    "    store_in_obj = True,\n",
    ")\n",
    "decomp_products\n",
    "decomp_end = time.time()\n",
    "\n",
    "# save decomposed neuron object\n",
    "vdi.save_neuron_obj(\n",
    "    neuron_obj,\n",
    "    verbose = True\n",
    ")"
   ]
  },
  {
   "cell_type": "markdown",
   "id": "11912e90-e88c-4c6a-9144-0eb78f803435",
   "metadata": {},
   "source": [
    "Step 3: Autoproofreading"
   ]
  },
  {
   "cell_type": "code",
   "execution_count": 19,
   "id": "89f04ed6-6a39-4ad3-a670-4025f5400ddf",
   "metadata": {},
   "outputs": [
    {
     "name": "stdout",
     "output_type": "stream",
     "text": [
      "Decompressing Neuron in minimal output mode...please wait\n"
     ]
    }
   ],
   "source": [
    "# reload decomposed neuron\n",
    "neuron_obj_rec = vdi.load_neuron_obj(\n",
    "    segment_id = segment_id,\n",
    "    #mesh_decimated = mesh_decimated\n",
    ")"
   ]
  },
  {
   "cell_type": "code",
   "execution_count": 20,
   "id": "0f3d85c7-61e8-4089-8976-276eee1536a4",
   "metadata": {
    "scrolled": true
   },
   "outputs": [
    {
     "name": "stdout",
     "output_type": "stream",
     "text": [
      "'PipelineProducts' object has no attribute 'split_results'\n",
      "No error limbs to processs so just returning the original neuron\n"
     ]
    },
    {
     "ename": "Exception",
     "evalue": "There were 776978 faces that did not have an exact match to the original mesh",
     "output_type": "error",
     "traceback": [
      "\u001b[0;31m---------------------------------------------------------------------------\u001b[0m",
      "\u001b[0;31mException\u001b[0m                                 Traceback (most recent call last)",
      "Cell \u001b[0;32mIn[20], line 11\u001b[0m\n\u001b[1;32m      9\u001b[0m \u001b[38;5;66;03m# run cell typing to return neuron_obj_axon\u001b[39;00m\n\u001b[1;32m     10\u001b[0m \u001b[38;5;28;01mfrom\u001b[39;00m \u001b[38;5;21;01mneurd\u001b[39;00m \u001b[38;5;28;01mimport\u001b[39;00m neuron_pipeline_utils \u001b[38;5;28;01mas\u001b[39;00m npu\n\u001b[0;32m---> 11\u001b[0m neuron_obj_axon \u001b[38;5;241m=\u001b[39m \u001b[43mnpu\u001b[49m\u001b[38;5;241;43m.\u001b[39;49m\u001b[43mcell_type_ax_dendr_stage\u001b[49m\u001b[43m(\u001b[49m\n\u001b[1;32m     12\u001b[0m \u001b[43m    \u001b[49m\u001b[43mn1\u001b[49m\u001b[43m,\u001b[49m\n\u001b[1;32m     13\u001b[0m \u001b[43m    \u001b[49m\u001b[43mmesh_decimated\u001b[49m\u001b[43m \u001b[49m\u001b[38;5;241;43m=\u001b[39;49m\u001b[43m \u001b[49m\u001b[43mmesh_decimated\u001b[49m\u001b[43m,\u001b[49m\n\u001b[1;32m     14\u001b[0m \u001b[43m    \u001b[49m\u001b[43mplot_axon\u001b[49m\u001b[43m \u001b[49m\u001b[38;5;241;43m=\u001b[39;49m\u001b[43m \u001b[49m\u001b[38;5;28;43;01mFalse\u001b[39;49;00m\u001b[43m,\u001b[49m\n\u001b[1;32m     15\u001b[0m \u001b[43m)\u001b[49m\n\u001b[1;32m     17\u001b[0m \u001b[38;5;28mprint\u001b[39m(neuron_obj_axon)\n",
      "File \u001b[0;32m/usr/local/lib/python3.8/dist-packages/neurd/neuron_pipeline_utils.py:154\u001b[0m, in \u001b[0;36mcell_type_ax_dendr_stage\u001b[0;34m(neuron_obj, mesh_decimated, store_in_obj, return_stage_products, verbose, plot_initial_neuron, plot_floating_end_nodes_limb_branch_dict, plot_downstream_path_limb_branch, plot_after_simplification, filter_low_branch_cluster_dendrite, plot_limb_branch_filter_away_low_branch, plot_synapses, segment_id, synapse_filepath, plot_spines, plot_spines_and_sk_filter_for_syn, plot_spines_and_sk_filter_for_spine, inh_exc_class_to_use_for_axon, plot_aligned_neuron_with_syn_sp, filter_dendrite_on_axon, plot_initial_axon, plot_axon_on_dendrite, plot_high_fidelity_axon, plot_boutons_web, plot_axon)\u001b[0m\n\u001b[1;32m    149\u001b[0m     \u001b[38;5;28mprint\u001b[39m(\u001b[38;5;124mf\u001b[39m\u001b[38;5;124m\"\u001b[39m\u001b[38;5;124mwinning_nucleus_id = \u001b[39m\u001b[38;5;132;01m{\u001b[39;00mwinning_nucleus_id\u001b[38;5;132;01m}\u001b[39;00m\u001b[38;5;124m\"\u001b[39m)\n\u001b[1;32m    153\u001b[0m \u001b[38;5;66;03m# 4) Add synapses to neuron \u001b[39;00m\n\u001b[0;32m--> 154\u001b[0m neuron_obj_attr \u001b[38;5;241m=\u001b[39m \u001b[43msyu\u001b[49m\u001b[38;5;241;43m.\u001b[39;49m\u001b[43madd_synapses_to_neuron_obj\u001b[49m\u001b[43m(\u001b[49m\n\u001b[1;32m    155\u001b[0m \u001b[43m    \u001b[49m\u001b[43mneuron_obj_pre_class\u001b[49m\u001b[43m,\u001b[49m\n\u001b[1;32m    156\u001b[0m \u001b[43m    \u001b[49m\u001b[43msegment_id\u001b[49m\u001b[43m \u001b[49m\u001b[38;5;241;43m=\u001b[39;49m\u001b[43m \u001b[49m\u001b[43msegment_id\u001b[49m\u001b[43m,\u001b[49m\n\u001b[1;32m    157\u001b[0m \u001b[43m    \u001b[49m\u001b[43msynapse_filepath\u001b[49m\u001b[43m \u001b[49m\u001b[38;5;241;43m=\u001b[39;49m\u001b[43m \u001b[49m\u001b[43msynapse_filepath\u001b[49m\u001b[43m,\u001b[49m\n\u001b[1;32m    158\u001b[0m \u001b[43m    \u001b[49m\u001b[43mverbose\u001b[49m\u001b[43m  \u001b[49m\u001b[38;5;241;43m=\u001b[39;49m\u001b[43m \u001b[49m\u001b[43mverbose\u001b[49m\u001b[43m,\u001b[49m\n\u001b[1;32m    159\u001b[0m \u001b[43m    \u001b[49m\u001b[43moriginal_mesh\u001b[49m\u001b[43m \u001b[49m\u001b[38;5;241;43m=\u001b[39;49m\u001b[43m \u001b[49m\u001b[43mmesh_decimated\u001b[49m\u001b[43m,\u001b[49m\n\u001b[1;32m    160\u001b[0m \u001b[43m    \u001b[49m\u001b[43mplot_valid_error_synapses\u001b[49m\u001b[43m \u001b[49m\u001b[38;5;241;43m=\u001b[39;49m\u001b[43m \u001b[49m\u001b[38;5;28;43;01mFalse\u001b[39;49;00m\u001b[43m,\u001b[49m\n\u001b[1;32m    161\u001b[0m \u001b[43m    \u001b[49m\u001b[43mcalculate_synapse_soma_distance\u001b[49m\u001b[43m \u001b[49m\u001b[38;5;241;43m=\u001b[39;49m\u001b[43m \u001b[49m\u001b[38;5;28;43;01mFalse\u001b[39;49;00m\u001b[43m,\u001b[49m\n\u001b[1;32m    162\u001b[0m \u001b[43m    \u001b[49m\u001b[43madd_valid_synapses\u001b[49m\u001b[43m \u001b[49m\u001b[38;5;241;43m=\u001b[39;49m\u001b[43m \u001b[49m\u001b[38;5;28;43;01mTrue\u001b[39;49;00m\u001b[43m,\u001b[49m\n\u001b[1;32m    163\u001b[0m \u001b[43m    \u001b[49m\u001b[43madd_error_synapses\u001b[49m\u001b[38;5;241;43m=\u001b[39;49m\u001b[38;5;28;43;01mFalse\u001b[39;49;00m\u001b[43m,\u001b[49m\n\u001b[1;32m    164\u001b[0m \u001b[43m\u001b[49m\u001b[43m)\u001b[49m\n\u001b[1;32m    168\u001b[0m \u001b[38;5;28;01mif\u001b[39;00m plot_synapses:\n\u001b[1;32m    169\u001b[0m     syu\u001b[38;5;241m.\u001b[39mplot_synapses(neuron_obj_attr)\n",
      "File \u001b[0;32m/usr/local/lib/python3.8/dist-packages/neurd/synapse_utils.py:1452\u001b[0m, in \u001b[0;36madd_synapses_to_neuron_obj\u001b[0;34m(neuron_obj, segment_id, validation, verbose, original_mesh, plot_valid_error_synapses, calculate_synapse_soma_distance, add_valid_synapses, add_error_synapses, limb_branch_dict_to_add_synapses, **kwargs)\u001b[0m\n\u001b[1;32m   1450\u001b[0m \u001b[38;5;28;01mif\u001b[39;00m verbose:\n\u001b[1;32m   1451\u001b[0m     \u001b[38;5;28mprint\u001b[39m(\u001b[38;5;124mf\u001b[39m\u001b[38;5;124m\"\u001b[39m\u001b[38;5;130;01m\\n\u001b[39;00m\u001b[38;5;124m---Step 2: Computing mesh_label_dict---\u001b[39m\u001b[38;5;124m\"\u001b[39m)\n\u001b[0;32m-> 1452\u001b[0m mesh_label_dict \u001b[38;5;241m=\u001b[39m \u001b[43msyu\u001b[49m\u001b[38;5;241;43m.\u001b[39;49m\u001b[43mfetch_synapse_dict_by_mesh_labels\u001b[49m\u001b[43m(\u001b[49m\n\u001b[1;32m   1453\u001b[0m \u001b[43m    \u001b[49m\u001b[43mmesh\u001b[49m\u001b[43m \u001b[49m\u001b[38;5;241;43m=\u001b[39;49m\u001b[43m \u001b[49m\u001b[43mnru\u001b[49m\u001b[38;5;241;43m.\u001b[39;49m\u001b[43mneuron_mesh_from_branches\u001b[49m\u001b[43m(\u001b[49m\u001b[43mneuron_obj\u001b[49m\u001b[43m)\u001b[49m\u001b[43m,\u001b[49m\n\u001b[1;32m   1454\u001b[0m \u001b[43m    \u001b[49m\u001b[43msegment_id\u001b[49m\u001b[38;5;241;43m=\u001b[39;49m\u001b[43msegment_id\u001b[49m\u001b[43m,\u001b[49m\n\u001b[1;32m   1455\u001b[0m \u001b[43m    \u001b[49m\u001b[43msynapse_dict\u001b[49m\u001b[43m \u001b[49m\u001b[38;5;241;43m=\u001b[39;49m\u001b[43m \u001b[49m\u001b[43msynapse_dict\u001b[49m\u001b[43m,\u001b[49m\n\u001b[1;32m   1456\u001b[0m \u001b[43m    \u001b[49m\u001b[43moriginal_mesh\u001b[49m\u001b[43m \u001b[49m\u001b[38;5;241;43m=\u001b[39;49m\u001b[43m \u001b[49m\u001b[43moriginal_mesh\u001b[49m\u001b[43m,\u001b[49m\n\u001b[1;32m   1457\u001b[0m \u001b[43m    \u001b[49m\u001b[38;5;66;43;03m#original_mesh_kd=original_mesh_kd,\u001b[39;49;00m\n\u001b[1;32m   1458\u001b[0m \u001b[43m    \u001b[49m\u001b[43mvalidation\u001b[49m\u001b[38;5;241;43m=\u001b[39;49m\u001b[43mvalidation\u001b[49m\u001b[43m,\u001b[49m\n\u001b[1;32m   1459\u001b[0m \u001b[43m    \u001b[49m\u001b[43mplot_synapses\u001b[49m\u001b[38;5;241;43m=\u001b[39;49m\u001b[43mplot_valid_error_synapses\u001b[49m\u001b[43m,\u001b[49m\n\u001b[1;32m   1460\u001b[0m \u001b[43m    \u001b[49m\u001b[43mverbose\u001b[49m\u001b[43m \u001b[49m\u001b[38;5;241;43m=\u001b[39;49m\u001b[43m \u001b[49m\u001b[43mverbose\u001b[49m\u001b[43m)\u001b[49m\n\u001b[1;32m   1463\u001b[0m \u001b[38;5;66;03m# Apply the Valid Synapses\u001b[39;00m\n\u001b[1;32m   1464\u001b[0m \u001b[38;5;28;01mif\u001b[39;00m add_valid_synapses:\n",
      "File \u001b[0;32m/usr/local/lib/python3.8/dist-packages/neurd/synapse_utils.py:4370\u001b[0m, in \u001b[0;36mfetch_synapse_dict_by_mesh_labels\u001b[0;34m(segment_id, mesh, synapse_dict, original_mesh, original_mesh_kd, validation, verbose, original_mesh_method, mapping_threshold, plot_synapses, plot_synapses_type, **kwargs)\u001b[0m\n\u001b[1;32m   4363\u001b[0m     original_mesh \u001b[38;5;241m=\u001b[39m vdi\u001b[38;5;241m.\u001b[39mfetch_segment_id_mesh(segment_id)\n\u001b[1;32m   4364\u001b[0m distance_errored_syn_idx \u001b[38;5;241m=\u001b[39m tu\u001b[38;5;241m.\u001b[39mvalid_coordiantes_mapped_to_mesh(mesh\u001b[38;5;241m=\u001b[39moriginal_mesh,\n\u001b[1;32m   4365\u001b[0m                         coordinates\u001b[38;5;241m=\u001b[39msynapse_centers_scaled,\n\u001b[1;32m   4366\u001b[0m                         mapping_threshold \u001b[38;5;241m=\u001b[39m mapping_threshold,\n\u001b[1;32m   4367\u001b[0m                         return_idx \u001b[38;5;241m=\u001b[39m \u001b[38;5;28;01mTrue\u001b[39;00m,\n\u001b[1;32m   4368\u001b[0m                         return_errors \u001b[38;5;241m=\u001b[39m \u001b[38;5;28;01mTrue\u001b[39;00m)\n\u001b[0;32m-> 4370\u001b[0m mesh_errored_syn_idx_pre \u001b[38;5;241m=\u001b[39m \u001b[43mtu\u001b[49m\u001b[38;5;241;43m.\u001b[39;49m\u001b[43mvalid_coordiantes_mapped_to_mesh\u001b[49m\u001b[43m(\u001b[49m\u001b[43mmesh\u001b[49m\u001b[38;5;241;43m=\u001b[39;49m\u001b[43mmesh\u001b[49m\u001b[43m,\u001b[49m\n\u001b[1;32m   4371\u001b[0m \u001b[43m                                                        \u001b[49m\u001b[43moriginal_mesh\u001b[49m\u001b[43m \u001b[49m\u001b[38;5;241;43m=\u001b[39;49m\u001b[43m \u001b[49m\u001b[43moriginal_mesh\u001b[49m\u001b[43m,\u001b[49m\n\u001b[1;32m   4372\u001b[0m \u001b[43m                                                        \u001b[49m\u001b[43moriginal_mesh_kdtree\u001b[49m\u001b[38;5;241;43m=\u001b[39;49m\u001b[43moriginal_mesh_kd\u001b[49m\u001b[43m,\u001b[49m\n\u001b[1;32m   4373\u001b[0m \u001b[43m                        \u001b[49m\u001b[43mcoordinates\u001b[49m\u001b[38;5;241;43m=\u001b[39;49m\u001b[43msynapse_centers_scaled\u001b[49m\u001b[43m,\u001b[49m\n\u001b[1;32m   4374\u001b[0m \u001b[43m                        \u001b[49m\u001b[43mmapping_threshold\u001b[49m\u001b[43m \u001b[49m\u001b[38;5;241;43m=\u001b[39;49m\u001b[43m \u001b[49m\u001b[43mmapping_threshold\u001b[49m\u001b[43m,\u001b[49m\n\u001b[1;32m   4375\u001b[0m \u001b[43m                        \u001b[49m\u001b[43mreturn_idx\u001b[49m\u001b[43m \u001b[49m\u001b[38;5;241;43m=\u001b[39;49m\u001b[43m \u001b[49m\u001b[38;5;28;43;01mTrue\u001b[39;49;00m\u001b[43m,\u001b[49m\n\u001b[1;32m   4376\u001b[0m \u001b[43m                        \u001b[49m\u001b[43mreturn_errors\u001b[49m\u001b[43m \u001b[49m\u001b[38;5;241;43m=\u001b[39;49m\u001b[43m \u001b[49m\u001b[38;5;28;43;01mTrue\u001b[39;49;00m\u001b[43m)\u001b[49m\n\u001b[1;32m   4377\u001b[0m mesh_errored_syn_idx \u001b[38;5;241m=\u001b[39m np\u001b[38;5;241m.\u001b[39msetdiff1d(mesh_errored_syn_idx_pre,distance_errored_syn_idx)\n\u001b[1;32m   4380\u001b[0m total_error_syn_idx \u001b[38;5;241m=\u001b[39m np\u001b[38;5;241m.\u001b[39mhstack([distance_errored_syn_idx,mesh_errored_syn_idx])\n",
      "File \u001b[0;32m/usr/local/lib/python3.8/dist-packages/mesh_tools/trimesh_utils.py:5338\u001b[0m, in \u001b[0;36mvalid_coordiantes_mapped_to_mesh\u001b[0;34m(mesh, coordinates, mesh_kd, mapping_threshold, original_mesh, original_mesh_kdtree, original_mesh_faces, return_idx, return_errors, verbose)\u001b[0m\n\u001b[1;32m   5336\u001b[0m     \u001b[38;5;28;01mif\u001b[39;00m verbose:\n\u001b[1;32m   5337\u001b[0m         \u001b[38;5;28mprint\u001b[39m(\u001b[38;5;124mf\u001b[39m\u001b[38;5;124m\"\u001b[39m\u001b[38;5;124mcalculating original_mesh_faces because None\u001b[39m\u001b[38;5;124m\"\u001b[39m)\n\u001b[0;32m-> 5338\u001b[0m     original_mesh_faces \u001b[38;5;241m=\u001b[39m \u001b[43mtu\u001b[49m\u001b[38;5;241;43m.\u001b[39;49m\u001b[43moriginal_mesh_faces_map\u001b[49m\u001b[43m(\u001b[49m\u001b[43moriginal_mesh\u001b[49m\u001b[43m,\u001b[49m\n\u001b[1;32m   5339\u001b[0m \u001b[43m                                                        \u001b[49m\u001b[43mmesh\u001b[49m\u001b[43m,\u001b[49m\n\u001b[1;32m   5340\u001b[0m \u001b[43m                                                        \u001b[49m\u001b[43mexact_match\u001b[49m\u001b[38;5;241;43m=\u001b[39;49m\u001b[38;5;28;43;01mTrue\u001b[39;49;00m\u001b[43m,\u001b[49m\n\u001b[1;32m   5341\u001b[0m \u001b[43m                                                        \u001b[49m\u001b[43moriginal_mesh_kdtree\u001b[49m\u001b[38;5;241;43m=\u001b[39;49m\u001b[43moriginal_mesh_kdtree\u001b[49m\u001b[43m)\u001b[49m\n\u001b[1;32m   5343\u001b[0m neuron_mesh_labels \u001b[38;5;241m=\u001b[39m np\u001b[38;5;241m.\u001b[39mzeros(\u001b[38;5;28mlen\u001b[39m(original_mesh\u001b[38;5;241m.\u001b[39mtriangles_center))\n\u001b[1;32m   5344\u001b[0m neuron_mesh_labels[original_mesh_faces] \u001b[38;5;241m=\u001b[39m \u001b[38;5;241m1\u001b[39m\n",
      "File \u001b[0;32m/usr/local/lib/python3.8/dist-packages/mesh_tools/trimesh_utils.py:1144\u001b[0m, in \u001b[0;36moriginal_mesh_faces_map\u001b[0;34m(original_mesh, submesh, matching, print_flag, match_threshold, exact_match, error_for_exact_match, return_mesh, original_mesh_kdtree)\u001b[0m\n\u001b[1;32m   1142\u001b[0m \u001b[38;5;28;01mif\u001b[39;00m np\u001b[38;5;241m.\u001b[39many(distances\u001b[38;5;241m>\u001b[39m match_threshold):\n\u001b[1;32m   1143\u001b[0m     \u001b[38;5;28;01mif\u001b[39;00m error_for_exact_match:\n\u001b[0;32m-> 1144\u001b[0m         \u001b[38;5;28;01mraise\u001b[39;00m \u001b[38;5;167;01mException\u001b[39;00m(\u001b[38;5;124mf\u001b[39m\u001b[38;5;124m\"\u001b[39m\u001b[38;5;124mThere were \u001b[39m\u001b[38;5;132;01m{\u001b[39;00mnp\u001b[38;5;241m.\u001b[39msum(distances\u001b[38;5;241m>\u001b[39m\u001b[38;5;250m \u001b[39mmatch_threshold)\u001b[38;5;132;01m}\u001b[39;00m\u001b[38;5;124m faces that did not have an exact match to the original mesh\u001b[39m\u001b[38;5;124m\"\u001b[39m)\n\u001b[1;32m   1145\u001b[0m     \u001b[38;5;28;01melse\u001b[39;00m:\n\u001b[1;32m   1146\u001b[0m         keep_map \u001b[38;5;241m=\u001b[39m distances \u001b[38;5;241m<\u001b[39m\u001b[38;5;241m=\u001b[39m match_threshold\n",
      "\u001b[0;31mException\u001b[0m: There were 776978 faces that did not have an exact match to the original mesh"
     ]
    }
   ],
   "source": [
    "# generate neuron list\n",
    "neuron_list = neuron_obj_rec.multi_soma_split_execution(\n",
    "    verbose = False,\n",
    ")\n",
    "n1 = neuron_list[0]\n",
    "\n",
    "# run cell typing to return neuron_obj_axon\n",
    "from neurd import neuron_pipeline_utils as npu\n",
    "neuron_obj_axon = npu.cell_type_ax_dendr_stage(\n",
    "    n1,\n",
    "    mesh_decimated = mesh_decimated,\n",
    "    plot_axon = False,\n",
    ")\n",
    "\n",
    "print(neuron_obj_axon)\n"
   ]
  },
  {
   "cell_type": "code",
   "execution_count": null,
   "id": "262311e8-db9d-4556-9714-6e47e9a29289",
   "metadata": {},
   "outputs": [],
   "source": [
    "# autoproof the neuron\n",
    "ap_start = time.time()\n",
    "neuron_obj_proof = npu.auto_proof_stage(\n",
    "    neuron_obj_axon,\n",
    "    mesh_decimated = mesh_decimated,\n",
    "    calculate_after_proof_stats = False,\n",
    ")\n",
    "ap_end = time.time()\n",
    "\n",
    "#save autoproof stats\n",
    "_ = npu.after_auto_proof_stats(\n",
    "    neuron_obj_proof,\n",
    "    store_in_obj = True,\n",
    ")\n",
    "\n",
    "# save autoproofed neuron object\n",
    "vdi.save_neuron_obj_auto_proof(\n",
    "    neuron_obj_proof,\n",
    ")\n"
   ]
  },
  {
   "cell_type": "code",
   "execution_count": null,
   "id": "c7e31a9e",
   "metadata": {},
   "outputs": [],
   "source": [
    "# print statistics\n",
    "print(f\"Time for Neuron Decomposition was {decomp_end - decomp_start}\")\n",
    "print(f\"Time for Neuron Autoproofing was {ap_end - ap_start}\")\n",
    "print(f\"Total runtime is {tot_time}\")"
   ]
  }
 ],
 "metadata": {
  "kernelspec": {
   "display_name": "Python 3 (ipykernel)",
   "language": "python",
   "name": "python3"
  },
  "language_info": {
   "codemirror_mode": {
    "name": "ipython",
    "version": 3
   },
   "file_extension": ".py",
   "mimetype": "text/x-python",
   "name": "python",
   "nbconvert_exporter": "python",
   "pygments_lexer": "ipython3",
   "version": "3.8.0"
  }
 },
 "nbformat": 4,
 "nbformat_minor": 5
}
